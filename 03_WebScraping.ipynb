{
 "cells": [
  {
   "cell_type": "markdown",
   "metadata": {},
   "source": [
    "<center><h1> Projet Kickstarter</h1></center>\n",
    "\n",
    "## _Prédiction du succès d'une compagne de financenement sur KickStarter_\n",
    "- Partie 1 : Analyse exploratoire des données\n",
    "- Partie 2 : Processing des données\n",
    "- **Partie 3 : Enrichissement du dataset : WebScraping**\n",
    "- Partie 4 : Analyse statistique et Data Visualisation\n",
    "- Partie 5 : Machine Learning\n",
    "\n",
    "<hr/>\n",
    "\n",
    "\n",
    "# Enrichissement du dataset : WebScraping\n",
    "\n",
    "Lors de notre étude du dataset, et en comparant les données que nous avons à notre disposition et les données présentes sur le site, un détail a retenu notre attention, le fameux badge `Nos coups de coeur`\n",
    "\n",
    "<img src=\"Ressources/coup_de_coeur.png\">\n",
    "\n",
    "Ce badge est attribué par l'équipe de Kicklox aux nouveaux projets qui se démarquent, il permet également de placer le projet sur la page d'accueil du site, donnant un sacré coup de pouce à sa visibilité au près de la communauté. \n",
    "\n",
    "Afin de mesurer l'impact du badge `Nos coups de coeur` sur le succès d'une compagne de financement, nous avons crée une fonction **`Data_webscraping()`**, qui prend en entrée un _dataframe_ contenant la variable `url` et qui retourne pour chaque projet, si il a reçu un badge `Nos coups de coeur` ou pas.\n",
    "\n",
    "\n",
    "<div class=\"alert alert-danger\">\n",
    "<i class=\"fa fa-info-circle\"></i> &emsp; \n",
    "    Il faut être très prudent avec l'utilisation de la fonction <b><code>Data_webscraping()</code></b>. Cette fonction a un temps d'exécution très long (plus de 3 jours d'exécution) pour l'ensemble du dataset\n",
    "</div>\n",
    "\n",
    "## Web Scraping\n",
    "\n",
    "\n"
   ]
  },
  {
   "cell_type": "code",
   "execution_count": 1,
   "metadata": {},
   "outputs": [],
   "source": [
    "import pandas as pd\n",
    "import numpy as np\n",
    "from kickstarter import Data_webscraping "
   ]
  },
  {
   "cell_type": "code",
   "execution_count": 2,
   "metadata": {},
   "outputs": [
    {
     "data": {
      "text/plain": [
       "\"\\ndfs = Data_webscraping(dfi)\\n\\n# Enregistrement du fichier au format csv\\nnom_fichier = 'coup_de_coeur.csv'\\ndfs.to_csv(nom_fichier, index=True)\\n\""
      ]
     },
     "execution_count": 2,
     "metadata": {},
     "output_type": "execute_result"
    }
   ],
   "source": [
    "\n",
    "\n",
    "# Lire le fichier 'dataset_kickstarter.csv'\n",
    "df = pd.read_csv('dataset_kickstarter.csv', index_col=0)\n",
    "\n",
    "# récupérer les variables \n",
    "dfi = df[['proj_id', 'url']]\n",
    "\n",
    "\n",
    "# Décommenter les lignes ci-dessous pour exécuter la fonction et enregistrer le fichier 'coup_de_coeur.csv'\n",
    "\n",
    "'''\n",
    "dfs = Data_webscraping(dfi)\n",
    "\n",
    "# Enregistrement du fichier au format csv\n",
    "nom_fichier = 'coup_de_coeur.csv'\n",
    "dfs.to_csv(nom_fichier, index=True)\n",
    "'''"
   ]
  },
  {
   "cell_type": "code",
   "execution_count": 3,
   "metadata": {},
   "outputs": [],
   "source": [
    "# lire le fichier 'coup_de_coeur.csv'\n",
    "cdc = pd.read_csv('coup_de_coeur.csv', index_col=0)\n",
    "\n",
    "# Joindre le dataframe 'cdc' au dataframe principale 'df'\n",
    "data = df.merge(right=cdc, on='proj_id', how='inner')\n",
    "\n",
    "# Enregistrement du fichier au format csv\n",
    "nom_fichier = 'dataset_kickstarter_full.csv'\n",
    "data.to_csv(nom_fichier, index=True)"
   ]
  },
  {
   "cell_type": "code",
   "execution_count": null,
   "metadata": {},
   "outputs": [],
   "source": []
  }
 ],
 "metadata": {
  "kernelspec": {
   "display_name": "Python 3",
   "language": "python",
   "name": "python3"
  },
  "language_info": {
   "codemirror_mode": {
    "name": "ipython",
    "version": 3
   },
   "file_extension": ".py",
   "mimetype": "text/x-python",
   "name": "python",
   "nbconvert_exporter": "python",
   "pygments_lexer": "ipython3",
   "version": "3.8.5"
  }
 },
 "nbformat": 4,
 "nbformat_minor": 4
}

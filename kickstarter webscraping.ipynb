{
 "cells": [
  {
   "cell_type": "code",
   "execution_count": 1,
   "metadata": {},
   "outputs": [],
   "source": [
    "import pandas as pd\n",
    "import numpy as np\n",
    "import seaborn as sns\n",
    "import matplotlib.pyplot as plt\n",
    "import kickstarter"
   ]
  },
  {
   "cell_type": "code",
   "execution_count": 2,
   "metadata": {},
   "outputs": [],
   "source": [
    "df = pd.read_csv('dataset_kickstarter.csv', index_col=0)\n",
    "\n",
    "#récuperer 'proj_id'\n",
    "proj = df[['annee','proj_id','url']]\n",
    "\n",
    "# récupérer 'url'\n",
    "#url = \n",
    "# créer un dataframe avec proj_id et url\n",
    "\n",
    "# créer une colonne 'coup_de_coeur' avec des zeros\n",
    "\n",
    "# scrapper les urls l'une après l'autre \n",
    "\n",
    "\n",
    "# un data frame avec proj_id et coup_de_coeur\n",
    "#annee = proj['annee'].unique()\n"
   ]
  },
  {
   "cell_type": "markdown",
   "metadata": {},
   "source": [
    "index | anee | mois | jour | proj_id | coup_de_coeur\n",
    "---|---|---|---|---|---\n",
    "000|2009|01|01|0001|0\n"
   ]
  },
  {
   "cell_type": "code",
   "execution_count": 3,
   "metadata": {
    "scrolled": false
   },
   "outputs": [
    {
     "name": "stdout",
     "output_type": "stream",
     "text": [
      "Scrapping de l'année 2014\n"
     ]
    },
    {
     "name": "stderr",
     "output_type": "stream",
     "text": [
      "  0% (100 of 20964) |                    | Elapsed Time: 0:02:48 ETA:   8:50:13C:\\Users\\kaoua\\kickstarter.py:545: SettingWithCopyWarning: \n",
      "A value is trying to be set on a copy of a slice from a DataFrame.\n",
      "Try using .loc[row_indexer,col_indexer] = value instead\n",
      "\n",
      "See the caveats in the documentation: https://pandas.pydata.org/pandas-docs/stable/user_guide/indexing.html#returning-a-view-versus-a-copy\n",
      "  dfi['coup_de_coeur'] = coeur\n"
     ]
    },
    {
     "name": "stdout",
     "output_type": "stream",
     "text": [
      "\t Enregistrement intermédiaire effectué\n"
     ]
    },
    {
     "name": "stderr",
     "output_type": "stream",
     "text": [
      "  0% (200 of 20964) |                    | Elapsed Time: 0:05:50 ETA:  11:13:23"
     ]
    },
    {
     "name": "stdout",
     "output_type": "stream",
     "text": [
      "\t Enregistrement intermédiaire effectué\n"
     ]
    },
    {
     "name": "stderr",
     "output_type": "stream",
     "text": [
      "  1% (300 of 20964) |                    | Elapsed Time: 0:08:43 ETA:   9:03:39"
     ]
    },
    {
     "name": "stdout",
     "output_type": "stream",
     "text": [
      "\t Enregistrement intermédiaire effectué\n"
     ]
    },
    {
     "name": "stderr",
     "output_type": "stream",
     "text": [
      "  1% (400 of 20964) |                    | Elapsed Time: 0:11:35 ETA:   6:41:26"
     ]
    },
    {
     "name": "stdout",
     "output_type": "stream",
     "text": [
      "\t Enregistrement intermédiaire effectué\n"
     ]
    },
    {
     "name": "stderr",
     "output_type": "stream",
     "text": [
      "  2% (500 of 20964) |                    | Elapsed Time: 0:14:03 ETA:   8:43:37"
     ]
    },
    {
     "name": "stdout",
     "output_type": "stream",
     "text": [
      "\t Enregistrement intermédiaire effectué\n"
     ]
    },
    {
     "name": "stderr",
     "output_type": "stream",
     "text": [
      "  2% (600 of 20964) |                    | Elapsed Time: 0:16:28 ETA:   9:24:32"
     ]
    },
    {
     "name": "stdout",
     "output_type": "stream",
     "text": [
      "\t Enregistrement intermédiaire effectué\n"
     ]
    },
    {
     "name": "stderr",
     "output_type": "stream",
     "text": [
      "  3% (700 of 20964) |                    | Elapsed Time: 0:18:57 ETA:   7:17:48"
     ]
    },
    {
     "name": "stdout",
     "output_type": "stream",
     "text": [
      "\t Enregistrement intermédiaire effectué\n"
     ]
    },
    {
     "name": "stderr",
     "output_type": "stream",
     "text": [
      "  3% (800 of 20964) |                    | Elapsed Time: 0:21:33 ETA:   9:26:03"
     ]
    },
    {
     "name": "stdout",
     "output_type": "stream",
     "text": [
      "\t Enregistrement intermédiaire effectué\n"
     ]
    },
    {
     "name": "stderr",
     "output_type": "stream",
     "text": [
      "  4% (900 of 20964) |                    | Elapsed Time: 0:24:24 ETA:   6:36:13"
     ]
    },
    {
     "name": "stdout",
     "output_type": "stream",
     "text": [
      "\t Enregistrement intermédiaire effectué\n"
     ]
    },
    {
     "name": "stderr",
     "output_type": "stream",
     "text": [
      "  4% (1000 of 20964) |                   | Elapsed Time: 0:27:27 ETA:  13:44:21"
     ]
    },
    {
     "name": "stdout",
     "output_type": "stream",
     "text": [
      "\t Enregistrement intermédiaire effectué\n"
     ]
    },
    {
     "name": "stderr",
     "output_type": "stream",
     "text": [
      "  5% (1100 of 20964) |                   | Elapsed Time: 0:30:27 ETA:   7:45:42"
     ]
    },
    {
     "name": "stdout",
     "output_type": "stream",
     "text": [
      "\t Enregistrement intermédiaire effectué\n"
     ]
    },
    {
     "name": "stderr",
     "output_type": "stream",
     "text": [
      "  5% (1200 of 20964) |#                  | Elapsed Time: 0:33:25 ETA:   8:51:55"
     ]
    },
    {
     "name": "stdout",
     "output_type": "stream",
     "text": [
      "\t Enregistrement intermédiaire effectué\n"
     ]
    },
    {
     "name": "stderr",
     "output_type": "stream",
     "text": [
      "  6% (1300 of 20964) |#                  | Elapsed Time: 0:36:27 ETA:   7:35:41"
     ]
    },
    {
     "name": "stdout",
     "output_type": "stream",
     "text": [
      "\t Enregistrement intermédiaire effectué\n"
     ]
    },
    {
     "name": "stderr",
     "output_type": "stream",
     "text": [
      "  6% (1400 of 20964) |#                  | Elapsed Time: 0:39:28 ETA:   9:48:32"
     ]
    },
    {
     "name": "stdout",
     "output_type": "stream",
     "text": [
      "\t Enregistrement intermédiaire effectué\n"
     ]
    },
    {
     "name": "stderr",
     "output_type": "stream",
     "text": [
      "  7% (1500 of 20964) |#                  | Elapsed Time: 0:42:31 ETA:   9:32:40"
     ]
    },
    {
     "name": "stdout",
     "output_type": "stream",
     "text": [
      "\t Enregistrement intermédiaire effectué\n"
     ]
    },
    {
     "name": "stderr",
     "output_type": "stream",
     "text": [
      "  7% (1600 of 20964) |#                  | Elapsed Time: 0:45:25 ETA:  12:27:08"
     ]
    },
    {
     "name": "stdout",
     "output_type": "stream",
     "text": [
      "\t Enregistrement intermédiaire effectué\n"
     ]
    },
    {
     "name": "stderr",
     "output_type": "stream",
     "text": [
      "  8% (1700 of 20964) |#                  | Elapsed Time: 0:48:26 ETA:  11:40:55"
     ]
    },
    {
     "name": "stdout",
     "output_type": "stream",
     "text": [
      "\t Enregistrement intermédiaire effectué\n"
     ]
    },
    {
     "name": "stderr",
     "output_type": "stream",
     "text": [
      "  8% (1800 of 20964) |#                  | Elapsed Time: 0:51:33 ETA:   9:32:13"
     ]
    },
    {
     "name": "stdout",
     "output_type": "stream",
     "text": [
      "\t Enregistrement intermédiaire effectué\n"
     ]
    },
    {
     "name": "stderr",
     "output_type": "stream",
     "text": [
      "  9% (1900 of 20964) |#                  | Elapsed Time: 0:54:26 ETA:   8:38:57"
     ]
    },
    {
     "name": "stdout",
     "output_type": "stream",
     "text": [
      "\t Enregistrement intermédiaire effectué\n"
     ]
    },
    {
     "name": "stderr",
     "output_type": "stream",
     "text": [
      "  9% (2000 of 20964) |#                  | Elapsed Time: 0:57:26 ETA:  10:54:06"
     ]
    },
    {
     "name": "stdout",
     "output_type": "stream",
     "text": [
      "\t Enregistrement intermédiaire effectué\n"
     ]
    },
    {
     "name": "stderr",
     "output_type": "stream",
     "text": [
      " 10% (2100 of 20964) |#                  | Elapsed Time: 1:00:28 ETA:  13:00:18"
     ]
    },
    {
     "name": "stdout",
     "output_type": "stream",
     "text": [
      "\t Enregistrement intermédiaire effectué\n"
     ]
    },
    {
     "name": "stderr",
     "output_type": "stream",
     "text": [
      " 10% (2200 of 20964) |#                  | Elapsed Time: 1:03:30 ETA:   8:47:05"
     ]
    },
    {
     "name": "stdout",
     "output_type": "stream",
     "text": [
      "\t Enregistrement intermédiaire effectué\n"
     ]
    },
    {
     "name": "stderr",
     "output_type": "stream",
     "text": [
      " 10% (2300 of 20964) |##                 | Elapsed Time: 1:06:25 ETA:   8:01:30"
     ]
    },
    {
     "name": "stdout",
     "output_type": "stream",
     "text": [
      "\t Enregistrement intermédiaire effectué\n"
     ]
    },
    {
     "name": "stderr",
     "output_type": "stream",
     "text": [
      " 11% (2400 of 20964) |##                 | Elapsed Time: 1:09:22 ETA:   8:03:50"
     ]
    },
    {
     "name": "stdout",
     "output_type": "stream",
     "text": [
      "\t Enregistrement intermédiaire effectué\n"
     ]
    },
    {
     "name": "stderr",
     "output_type": "stream",
     "text": [
      " 11% (2500 of 20964) |##                 | Elapsed Time: 1:12:33 ETA:   7:58:45"
     ]
    },
    {
     "name": "stdout",
     "output_type": "stream",
     "text": [
      "\t Enregistrement intermédiaire effectué\n"
     ]
    },
    {
     "name": "stderr",
     "output_type": "stream",
     "text": [
      " 12% (2600 of 20964) |##                 | Elapsed Time: 1:15:42 ETA:   8:42:52"
     ]
    },
    {
     "name": "stdout",
     "output_type": "stream",
     "text": [
      "\t Enregistrement intermédiaire effectué\n"
     ]
    },
    {
     "name": "stderr",
     "output_type": "stream",
     "text": [
      " 12% (2700 of 20964) |##                 | Elapsed Time: 1:18:44 ETA:  12:56:36"
     ]
    },
    {
     "name": "stdout",
     "output_type": "stream",
     "text": [
      "\t Enregistrement intermédiaire effectué\n"
     ]
    },
    {
     "name": "stderr",
     "output_type": "stream",
     "text": [
      " 13% (2800 of 20964) |##                 | Elapsed Time: 1:21:53 ETA:  17:40:27"
     ]
    },
    {
     "name": "stdout",
     "output_type": "stream",
     "text": [
      "\t Enregistrement intermédiaire effectué\n"
     ]
    },
    {
     "name": "stderr",
     "output_type": "stream",
     "text": [
      " 13% (2900 of 20964) |##                 | Elapsed Time: 1:24:45 ETA:  10:48:44"
     ]
    },
    {
     "name": "stdout",
     "output_type": "stream",
     "text": [
      "\t Enregistrement intermédiaire effectué\n"
     ]
    },
    {
     "name": "stderr",
     "output_type": "stream",
     "text": [
      " 14% (3000 of 20964) |##                 | Elapsed Time: 1:27:37 ETA:  11:55:02"
     ]
    },
    {
     "name": "stdout",
     "output_type": "stream",
     "text": [
      "\t Enregistrement intermédiaire effectué\n"
     ]
    },
    {
     "name": "stderr",
     "output_type": "stream",
     "text": [
      " 14% (3100 of 20964) |##                 | Elapsed Time: 1:30:49 ETA:   9:58:44"
     ]
    },
    {
     "name": "stdout",
     "output_type": "stream",
     "text": [
      "\t Enregistrement intermédiaire effectué\n"
     ]
    },
    {
     "name": "stderr",
     "output_type": "stream",
     "text": [
      " 15% (3200 of 20964) |##                 | Elapsed Time: 1:33:38 ETA:   6:40:00"
     ]
    },
    {
     "name": "stdout",
     "output_type": "stream",
     "text": [
      "\t Enregistrement intermédiaire effectué\n"
     ]
    },
    {
     "name": "stderr",
     "output_type": "stream",
     "text": [
      " 15% (3300 of 20964) |##                 | Elapsed Time: 1:36:33 ETA:  11:35:25"
     ]
    },
    {
     "name": "stdout",
     "output_type": "stream",
     "text": [
      "\t Enregistrement intermédiaire effectué\n"
     ]
    },
    {
     "name": "stderr",
     "output_type": "stream",
     "text": [
      " 16% (3400 of 20964) |###                | Elapsed Time: 1:39:39 ETA:   9:29:48"
     ]
    },
    {
     "name": "stdout",
     "output_type": "stream",
     "text": [
      "\t Enregistrement intermédiaire effectué\n"
     ]
    },
    {
     "name": "stderr",
     "output_type": "stream",
     "text": [
      " 16% (3500 of 20964) |###                | Elapsed Time: 1:42:30 ETA:  11:40:14"
     ]
    },
    {
     "name": "stdout",
     "output_type": "stream",
     "text": [
      "\t Enregistrement intermédiaire effectué\n"
     ]
    },
    {
     "name": "stderr",
     "output_type": "stream",
     "text": [
      " 17% (3600 of 20964) |###                | Elapsed Time: 1:45:34 ETA:   9:41:04"
     ]
    },
    {
     "name": "stdout",
     "output_type": "stream",
     "text": [
      "\t Enregistrement intermédiaire effectué\n"
     ]
    },
    {
     "name": "stderr",
     "output_type": "stream",
     "text": [
      " 17% (3700 of 20964) |###                | Elapsed Time: 1:48:32 ETA:   7:01:59"
     ]
    },
    {
     "name": "stdout",
     "output_type": "stream",
     "text": [
      "\t Enregistrement intermédiaire effectué\n"
     ]
    },
    {
     "name": "stderr",
     "output_type": "stream",
     "text": [
      " 18% (3800 of 20964) |###                | Elapsed Time: 1:51:31 ETA:   7:48:30"
     ]
    },
    {
     "name": "stdout",
     "output_type": "stream",
     "text": [
      "\t Enregistrement intermédiaire effectué\n"
     ]
    },
    {
     "name": "stderr",
     "output_type": "stream",
     "text": [
      " 18% (3900 of 20964) |###                | Elapsed Time: 1:54:36 ETA:  12:11:17"
     ]
    },
    {
     "name": "stdout",
     "output_type": "stream",
     "text": [
      "\t Enregistrement intermédiaire effectué\n"
     ]
    },
    {
     "name": "stderr",
     "output_type": "stream",
     "text": [
      " 19% (4000 of 20964) |###                | Elapsed Time: 1:57:34 ETA:  10:08:24"
     ]
    },
    {
     "name": "stdout",
     "output_type": "stream",
     "text": [
      "\t Enregistrement intermédiaire effectué\n"
     ]
    },
    {
     "name": "stderr",
     "output_type": "stream",
     "text": [
      " 19% (4100 of 20964) |###                | Elapsed Time: 2:00:39 ETA:   9:34:33"
     ]
    },
    {
     "name": "stdout",
     "output_type": "stream",
     "text": [
      "\t Enregistrement intermédiaire effectué\n"
     ]
    },
    {
     "name": "stderr",
     "output_type": "stream",
     "text": [
      " 20% (4200 of 20964) |###                | Elapsed Time: 2:03:29 ETA:  12:17:32"
     ]
    },
    {
     "name": "stdout",
     "output_type": "stream",
     "text": [
      "\t Enregistrement intermédiaire effectué\n"
     ]
    },
    {
     "name": "stderr",
     "output_type": "stream",
     "text": [
      " 20% (4300 of 20964) |###                | Elapsed Time: 2:06:30 ETA:   7:52:17"
     ]
    },
    {
     "name": "stdout",
     "output_type": "stream",
     "text": [
      "\t Enregistrement intermédiaire effectué\n"
     ]
    },
    {
     "name": "stderr",
     "output_type": "stream",
     "text": [
      " 20% (4400 of 20964) |###                | Elapsed Time: 2:09:34 ETA:  12:30:09"
     ]
    },
    {
     "name": "stdout",
     "output_type": "stream",
     "text": [
      "\t Enregistrement intermédiaire effectué\n"
     ]
    },
    {
     "name": "stderr",
     "output_type": "stream",
     "text": [
      " 21% (4500 of 20964) |####               | Elapsed Time: 2:12:32 ETA:   7:15:41"
     ]
    },
    {
     "name": "stdout",
     "output_type": "stream",
     "text": [
      "\t Enregistrement intermédiaire effectué\n"
     ]
    },
    {
     "name": "stderr",
     "output_type": "stream",
     "text": [
      " 21% (4600 of 20964) |####               | Elapsed Time: 2:15:34 ETA:   7:18:34"
     ]
    },
    {
     "name": "stdout",
     "output_type": "stream",
     "text": [
      "\t Enregistrement intermédiaire effectué\n"
     ]
    },
    {
     "name": "stderr",
     "output_type": "stream",
     "text": [
      " 22% (4700 of 20964) |####               | Elapsed Time: 2:18:45 ETA:  11:20:27"
     ]
    },
    {
     "name": "stdout",
     "output_type": "stream",
     "text": [
      "\t Enregistrement intermédiaire effectué\n"
     ]
    },
    {
     "name": "stderr",
     "output_type": "stream",
     "text": [
      " 22% (4800 of 20964) |####               | Elapsed Time: 2:21:46 ETA:   6:37:01"
     ]
    },
    {
     "name": "stdout",
     "output_type": "stream",
     "text": [
      "\t Enregistrement intermédiaire effectué\n"
     ]
    },
    {
     "name": "stderr",
     "output_type": "stream",
     "text": [
      " 23% (4900 of 20964) |####               | Elapsed Time: 2:24:44 ETA:   5:56:48"
     ]
    },
    {
     "name": "stdout",
     "output_type": "stream",
     "text": [
      "\t Enregistrement intermédiaire effectué\n"
     ]
    },
    {
     "name": "stderr",
     "output_type": "stream",
     "text": [
      " 23% (5000 of 20964) |####               | Elapsed Time: 2:27:43 ETA:  11:11:14"
     ]
    },
    {
     "name": "stdout",
     "output_type": "stream",
     "text": [
      "\t Enregistrement intermédiaire effectué\n"
     ]
    },
    {
     "name": "stderr",
     "output_type": "stream",
     "text": [
      " 24% (5100 of 20964) |####               | Elapsed Time: 2:30:49 ETA:   5:56:10"
     ]
    },
    {
     "name": "stdout",
     "output_type": "stream",
     "text": [
      "\t Enregistrement intermédiaire effectué\n"
     ]
    },
    {
     "name": "stderr",
     "output_type": "stream",
     "text": [
      " 24% (5200 of 20964) |####               | Elapsed Time: 2:33:40 ETA:   9:52:59"
     ]
    },
    {
     "name": "stdout",
     "output_type": "stream",
     "text": [
      "\t Enregistrement intermédiaire effectué\n"
     ]
    },
    {
     "name": "stderr",
     "output_type": "stream",
     "text": [
      " 25% (5300 of 20964) |####               | Elapsed Time: 2:36:37 ETA:   7:39:20"
     ]
    },
    {
     "name": "stdout",
     "output_type": "stream",
     "text": [
      "\t Enregistrement intermédiaire effectué\n"
     ]
    },
    {
     "name": "stderr",
     "output_type": "stream",
     "text": [
      " 25% (5400 of 20964) |####               | Elapsed Time: 2:39:28 ETA:   8:52:24"
     ]
    },
    {
     "name": "stdout",
     "output_type": "stream",
     "text": [
      "\t Enregistrement intermédiaire effectué\n"
     ]
    },
    {
     "name": "stderr",
     "output_type": "stream",
     "text": [
      " 26% (5500 of 20964) |####               | Elapsed Time: 2:42:56 ETA:  10:21:21"
     ]
    },
    {
     "name": "stdout",
     "output_type": "stream",
     "text": [
      "\t Enregistrement intermédiaire effectué\n"
     ]
    },
    {
     "name": "stderr",
     "output_type": "stream",
     "text": [
      " 26% (5600 of 20964) |#####              | Elapsed Time: 2:46:11 ETA:   7:59:57"
     ]
    },
    {
     "name": "stdout",
     "output_type": "stream",
     "text": [
      "\t Enregistrement intermédiaire effectué\n"
     ]
    },
    {
     "name": "stderr",
     "output_type": "stream",
     "text": [
      " 27% (5700 of 20964) |#####              | Elapsed Time: 2:49:11 ETA:   7:24:27"
     ]
    },
    {
     "name": "stdout",
     "output_type": "stream",
     "text": [
      "\t Enregistrement intermédiaire effectué\n"
     ]
    },
    {
     "name": "stderr",
     "output_type": "stream",
     "text": [
      " 27% (5800 of 20964) |#####              | Elapsed Time: 2:52:13 ETA:   6:08:13"
     ]
    },
    {
     "name": "stdout",
     "output_type": "stream",
     "text": [
      "\t Enregistrement intermédiaire effectué\n"
     ]
    },
    {
     "name": "stderr",
     "output_type": "stream",
     "text": [
      " 28% (5900 of 20964) |#####              | Elapsed Time: 2:55:15 ETA:   6:21:54"
     ]
    },
    {
     "name": "stdout",
     "output_type": "stream",
     "text": [
      "\t Enregistrement intermédiaire effectué\n"
     ]
    },
    {
     "name": "stderr",
     "output_type": "stream",
     "text": [
      " 28% (6000 of 20964) |#####              | Elapsed Time: 2:58:19 ETA:   6:25:57"
     ]
    },
    {
     "name": "stdout",
     "output_type": "stream",
     "text": [
      "\t Enregistrement intermédiaire effectué\n"
     ]
    },
    {
     "name": "stderr",
     "output_type": "stream",
     "text": [
      " 29% (6100 of 20964) |#####              | Elapsed Time: 3:01:13 ETA:   7:57:39"
     ]
    },
    {
     "name": "stdout",
     "output_type": "stream",
     "text": [
      "\t Enregistrement intermédiaire effectué\n"
     ]
    },
    {
     "name": "stderr",
     "output_type": "stream",
     "text": [
      " 29% (6200 of 20964) |#####              | Elapsed Time: 3:04:11 ETA:   9:05:40"
     ]
    },
    {
     "name": "stdout",
     "output_type": "stream",
     "text": [
      "\t Enregistrement intermédiaire effectué\n"
     ]
    },
    {
     "name": "stderr",
     "output_type": "stream",
     "text": [
      " 30% (6300 of 20964) |#####              | Elapsed Time: 3:07:08 ETA:   8:59:17"
     ]
    },
    {
     "name": "stdout",
     "output_type": "stream",
     "text": [
      "\t Enregistrement intermédiaire effectué\n"
     ]
    },
    {
     "name": "stderr",
     "output_type": "stream",
     "text": [
      " 30% (6400 of 20964) |#####              | Elapsed Time: 3:09:58 ETA:   4:46:08"
     ]
    },
    {
     "name": "stdout",
     "output_type": "stream",
     "text": [
      "\t Enregistrement intermédiaire effectué\n"
     ]
    },
    {
     "name": "stderr",
     "output_type": "stream",
     "text": [
      " 31% (6500 of 20964) |#####              | Elapsed Time: 3:13:07 ETA:   6:05:55"
     ]
    },
    {
     "name": "stdout",
     "output_type": "stream",
     "text": [
      "\t Enregistrement intermédiaire effectué\n"
     ]
    },
    {
     "name": "stderr",
     "output_type": "stream",
     "text": [
      " 31% (6600 of 20964) |#####              | Elapsed Time: 3:16:08 ETA:   7:29:16"
     ]
    },
    {
     "name": "stdout",
     "output_type": "stream",
     "text": [
      "\t Enregistrement intermédiaire effectué\n"
     ]
    },
    {
     "name": "stderr",
     "output_type": "stream",
     "text": [
      " 31% (6700 of 20964) |######             | Elapsed Time: 3:19:05 ETA:   7:36:08"
     ]
    },
    {
     "name": "stdout",
     "output_type": "stream",
     "text": [
      "\t Enregistrement intermédiaire effectué\n"
     ]
    },
    {
     "name": "stderr",
     "output_type": "stream",
     "text": [
      " 32% (6800 of 20964) |######             | Elapsed Time: 3:21:57 ETA:   5:23:26"
     ]
    },
    {
     "name": "stdout",
     "output_type": "stream",
     "text": [
      "\t Enregistrement intermédiaire effectué\n"
     ]
    },
    {
     "name": "stderr",
     "output_type": "stream",
     "text": [
      " 32% (6900 of 20964) |######             | Elapsed Time: 3:24:54 ETA:   8:20:47"
     ]
    },
    {
     "name": "stdout",
     "output_type": "stream",
     "text": [
      "\t Enregistrement intermédiaire effectué\n"
     ]
    },
    {
     "name": "stderr",
     "output_type": "stream",
     "text": [
      " 33% (7000 of 20964) |######             | Elapsed Time: 3:27:29 ETA:   5:01:41"
     ]
    },
    {
     "name": "stdout",
     "output_type": "stream",
     "text": [
      "\t Enregistrement intermédiaire effectué\n"
     ]
    },
    {
     "name": "stderr",
     "output_type": "stream",
     "text": [
      " 33% (7100 of 20964) |######             | Elapsed Time: 3:30:09 ETA:   6:02:33"
     ]
    },
    {
     "name": "stdout",
     "output_type": "stream",
     "text": [
      "\t Enregistrement intermédiaire effectué\n"
     ]
    },
    {
     "name": "stderr",
     "output_type": "stream",
     "text": [
      " 34% (7200 of 20964) |######             | Elapsed Time: 3:32:49 ETA:   6:36:43"
     ]
    },
    {
     "name": "stdout",
     "output_type": "stream",
     "text": [
      "\t Enregistrement intermédiaire effectué\n"
     ]
    },
    {
     "name": "stderr",
     "output_type": "stream",
     "text": [
      " 34% (7300 of 20964) |######             | Elapsed Time: 3:35:25 ETA:   5:11:28"
     ]
    },
    {
     "name": "stdout",
     "output_type": "stream",
     "text": [
      "\t Enregistrement intermédiaire effectué\n"
     ]
    },
    {
     "name": "stderr",
     "output_type": "stream",
     "text": [
      " 35% (7400 of 20964) |######             | Elapsed Time: 3:37:57 ETA:   5:30:12"
     ]
    },
    {
     "name": "stdout",
     "output_type": "stream",
     "text": [
      "\t Enregistrement intermédiaire effectué\n"
     ]
    },
    {
     "name": "stderr",
     "output_type": "stream",
     "text": [
      " 35% (7500 of 20964) |######             | Elapsed Time: 3:40:31 ETA:   6:03:15"
     ]
    },
    {
     "name": "stdout",
     "output_type": "stream",
     "text": [
      "\t Enregistrement intermédiaire effectué\n"
     ]
    },
    {
     "name": "stderr",
     "output_type": "stream",
     "text": [
      " 36% (7600 of 20964) |######             | Elapsed Time: 3:43:12 ETA:   5:33:35"
     ]
    },
    {
     "name": "stdout",
     "output_type": "stream",
     "text": [
      "\t Enregistrement intermédiaire effectué\n"
     ]
    },
    {
     "name": "stderr",
     "output_type": "stream",
     "text": [
      " 36% (7700 of 20964) |######             | Elapsed Time: 3:45:39 ETA:   4:56:52"
     ]
    },
    {
     "name": "stdout",
     "output_type": "stream",
     "text": [
      "\t Enregistrement intermédiaire effectué\n"
     ]
    },
    {
     "name": "stderr",
     "output_type": "stream",
     "text": [
      " 37% (7800 of 20964) |#######            | Elapsed Time: 3:48:04 ETA:   4:58:41"
     ]
    },
    {
     "name": "stdout",
     "output_type": "stream",
     "text": [
      "\t Enregistrement intermédiaire effectué\n"
     ]
    },
    {
     "name": "stderr",
     "output_type": "stream",
     "text": [
      " 37% (7900 of 20964) |#######            | Elapsed Time: 3:50:31 ETA:   8:22:28"
     ]
    },
    {
     "name": "stdout",
     "output_type": "stream",
     "text": [
      "\t Enregistrement intermédiaire effectué\n"
     ]
    },
    {
     "name": "stderr",
     "output_type": "stream",
     "text": [
      " 38% (8000 of 20964) |#######            | Elapsed Time: 3:53:03 ETA:   4:48:32"
     ]
    },
    {
     "name": "stdout",
     "output_type": "stream",
     "text": [
      "\t Enregistrement intermédiaire effectué\n"
     ]
    },
    {
     "name": "stderr",
     "output_type": "stream",
     "text": [
      " 38% (8100 of 20964) |#######            | Elapsed Time: 3:55:34 ETA:   5:38:48"
     ]
    },
    {
     "name": "stdout",
     "output_type": "stream",
     "text": [
      "\t Enregistrement intermédiaire effectué\n"
     ]
    },
    {
     "name": "stderr",
     "output_type": "stream",
     "text": [
      " 39% (8200 of 20964) |#######            | Elapsed Time: 3:58:09 ETA:   4:53:55"
     ]
    },
    {
     "name": "stdout",
     "output_type": "stream",
     "text": [
      "\t Enregistrement intermédiaire effectué\n"
     ]
    },
    {
     "name": "stderr",
     "output_type": "stream",
     "text": [
      " 39% (8300 of 20964) |#######            | Elapsed Time: 4:00:49 ETA:   5:19:22"
     ]
    },
    {
     "name": "stdout",
     "output_type": "stream",
     "text": [
      "\t Enregistrement intermédiaire effectué\n"
     ]
    },
    {
     "name": "stderr",
     "output_type": "stream",
     "text": [
      " 40% (8400 of 20964) |#######            | Elapsed Time: 4:03:28 ETA:   5:37:15"
     ]
    },
    {
     "name": "stdout",
     "output_type": "stream",
     "text": [
      "\t Enregistrement intermédiaire effectué\n"
     ]
    },
    {
     "name": "stderr",
     "output_type": "stream",
     "text": [
      " 40% (8500 of 20964) |#######            | Elapsed Time: 4:06:05 ETA:   5:27:26"
     ]
    },
    {
     "name": "stdout",
     "output_type": "stream",
     "text": [
      "\t Enregistrement intermédiaire effectué\n"
     ]
    },
    {
     "name": "stderr",
     "output_type": "stream",
     "text": [
      " 41% (8600 of 20964) |#######            | Elapsed Time: 4:08:44 ETA:   5:32:17"
     ]
    },
    {
     "name": "stdout",
     "output_type": "stream",
     "text": [
      "\t Enregistrement intermédiaire effectué\n"
     ]
    },
    {
     "name": "stderr",
     "output_type": "stream",
     "text": [
      " 41% (8700 of 20964) |#######            | Elapsed Time: 4:11:21 ETA:  10:47:47"
     ]
    },
    {
     "name": "stdout",
     "output_type": "stream",
     "text": [
      "\t Enregistrement intermédiaire effectué\n"
     ]
    },
    {
     "name": "stderr",
     "output_type": "stream",
     "text": [
      " 41% (8800 of 20964) |#######            | Elapsed Time: 4:13:54 ETA:   4:22:17"
     ]
    },
    {
     "name": "stdout",
     "output_type": "stream",
     "text": [
      "\t Enregistrement intermédiaire effectué\n"
     ]
    },
    {
     "name": "stderr",
     "output_type": "stream",
     "text": [
      " 42% (8900 of 20964) |########           | Elapsed Time: 4:16:36 ETA:   6:52:17"
     ]
    },
    {
     "name": "stdout",
     "output_type": "stream",
     "text": [
      "\t Enregistrement intermédiaire effectué\n"
     ]
    },
    {
     "name": "stderr",
     "output_type": "stream",
     "text": [
      " 42% (9000 of 20964) |########           | Elapsed Time: 4:19:06 ETA:   3:40:52"
     ]
    },
    {
     "name": "stdout",
     "output_type": "stream",
     "text": [
      "\t Enregistrement intermédiaire effectué\n"
     ]
    },
    {
     "name": "stderr",
     "output_type": "stream",
     "text": [
      " 43% (9100 of 20964) |########           | Elapsed Time: 4:21:37 ETA:   4:50:45"
     ]
    },
    {
     "name": "stdout",
     "output_type": "stream",
     "text": [
      "\t Enregistrement intermédiaire effectué\n"
     ]
    },
    {
     "name": "stderr",
     "output_type": "stream",
     "text": [
      " 43% (9200 of 20964) |########           | Elapsed Time: 4:24:15 ETA:   4:57:52"
     ]
    },
    {
     "name": "stdout",
     "output_type": "stream",
     "text": [
      "\t Enregistrement intermédiaire effectué\n"
     ]
    },
    {
     "name": "stderr",
     "output_type": "stream",
     "text": [
      " 44% (9300 of 20964) |########           | Elapsed Time: 4:26:48 ETA:   4:42:40"
     ]
    },
    {
     "name": "stdout",
     "output_type": "stream",
     "text": [
      "\t Enregistrement intermédiaire effectué\n"
     ]
    },
    {
     "name": "stderr",
     "output_type": "stream",
     "text": [
      " 44% (9400 of 20964) |########           | Elapsed Time: 4:29:24 ETA:   4:59:27"
     ]
    },
    {
     "name": "stdout",
     "output_type": "stream",
     "text": [
      "\t Enregistrement intermédiaire effectué\n"
     ]
    },
    {
     "name": "stderr",
     "output_type": "stream",
     "text": [
      " 45% (9500 of 20964) |########           | Elapsed Time: 4:32:00 ETA:   3:25:44"
     ]
    },
    {
     "name": "stdout",
     "output_type": "stream",
     "text": [
      "\t Enregistrement intermédiaire effectué\n"
     ]
    },
    {
     "name": "stderr",
     "output_type": "stream",
     "text": [
      " 45% (9600 of 20964) |########           | Elapsed Time: 4:34:37 ETA:   3:45:44"
     ]
    },
    {
     "name": "stdout",
     "output_type": "stream",
     "text": [
      "\t Enregistrement intermédiaire effectué\n"
     ]
    },
    {
     "name": "stderr",
     "output_type": "stream",
     "text": [
      " 46% (9700 of 20964) |########           | Elapsed Time: 4:37:19 ETA:   6:22:34"
     ]
    },
    {
     "name": "stdout",
     "output_type": "stream",
     "text": [
      "\t Enregistrement intermédiaire effectué\n"
     ]
    },
    {
     "name": "stderr",
     "output_type": "stream",
     "text": [
      " 46% (9800 of 20964) |########           | Elapsed Time: 4:39:47 ETA:   4:53:05"
     ]
    },
    {
     "name": "stdout",
     "output_type": "stream",
     "text": [
      "\t Enregistrement intermédiaire effectué\n"
     ]
    },
    {
     "name": "stderr",
     "output_type": "stream",
     "text": [
      " 47% (9900 of 20964) |########           | Elapsed Time: 4:42:24 ETA:   3:59:43"
     ]
    },
    {
     "name": "stdout",
     "output_type": "stream",
     "text": [
      "\t Enregistrement intermédiaire effectué\n"
     ]
    },
    {
     "name": "stderr",
     "output_type": "stream",
     "text": [
      " 47% (10000 of 20964) |########          | Elapsed Time: 4:44:56 ETA:   4:06:38"
     ]
    },
    {
     "name": "stdout",
     "output_type": "stream",
     "text": [
      "\t Enregistrement intermédiaire effectué\n"
     ]
    },
    {
     "name": "stderr",
     "output_type": "stream",
     "text": [
      " 48% (10100 of 20964) |########          | Elapsed Time: 4:47:38 ETA:   3:59:03"
     ]
    },
    {
     "name": "stdout",
     "output_type": "stream",
     "text": [
      "\t Enregistrement intermédiaire effectué\n"
     ]
    },
    {
     "name": "stderr",
     "output_type": "stream",
     "text": [
      " 48% (10200 of 20964) |########          | Elapsed Time: 4:50:27 ETA:   4:13:26"
     ]
    },
    {
     "name": "stdout",
     "output_type": "stream",
     "text": [
      "\t Enregistrement intermédiaire effectué\n"
     ]
    },
    {
     "name": "stderr",
     "output_type": "stream",
     "text": [
      " 49% (10300 of 20964) |########          | Elapsed Time: 4:53:13 ETA:   4:41:48"
     ]
    },
    {
     "name": "stdout",
     "output_type": "stream",
     "text": [
      "\t Enregistrement intermédiaire effectué\n"
     ]
    },
    {
     "name": "stderr",
     "output_type": "stream",
     "text": [
      " 49% (10400 of 20964) |########          | Elapsed Time: 4:55:57 ETA:   5:12:37"
     ]
    },
    {
     "name": "stdout",
     "output_type": "stream",
     "text": [
      "\t Enregistrement intermédiaire effectué\n"
     ]
    },
    {
     "name": "stderr",
     "output_type": "stream",
     "text": [
      " 50% (10500 of 20964) |#########         | Elapsed Time: 4:58:29 ETA:   6:08:03"
     ]
    },
    {
     "name": "stdout",
     "output_type": "stream",
     "text": [
      "\t Enregistrement intermédiaire effectué\n"
     ]
    },
    {
     "name": "stderr",
     "output_type": "stream",
     "text": [
      " 50% (10600 of 20964) |#########         | Elapsed Time: 5:01:12 ETA:   6:33:00"
     ]
    },
    {
     "name": "stdout",
     "output_type": "stream",
     "text": [
      "\t Enregistrement intermédiaire effectué\n"
     ]
    },
    {
     "name": "stderr",
     "output_type": "stream",
     "text": [
      " 51% (10700 of 20964) |#########         | Elapsed Time: 5:03:48 ETA:   3:48:32"
     ]
    },
    {
     "name": "stdout",
     "output_type": "stream",
     "text": [
      "\t Enregistrement intermédiaire effectué\n"
     ]
    },
    {
     "name": "stderr",
     "output_type": "stream",
     "text": [
      " 51% (10800 of 20964) |#########         | Elapsed Time: 5:06:27 ETA:   4:15:19"
     ]
    },
    {
     "name": "stdout",
     "output_type": "stream",
     "text": [
      "\t Enregistrement intermédiaire effectué\n"
     ]
    },
    {
     "name": "stderr",
     "output_type": "stream",
     "text": [
      " 51% (10900 of 20964) |#########         | Elapsed Time: 5:09:08 ETA:   3:42:17"
     ]
    },
    {
     "name": "stdout",
     "output_type": "stream",
     "text": [
      "\t Enregistrement intermédiaire effectué\n"
     ]
    },
    {
     "name": "stderr",
     "output_type": "stream",
     "text": [
      " 52% (11000 of 20964) |#########         | Elapsed Time: 5:11:55 ETA:   4:31:52"
     ]
    },
    {
     "name": "stdout",
     "output_type": "stream",
     "text": [
      "\t Enregistrement intermédiaire effectué\n"
     ]
    },
    {
     "name": "stderr",
     "output_type": "stream",
     "text": [
      " 52% (11100 of 20964) |#########         | Elapsed Time: 5:14:39 ETA:   4:35:01"
     ]
    },
    {
     "name": "stdout",
     "output_type": "stream",
     "text": [
      "\t Enregistrement intermédiaire effectué\n"
     ]
    },
    {
     "name": "stderr",
     "output_type": "stream",
     "text": [
      " 53% (11200 of 20964) |#########         | Elapsed Time: 5:17:20 ETA:   3:15:54"
     ]
    },
    {
     "name": "stdout",
     "output_type": "stream",
     "text": [
      "\t Enregistrement intermédiaire effectué\n"
     ]
    },
    {
     "name": "stderr",
     "output_type": "stream",
     "text": [
      " 53% (11300 of 20964) |#########         | Elapsed Time: 5:20:01 ETA:   4:45:23"
     ]
    },
    {
     "name": "stdout",
     "output_type": "stream",
     "text": [
      "\t Enregistrement intermédiaire effectué\n"
     ]
    },
    {
     "name": "stderr",
     "output_type": "stream",
     "text": [
      " 54% (11400 of 20964) |#########         | Elapsed Time: 5:22:46 ETA:   4:09:36"
     ]
    },
    {
     "name": "stdout",
     "output_type": "stream",
     "text": [
      "\t Enregistrement intermédiaire effectué\n"
     ]
    },
    {
     "name": "stderr",
     "output_type": "stream",
     "text": [
      " 54% (11500 of 20964) |#########         | Elapsed Time: 5:25:29 ETA:   7:14:18"
     ]
    },
    {
     "name": "stdout",
     "output_type": "stream",
     "text": [
      "\t Enregistrement intermédiaire effectué\n"
     ]
    },
    {
     "name": "stderr",
     "output_type": "stream",
     "text": [
      " 55% (11600 of 20964) |#########         | Elapsed Time: 5:28:28 ETA:   4:42:32"
     ]
    },
    {
     "name": "stdout",
     "output_type": "stream",
     "text": [
      "\t Enregistrement intermédiaire effectué\n"
     ]
    },
    {
     "name": "stderr",
     "output_type": "stream",
     "text": [
      " 55% (11700 of 20964) |##########        | Elapsed Time: 5:31:17 ETA:   3:35:52"
     ]
    },
    {
     "name": "stdout",
     "output_type": "stream",
     "text": [
      "\t Enregistrement intermédiaire effectué\n"
     ]
    },
    {
     "name": "stderr",
     "output_type": "stream",
     "text": [
      " 56% (11800 of 20964) |##########        | Elapsed Time: 5:33:59 ETA:   5:06:12"
     ]
    },
    {
     "name": "stdout",
     "output_type": "stream",
     "text": [
      "\t Enregistrement intermédiaire effectué\n"
     ]
    },
    {
     "name": "stderr",
     "output_type": "stream",
     "text": [
      " 56% (11900 of 20964) |##########        | Elapsed Time: 5:36:40 ETA:   3:57:20"
     ]
    },
    {
     "name": "stdout",
     "output_type": "stream",
     "text": [
      "\t Enregistrement intermédiaire effectué\n"
     ]
    },
    {
     "name": "stderr",
     "output_type": "stream",
     "text": [
      " 57% (12000 of 20964) |##########        | Elapsed Time: 5:39:20 ETA:   3:55:18"
     ]
    },
    {
     "name": "stdout",
     "output_type": "stream",
     "text": [
      "\t Enregistrement intermédiaire effectué\n"
     ]
    },
    {
     "name": "stderr",
     "output_type": "stream",
     "text": [
      " 57% (12100 of 20964) |##########        | Elapsed Time: 5:41:57 ETA:   5:34:02"
     ]
    },
    {
     "name": "stdout",
     "output_type": "stream",
     "text": [
      "\t Enregistrement intermédiaire effectué\n"
     ]
    },
    {
     "name": "stderr",
     "output_type": "stream",
     "text": [
      " 58% (12200 of 20964) |##########        | Elapsed Time: 5:44:40 ETA:   4:04:10"
     ]
    },
    {
     "name": "stdout",
     "output_type": "stream",
     "text": [
      "\t Enregistrement intermédiaire effectué\n"
     ]
    },
    {
     "name": "stderr",
     "output_type": "stream",
     "text": [
      " 58% (12300 of 20964) |##########        | Elapsed Time: 5:47:25 ETA:   3:18:34"
     ]
    },
    {
     "name": "stdout",
     "output_type": "stream",
     "text": [
      "\t Enregistrement intermédiaire effectué\n"
     ]
    },
    {
     "name": "stderr",
     "output_type": "stream",
     "text": [
      " 59% (12400 of 20964) |##########        | Elapsed Time: 5:50:03 ETA:   3:21:44"
     ]
    },
    {
     "name": "stdout",
     "output_type": "stream",
     "text": [
      "\t Enregistrement intermédiaire effectué\n"
     ]
    },
    {
     "name": "stderr",
     "output_type": "stream",
     "text": [
      " 59% (12500 of 20964) |##########        | Elapsed Time: 5:52:50 ETA:   2:40:59"
     ]
    },
    {
     "name": "stdout",
     "output_type": "stream",
     "text": [
      "\t Enregistrement intermédiaire effectué\n"
     ]
    },
    {
     "name": "stderr",
     "output_type": "stream",
     "text": [
      " 60% (12600 of 20964) |##########        | Elapsed Time: 5:55:23 ETA:   3:25:36"
     ]
    },
    {
     "name": "stdout",
     "output_type": "stream",
     "text": [
      "\t Enregistrement intermédiaire effectué\n"
     ]
    },
    {
     "name": "stderr",
     "output_type": "stream",
     "text": [
      " 60% (12700 of 20964) |##########        | Elapsed Time: 5:58:05 ETA:   4:08:38"
     ]
    },
    {
     "name": "stdout",
     "output_type": "stream",
     "text": [
      "\t Enregistrement intermédiaire effectué\n"
     ]
    },
    {
     "name": "stderr",
     "output_type": "stream",
     "text": [
      " 61% (12800 of 20964) |##########        | Elapsed Time: 6:00:59 ETA:   3:58:40"
     ]
    },
    {
     "name": "stdout",
     "output_type": "stream",
     "text": [
      "\t Enregistrement intermédiaire effectué\n"
     ]
    },
    {
     "name": "stderr",
     "output_type": "stream",
     "text": [
      " 61% (12900 of 20964) |###########       | Elapsed Time: 6:03:40 ETA:   2:50:19"
     ]
    },
    {
     "name": "stdout",
     "output_type": "stream",
     "text": [
      "\t Enregistrement intermédiaire effectué\n"
     ]
    },
    {
     "name": "stderr",
     "output_type": "stream",
     "text": [
      " 62% (13000 of 20964) |###########       | Elapsed Time: 6:06:25 ETA:   3:43:43"
     ]
    },
    {
     "name": "stdout",
     "output_type": "stream",
     "text": [
      "\t Enregistrement intermédiaire effectué\n"
     ]
    },
    {
     "name": "stderr",
     "output_type": "stream",
     "text": [
      " 62% (13100 of 20964) |###########       | Elapsed Time: 6:09:05 ETA:   3:04:33"
     ]
    },
    {
     "name": "stdout",
     "output_type": "stream",
     "text": [
      "\t Enregistrement intermédiaire effectué\n"
     ]
    },
    {
     "name": "stderr",
     "output_type": "stream",
     "text": [
      " 62% (13200 of 20964) |###########       | Elapsed Time: 6:11:51 ETA:   3:34:54"
     ]
    },
    {
     "name": "stdout",
     "output_type": "stream",
     "text": [
      "\t Enregistrement intermédiaire effectué\n"
     ]
    },
    {
     "name": "stderr",
     "output_type": "stream",
     "text": [
      " 63% (13300 of 20964) |###########       | Elapsed Time: 6:14:39 ETA:   4:22:42"
     ]
    },
    {
     "name": "stdout",
     "output_type": "stream",
     "text": [
      "\t Enregistrement intermédiaire effectué\n"
     ]
    },
    {
     "name": "stderr",
     "output_type": "stream",
     "text": [
      " 63% (13400 of 20964) |###########       | Elapsed Time: 6:17:51 ETA:   4:12:34"
     ]
    },
    {
     "name": "stdout",
     "output_type": "stream",
     "text": [
      "\t Enregistrement intermédiaire effectué\n"
     ]
    },
    {
     "name": "stderr",
     "output_type": "stream",
     "text": [
      " 64% (13500 of 20964) |###########       | Elapsed Time: 6:20:57 ETA:   5:01:43"
     ]
    },
    {
     "name": "stdout",
     "output_type": "stream",
     "text": [
      "\t Enregistrement intermédiaire effectué\n"
     ]
    },
    {
     "name": "stderr",
     "output_type": "stream",
     "text": [
      " 64% (13600 of 20964) |###########       | Elapsed Time: 6:23:44 ETA:   3:18:12"
     ]
    },
    {
     "name": "stdout",
     "output_type": "stream",
     "text": [
      "\t Enregistrement intermédiaire effectué\n"
     ]
    },
    {
     "name": "stderr",
     "output_type": "stream",
     "text": [
      " 65% (13700 of 20964) |###########       | Elapsed Time: 6:26:31 ETA:   7:10:41"
     ]
    },
    {
     "name": "stdout",
     "output_type": "stream",
     "text": [
      "\t Enregistrement intermédiaire effectué\n"
     ]
    },
    {
     "name": "stderr",
     "output_type": "stream",
     "text": [
      " 65% (13800 of 20964) |###########       | Elapsed Time: 6:29:22 ETA:   4:39:21"
     ]
    },
    {
     "name": "stdout",
     "output_type": "stream",
     "text": [
      "\t Enregistrement intermédiaire effectué\n"
     ]
    },
    {
     "name": "stderr",
     "output_type": "stream",
     "text": [
      " 66% (13900 of 20964) |###########       | Elapsed Time: 6:32:16 ETA:   3:53:16"
     ]
    },
    {
     "name": "stdout",
     "output_type": "stream",
     "text": [
      "\t Enregistrement intermédiaire effectué\n"
     ]
    },
    {
     "name": "stderr",
     "output_type": "stream",
     "text": [
      " 66% (14000 of 20964) |############      | Elapsed Time: 6:35:17 ETA:   3:09:01"
     ]
    },
    {
     "name": "stdout",
     "output_type": "stream",
     "text": [
      "\t Enregistrement intermédiaire effectué\n"
     ]
    },
    {
     "name": "stderr",
     "output_type": "stream",
     "text": [
      " 67% (14100 of 20964) |############      | Elapsed Time: 6:38:11 ETA:   2:16:52"
     ]
    },
    {
     "name": "stdout",
     "output_type": "stream",
     "text": [
      "\t Enregistrement intermédiaire effectué\n"
     ]
    },
    {
     "name": "stderr",
     "output_type": "stream",
     "text": [
      " 67% (14200 of 20964) |############      | Elapsed Time: 6:41:05 ETA:   3:33:25"
     ]
    },
    {
     "name": "stdout",
     "output_type": "stream",
     "text": [
      "\t Enregistrement intermédiaire effectué\n"
     ]
    },
    {
     "name": "stderr",
     "output_type": "stream",
     "text": [
      " 68% (14300 of 20964) |############      | Elapsed Time: 6:43:59 ETA:   2:33:31"
     ]
    },
    {
     "name": "stdout",
     "output_type": "stream",
     "text": [
      "\t Enregistrement intermédiaire effectué\n"
     ]
    },
    {
     "name": "stderr",
     "output_type": "stream",
     "text": [
      " 68% (14400 of 20964) |############      | Elapsed Time: 6:46:48 ETA:   2:24:34"
     ]
    },
    {
     "name": "stdout",
     "output_type": "stream",
     "text": [
      "\t Enregistrement intermédiaire effectué\n"
     ]
    },
    {
     "name": "stderr",
     "output_type": "stream",
     "text": [
      " 69% (14500 of 20964) |############      | Elapsed Time: 6:49:36 ETA:   3:31:48"
     ]
    },
    {
     "name": "stdout",
     "output_type": "stream",
     "text": [
      "\t Enregistrement intermédiaire effectué\n"
     ]
    },
    {
     "name": "stderr",
     "output_type": "stream",
     "text": [
      " 69% (14600 of 20964) |############      | Elapsed Time: 6:52:09 ETA:   3:02:21"
     ]
    },
    {
     "name": "stdout",
     "output_type": "stream",
     "text": [
      "\t Enregistrement intermédiaire effectué\n"
     ]
    },
    {
     "name": "stderr",
     "output_type": "stream",
     "text": [
      " 70% (14700 of 20964) |############      | Elapsed Time: 6:54:50 ETA:   2:19:38"
     ]
    },
    {
     "name": "stdout",
     "output_type": "stream",
     "text": [
      "\t Enregistrement intermédiaire effectué\n"
     ]
    },
    {
     "name": "stderr",
     "output_type": "stream",
     "text": [
      " 70% (14800 of 20964) |############      | Elapsed Time: 6:57:31 ETA:   2:52:59"
     ]
    },
    {
     "name": "stdout",
     "output_type": "stream",
     "text": [
      "\t Enregistrement intermédiaire effectué\n"
     ]
    },
    {
     "name": "stderr",
     "output_type": "stream",
     "text": [
      " 71% (14900 of 20964) |############      | Elapsed Time: 7:00:14 ETA:   2:17:00"
     ]
    },
    {
     "name": "stdout",
     "output_type": "stream",
     "text": [
      "\t Enregistrement intermédiaire effectué\n"
     ]
    },
    {
     "name": "stderr",
     "output_type": "stream",
     "text": [
      " 71% (15000 of 20964) |############      | Elapsed Time: 7:03:08 ETA:   2:23:08"
     ]
    },
    {
     "name": "stdout",
     "output_type": "stream",
     "text": [
      "\t Enregistrement intermédiaire effectué\n"
     ]
    },
    {
     "name": "stderr",
     "output_type": "stream",
     "text": [
      " 72% (15100 of 20964) |############      | Elapsed Time: 7:05:54 ETA:   1:57:57"
     ]
    },
    {
     "name": "stdout",
     "output_type": "stream",
     "text": [
      "\t Enregistrement intermédiaire effectué\n"
     ]
    },
    {
     "name": "stderr",
     "output_type": "stream",
     "text": [
      " 72% (15200 of 20964) |#############     | Elapsed Time: 7:08:44 ETA:   3:48:12"
     ]
    },
    {
     "name": "stdout",
     "output_type": "stream",
     "text": [
      "\t Enregistrement intermédiaire effectué\n"
     ]
    },
    {
     "name": "stderr",
     "output_type": "stream",
     "text": [
      " 72% (15300 of 20964) |#############     | Elapsed Time: 7:11:31 ETA:   3:27:05"
     ]
    },
    {
     "name": "stdout",
     "output_type": "stream",
     "text": [
      "\t Enregistrement intermédiaire effectué\n"
     ]
    },
    {
     "name": "stderr",
     "output_type": "stream",
     "text": [
      " 73% (15400 of 20964) |#############     | Elapsed Time: 7:14:19 ETA:   3:08:19"
     ]
    },
    {
     "name": "stdout",
     "output_type": "stream",
     "text": [
      "\t Enregistrement intermédiaire effectué\n"
     ]
    },
    {
     "name": "stderr",
     "output_type": "stream",
     "text": [
      " 73% (15500 of 20964) |#############     | Elapsed Time: 7:17:11 ETA:   2:07:47"
     ]
    },
    {
     "name": "stdout",
     "output_type": "stream",
     "text": [
      "\t Enregistrement intermédiaire effectué\n"
     ]
    },
    {
     "name": "stderr",
     "output_type": "stream",
     "text": [
      " 74% (15600 of 20964) |#############     | Elapsed Time: 7:20:01 ETA:   1:58:53"
     ]
    },
    {
     "name": "stdout",
     "output_type": "stream",
     "text": [
      "\t Enregistrement intermédiaire effectué\n"
     ]
    },
    {
     "name": "stderr",
     "output_type": "stream",
     "text": [
      " 74% (15700 of 20964) |#############     | Elapsed Time: 7:22:57 ETA:   2:10:55"
     ]
    },
    {
     "name": "stdout",
     "output_type": "stream",
     "text": [
      "\t Enregistrement intermédiaire effectué\n"
     ]
    },
    {
     "name": "stderr",
     "output_type": "stream",
     "text": [
      " 75% (15800 of 20964) |#############     | Elapsed Time: 7:25:54 ETA:   3:18:40"
     ]
    },
    {
     "name": "stdout",
     "output_type": "stream",
     "text": [
      "\t Enregistrement intermédiaire effectué\n"
     ]
    },
    {
     "name": "stderr",
     "output_type": "stream",
     "text": [
      " 75% (15900 of 20964) |#############     | Elapsed Time: 7:28:53 ETA:   2:49:09"
     ]
    },
    {
     "name": "stdout",
     "output_type": "stream",
     "text": [
      "\t Enregistrement intermédiaire effectué\n"
     ]
    },
    {
     "name": "stderr",
     "output_type": "stream",
     "text": [
      " 76% (16000 of 20964) |#############     | Elapsed Time: 7:31:39 ETA:   2:56:08"
     ]
    },
    {
     "name": "stdout",
     "output_type": "stream",
     "text": [
      "\t Enregistrement intermédiaire effectué\n"
     ]
    },
    {
     "name": "stderr",
     "output_type": "stream",
     "text": [
      " 76% (16100 of 20964) |#############     | Elapsed Time: 7:34:38 ETA:   1:51:08"
     ]
    },
    {
     "name": "stdout",
     "output_type": "stream",
     "text": [
      "\t Enregistrement intermédiaire effectué\n"
     ]
    },
    {
     "name": "stderr",
     "output_type": "stream",
     "text": [
      " 77% (16200 of 20964) |#############     | Elapsed Time: 7:37:15 ETA:   2:01:59"
     ]
    },
    {
     "name": "stdout",
     "output_type": "stream",
     "text": [
      "\t Enregistrement intermédiaire effectué\n"
     ]
    },
    {
     "name": "stderr",
     "output_type": "stream",
     "text": [
      " 77% (16300 of 20964) |#############     | Elapsed Time: 7:40:00 ETA:   3:47:53"
     ]
    },
    {
     "name": "stdout",
     "output_type": "stream",
     "text": [
      "\t Enregistrement intermédiaire effectué\n"
     ]
    },
    {
     "name": "stderr",
     "output_type": "stream",
     "text": [
      " 78% (16400 of 20964) |##############    | Elapsed Time: 7:42:43 ETA:   1:41:11"
     ]
    },
    {
     "name": "stdout",
     "output_type": "stream",
     "text": [
      "\t Enregistrement intermédiaire effectué\n"
     ]
    },
    {
     "name": "stderr",
     "output_type": "stream",
     "text": [
      " 78% (16500 of 20964) |##############    | Elapsed Time: 7:45:31 ETA:   1:43:04"
     ]
    },
    {
     "name": "stdout",
     "output_type": "stream",
     "text": [
      "\t Enregistrement intermédiaire effectué\n"
     ]
    },
    {
     "name": "stderr",
     "output_type": "stream",
     "text": [
      " 79% (16600 of 20964) |##############    | Elapsed Time: 7:48:24 ETA:   2:15:55"
     ]
    },
    {
     "name": "stdout",
     "output_type": "stream",
     "text": [
      "\t Enregistrement intermédiaire effectué\n"
     ]
    },
    {
     "name": "stderr",
     "output_type": "stream",
     "text": [
      " 79% (16700 of 20964) |##############    | Elapsed Time: 7:51:08 ETA:   1:52:08"
     ]
    },
    {
     "name": "stdout",
     "output_type": "stream",
     "text": [
      "\t Enregistrement intermédiaire effectué\n"
     ]
    },
    {
     "name": "stderr",
     "output_type": "stream",
     "text": [
      " 80% (16800 of 20964) |##############    | Elapsed Time: 7:53:55 ETA:   1:43:40"
     ]
    },
    {
     "name": "stdout",
     "output_type": "stream",
     "text": [
      "\t Enregistrement intermédiaire effectué\n"
     ]
    },
    {
     "name": "stderr",
     "output_type": "stream",
     "text": [
      " 80% (16900 of 20964) |##############    | Elapsed Time: 7:56:43 ETA:   1:39:21"
     ]
    },
    {
     "name": "stdout",
     "output_type": "stream",
     "text": [
      "\t Enregistrement intermédiaire effectué\n"
     ]
    },
    {
     "name": "stderr",
     "output_type": "stream",
     "text": [
      " 81% (17000 of 20964) |##############    | Elapsed Time: 7:59:35 ETA:   1:33:23"
     ]
    },
    {
     "name": "stdout",
     "output_type": "stream",
     "text": [
      "\t Enregistrement intermédiaire effectué\n"
     ]
    },
    {
     "name": "stderr",
     "output_type": "stream",
     "text": [
      " 81% (17100 of 20964) |##############    | Elapsed Time: 8:02:19 ETA:   1:34:35"
     ]
    },
    {
     "name": "stdout",
     "output_type": "stream",
     "text": [
      "\t Enregistrement intermédiaire effectué\n"
     ]
    },
    {
     "name": "stderr",
     "output_type": "stream",
     "text": [
      " 82% (17200 of 20964) |##############    | Elapsed Time: 8:05:06 ETA:   1:38:25"
     ]
    },
    {
     "name": "stdout",
     "output_type": "stream",
     "text": [
      "\t Enregistrement intermédiaire effectué\n"
     ]
    },
    {
     "name": "stderr",
     "output_type": "stream",
     "text": [
      " 82% (17300 of 20964) |##############    | Elapsed Time: 8:07:56 ETA:   1:17:33"
     ]
    },
    {
     "name": "stdout",
     "output_type": "stream",
     "text": [
      "\t Enregistrement intermédiaire effectué\n"
     ]
    },
    {
     "name": "stderr",
     "output_type": "stream",
     "text": [
      " 82% (17400 of 20964) |##############    | Elapsed Time: 8:11:01 ETA:   3:18:27"
     ]
    },
    {
     "name": "stdout",
     "output_type": "stream",
     "text": [
      "\t Enregistrement intermédiaire effectué\n"
     ]
    },
    {
     "name": "stderr",
     "output_type": "stream",
     "text": [
      " 83% (17500 of 20964) |###############   | Elapsed Time: 8:14:04 ETA:   1:43:05"
     ]
    },
    {
     "name": "stdout",
     "output_type": "stream",
     "text": [
      "\t Enregistrement intermédiaire effectué\n"
     ]
    },
    {
     "name": "stderr",
     "output_type": "stream",
     "text": [
      " 83% (17600 of 20964) |###############   | Elapsed Time: 8:17:01 ETA:   2:00:19"
     ]
    },
    {
     "name": "stdout",
     "output_type": "stream",
     "text": [
      "\t Enregistrement intermédiaire effectué\n"
     ]
    },
    {
     "name": "stderr",
     "output_type": "stream",
     "text": [
      " 84% (17700 of 20964) |###############   | Elapsed Time: 8:19:58 ETA:   1:27:36"
     ]
    },
    {
     "name": "stdout",
     "output_type": "stream",
     "text": [
      "\t Enregistrement intermédiaire effectué\n"
     ]
    },
    {
     "name": "stderr",
     "output_type": "stream",
     "text": [
      " 84% (17800 of 20964) |###############   | Elapsed Time: 8:22:40 ETA:   1:07:25"
     ]
    },
    {
     "name": "stdout",
     "output_type": "stream",
     "text": [
      "\t Enregistrement intermédiaire effectué\n"
     ]
    },
    {
     "name": "stderr",
     "output_type": "stream",
     "text": [
      " 85% (17900 of 20964) |###############   | Elapsed Time: 8:25:27 ETA:   1:20:53"
     ]
    },
    {
     "name": "stdout",
     "output_type": "stream",
     "text": [
      "\t Enregistrement intermédiaire effectué\n"
     ]
    },
    {
     "name": "stderr",
     "output_type": "stream",
     "text": [
      " 85% (18000 of 20964) |###############   | Elapsed Time: 8:28:12 ETA:   1:13:21"
     ]
    },
    {
     "name": "stdout",
     "output_type": "stream",
     "text": [
      "\t Enregistrement intermédiaire effectué\n"
     ]
    },
    {
     "name": "stderr",
     "output_type": "stream",
     "text": [
      " 86% (18100 of 20964) |###############   | Elapsed Time: 8:30:56 ETA:   1:00:25"
     ]
    },
    {
     "name": "stdout",
     "output_type": "stream",
     "text": [
      "\t Enregistrement intermédiaire effectué\n"
     ]
    },
    {
     "name": "stderr",
     "output_type": "stream",
     "text": [
      " 86% (18200 of 20964) |###############   | Elapsed Time: 8:33:46 ETA:   1:10:56"
     ]
    },
    {
     "name": "stdout",
     "output_type": "stream",
     "text": [
      "\t Enregistrement intermédiaire effectué\n"
     ]
    },
    {
     "name": "stderr",
     "output_type": "stream",
     "text": [
      " 87% (18300 of 20964) |###############   | Elapsed Time: 8:36:36 ETA:   1:45:09"
     ]
    },
    {
     "name": "stdout",
     "output_type": "stream",
     "text": [
      "\t Enregistrement intermédiaire effectué\n"
     ]
    },
    {
     "name": "stderr",
     "output_type": "stream",
     "text": [
      " 87% (18400 of 20964) |###############   | Elapsed Time: 8:39:24 ETA:   1:16:57"
     ]
    },
    {
     "name": "stdout",
     "output_type": "stream",
     "text": [
      "\t Enregistrement intermédiaire effectué\n"
     ]
    },
    {
     "name": "stderr",
     "output_type": "stream",
     "text": [
      " 88% (18500 of 20964) |###############   | Elapsed Time: 8:42:14 ETA:   1:17:02"
     ]
    },
    {
     "name": "stdout",
     "output_type": "stream",
     "text": [
      "\t Enregistrement intermédiaire effectué\n"
     ]
    },
    {
     "name": "stderr",
     "output_type": "stream",
     "text": [
      " 88% (18600 of 20964) |###############   | Elapsed Time: 8:45:02 ETA:   0:59:37"
     ]
    },
    {
     "name": "stdout",
     "output_type": "stream",
     "text": [
      "\t Enregistrement intermédiaire effectué\n"
     ]
    },
    {
     "name": "stderr",
     "output_type": "stream",
     "text": [
      " 89% (18700 of 20964) |################  | Elapsed Time: 8:47:50 ETA:   1:37:32"
     ]
    },
    {
     "name": "stdout",
     "output_type": "stream",
     "text": [
      "\t Enregistrement intermédiaire effectué\n"
     ]
    },
    {
     "name": "stderr",
     "output_type": "stream",
     "text": [
      " 89% (18800 of 20964) |################  | Elapsed Time: 8:50:46 ETA:   0:59:09"
     ]
    },
    {
     "name": "stdout",
     "output_type": "stream",
     "text": [
      "\t Enregistrement intermédiaire effectué\n"
     ]
    },
    {
     "name": "stderr",
     "output_type": "stream",
     "text": [
      " 90% (18900 of 20964) |################  | Elapsed Time: 8:53:32 ETA:   0:42:13"
     ]
    },
    {
     "name": "stdout",
     "output_type": "stream",
     "text": [
      "\t Enregistrement intermédiaire effectué\n"
     ]
    },
    {
     "name": "stderr",
     "output_type": "stream",
     "text": [
      " 90% (19000 of 20964) |################  | Elapsed Time: 8:56:13 ETA:   0:42:12"
     ]
    },
    {
     "name": "stdout",
     "output_type": "stream",
     "text": [
      "\t Enregistrement intermédiaire effectué\n"
     ]
    },
    {
     "name": "stderr",
     "output_type": "stream",
     "text": [
      " 91% (19100 of 20964) |################  | Elapsed Time: 8:59:02 ETA:   0:53:41"
     ]
    },
    {
     "name": "stdout",
     "output_type": "stream",
     "text": [
      "\t Enregistrement intermédiaire effectué\n"
     ]
    },
    {
     "name": "stderr",
     "output_type": "stream",
     "text": [
      " 91% (19200 of 20964) |################  | Elapsed Time: 9:01:41 ETA:   0:36:39"
     ]
    },
    {
     "name": "stdout",
     "output_type": "stream",
     "text": [
      "\t Enregistrement intermédiaire effectué\n"
     ]
    },
    {
     "name": "stderr",
     "output_type": "stream",
     "text": [
      " 92% (19300 of 20964) |################  | Elapsed Time: 9:04:23 ETA:   0:57:28"
     ]
    },
    {
     "name": "stdout",
     "output_type": "stream",
     "text": [
      "\t Enregistrement intermédiaire effectué\n"
     ]
    },
    {
     "name": "stderr",
     "output_type": "stream",
     "text": [
      " 92% (19400 of 20964) |################  | Elapsed Time: 9:07:10 ETA:   0:53:59"
     ]
    },
    {
     "name": "stdout",
     "output_type": "stream",
     "text": [
      "\t Enregistrement intermédiaire effectué\n"
     ]
    },
    {
     "name": "stderr",
     "output_type": "stream",
     "text": [
      " 93% (19500 of 20964) |################  | Elapsed Time: 9:09:51 ETA:   0:26:19"
     ]
    },
    {
     "name": "stdout",
     "output_type": "stream",
     "text": [
      "\t Enregistrement intermédiaire effectué\n"
     ]
    },
    {
     "name": "stderr",
     "output_type": "stream",
     "text": [
      " 93% (19600 of 20964) |################  | Elapsed Time: 9:12:28 ETA:   1:02:23"
     ]
    },
    {
     "name": "stdout",
     "output_type": "stream",
     "text": [
      "\t Enregistrement intermédiaire effectué\n"
     ]
    },
    {
     "name": "stderr",
     "output_type": "stream",
     "text": [
      " 93% (19700 of 20964) |################  | Elapsed Time: 9:15:06 ETA:   0:32:51"
     ]
    },
    {
     "name": "stdout",
     "output_type": "stream",
     "text": [
      "\t Enregistrement intermédiaire effectué\n"
     ]
    },
    {
     "name": "stderr",
     "output_type": "stream",
     "text": [
      " 94% (19800 of 20964) |################# | Elapsed Time: 9:17:53 ETA:   0:23:08"
     ]
    },
    {
     "name": "stdout",
     "output_type": "stream",
     "text": [
      "\t Enregistrement intermédiaire effectué\n"
     ]
    },
    {
     "name": "stderr",
     "output_type": "stream",
     "text": [
      " 94% (19900 of 20964) |################# | Elapsed Time: 9:20:34 ETA:   0:25:11"
     ]
    },
    {
     "name": "stdout",
     "output_type": "stream",
     "text": [
      "\t Enregistrement intermédiaire effectué\n"
     ]
    },
    {
     "name": "stderr",
     "output_type": "stream",
     "text": [
      " 95% (20000 of 20964) |################# | Elapsed Time: 9:23:20 ETA:   0:19:26"
     ]
    },
    {
     "name": "stdout",
     "output_type": "stream",
     "text": [
      "\t Enregistrement intermédiaire effectué\n"
     ]
    },
    {
     "name": "stderr",
     "output_type": "stream",
     "text": [
      " 95% (20100 of 20964) |################# | Elapsed Time: 9:25:56 ETA:   0:20:39"
     ]
    },
    {
     "name": "stdout",
     "output_type": "stream",
     "text": [
      "\t Enregistrement intermédiaire effectué\n"
     ]
    },
    {
     "name": "stderr",
     "output_type": "stream",
     "text": [
      " 96% (20200 of 20964) |################# | Elapsed Time: 9:28:38 ETA:   0:21:13"
     ]
    },
    {
     "name": "stdout",
     "output_type": "stream",
     "text": [
      "\t Enregistrement intermédiaire effectué\n"
     ]
    },
    {
     "name": "stderr",
     "output_type": "stream",
     "text": [
      " 96% (20300 of 20964) |################# | Elapsed Time: 9:31:25 ETA:   0:16:18"
     ]
    },
    {
     "name": "stdout",
     "output_type": "stream",
     "text": [
      "\t Enregistrement intermédiaire effectué\n"
     ]
    },
    {
     "name": "stderr",
     "output_type": "stream",
     "text": [
      " 97% (20400 of 20964) |################# | Elapsed Time: 9:34:19 ETA:   0:28:01"
     ]
    },
    {
     "name": "stdout",
     "output_type": "stream",
     "text": [
      "\t Enregistrement intermédiaire effectué\n"
     ]
    },
    {
     "name": "stderr",
     "output_type": "stream",
     "text": [
      " 97% (20500 of 20964) |################# | Elapsed Time: 9:36:59 ETA:   0:11:41"
     ]
    },
    {
     "name": "stdout",
     "output_type": "stream",
     "text": [
      "\t Enregistrement intermédiaire effectué\n"
     ]
    },
    {
     "name": "stderr",
     "output_type": "stream",
     "text": [
      " 98% (20600 of 20964) |################# | Elapsed Time: 9:39:37 ETA:   0:08:04"
     ]
    },
    {
     "name": "stdout",
     "output_type": "stream",
     "text": [
      "\t Enregistrement intermédiaire effectué\n"
     ]
    },
    {
     "name": "stderr",
     "output_type": "stream",
     "text": [
      " 98% (20700 of 20964) |################# | Elapsed Time: 9:42:18 ETA:   0:09:51"
     ]
    },
    {
     "name": "stdout",
     "output_type": "stream",
     "text": [
      "\t Enregistrement intermédiaire effectué\n"
     ]
    },
    {
     "name": "stderr",
     "output_type": "stream",
     "text": [
      " 99% (20800 of 20964) |################# | Elapsed Time: 9:44:54 ETA:   0:04:14"
     ]
    },
    {
     "name": "stdout",
     "output_type": "stream",
     "text": [
      "\t Enregistrement intermédiaire effectué\n"
     ]
    },
    {
     "name": "stderr",
     "output_type": "stream",
     "text": [
      " 99% (20900 of 20964) |################# | Elapsed Time: 9:47:25 ETA:   0:01:24"
     ]
    },
    {
     "name": "stdout",
     "output_type": "stream",
     "text": [
      "\t Enregistrement intermédiaire effectué\n"
     ]
    },
    {
     "name": "stderr",
     "output_type": "stream",
     "text": [
      "100% (20964 of 20964) |##################| Elapsed Time: 9:49:08 Time:  9:49:08\n",
      "C:\\Users\\kaoua\\kickstarter.py:549: SettingWithCopyWarning: \n",
      "A value is trying to be set on a copy of a slice from a DataFrame.\n",
      "Try using .loc[row_indexer,col_indexer] = value instead\n",
      "\n",
      "See the caveats in the documentation: https://pandas.pydata.org/pandas-docs/stable/user_guide/indexing.html#returning-a-view-versus-a-copy\n",
      "  df['coup_de_coeur'] = coeur\n"
     ]
    },
    {
     "name": "stdout",
     "output_type": "stream",
     "text": [
      "Scrapping de l'année 2015\n"
     ]
    },
    {
     "name": "stderr",
     "output_type": "stream",
     "text": [
      "  0% (100 of 30386) |                    | Elapsed Time: 0:02:46 ETA:  15:06:27C:\\Users\\kaoua\\kickstarter.py:545: SettingWithCopyWarning: \n",
      "A value is trying to be set on a copy of a slice from a DataFrame.\n",
      "Try using .loc[row_indexer,col_indexer] = value instead\n",
      "\n",
      "See the caveats in the documentation: https://pandas.pydata.org/pandas-docs/stable/user_guide/indexing.html#returning-a-view-versus-a-copy\n",
      "  dfi['coup_de_coeur'] = coeur\n"
     ]
    },
    {
     "name": "stdout",
     "output_type": "stream",
     "text": [
      "\t Enregistrement intermédiaire effectué\n"
     ]
    },
    {
     "name": "stderr",
     "output_type": "stream",
     "text": [
      "  0% (200 of 30386) |                    | Elapsed Time: 0:05:25 ETA:  15:59:16"
     ]
    },
    {
     "name": "stdout",
     "output_type": "stream",
     "text": [
      "\t Enregistrement intermédiaire effectué\n"
     ]
    },
    {
     "name": "stderr",
     "output_type": "stream",
     "text": [
      "  0% (300 of 30386) |                    | Elapsed Time: 0:08:01 ETA:  10:08:24"
     ]
    },
    {
     "name": "stdout",
     "output_type": "stream",
     "text": [
      "\t Enregistrement intermédiaire effectué\n"
     ]
    },
    {
     "name": "stderr",
     "output_type": "stream",
     "text": [
      "  1% (400 of 30386) |                    | Elapsed Time: 0:10:46 ETA:  12:05:51"
     ]
    },
    {
     "name": "stdout",
     "output_type": "stream",
     "text": [
      "\t Enregistrement intermédiaire effectué\n"
     ]
    },
    {
     "name": "stderr",
     "output_type": "stream",
     "text": [
      "  1% (500 of 30386) |                    | Elapsed Time: 0:13:29 ETA:  13:21:48"
     ]
    },
    {
     "name": "stdout",
     "output_type": "stream",
     "text": [
      "\t Enregistrement intermédiaire effectué\n"
     ]
    },
    {
     "name": "stderr",
     "output_type": "stream",
     "text": [
      "  1% (600 of 30386) |                    | Elapsed Time: 0:16:07 ETA:  13:08:52"
     ]
    },
    {
     "name": "stdout",
     "output_type": "stream",
     "text": [
      "\t Enregistrement intermédiaire effectué\n"
     ]
    },
    {
     "name": "stderr",
     "output_type": "stream",
     "text": [
      "  2% (700 of 30386) |                    | Elapsed Time: 0:18:44 ETA:  11:29:56"
     ]
    },
    {
     "name": "stdout",
     "output_type": "stream",
     "text": [
      "\t Enregistrement intermédiaire effectué\n"
     ]
    },
    {
     "name": "stderr",
     "output_type": "stream",
     "text": [
      "  2% (800 of 30386) |                    | Elapsed Time: 0:21:19 ETA:  12:04:30"
     ]
    },
    {
     "name": "stdout",
     "output_type": "stream",
     "text": [
      "\t Enregistrement intermédiaire effectué\n"
     ]
    },
    {
     "name": "stderr",
     "output_type": "stream",
     "text": [
      "  2% (900 of 30386) |                    | Elapsed Time: 0:23:55 ETA:  13:45:38"
     ]
    },
    {
     "name": "stdout",
     "output_type": "stream",
     "text": [
      "\t Enregistrement intermédiaire effectué\n"
     ]
    },
    {
     "name": "stderr",
     "output_type": "stream",
     "text": [
      "  3% (1000 of 30386) |                   | Elapsed Time: 0:26:26 ETA:  12:41:55"
     ]
    },
    {
     "name": "stdout",
     "output_type": "stream",
     "text": [
      "\t Enregistrement intermédiaire effectué\n"
     ]
    },
    {
     "name": "stderr",
     "output_type": "stream",
     "text": [
      "  3% (1100 of 30386) |                   | Elapsed Time: 0:29:11 ETA:   9:50:59"
     ]
    },
    {
     "name": "stdout",
     "output_type": "stream",
     "text": [
      "\t Enregistrement intermédiaire effectué\n"
     ]
    },
    {
     "name": "stderr",
     "output_type": "stream",
     "text": [
      "  3% (1200 of 30386) |                   | Elapsed Time: 0:31:53 ETA:  10:41:21"
     ]
    },
    {
     "name": "stdout",
     "output_type": "stream",
     "text": [
      "\t Enregistrement intermédiaire effectué\n"
     ]
    },
    {
     "name": "stderr",
     "output_type": "stream",
     "text": [
      "  4% (1300 of 30386) |                   | Elapsed Time: 0:34:43 ETA:  13:25:59"
     ]
    },
    {
     "name": "stdout",
     "output_type": "stream",
     "text": [
      "\t Enregistrement intermédiaire effectué\n"
     ]
    },
    {
     "name": "stderr",
     "output_type": "stream",
     "text": [
      "  4% (1400 of 30386) |                   | Elapsed Time: 0:37:23 ETA:  10:10:29"
     ]
    },
    {
     "name": "stdout",
     "output_type": "stream",
     "text": [
      "\t Enregistrement intermédiaire effectué\n"
     ]
    },
    {
     "name": "stderr",
     "output_type": "stream",
     "text": [
      "  4% (1500 of 30386) |                   | Elapsed Time: 0:39:51 ETA:   9:53:49"
     ]
    },
    {
     "name": "stdout",
     "output_type": "stream",
     "text": [
      "\t Enregistrement intermédiaire effectué\n"
     ]
    },
    {
     "name": "stderr",
     "output_type": "stream",
     "text": [
      "  5% (1600 of 30386) |#                  | Elapsed Time: 0:42:29 ETA:  16:16:53"
     ]
    },
    {
     "name": "stdout",
     "output_type": "stream",
     "text": [
      "\t Enregistrement intermédiaire effectué\n"
     ]
    },
    {
     "name": "stderr",
     "output_type": "stream",
     "text": [
      "  5% (1700 of 30386) |#                  | Elapsed Time: 0:44:55 ETA:  12:36:58"
     ]
    },
    {
     "name": "stdout",
     "output_type": "stream",
     "text": [
      "\t Enregistrement intermédiaire effectué\n"
     ]
    },
    {
     "name": "stderr",
     "output_type": "stream",
     "text": [
      "  5% (1800 of 30386) |#                  | Elapsed Time: 0:47:28 ETA:  10:52:59"
     ]
    },
    {
     "name": "stdout",
     "output_type": "stream",
     "text": [
      "\t Enregistrement intermédiaire effectué\n"
     ]
    },
    {
     "name": "stderr",
     "output_type": "stream",
     "text": [
      "  6% (1900 of 30386) |#                  | Elapsed Time: 0:50:03 ETA:   8:42:40"
     ]
    },
    {
     "name": "stdout",
     "output_type": "stream",
     "text": [
      "\t Enregistrement intermédiaire effectué\n"
     ]
    },
    {
     "name": "stderr",
     "output_type": "stream",
     "text": [
      "  6% (2000 of 30386) |#                  | Elapsed Time: 0:52:38 ETA:  10:55:12"
     ]
    },
    {
     "name": "stdout",
     "output_type": "stream",
     "text": [
      "\t Enregistrement intermédiaire effectué\n"
     ]
    },
    {
     "name": "stderr",
     "output_type": "stream",
     "text": [
      "  6% (2100 of 30386) |#                  | Elapsed Time: 0:55:09 ETA:   9:56:05"
     ]
    },
    {
     "name": "stdout",
     "output_type": "stream",
     "text": [
      "\t Enregistrement intermédiaire effectué\n"
     ]
    },
    {
     "name": "stderr",
     "output_type": "stream",
     "text": [
      "  7% (2200 of 30386) |#                  | Elapsed Time: 0:57:44 ETA:  13:01:27"
     ]
    },
    {
     "name": "stdout",
     "output_type": "stream",
     "text": [
      "\t Enregistrement intermédiaire effectué\n"
     ]
    },
    {
     "name": "stderr",
     "output_type": "stream",
     "text": [
      "  7% (2300 of 30386) |#                  | Elapsed Time: 1:00:17 ETA:   9:48:59"
     ]
    },
    {
     "name": "stdout",
     "output_type": "stream",
     "text": [
      "\t Enregistrement intermédiaire effectué\n"
     ]
    },
    {
     "name": "stderr",
     "output_type": "stream",
     "text": [
      "  7% (2400 of 30386) |#                  | Elapsed Time: 1:02:56 ETA:  12:01:13"
     ]
    },
    {
     "name": "stdout",
     "output_type": "stream",
     "text": [
      "\t Enregistrement intermédiaire effectué\n"
     ]
    },
    {
     "name": "stderr",
     "output_type": "stream",
     "text": [
      "  8% (2500 of 30386) |#                  | Elapsed Time: 1:05:37 ETA:  15:57:40"
     ]
    },
    {
     "name": "stdout",
     "output_type": "stream",
     "text": [
      "\t Enregistrement intermédiaire effectué\n"
     ]
    },
    {
     "name": "stderr",
     "output_type": "stream",
     "text": [
      "  8% (2600 of 30386) |#                  | Elapsed Time: 1:08:24 ETA:  12:19:59"
     ]
    },
    {
     "name": "stdout",
     "output_type": "stream",
     "text": [
      "\t Enregistrement intermédiaire effectué\n"
     ]
    },
    {
     "name": "stderr",
     "output_type": "stream",
     "text": [
      "  8% (2700 of 30386) |#                  | Elapsed Time: 1:11:06 ETA:  12:10:22"
     ]
    },
    {
     "name": "stdout",
     "output_type": "stream",
     "text": [
      "\t Enregistrement intermédiaire effectué\n"
     ]
    },
    {
     "name": "stderr",
     "output_type": "stream",
     "text": [
      "  9% (2800 of 30386) |#                  | Elapsed Time: 1:13:37 ETA:  10:49:51"
     ]
    },
    {
     "name": "stdout",
     "output_type": "stream",
     "text": [
      "\t Enregistrement intermédiaire effectué\n"
     ]
    },
    {
     "name": "stderr",
     "output_type": "stream",
     "text": [
      "  9% (2900 of 30386) |#                  | Elapsed Time: 1:16:19 ETA:  11:25:43"
     ]
    },
    {
     "name": "stdout",
     "output_type": "stream",
     "text": [
      "\t Enregistrement intermédiaire effectué\n"
     ]
    },
    {
     "name": "stderr",
     "output_type": "stream",
     "text": [
      "  9% (3000 of 30386) |#                  | Elapsed Time: 1:18:50 ETA:   9:04:22"
     ]
    },
    {
     "name": "stdout",
     "output_type": "stream",
     "text": [
      "\t Enregistrement intermédiaire effectué\n"
     ]
    },
    {
     "name": "stderr",
     "output_type": "stream",
     "text": [
      " 10% (3100 of 30386) |#                  | Elapsed Time: 1:21:23 ETA:  13:04:59"
     ]
    },
    {
     "name": "stdout",
     "output_type": "stream",
     "text": [
      "\t Enregistrement intermédiaire effectué\n"
     ]
    },
    {
     "name": "stderr",
     "output_type": "stream",
     "text": [
      " 10% (3200 of 30386) |##                 | Elapsed Time: 1:24:00 ETA:   8:05:11"
     ]
    },
    {
     "name": "stdout",
     "output_type": "stream",
     "text": [
      "\t Enregistrement intermédiaire effectué\n"
     ]
    },
    {
     "name": "stderr",
     "output_type": "stream",
     "text": [
      " 10% (3300 of 30386) |##                 | Elapsed Time: 1:26:35 ETA:   9:45:39"
     ]
    },
    {
     "name": "stdout",
     "output_type": "stream",
     "text": [
      "\t Enregistrement intermédiaire effectué\n"
     ]
    },
    {
     "name": "stderr",
     "output_type": "stream",
     "text": [
      " 11% (3400 of 30386) |##                 | Elapsed Time: 1:29:13 ETA:   9:39:30"
     ]
    },
    {
     "name": "stdout",
     "output_type": "stream",
     "text": [
      "\t Enregistrement intermédiaire effectué\n"
     ]
    },
    {
     "name": "stderr",
     "output_type": "stream",
     "text": [
      " 11% (3500 of 30386) |##                 | Elapsed Time: 1:31:57 ETA:  12:17:16"
     ]
    },
    {
     "name": "stdout",
     "output_type": "stream",
     "text": [
      "\t Enregistrement intermédiaire effectué\n"
     ]
    },
    {
     "name": "stderr",
     "output_type": "stream",
     "text": [
      " 11% (3600 of 30386) |##                 | Elapsed Time: 1:34:25 ETA:  10:50:29"
     ]
    },
    {
     "name": "stdout",
     "output_type": "stream",
     "text": [
      "\t Enregistrement intermédiaire effectué\n"
     ]
    },
    {
     "name": "stderr",
     "output_type": "stream",
     "text": [
      " 12% (3700 of 30386) |##                 | Elapsed Time: 1:37:06 ETA:  14:57:29"
     ]
    },
    {
     "name": "stdout",
     "output_type": "stream",
     "text": [
      "\t Enregistrement intermédiaire effectué\n"
     ]
    },
    {
     "name": "stderr",
     "output_type": "stream",
     "text": [
      " 12% (3800 of 30386) |##                 | Elapsed Time: 1:39:43 ETA:  12:01:57"
     ]
    },
    {
     "name": "stdout",
     "output_type": "stream",
     "text": [
      "\t Enregistrement intermédiaire effectué\n"
     ]
    },
    {
     "name": "stderr",
     "output_type": "stream",
     "text": [
      " 12% (3900 of 30386) |##                 | Elapsed Time: 1:42:34 ETA:  12:01:50"
     ]
    },
    {
     "name": "stdout",
     "output_type": "stream",
     "text": [
      "\t Enregistrement intermédiaire effectué\n"
     ]
    },
    {
     "name": "stderr",
     "output_type": "stream",
     "text": [
      " 13% (4000 of 30386) |##                 | Elapsed Time: 1:45:21 ETA:  10:44:58"
     ]
    },
    {
     "name": "stdout",
     "output_type": "stream",
     "text": [
      "\t Enregistrement intermédiaire effectué\n"
     ]
    },
    {
     "name": "stderr",
     "output_type": "stream",
     "text": [
      " 13% (4100 of 30386) |##                 | Elapsed Time: 1:48:01 ETA:  11:35:18"
     ]
    },
    {
     "name": "stdout",
     "output_type": "stream",
     "text": [
      "\t Enregistrement intermédiaire effectué\n"
     ]
    },
    {
     "name": "stderr",
     "output_type": "stream",
     "text": [
      " 13% (4200 of 30386) |##                 | Elapsed Time: 1:50:37 ETA:   8:40:11"
     ]
    },
    {
     "name": "stdout",
     "output_type": "stream",
     "text": [
      "\t Enregistrement intermédiaire effectué\n"
     ]
    },
    {
     "name": "stderr",
     "output_type": "stream",
     "text": [
      " 14% (4300 of 30386) |##                 | Elapsed Time: 1:53:14 ETA:  12:23:49"
     ]
    },
    {
     "name": "stdout",
     "output_type": "stream",
     "text": [
      "\t Enregistrement intermédiaire effectué\n"
     ]
    },
    {
     "name": "stderr",
     "output_type": "stream",
     "text": [
      " 14% (4400 of 30386) |##                 | Elapsed Time: 1:55:54 ETA:   9:39:22"
     ]
    },
    {
     "name": "stdout",
     "output_type": "stream",
     "text": [
      "\t Enregistrement intermédiaire effectué\n"
     ]
    },
    {
     "name": "stderr",
     "output_type": "stream",
     "text": [
      " 14% (4500 of 30386) |##                 | Elapsed Time: 1:58:30 ETA:  12:20:33"
     ]
    },
    {
     "name": "stdout",
     "output_type": "stream",
     "text": [
      "\t Enregistrement intermédiaire effectué\n"
     ]
    },
    {
     "name": "stderr",
     "output_type": "stream",
     "text": [
      " 15% (4600 of 30386) |##                 | Elapsed Time: 2:01:02 ETA:  10:09:53"
     ]
    },
    {
     "name": "stdout",
     "output_type": "stream",
     "text": [
      "\t Enregistrement intermédiaire effectué\n"
     ]
    },
    {
     "name": "stderr",
     "output_type": "stream",
     "text": [
      " 15% (4700 of 30386) |##                 | Elapsed Time: 2:03:36 ETA:   9:47:39"
     ]
    },
    {
     "name": "stdout",
     "output_type": "stream",
     "text": [
      "\t Enregistrement intermédiaire effectué\n"
     ]
    },
    {
     "name": "stderr",
     "output_type": "stream",
     "text": [
      " 15% (4800 of 30386) |###                | Elapsed Time: 2:06:05 ETA:  13:28:14"
     ]
    },
    {
     "name": "stdout",
     "output_type": "stream",
     "text": [
      "\t Enregistrement intermédiaire effectué\n"
     ]
    },
    {
     "name": "stderr",
     "output_type": "stream",
     "text": [
      " 16% (4900 of 30386) |###                | Elapsed Time: 2:08:38 ETA:  16:48:14"
     ]
    },
    {
     "name": "stdout",
     "output_type": "stream",
     "text": [
      "\t Enregistrement intermédiaire effectué\n"
     ]
    },
    {
     "name": "stderr",
     "output_type": "stream",
     "text": [
      " 16% (5000 of 30386) |###                | Elapsed Time: 2:11:14 ETA:  12:10:38"
     ]
    },
    {
     "name": "stdout",
     "output_type": "stream",
     "text": [
      "\t Enregistrement intermédiaire effectué\n"
     ]
    },
    {
     "name": "stderr",
     "output_type": "stream",
     "text": [
      " 16% (5100 of 30386) |###                | Elapsed Time: 2:13:44 ETA:  10:35:46"
     ]
    },
    {
     "name": "stdout",
     "output_type": "stream",
     "text": [
      "\t Enregistrement intermédiaire effectué\n"
     ]
    },
    {
     "name": "stderr",
     "output_type": "stream",
     "text": [
      " 17% (5200 of 30386) |###                | Elapsed Time: 2:16:30 ETA:  11:11:10"
     ]
    },
    {
     "name": "stdout",
     "output_type": "stream",
     "text": [
      "\t Enregistrement intermédiaire effectué\n"
     ]
    },
    {
     "name": "stderr",
     "output_type": "stream",
     "text": [
      " 17% (5300 of 30386) |###                | Elapsed Time: 2:19:08 ETA:  12:19:05"
     ]
    },
    {
     "name": "stdout",
     "output_type": "stream",
     "text": [
      "\t Enregistrement intermédiaire effectué\n"
     ]
    },
    {
     "name": "stderr",
     "output_type": "stream",
     "text": [
      " 17% (5400 of 30386) |###                | Elapsed Time: 2:21:46 ETA:  13:57:17"
     ]
    },
    {
     "name": "stdout",
     "output_type": "stream",
     "text": [
      "\t Enregistrement intermédiaire effectué\n"
     ]
    },
    {
     "name": "stderr",
     "output_type": "stream",
     "text": [
      " 18% (5500 of 30386) |###                | Elapsed Time: 2:24:28 ETA:  16:26:25"
     ]
    },
    {
     "name": "stdout",
     "output_type": "stream",
     "text": [
      "\t Enregistrement intermédiaire effectué\n"
     ]
    },
    {
     "name": "stderr",
     "output_type": "stream",
     "text": [
      " 18% (5600 of 30386) |###                | Elapsed Time: 2:27:08 ETA:  14:17:04"
     ]
    },
    {
     "name": "stdout",
     "output_type": "stream",
     "text": [
      "\t Enregistrement intermédiaire effectué\n"
     ]
    },
    {
     "name": "stderr",
     "output_type": "stream",
     "text": [
      " 18% (5700 of 30386) |###                | Elapsed Time: 2:29:59 ETA:  10:11:00"
     ]
    },
    {
     "name": "stdout",
     "output_type": "stream",
     "text": [
      "\t Enregistrement intermédiaire effectué\n"
     ]
    },
    {
     "name": "stderr",
     "output_type": "stream",
     "text": [
      " 19% (5800 of 30386) |###                | Elapsed Time: 2:32:29 ETA:  10:03:17"
     ]
    },
    {
     "name": "stdout",
     "output_type": "stream",
     "text": [
      "\t Enregistrement intermédiaire effectué\n"
     ]
    },
    {
     "name": "stderr",
     "output_type": "stream",
     "text": [
      " 19% (5900 of 30386) |###                | Elapsed Time: 2:35:07 ETA:   8:05:41"
     ]
    },
    {
     "name": "stdout",
     "output_type": "stream",
     "text": [
      "\t Enregistrement intermédiaire effectué\n"
     ]
    },
    {
     "name": "stderr",
     "output_type": "stream",
     "text": [
      " 19% (6000 of 30386) |###                | Elapsed Time: 2:37:39 ETA:  11:32:56"
     ]
    },
    {
     "name": "stdout",
     "output_type": "stream",
     "text": [
      "\t Enregistrement intermédiaire effectué\n"
     ]
    },
    {
     "name": "stderr",
     "output_type": "stream",
     "text": [
      " 20% (6100 of 30386) |###                | Elapsed Time: 2:40:21 ETA:  10:04:17"
     ]
    },
    {
     "name": "stdout",
     "output_type": "stream",
     "text": [
      "\t Enregistrement intermédiaire effectué\n"
     ]
    },
    {
     "name": "stderr",
     "output_type": "stream",
     "text": [
      " 20% (6200 of 30386) |###                | Elapsed Time: 2:42:55 ETA:  10:44:26"
     ]
    },
    {
     "name": "stdout",
     "output_type": "stream",
     "text": [
      "\t Enregistrement intermédiaire effectué\n"
     ]
    },
    {
     "name": "stderr",
     "output_type": "stream",
     "text": [
      " 20% (6300 of 30386) |###                | Elapsed Time: 2:45:39 ETA:   8:18:16"
     ]
    },
    {
     "name": "stdout",
     "output_type": "stream",
     "text": [
      "\t Enregistrement intermédiaire effectué\n"
     ]
    },
    {
     "name": "stderr",
     "output_type": "stream",
     "text": [
      " 21% (6400 of 30386) |####               | Elapsed Time: 2:48:25 ETA:  10:47:34"
     ]
    },
    {
     "name": "stdout",
     "output_type": "stream",
     "text": [
      "\t Enregistrement intermédiaire effectué\n"
     ]
    },
    {
     "name": "stderr",
     "output_type": "stream",
     "text": [
      " 21% (6500 of 30386) |####               | Elapsed Time: 2:51:04 ETA:  13:37:23"
     ]
    },
    {
     "name": "stdout",
     "output_type": "stream",
     "text": [
      "\t Enregistrement intermédiaire effectué\n"
     ]
    },
    {
     "name": "stderr",
     "output_type": "stream",
     "text": [
      " 21% (6600 of 30386) |####               | Elapsed Time: 2:53:50 ETA:  13:28:52"
     ]
    },
    {
     "name": "stdout",
     "output_type": "stream",
     "text": [
      "\t Enregistrement intermédiaire effectué\n"
     ]
    },
    {
     "name": "stderr",
     "output_type": "stream",
     "text": [
      " 22% (6700 of 30386) |####               | Elapsed Time: 2:56:36 ETA:   9:54:20"
     ]
    },
    {
     "name": "stdout",
     "output_type": "stream",
     "text": [
      "\t Enregistrement intermédiaire effectué\n"
     ]
    },
    {
     "name": "stderr",
     "output_type": "stream",
     "text": [
      " 22% (6800 of 30386) |####               | Elapsed Time: 2:59:12 ETA:   7:28:38"
     ]
    },
    {
     "name": "stdout",
     "output_type": "stream",
     "text": [
      "\t Enregistrement intermédiaire effectué\n"
     ]
    },
    {
     "name": "stderr",
     "output_type": "stream",
     "text": [
      " 22% (6900 of 30386) |####               | Elapsed Time: 3:01:46 ETA:   9:36:50"
     ]
    },
    {
     "name": "stdout",
     "output_type": "stream",
     "text": [
      "\t Enregistrement intermédiaire effectué\n"
     ]
    },
    {
     "name": "stderr",
     "output_type": "stream",
     "text": [
      " 23% (7000 of 30386) |####               | Elapsed Time: 3:04:21 ETA:  10:26:06"
     ]
    },
    {
     "name": "stdout",
     "output_type": "stream",
     "text": [
      "\t Enregistrement intermédiaire effectué\n"
     ]
    },
    {
     "name": "stderr",
     "output_type": "stream",
     "text": [
      " 23% (7100 of 30386) |####               | Elapsed Time: 3:07:10 ETA:  11:42:07"
     ]
    },
    {
     "name": "stdout",
     "output_type": "stream",
     "text": [
      "\t Enregistrement intermédiaire effectué\n"
     ]
    },
    {
     "name": "stderr",
     "output_type": "stream",
     "text": [
      " 23% (7200 of 30386) |####               | Elapsed Time: 3:10:06 ETA:   8:51:10"
     ]
    },
    {
     "name": "stdout",
     "output_type": "stream",
     "text": [
      "\t Enregistrement intermédiaire effectué\n"
     ]
    },
    {
     "name": "stderr",
     "output_type": "stream",
     "text": [
      " 24% (7300 of 30386) |####               | Elapsed Time: 3:12:48 ETA:  10:23:43"
     ]
    },
    {
     "name": "stdout",
     "output_type": "stream",
     "text": [
      "\t Enregistrement intermédiaire effectué\n"
     ]
    },
    {
     "name": "stderr",
     "output_type": "stream",
     "text": [
      " 24% (7400 of 30386) |####               | Elapsed Time: 3:15:31 ETA:  13:10:00"
     ]
    },
    {
     "name": "stdout",
     "output_type": "stream",
     "text": [
      "\t Enregistrement intermédiaire effectué\n"
     ]
    },
    {
     "name": "stderr",
     "output_type": "stream",
     "text": [
      " 24% (7500 of 30386) |####               | Elapsed Time: 3:18:03 ETA:  10:44:13"
     ]
    },
    {
     "name": "stdout",
     "output_type": "stream",
     "text": [
      "\t Enregistrement intermédiaire effectué\n"
     ]
    },
    {
     "name": "stderr",
     "output_type": "stream",
     "text": [
      " 25% (7600 of 30386) |####               | Elapsed Time: 3:20:59 ETA:   7:54:46"
     ]
    },
    {
     "name": "stdout",
     "output_type": "stream",
     "text": [
      "\t Enregistrement intermédiaire effectué\n"
     ]
    },
    {
     "name": "stderr",
     "output_type": "stream",
     "text": [
      " 25% (7700 of 30386) |####               | Elapsed Time: 3:23:34 ETA:   8:01:49"
     ]
    },
    {
     "name": "stdout",
     "output_type": "stream",
     "text": [
      "\t Enregistrement intermédiaire effectué\n"
     ]
    },
    {
     "name": "stderr",
     "output_type": "stream",
     "text": [
      " 25% (7800 of 30386) |####               | Elapsed Time: 3:26:16 ETA:   8:21:05"
     ]
    },
    {
     "name": "stdout",
     "output_type": "stream",
     "text": [
      "\t Enregistrement intermédiaire effectué\n"
     ]
    },
    {
     "name": "stderr",
     "output_type": "stream",
     "text": [
      " 25% (7900 of 30386) |####               | Elapsed Time: 3:28:48 ETA:   7:08:38"
     ]
    },
    {
     "name": "stdout",
     "output_type": "stream",
     "text": [
      "\t Enregistrement intermédiaire effectué\n"
     ]
    },
    {
     "name": "stderr",
     "output_type": "stream",
     "text": [
      " 26% (8000 of 30386) |#####              | Elapsed Time: 3:31:35 ETA:   9:45:11"
     ]
    },
    {
     "name": "stdout",
     "output_type": "stream",
     "text": [
      "\t Enregistrement intermédiaire effectué\n"
     ]
    },
    {
     "name": "stderr",
     "output_type": "stream",
     "text": [
      " 26% (8100 of 30386) |#####              | Elapsed Time: 3:34:17 ETA:   9:50:07"
     ]
    },
    {
     "name": "stdout",
     "output_type": "stream",
     "text": [
      "\t Enregistrement intermédiaire effectué\n"
     ]
    },
    {
     "name": "stderr",
     "output_type": "stream",
     "text": [
      " 26% (8200 of 30386) |#####              | Elapsed Time: 3:36:52 ETA:  13:10:38"
     ]
    },
    {
     "name": "stdout",
     "output_type": "stream",
     "text": [
      "\t Enregistrement intermédiaire effectué\n"
     ]
    },
    {
     "name": "stderr",
     "output_type": "stream",
     "text": [
      " 27% (8300 of 30386) |#####              | Elapsed Time: 3:39:36 ETA:   9:51:25"
     ]
    },
    {
     "name": "stdout",
     "output_type": "stream",
     "text": [
      "\t Enregistrement intermédiaire effectué\n"
     ]
    },
    {
     "name": "stderr",
     "output_type": "stream",
     "text": [
      " 27% (8400 of 30386) |#####              | Elapsed Time: 3:42:13 ETA:  10:18:25"
     ]
    },
    {
     "name": "stdout",
     "output_type": "stream",
     "text": [
      "\t Enregistrement intermédiaire effectué\n"
     ]
    },
    {
     "name": "stderr",
     "output_type": "stream",
     "text": [
      " 27% (8500 of 30386) |#####              | Elapsed Time: 3:44:52 ETA:   9:43:17"
     ]
    },
    {
     "name": "stdout",
     "output_type": "stream",
     "text": [
      "\t Enregistrement intermédiaire effectué\n"
     ]
    },
    {
     "name": "stderr",
     "output_type": "stream",
     "text": [
      " 28% (8600 of 30386) |#####              | Elapsed Time: 3:47:43 ETA:   9:12:03"
     ]
    },
    {
     "name": "stdout",
     "output_type": "stream",
     "text": [
      "\t Enregistrement intermédiaire effectué\n"
     ]
    },
    {
     "name": "stderr",
     "output_type": "stream",
     "text": [
      " 28% (8700 of 30386) |#####              | Elapsed Time: 3:50:22 ETA:   6:57:15"
     ]
    },
    {
     "name": "stdout",
     "output_type": "stream",
     "text": [
      "\t Enregistrement intermédiaire effectué\n"
     ]
    },
    {
     "name": "stderr",
     "output_type": "stream",
     "text": [
      " 28% (8800 of 30386) |#####              | Elapsed Time: 3:53:10 ETA:   8:11:57"
     ]
    },
    {
     "name": "stdout",
     "output_type": "stream",
     "text": [
      "\t Enregistrement intermédiaire effectué\n"
     ]
    },
    {
     "name": "stderr",
     "output_type": "stream",
     "text": [
      " 29% (8900 of 30386) |#####              | Elapsed Time: 3:55:53 ETA:   8:15:09"
     ]
    },
    {
     "name": "stdout",
     "output_type": "stream",
     "text": [
      "\t Enregistrement intermédiaire effectué\n"
     ]
    },
    {
     "name": "stderr",
     "output_type": "stream",
     "text": [
      " 29% (9000 of 30386) |#####              | Elapsed Time: 3:58:41 ETA:  14:26:49"
     ]
    },
    {
     "name": "stdout",
     "output_type": "stream",
     "text": [
      "\t Enregistrement intermédiaire effectué\n"
     ]
    },
    {
     "name": "stderr",
     "output_type": "stream",
     "text": [
      " 29% (9100 of 30386) |#####              | Elapsed Time: 4:01:19 ETA:   8:46:56"
     ]
    },
    {
     "name": "stdout",
     "output_type": "stream",
     "text": [
      "\t Enregistrement intermédiaire effectué\n"
     ]
    },
    {
     "name": "stderr",
     "output_type": "stream",
     "text": [
      " 30% (9200 of 30386) |#####              | Elapsed Time: 4:04:02 ETA:  11:00:22"
     ]
    },
    {
     "name": "stdout",
     "output_type": "stream",
     "text": [
      "\t Enregistrement intermédiaire effectué\n"
     ]
    },
    {
     "name": "stderr",
     "output_type": "stream",
     "text": [
      " 30% (9300 of 30386) |#####              | Elapsed Time: 4:06:39 ETA:  14:23:37"
     ]
    },
    {
     "name": "stdout",
     "output_type": "stream",
     "text": [
      "\t Enregistrement intermédiaire effectué\n"
     ]
    },
    {
     "name": "stderr",
     "output_type": "stream",
     "text": [
      " 30% (9400 of 30386) |#####              | Elapsed Time: 4:09:16 ETA:   9:14:26"
     ]
    },
    {
     "name": "stdout",
     "output_type": "stream",
     "text": [
      "\t Enregistrement intermédiaire effectué\n"
     ]
    },
    {
     "name": "stderr",
     "output_type": "stream",
     "text": [
      " 31% (9500 of 30386) |#####              | Elapsed Time: 4:11:56 ETA:   9:33:23"
     ]
    },
    {
     "name": "stdout",
     "output_type": "stream",
     "text": [
      "\t Enregistrement intermédiaire effectué\n"
     ]
    },
    {
     "name": "stderr",
     "output_type": "stream",
     "text": [
      " 31% (9600 of 30386) |######             | Elapsed Time: 4:14:31 ETA:   7:11:35"
     ]
    },
    {
     "name": "stdout",
     "output_type": "stream",
     "text": [
      "\t Enregistrement intermédiaire effectué\n"
     ]
    },
    {
     "name": "stderr",
     "output_type": "stream",
     "text": [
      " 31% (9700 of 30386) |######             | Elapsed Time: 4:17:18 ETA:  12:56:50"
     ]
    },
    {
     "name": "stdout",
     "output_type": "stream",
     "text": [
      "\t Enregistrement intermédiaire effectué\n"
     ]
    },
    {
     "name": "stderr",
     "output_type": "stream",
     "text": [
      " 32% (9800 of 30386) |######             | Elapsed Time: 4:19:57 ETA:   7:48:56"
     ]
    },
    {
     "name": "stdout",
     "output_type": "stream",
     "text": [
      "\t Enregistrement intermédiaire effectué\n"
     ]
    },
    {
     "name": "stderr",
     "output_type": "stream",
     "text": [
      " 32% (9900 of 30386) |######             | Elapsed Time: 4:22:36 ETA:   7:41:47"
     ]
    },
    {
     "name": "stdout",
     "output_type": "stream",
     "text": [
      "\t Enregistrement intermédiaire effectué\n"
     ]
    },
    {
     "name": "stderr",
     "output_type": "stream",
     "text": [
      " 32% (10000 of 30386) |#####             | Elapsed Time: 4:25:21 ETA:  10:24:36"
     ]
    },
    {
     "name": "stdout",
     "output_type": "stream",
     "text": [
      "\t Enregistrement intermédiaire effectué\n"
     ]
    },
    {
     "name": "stderr",
     "output_type": "stream",
     "text": [
      " 33% (10100 of 30386) |#####             | Elapsed Time: 4:28:05 ETA:  10:53:47"
     ]
    },
    {
     "name": "stdout",
     "output_type": "stream",
     "text": [
      "\t Enregistrement intermédiaire effectué\n"
     ]
    },
    {
     "name": "stderr",
     "output_type": "stream",
     "text": [
      " 33% (10200 of 30386) |######            | Elapsed Time: 4:30:54 ETA:  13:23:56"
     ]
    },
    {
     "name": "stdout",
     "output_type": "stream",
     "text": [
      "\t Enregistrement intermédiaire effectué\n"
     ]
    },
    {
     "name": "stderr",
     "output_type": "stream",
     "text": [
      " 33% (10300 of 30386) |######            | Elapsed Time: 4:33:37 ETA:  11:56:47"
     ]
    },
    {
     "name": "stdout",
     "output_type": "stream",
     "text": [
      "\t Enregistrement intermédiaire effectué\n"
     ]
    },
    {
     "name": "stderr",
     "output_type": "stream",
     "text": [
      " 34% (10400 of 30386) |######            | Elapsed Time: 4:36:25 ETA:  12:01:21"
     ]
    },
    {
     "name": "stdout",
     "output_type": "stream",
     "text": [
      "\t Enregistrement intermédiaire effectué\n"
     ]
    },
    {
     "name": "stderr",
     "output_type": "stream",
     "text": [
      " 34% (10500 of 30386) |######            | Elapsed Time: 4:39:07 ETA:  11:46:36"
     ]
    },
    {
     "name": "stdout",
     "output_type": "stream",
     "text": [
      "\t Enregistrement intermédiaire effectué\n"
     ]
    },
    {
     "name": "stderr",
     "output_type": "stream",
     "text": [
      " 34% (10600 of 30386) |######            | Elapsed Time: 4:41:44 ETA:   6:32:48"
     ]
    },
    {
     "name": "stdout",
     "output_type": "stream",
     "text": [
      "\t Enregistrement intermédiaire effectué\n"
     ]
    },
    {
     "name": "stderr",
     "output_type": "stream",
     "text": [
      " 35% (10700 of 30386) |######            | Elapsed Time: 4:44:30 ETA:   8:42:40"
     ]
    },
    {
     "name": "stdout",
     "output_type": "stream",
     "text": [
      "\t Enregistrement intermédiaire effectué\n"
     ]
    },
    {
     "name": "stderr",
     "output_type": "stream",
     "text": [
      " 35% (10800 of 30386) |######            | Elapsed Time: 4:47:15 ETA:  12:02:50"
     ]
    },
    {
     "name": "stdout",
     "output_type": "stream",
     "text": [
      "\t Enregistrement intermédiaire effectué\n"
     ]
    },
    {
     "name": "stderr",
     "output_type": "stream",
     "text": [
      " 35% (10900 of 30386) |######            | Elapsed Time: 4:49:59 ETA:   8:28:04"
     ]
    },
    {
     "name": "stdout",
     "output_type": "stream",
     "text": [
      "\t Enregistrement intermédiaire effectué\n"
     ]
    },
    {
     "name": "stderr",
     "output_type": "stream",
     "text": [
      " 36% (11000 of 30386) |######            | Elapsed Time: 4:52:57 ETA:   9:26:53"
     ]
    },
    {
     "name": "stdout",
     "output_type": "stream",
     "text": [
      "\t Enregistrement intermédiaire effectué\n"
     ]
    },
    {
     "name": "stderr",
     "output_type": "stream",
     "text": [
      " 36% (11100 of 30386) |######            | Elapsed Time: 4:55:51 ETA:   9:27:37"
     ]
    },
    {
     "name": "stdout",
     "output_type": "stream",
     "text": [
      "\t Enregistrement intermédiaire effectué\n"
     ]
    },
    {
     "name": "stderr",
     "output_type": "stream",
     "text": [
      " 36% (11200 of 30386) |######            | Elapsed Time: 4:58:31 ETA:   7:55:25"
     ]
    },
    {
     "name": "stdout",
     "output_type": "stream",
     "text": [
      "\t Enregistrement intermédiaire effectué\n"
     ]
    },
    {
     "name": "stderr",
     "output_type": "stream",
     "text": [
      " 37% (11300 of 30386) |######            | Elapsed Time: 5:01:05 ETA:   5:54:13"
     ]
    },
    {
     "name": "stdout",
     "output_type": "stream",
     "text": [
      "\t Enregistrement intermédiaire effectué\n"
     ]
    },
    {
     "name": "stderr",
     "output_type": "stream",
     "text": [
      " 37% (11400 of 30386) |######            | Elapsed Time: 5:03:46 ETA:   9:21:00"
     ]
    },
    {
     "name": "stdout",
     "output_type": "stream",
     "text": [
      "\t Enregistrement intermédiaire effectué\n"
     ]
    },
    {
     "name": "stderr",
     "output_type": "stream",
     "text": [
      " 37% (11500 of 30386) |######            | Elapsed Time: 5:06:30 ETA:   7:03:30"
     ]
    },
    {
     "name": "stdout",
     "output_type": "stream",
     "text": [
      "\t Enregistrement intermédiaire effectué\n"
     ]
    },
    {
     "name": "stderr",
     "output_type": "stream",
     "text": [
      " 38% (11600 of 30386) |######            | Elapsed Time: 5:09:30 ETA:   8:26:41"
     ]
    },
    {
     "name": "stdout",
     "output_type": "stream",
     "text": [
      "\t Enregistrement intermédiaire effectué\n"
     ]
    },
    {
     "name": "stderr",
     "output_type": "stream",
     "text": [
      " 38% (11700 of 30386) |######            | Elapsed Time: 5:12:25 ETA:   6:52:03"
     ]
    },
    {
     "name": "stdout",
     "output_type": "stream",
     "text": [
      "\t Enregistrement intermédiaire effectué\n"
     ]
    },
    {
     "name": "stderr",
     "output_type": "stream",
     "text": [
      " 38% (11800 of 30386) |######            | Elapsed Time: 5:15:17 ETA:   7:15:44"
     ]
    },
    {
     "name": "stdout",
     "output_type": "stream",
     "text": [
      "\t Enregistrement intermédiaire effectué\n"
     ]
    },
    {
     "name": "stderr",
     "output_type": "stream",
     "text": [
      " 39% (11900 of 30386) |#######           | Elapsed Time: 5:17:50 ETA:  11:59:44"
     ]
    },
    {
     "name": "stdout",
     "output_type": "stream",
     "text": [
      "\t Enregistrement intermédiaire effectué\n"
     ]
    },
    {
     "name": "stderr",
     "output_type": "stream",
     "text": [
      " 39% (12000 of 30386) |#######           | Elapsed Time: 5:20:42 ETA:   8:06:08"
     ]
    },
    {
     "name": "stdout",
     "output_type": "stream",
     "text": [
      "\t Enregistrement intermédiaire effectué\n"
     ]
    },
    {
     "name": "stderr",
     "output_type": "stream",
     "text": [
      " 39% (12100 of 30386) |#######           | Elapsed Time: 5:23:27 ETA:   6:04:05"
     ]
    },
    {
     "name": "stdout",
     "output_type": "stream",
     "text": [
      "\t Enregistrement intermédiaire effectué\n"
     ]
    },
    {
     "name": "stderr",
     "output_type": "stream",
     "text": [
      " 40% (12200 of 30386) |#######           | Elapsed Time: 5:26:12 ETA:   7:19:03"
     ]
    },
    {
     "name": "stdout",
     "output_type": "stream",
     "text": [
      "\t Enregistrement intermédiaire effectué\n"
     ]
    },
    {
     "name": "stderr",
     "output_type": "stream",
     "text": [
      " 40% (12300 of 30386) |#######           | Elapsed Time: 5:29:00 ETA:   7:58:53"
     ]
    },
    {
     "name": "stdout",
     "output_type": "stream",
     "text": [
      "\t Enregistrement intermédiaire effectué\n"
     ]
    },
    {
     "name": "stderr",
     "output_type": "stream",
     "text": [
      " 40% (12400 of 30386) |#######           | Elapsed Time: 5:31:47 ETA:  15:01:06"
     ]
    },
    {
     "name": "stdout",
     "output_type": "stream",
     "text": [
      "\t Enregistrement intermédiaire effectué\n"
     ]
    },
    {
     "name": "stderr",
     "output_type": "stream",
     "text": [
      " 41% (12500 of 30386) |#######           | Elapsed Time: 5:34:30 ETA:  10:22:38"
     ]
    },
    {
     "name": "stdout",
     "output_type": "stream",
     "text": [
      "\t Enregistrement intermédiaire effectué\n"
     ]
    },
    {
     "name": "stderr",
     "output_type": "stream",
     "text": [
      " 41% (12600 of 30386) |#######           | Elapsed Time: 5:37:30 ETA:   7:20:53"
     ]
    },
    {
     "name": "stdout",
     "output_type": "stream",
     "text": [
      "\t Enregistrement intermédiaire effectué\n"
     ]
    },
    {
     "name": "stderr",
     "output_type": "stream",
     "text": [
      " 41% (12700 of 30386) |#######           | Elapsed Time: 5:40:10 ETA:   7:19:12"
     ]
    },
    {
     "name": "stdout",
     "output_type": "stream",
     "text": [
      "\t Enregistrement intermédiaire effectué\n"
     ]
    },
    {
     "name": "stderr",
     "output_type": "stream",
     "text": [
      " 42% (12800 of 30386) |#######           | Elapsed Time: 5:42:51 ETA:   6:27:05"
     ]
    },
    {
     "name": "stdout",
     "output_type": "stream",
     "text": [
      "\t Enregistrement intermédiaire effectué\n"
     ]
    },
    {
     "name": "stderr",
     "output_type": "stream",
     "text": [
      " 42% (12900 of 30386) |#######           | Elapsed Time: 5:45:51 ETA:   7:35:29"
     ]
    },
    {
     "name": "stdout",
     "output_type": "stream",
     "text": [
      "\t Enregistrement intermédiaire effectué\n"
     ]
    },
    {
     "name": "stderr",
     "output_type": "stream",
     "text": [
      " 42% (13000 of 30386) |#######           | Elapsed Time: 5:48:31 ETA:   9:52:32"
     ]
    },
    {
     "name": "stdout",
     "output_type": "stream",
     "text": [
      "\t Enregistrement intermédiaire effectué\n"
     ]
    },
    {
     "name": "stderr",
     "output_type": "stream",
     "text": [
      " 43% (13100 of 30386) |#######           | Elapsed Time: 5:51:15 ETA:   8:02:25"
     ]
    },
    {
     "name": "stdout",
     "output_type": "stream",
     "text": [
      "\t Enregistrement intermédiaire effectué\n"
     ]
    },
    {
     "name": "stderr",
     "output_type": "stream",
     "text": [
      " 43% (13200 of 30386) |#######           | Elapsed Time: 5:54:06 ETA:  14:00:23"
     ]
    },
    {
     "name": "stdout",
     "output_type": "stream",
     "text": [
      "\t Enregistrement intermédiaire effectué\n"
     ]
    },
    {
     "name": "stderr",
     "output_type": "stream",
     "text": [
      " 43% (13300 of 30386) |#######           | Elapsed Time: 5:56:49 ETA:   6:34:44"
     ]
    },
    {
     "name": "stdout",
     "output_type": "stream",
     "text": [
      "\t Enregistrement intermédiaire effectué\n"
     ]
    },
    {
     "name": "stderr",
     "output_type": "stream",
     "text": [
      " 44% (13400 of 30386) |#######           | Elapsed Time: 5:59:41 ETA:   7:35:15"
     ]
    },
    {
     "name": "stdout",
     "output_type": "stream",
     "text": [
      "\t Enregistrement intermédiaire effectué\n"
     ]
    },
    {
     "name": "stderr",
     "output_type": "stream",
     "text": [
      " 44% (13500 of 30386) |#######           | Elapsed Time: 6:02:32 ETA:   6:06:37"
     ]
    },
    {
     "name": "stdout",
     "output_type": "stream",
     "text": [
      "\t Enregistrement intermédiaire effectué\n"
     ]
    },
    {
     "name": "stderr",
     "output_type": "stream",
     "text": [
      " 44% (13600 of 30386) |########          | Elapsed Time: 6:05:15 ETA:   8:21:44"
     ]
    },
    {
     "name": "stdout",
     "output_type": "stream",
     "text": [
      "\t Enregistrement intermédiaire effectué\n"
     ]
    },
    {
     "name": "stderr",
     "output_type": "stream",
     "text": [
      " 45% (13700 of 30386) |########          | Elapsed Time: 6:08:11 ETA:   9:57:02"
     ]
    },
    {
     "name": "stdout",
     "output_type": "stream",
     "text": [
      "\t Enregistrement intermédiaire effectué\n"
     ]
    },
    {
     "name": "stderr",
     "output_type": "stream",
     "text": [
      " 45% (13800 of 30386) |########          | Elapsed Time: 6:11:16 ETA:   9:32:26"
     ]
    },
    {
     "name": "stdout",
     "output_type": "stream",
     "text": [
      "\t Enregistrement intermédiaire effectué\n"
     ]
    },
    {
     "name": "stderr",
     "output_type": "stream",
     "text": [
      " 45% (13900 of 30386) |########          | Elapsed Time: 6:14:02 ETA:   9:59:50"
     ]
    },
    {
     "name": "stdout",
     "output_type": "stream",
     "text": [
      "\t Enregistrement intermédiaire effectué\n"
     ]
    },
    {
     "name": "stderr",
     "output_type": "stream",
     "text": [
      " 46% (14000 of 30386) |########          | Elapsed Time: 6:16:42 ETA:   7:29:50"
     ]
    },
    {
     "name": "stdout",
     "output_type": "stream",
     "text": [
      "\t Enregistrement intermédiaire effectué\n"
     ]
    },
    {
     "name": "stderr",
     "output_type": "stream",
     "text": [
      " 46% (14100 of 30386) |########          | Elapsed Time: 6:19:31 ETA:   7:00:56"
     ]
    },
    {
     "name": "stdout",
     "output_type": "stream",
     "text": [
      "\t Enregistrement intermédiaire effectué\n"
     ]
    },
    {
     "name": "stderr",
     "output_type": "stream",
     "text": [
      " 46% (14200 of 30386) |########          | Elapsed Time: 6:22:12 ETA:   5:15:57"
     ]
    },
    {
     "name": "stdout",
     "output_type": "stream",
     "text": [
      "\t Enregistrement intermédiaire effectué\n"
     ]
    },
    {
     "name": "stderr",
     "output_type": "stream",
     "text": [
      " 47% (14300 of 30386) |########          | Elapsed Time: 6:25:03 ETA:   6:38:33"
     ]
    },
    {
     "name": "stdout",
     "output_type": "stream",
     "text": [
      "\t Enregistrement intermédiaire effectué\n"
     ]
    },
    {
     "name": "stderr",
     "output_type": "stream",
     "text": [
      " 47% (14400 of 30386) |########          | Elapsed Time: 6:27:58 ETA:  10:45:00"
     ]
    },
    {
     "name": "stdout",
     "output_type": "stream",
     "text": [
      "\t Enregistrement intermédiaire effectué\n"
     ]
    },
    {
     "name": "stderr",
     "output_type": "stream",
     "text": [
      " 47% (14500 of 30386) |########          | Elapsed Time: 6:30:49 ETA:   8:41:20"
     ]
    },
    {
     "name": "stdout",
     "output_type": "stream",
     "text": [
      "\t Enregistrement intermédiaire effectué\n"
     ]
    },
    {
     "name": "stderr",
     "output_type": "stream",
     "text": [
      " 48% (14600 of 30386) |########          | Elapsed Time: 6:33:39 ETA:   7:43:52"
     ]
    },
    {
     "name": "stdout",
     "output_type": "stream",
     "text": [
      "\t Enregistrement intermédiaire effectué\n"
     ]
    },
    {
     "name": "stderr",
     "output_type": "stream",
     "text": [
      " 48% (14700 of 30386) |########          | Elapsed Time: 6:36:32 ETA:   6:46:20"
     ]
    },
    {
     "name": "stdout",
     "output_type": "stream",
     "text": [
      "\t Enregistrement intermédiaire effectué\n"
     ]
    },
    {
     "name": "stderr",
     "output_type": "stream",
     "text": [
      " 48% (14800 of 30386) |########          | Elapsed Time: 6:39:24 ETA:   9:09:15"
     ]
    },
    {
     "name": "stdout",
     "output_type": "stream",
     "text": [
      "\t Enregistrement intermédiaire effectué\n"
     ]
    },
    {
     "name": "stderr",
     "output_type": "stream",
     "text": [
      " 49% (14900 of 30386) |########          | Elapsed Time: 6:42:12 ETA:   5:49:54"
     ]
    },
    {
     "name": "stdout",
     "output_type": "stream",
     "text": [
      "\t Enregistrement intermédiaire effectué\n"
     ]
    },
    {
     "name": "stderr",
     "output_type": "stream",
     "text": [
      " 49% (15000 of 30386) |########          | Elapsed Time: 6:45:05 ETA:   9:10:52"
     ]
    },
    {
     "name": "stdout",
     "output_type": "stream",
     "text": [
      "\t Enregistrement intermédiaire effectué\n"
     ]
    },
    {
     "name": "stderr",
     "output_type": "stream",
     "text": [
      " 49% (15100 of 30386) |########          | Elapsed Time: 6:47:52 ETA:   7:41:28"
     ]
    },
    {
     "name": "stdout",
     "output_type": "stream",
     "text": [
      "\t Enregistrement intermédiaire effectué\n"
     ]
    },
    {
     "name": "stderr",
     "output_type": "stream",
     "text": [
      " 50% (15200 of 30386) |#########         | Elapsed Time: 6:51:12 ETA:   7:09:55"
     ]
    },
    {
     "name": "stdout",
     "output_type": "stream",
     "text": [
      "\t Enregistrement intermédiaire effectué\n"
     ]
    },
    {
     "name": "stderr",
     "output_type": "stream",
     "text": [
      " 50% (15300 of 30386) |#########         | Elapsed Time: 6:54:15 ETA:   6:15:00"
     ]
    },
    {
     "name": "stdout",
     "output_type": "stream",
     "text": [
      "\t Enregistrement intermédiaire effectué\n"
     ]
    },
    {
     "name": "stderr",
     "output_type": "stream",
     "text": [
      " 50% (15400 of 30386) |#########         | Elapsed Time: 6:57:00 ETA:   5:13:54"
     ]
    },
    {
     "name": "stdout",
     "output_type": "stream",
     "text": [
      "\t Enregistrement intermédiaire effectué\n"
     ]
    },
    {
     "name": "stderr",
     "output_type": "stream",
     "text": [
      " 51% (15500 of 30386) |#########         | Elapsed Time: 6:59:51 ETA:   5:35:21"
     ]
    },
    {
     "name": "stdout",
     "output_type": "stream",
     "text": [
      "\t Enregistrement intermédiaire effectué\n"
     ]
    },
    {
     "name": "stderr",
     "output_type": "stream",
     "text": [
      " 51% (15600 of 30386) |#########         | Elapsed Time: 7:02:38 ETA:   6:24:28"
     ]
    },
    {
     "name": "stdout",
     "output_type": "stream",
     "text": [
      "\t Enregistrement intermédiaire effectué\n"
     ]
    },
    {
     "name": "stderr",
     "output_type": "stream",
     "text": [
      " 51% (15700 of 30386) |#########         | Elapsed Time: 7:05:30 ETA:   7:23:58"
     ]
    },
    {
     "name": "stdout",
     "output_type": "stream",
     "text": [
      "\t Enregistrement intermédiaire effectué\n"
     ]
    },
    {
     "name": "stderr",
     "output_type": "stream",
     "text": [
      " 51% (15800 of 30386) |#########         | Elapsed Time: 7:08:13 ETA:   9:23:49"
     ]
    },
    {
     "name": "stdout",
     "output_type": "stream",
     "text": [
      "\t Enregistrement intermédiaire effectué\n"
     ]
    },
    {
     "name": "stderr",
     "output_type": "stream",
     "text": [
      " 52% (15900 of 30386) |#########         | Elapsed Time: 7:10:55 ETA:   7:41:27"
     ]
    },
    {
     "name": "stdout",
     "output_type": "stream",
     "text": [
      "\t Enregistrement intermédiaire effectué\n"
     ]
    },
    {
     "name": "stderr",
     "output_type": "stream",
     "text": [
      " 52% (16000 of 30386) |#########         | Elapsed Time: 7:13:44 ETA:   6:15:02"
     ]
    },
    {
     "name": "stdout",
     "output_type": "stream",
     "text": [
      "\t Enregistrement intermédiaire effectué\n"
     ]
    },
    {
     "name": "stderr",
     "output_type": "stream",
     "text": [
      " 52% (16100 of 30386) |#########         | Elapsed Time: 7:16:34 ETA:   6:43:11"
     ]
    },
    {
     "name": "stdout",
     "output_type": "stream",
     "text": [
      "\t Enregistrement intermédiaire effectué\n"
     ]
    },
    {
     "name": "stderr",
     "output_type": "stream",
     "text": [
      " 53% (16200 of 30386) |#########         | Elapsed Time: 7:19:23 ETA:   4:34:08"
     ]
    },
    {
     "name": "stdout",
     "output_type": "stream",
     "text": [
      "\t Enregistrement intermédiaire effectué\n"
     ]
    },
    {
     "name": "stderr",
     "output_type": "stream",
     "text": [
      " 53% (16300 of 30386) |#########         | Elapsed Time: 7:22:03 ETA:   6:34:37"
     ]
    },
    {
     "name": "stdout",
     "output_type": "stream",
     "text": [
      "\t Enregistrement intermédiaire effectué\n"
     ]
    },
    {
     "name": "stderr",
     "output_type": "stream",
     "text": [
      " 53% (16400 of 30386) |#########         | Elapsed Time: 7:24:46 ETA:   6:04:46"
     ]
    },
    {
     "name": "stdout",
     "output_type": "stream",
     "text": [
      "\t Enregistrement intermédiaire effectué\n"
     ]
    },
    {
     "name": "stderr",
     "output_type": "stream",
     "text": [
      " 54% (16500 of 30386) |#########         | Elapsed Time: 7:27:31 ETA:   6:22:16"
     ]
    },
    {
     "name": "stdout",
     "output_type": "stream",
     "text": [
      "\t Enregistrement intermédiaire effectué\n"
     ]
    },
    {
     "name": "stderr",
     "output_type": "stream",
     "text": [
      " 54% (16600 of 30386) |#########         | Elapsed Time: 7:30:18 ETA:   7:50:10"
     ]
    },
    {
     "name": "stdout",
     "output_type": "stream",
     "text": [
      "\t Enregistrement intermédiaire effectué\n"
     ]
    },
    {
     "name": "stderr",
     "output_type": "stream",
     "text": [
      " 54% (16700 of 30386) |#########         | Elapsed Time: 7:32:54 ETA:   6:14:11"
     ]
    },
    {
     "name": "stdout",
     "output_type": "stream",
     "text": [
      "\t Enregistrement intermédiaire effectué\n"
     ]
    },
    {
     "name": "stderr",
     "output_type": "stream",
     "text": [
      " 55% (16800 of 30386) |#########         | Elapsed Time: 7:35:45 ETA:   7:15:44"
     ]
    },
    {
     "name": "stdout",
     "output_type": "stream",
     "text": [
      "\t Enregistrement intermédiaire effectué\n"
     ]
    },
    {
     "name": "stderr",
     "output_type": "stream",
     "text": [
      " 55% (16900 of 30386) |##########        | Elapsed Time: 7:38:26 ETA:   5:41:12"
     ]
    },
    {
     "name": "stdout",
     "output_type": "stream",
     "text": [
      "\t Enregistrement intermédiaire effectué\n"
     ]
    },
    {
     "name": "stderr",
     "output_type": "stream",
     "text": [
      " 55% (17000 of 30386) |##########        | Elapsed Time: 7:41:28 ETA:   4:37:43"
     ]
    },
    {
     "name": "stdout",
     "output_type": "stream",
     "text": [
      "\t Enregistrement intermédiaire effectué\n"
     ]
    },
    {
     "name": "stderr",
     "output_type": "stream",
     "text": [
      " 56% (17100 of 30386) |##########        | Elapsed Time: 7:44:07 ETA:   5:10:52"
     ]
    },
    {
     "name": "stdout",
     "output_type": "stream",
     "text": [
      "\t Enregistrement intermédiaire effectué\n"
     ]
    },
    {
     "name": "stderr",
     "output_type": "stream",
     "text": [
      " 56% (17200 of 30386) |##########        | Elapsed Time: 7:46:49 ETA:   7:12:40"
     ]
    },
    {
     "name": "stdout",
     "output_type": "stream",
     "text": [
      "\t Enregistrement intermédiaire effectué\n"
     ]
    },
    {
     "name": "stderr",
     "output_type": "stream",
     "text": [
      " 56% (17300 of 30386) |##########        | Elapsed Time: 7:49:33 ETA:   5:48:38"
     ]
    },
    {
     "name": "stdout",
     "output_type": "stream",
     "text": [
      "\t Enregistrement intermédiaire effectué\n"
     ]
    },
    {
     "name": "stderr",
     "output_type": "stream",
     "text": [
      " 57% (17400 of 30386) |##########        | Elapsed Time: 7:52:16 ETA:   8:31:51"
     ]
    },
    {
     "name": "stdout",
     "output_type": "stream",
     "text": [
      "\t Enregistrement intermédiaire effectué\n"
     ]
    },
    {
     "name": "stderr",
     "output_type": "stream",
     "text": [
      " 57% (17500 of 30386) |##########        | Elapsed Time: 7:55:02 ETA:   5:26:02"
     ]
    },
    {
     "name": "stdout",
     "output_type": "stream",
     "text": [
      "\t Enregistrement intermédiaire effectué\n"
     ]
    },
    {
     "name": "stderr",
     "output_type": "stream",
     "text": [
      " 57% (17600 of 30386) |##########        | Elapsed Time: 7:57:48 ETA:   5:28:48"
     ]
    },
    {
     "name": "stdout",
     "output_type": "stream",
     "text": [
      "\t Enregistrement intermédiaire effectué\n"
     ]
    },
    {
     "name": "stderr",
     "output_type": "stream",
     "text": [
      " 58% (17700 of 30386) |##########        | Elapsed Time: 8:00:37 ETA:   5:25:16"
     ]
    },
    {
     "name": "stdout",
     "output_type": "stream",
     "text": [
      "\t Enregistrement intermédiaire effectué\n"
     ]
    },
    {
     "name": "stderr",
     "output_type": "stream",
     "text": [
      " 58% (17800 of 30386) |##########        | Elapsed Time: 8:03:19 ETA:   4:39:11"
     ]
    },
    {
     "name": "stdout",
     "output_type": "stream",
     "text": [
      "\t Enregistrement intermédiaire effectué\n"
     ]
    },
    {
     "name": "stderr",
     "output_type": "stream",
     "text": [
      " 58% (17900 of 30386) |##########        | Elapsed Time: 8:07:12 ETA:   5:08:50"
     ]
    },
    {
     "name": "stdout",
     "output_type": "stream",
     "text": [
      "\t Enregistrement intermédiaire effectué\n"
     ]
    },
    {
     "name": "stderr",
     "output_type": "stream",
     "text": [
      " 59% (18000 of 30386) |##########        | Elapsed Time: 8:10:00 ETA:   4:57:22"
     ]
    },
    {
     "name": "stdout",
     "output_type": "stream",
     "text": [
      "\t Enregistrement intermédiaire effectué\n"
     ]
    },
    {
     "name": "stderr",
     "output_type": "stream",
     "text": [
      " 59% (18100 of 30386) |##########        | Elapsed Time: 8:13:03 ETA:   5:03:01"
     ]
    },
    {
     "name": "stdout",
     "output_type": "stream",
     "text": [
      "\t Enregistrement intermédiaire effectué\n"
     ]
    },
    {
     "name": "stderr",
     "output_type": "stream",
     "text": [
      " 59% (18200 of 30386) |##########        | Elapsed Time: 8:16:05 ETA:   4:40:24"
     ]
    },
    {
     "name": "stdout",
     "output_type": "stream",
     "text": [
      "\t Enregistrement intermédiaire effectué\n"
     ]
    },
    {
     "name": "stderr",
     "output_type": "stream",
     "text": [
      " 60% (18300 of 30386) |##########        | Elapsed Time: 8:19:03 ETA:   6:40:05"
     ]
    },
    {
     "name": "stdout",
     "output_type": "stream",
     "text": [
      "\t Enregistrement intermédiaire effectué\n"
     ]
    },
    {
     "name": "stderr",
     "output_type": "stream",
     "text": [
      " 60% (18400 of 30386) |##########        | Elapsed Time: 8:22:02 ETA:  11:54:23"
     ]
    },
    {
     "name": "stdout",
     "output_type": "stream",
     "text": [
      "\t Enregistrement intermédiaire effectué\n"
     ]
    },
    {
     "name": "stderr",
     "output_type": "stream",
     "text": [
      " 60% (18500 of 30386) |##########        | Elapsed Time: 8:24:48 ETA:   5:59:52"
     ]
    },
    {
     "name": "stdout",
     "output_type": "stream",
     "text": [
      "\t Enregistrement intermédiaire effectué\n"
     ]
    },
    {
     "name": "stderr",
     "output_type": "stream",
     "text": [
      " 61% (18600 of 30386) |###########       | Elapsed Time: 8:27:41 ETA:   4:45:41"
     ]
    },
    {
     "name": "stdout",
     "output_type": "stream",
     "text": [
      "\t Enregistrement intermédiaire effectué\n"
     ]
    },
    {
     "name": "stderr",
     "output_type": "stream",
     "text": [
      " 61% (18700 of 30386) |###########       | Elapsed Time: 8:30:22 ETA:   4:02:17"
     ]
    },
    {
     "name": "stdout",
     "output_type": "stream",
     "text": [
      "\t Enregistrement intermédiaire effectué\n"
     ]
    },
    {
     "name": "stderr",
     "output_type": "stream",
     "text": [
      " 61% (18800 of 30386) |###########       | Elapsed Time: 8:33:14 ETA:   5:35:10"
     ]
    },
    {
     "name": "stdout",
     "output_type": "stream",
     "text": [
      "\t Enregistrement intermédiaire effectué\n"
     ]
    },
    {
     "name": "stderr",
     "output_type": "stream",
     "text": [
      " 62% (18900 of 30386) |###########       | Elapsed Time: 8:35:55 ETA:   4:58:16"
     ]
    },
    {
     "name": "stdout",
     "output_type": "stream",
     "text": [
      "\t Enregistrement intermédiaire effectué\n"
     ]
    },
    {
     "name": "stderr",
     "output_type": "stream",
     "text": [
      " 62% (19000 of 30386) |###########       | Elapsed Time: 8:38:38 ETA:   8:47:11"
     ]
    },
    {
     "name": "stdout",
     "output_type": "stream",
     "text": [
      "\t Enregistrement intermédiaire effectué\n"
     ]
    },
    {
     "name": "stderr",
     "output_type": "stream",
     "text": [
      " 62% (19100 of 30386) |###########       | Elapsed Time: 8:41:29 ETA:   4:42:14"
     ]
    },
    {
     "name": "stdout",
     "output_type": "stream",
     "text": [
      "\t Enregistrement intermédiaire effectué\n"
     ]
    },
    {
     "name": "stderr",
     "output_type": "stream",
     "text": [
      " 63% (19200 of 30386) |###########       | Elapsed Time: 8:44:16 ETA:   6:42:28"
     ]
    },
    {
     "name": "stdout",
     "output_type": "stream",
     "text": [
      "\t Enregistrement intermédiaire effectué\n"
     ]
    },
    {
     "name": "stderr",
     "output_type": "stream",
     "text": [
      " 63% (19300 of 30386) |###########       | Elapsed Time: 8:47:13 ETA:   7:05:59"
     ]
    },
    {
     "name": "stdout",
     "output_type": "stream",
     "text": [
      "\t Enregistrement intermédiaire effectué\n"
     ]
    },
    {
     "name": "stderr",
     "output_type": "stream",
     "text": [
      " 63% (19400 of 30386) |###########       | Elapsed Time: 8:49:56 ETA:   5:32:20"
     ]
    },
    {
     "name": "stdout",
     "output_type": "stream",
     "text": [
      "\t Enregistrement intermédiaire effectué\n"
     ]
    },
    {
     "name": "stderr",
     "output_type": "stream",
     "text": [
      " 64% (19500 of 30386) |###########       | Elapsed Time: 8:52:50 ETA:   6:44:27"
     ]
    },
    {
     "name": "stdout",
     "output_type": "stream",
     "text": [
      "\t Enregistrement intermédiaire effectué\n"
     ]
    },
    {
     "name": "stderr",
     "output_type": "stream",
     "text": [
      " 64% (19600 of 30386) |###########       | Elapsed Time: 8:55:35 ETA:   3:40:42"
     ]
    },
    {
     "name": "stdout",
     "output_type": "stream",
     "text": [
      "\t Enregistrement intermédiaire effectué\n"
     ]
    },
    {
     "name": "stderr",
     "output_type": "stream",
     "text": [
      " 64% (19700 of 30386) |###########       | Elapsed Time: 8:58:18 ETA:   4:14:00"
     ]
    },
    {
     "name": "stdout",
     "output_type": "stream",
     "text": [
      "\t Enregistrement intermédiaire effectué\n"
     ]
    },
    {
     "name": "stderr",
     "output_type": "stream",
     "text": [
      " 65% (19800 of 30386) |###########       | Elapsed Time: 9:00:59 ETA:   5:23:07"
     ]
    },
    {
     "name": "stdout",
     "output_type": "stream",
     "text": [
      "\t Enregistrement intermédiaire effectué\n"
     ]
    },
    {
     "name": "stderr",
     "output_type": "stream",
     "text": [
      " 65% (19900 of 30386) |###########       | Elapsed Time: 9:03:54 ETA:   4:49:24"
     ]
    },
    {
     "name": "stdout",
     "output_type": "stream",
     "text": [
      "\t Enregistrement intermédiaire effectué\n"
     ]
    },
    {
     "name": "stderr",
     "output_type": "stream",
     "text": [
      " 65% (20000 of 30386) |###########       | Elapsed Time: 9:06:34 ETA:   4:10:46"
     ]
    },
    {
     "name": "stdout",
     "output_type": "stream",
     "text": [
      "\t Enregistrement intermédiaire effectué\n"
     ]
    },
    {
     "name": "stderr",
     "output_type": "stream",
     "text": [
      " 66% (20100 of 30386) |###########       | Elapsed Time: 9:09:19 ETA:   4:05:30"
     ]
    },
    {
     "name": "stdout",
     "output_type": "stream",
     "text": [
      "\t Enregistrement intermédiaire effectué\n"
     ]
    },
    {
     "name": "stderr",
     "output_type": "stream",
     "text": [
      " 66% (20200 of 30386) |###########       | Elapsed Time: 9:12:13 ETA:   5:08:24"
     ]
    },
    {
     "name": "stdout",
     "output_type": "stream",
     "text": [
      "\t Enregistrement intermédiaire effectué\n"
     ]
    },
    {
     "name": "stderr",
     "output_type": "stream",
     "text": [
      " 66% (20300 of 30386) |############      | Elapsed Time: 9:14:57 ETA:   3:09:07"
     ]
    },
    {
     "name": "stdout",
     "output_type": "stream",
     "text": [
      "\t Enregistrement intermédiaire effectué\n"
     ]
    },
    {
     "name": "stderr",
     "output_type": "stream",
     "text": [
      " 67% (20400 of 30386) |############      | Elapsed Time: 9:17:38 ETA:   3:30:34"
     ]
    },
    {
     "name": "stdout",
     "output_type": "stream",
     "text": [
      "\t Enregistrement intermédiaire effectué\n"
     ]
    },
    {
     "name": "stderr",
     "output_type": "stream",
     "text": [
      " 67% (20500 of 30386) |############      | Elapsed Time: 9:20:37 ETA:   5:38:07"
     ]
    },
    {
     "name": "stdout",
     "output_type": "stream",
     "text": [
      "\t Enregistrement intermédiaire effectué\n"
     ]
    },
    {
     "name": "stderr",
     "output_type": "stream",
     "text": [
      " 67% (20600 of 30386) |############      | Elapsed Time: 9:23:36 ETA:   5:27:42"
     ]
    },
    {
     "name": "stdout",
     "output_type": "stream",
     "text": [
      "\t Enregistrement intermédiaire effectué\n"
     ]
    },
    {
     "name": "stderr",
     "output_type": "stream",
     "text": [
      " 68% (20700 of 30386) |############      | Elapsed Time: 9:26:42 ETA:   3:41:37"
     ]
    },
    {
     "name": "stdout",
     "output_type": "stream",
     "text": [
      "\t Enregistrement intermédiaire effectué\n"
     ]
    },
    {
     "name": "stderr",
     "output_type": "stream",
     "text": [
      " 68% (20800 of 30386) |############      | Elapsed Time: 9:29:28 ETA:   4:06:10"
     ]
    },
    {
     "name": "stdout",
     "output_type": "stream",
     "text": [
      "\t Enregistrement intermédiaire effectué\n"
     ]
    },
    {
     "name": "stderr",
     "output_type": "stream",
     "text": [
      " 68% (20900 of 30386) |############      | Elapsed Time: 9:32:19 ETA:   3:19:38"
     ]
    },
    {
     "name": "stdout",
     "output_type": "stream",
     "text": [
      "\t Enregistrement intermédiaire effectué\n"
     ]
    },
    {
     "name": "stderr",
     "output_type": "stream",
     "text": [
      " 69% (21000 of 30386) |############      | Elapsed Time: 9:35:08 ETA:   3:15:12"
     ]
    },
    {
     "name": "stdout",
     "output_type": "stream",
     "text": [
      "\t Enregistrement intermédiaire effectué\n"
     ]
    },
    {
     "name": "stderr",
     "output_type": "stream",
     "text": [
      " 69% (21100 of 30386) |############      | Elapsed Time: 9:37:53 ETA:   3:30:05"
     ]
    },
    {
     "name": "stdout",
     "output_type": "stream",
     "text": [
      "\t Enregistrement intermédiaire effectué\n"
     ]
    },
    {
     "name": "stderr",
     "output_type": "stream",
     "text": [
      " 69% (21200 of 30386) |############      | Elapsed Time: 9:40:50 ETA:   3:38:18"
     ]
    },
    {
     "name": "stdout",
     "output_type": "stream",
     "text": [
      "\t Enregistrement intermédiaire effectué\n"
     ]
    },
    {
     "name": "stderr",
     "output_type": "stream",
     "text": [
      " 70% (21300 of 30386) |############      | Elapsed Time: 9:43:41 ETA:   5:37:18"
     ]
    },
    {
     "name": "stdout",
     "output_type": "stream",
     "text": [
      "\t Enregistrement intermédiaire effectué\n"
     ]
    },
    {
     "name": "stderr",
     "output_type": "stream",
     "text": [
      " 70% (21400 of 30386) |############      | Elapsed Time: 9:46:24 ETA:   3:41:50"
     ]
    },
    {
     "name": "stdout",
     "output_type": "stream",
     "text": [
      "\t Enregistrement intermédiaire effectué\n"
     ]
    },
    {
     "name": "stderr",
     "output_type": "stream",
     "text": [
      " 70% (21500 of 30386) |############      | Elapsed Time: 9:49:05 ETA:   5:22:56"
     ]
    },
    {
     "name": "stdout",
     "output_type": "stream",
     "text": [
      "\t Enregistrement intermédiaire effectué\n"
     ]
    },
    {
     "name": "stderr",
     "output_type": "stream",
     "text": [
      " 71% (21600 of 30386) |############      | Elapsed Time: 9:51:59 ETA:   4:10:41"
     ]
    },
    {
     "name": "stdout",
     "output_type": "stream",
     "text": [
      "\t Enregistrement intermédiaire effectué\n"
     ]
    },
    {
     "name": "stderr",
     "output_type": "stream",
     "text": [
      " 71% (21700 of 30386) |############      | Elapsed Time: 9:54:59 ETA:   3:23:45"
     ]
    },
    {
     "name": "stdout",
     "output_type": "stream",
     "text": [
      "\t Enregistrement intermédiaire effectué\n"
     ]
    },
    {
     "name": "stderr",
     "output_type": "stream",
     "text": [
      " 71% (21800 of 30386) |############      | Elapsed Time: 9:57:49 ETA:   2:50:59"
     ]
    },
    {
     "name": "stdout",
     "output_type": "stream",
     "text": [
      "\t Enregistrement intermédiaire effectué\n"
     ]
    },
    {
     "name": "stderr",
     "output_type": "stream",
     "text": [
      " 72% (21900 of 30386) |############     | Elapsed Time: 10:00:41 ETA:   3:06:41"
     ]
    },
    {
     "name": "stdout",
     "output_type": "stream",
     "text": [
      "\t Enregistrement intermédiaire effectué\n"
     ]
    },
    {
     "name": "stderr",
     "output_type": "stream",
     "text": [
      " 72% (22000 of 30386) |############     | Elapsed Time: 10:03:19 ETA:   2:33:48"
     ]
    },
    {
     "name": "stdout",
     "output_type": "stream",
     "text": [
      "\t Enregistrement intermédiaire effectué\n"
     ]
    },
    {
     "name": "stderr",
     "output_type": "stream",
     "text": [
      " 72% (22100 of 30386) |############     | Elapsed Time: 10:06:03 ETA:   3:26:07"
     ]
    },
    {
     "name": "stdout",
     "output_type": "stream",
     "text": [
      "\t Enregistrement intermédiaire effectué\n"
     ]
    },
    {
     "name": "stderr",
     "output_type": "stream",
     "text": [
      " 73% (22200 of 30386) |############     | Elapsed Time: 10:08:51 ETA:   2:58:17"
     ]
    },
    {
     "name": "stdout",
     "output_type": "stream",
     "text": [
      "\t Enregistrement intermédiaire effectué\n"
     ]
    },
    {
     "name": "stderr",
     "output_type": "stream",
     "text": [
      " 73% (22300 of 30386) |############     | Elapsed Time: 10:11:48 ETA:   3:02:29"
     ]
    },
    {
     "name": "stdout",
     "output_type": "stream",
     "text": [
      "\t Enregistrement intermédiaire effectué\n"
     ]
    },
    {
     "name": "stderr",
     "output_type": "stream",
     "text": [
      " 73% (22400 of 30386) |############     | Elapsed Time: 10:14:30 ETA:   2:55:02"
     ]
    },
    {
     "name": "stdout",
     "output_type": "stream",
     "text": [
      "\t Enregistrement intermédiaire effectué\n"
     ]
    },
    {
     "name": "stderr",
     "output_type": "stream",
     "text": [
      " 74% (22500 of 30386) |############     | Elapsed Time: 10:17:21 ETA:   3:40:41"
     ]
    },
    {
     "name": "stdout",
     "output_type": "stream",
     "text": [
      "\t Enregistrement intermédiaire effectué\n"
     ]
    },
    {
     "name": "stderr",
     "output_type": "stream",
     "text": [
      " 74% (22600 of 30386) |############     | Elapsed Time: 10:20:06 ETA:   3:30:03"
     ]
    },
    {
     "name": "stdout",
     "output_type": "stream",
     "text": [
      "\t Enregistrement intermédiaire effectué\n"
     ]
    },
    {
     "name": "stderr",
     "output_type": "stream",
     "text": [
      " 74% (22700 of 30386) |############     | Elapsed Time: 10:23:00 ETA:   2:40:02"
     ]
    },
    {
     "name": "stdout",
     "output_type": "stream",
     "text": [
      "\t Enregistrement intermédiaire effectué\n"
     ]
    },
    {
     "name": "stderr",
     "output_type": "stream",
     "text": [
      " 75% (22800 of 30386) |############     | Elapsed Time: 10:25:54 ETA:   3:36:44"
     ]
    },
    {
     "name": "stdout",
     "output_type": "stream",
     "text": [
      "\t Enregistrement intermédiaire effectué\n"
     ]
    },
    {
     "name": "stderr",
     "output_type": "stream",
     "text": [
      " 75% (22900 of 30386) |############     | Elapsed Time: 10:28:48 ETA:   2:59:01"
     ]
    },
    {
     "name": "stdout",
     "output_type": "stream",
     "text": [
      "\t Enregistrement intermédiaire effectué\n"
     ]
    },
    {
     "name": "stderr",
     "output_type": "stream",
     "text": [
      " 75% (23000 of 30386) |############     | Elapsed Time: 10:31:34 ETA:   2:55:39"
     ]
    },
    {
     "name": "stdout",
     "output_type": "stream",
     "text": [
      "\t Enregistrement intermédiaire effectué\n"
     ]
    },
    {
     "name": "stderr",
     "output_type": "stream",
     "text": [
      " 76% (23100 of 30386) |############     | Elapsed Time: 10:34:22 ETA:   3:50:00"
     ]
    },
    {
     "name": "stdout",
     "output_type": "stream",
     "text": [
      "\t Enregistrement intermédiaire effectué\n"
     ]
    },
    {
     "name": "stderr",
     "output_type": "stream",
     "text": [
      " 76% (23200 of 30386) |############     | Elapsed Time: 10:37:09 ETA:   6:04:19"
     ]
    },
    {
     "name": "stdout",
     "output_type": "stream",
     "text": [
      "\t Enregistrement intermédiaire effectué\n"
     ]
    },
    {
     "name": "stderr",
     "output_type": "stream",
     "text": [
      " 76% (23300 of 30386) |#############    | Elapsed Time: 10:39:54 ETA:   4:40:21"
     ]
    },
    {
     "name": "stdout",
     "output_type": "stream",
     "text": [
      "\t Enregistrement intermédiaire effectué\n"
     ]
    },
    {
     "name": "stderr",
     "output_type": "stream",
     "text": [
      " 77% (23400 of 30386) |#############    | Elapsed Time: 10:42:39 ETA:   2:34:16"
     ]
    },
    {
     "name": "stdout",
     "output_type": "stream",
     "text": [
      "\t Enregistrement intermédiaire effectué\n"
     ]
    },
    {
     "name": "stderr",
     "output_type": "stream",
     "text": [
      " 77% (23500 of 30386) |#############    | Elapsed Time: 10:45:17 ETA:   4:02:38"
     ]
    },
    {
     "name": "stdout",
     "output_type": "stream",
     "text": [
      "\t Enregistrement intermédiaire effectué\n"
     ]
    },
    {
     "name": "stderr",
     "output_type": "stream",
     "text": [
      " 77% (23600 of 30386) |#############    | Elapsed Time: 10:48:08 ETA:   3:57:59"
     ]
    },
    {
     "name": "stdout",
     "output_type": "stream",
     "text": [
      "\t Enregistrement intermédiaire effectué\n"
     ]
    },
    {
     "name": "stderr",
     "output_type": "stream",
     "text": [
      " 77% (23700 of 30386) |#############    | Elapsed Time: 10:50:52 ETA:   2:47:40"
     ]
    },
    {
     "name": "stdout",
     "output_type": "stream",
     "text": [
      "\t Enregistrement intermédiaire effectué\n"
     ]
    },
    {
     "name": "stderr",
     "output_type": "stream",
     "text": [
      " 78% (23800 of 30386) |#############    | Elapsed Time: 10:53:37 ETA:   4:09:36"
     ]
    },
    {
     "name": "stdout",
     "output_type": "stream",
     "text": [
      "\t Enregistrement intermédiaire effectué\n"
     ]
    },
    {
     "name": "stderr",
     "output_type": "stream",
     "text": [
      " 78% (23900 of 30386) |#############    | Elapsed Time: 10:56:32 ETA:   3:49:29"
     ]
    },
    {
     "name": "stdout",
     "output_type": "stream",
     "text": [
      "\t Enregistrement intermédiaire effectué\n"
     ]
    },
    {
     "name": "stderr",
     "output_type": "stream",
     "text": [
      " 78% (24000 of 30386) |#############    | Elapsed Time: 10:59:28 ETA:   2:34:23"
     ]
    },
    {
     "name": "stdout",
     "output_type": "stream",
     "text": [
      "\t Enregistrement intermédiaire effectué\n"
     ]
    },
    {
     "name": "stderr",
     "output_type": "stream",
     "text": [
      " 79% (24100 of 30386) |#############    | Elapsed Time: 11:02:18 ETA:   2:22:10"
     ]
    },
    {
     "name": "stdout",
     "output_type": "stream",
     "text": [
      "\t Enregistrement intermédiaire effectué\n"
     ]
    },
    {
     "name": "stderr",
     "output_type": "stream",
     "text": [
      " 79% (24200 of 30386) |#############    | Elapsed Time: 11:05:04 ETA:   2:20:54"
     ]
    },
    {
     "name": "stdout",
     "output_type": "stream",
     "text": [
      "\t Enregistrement intermédiaire effectué\n"
     ]
    },
    {
     "name": "stderr",
     "output_type": "stream",
     "text": [
      " 79% (24300 of 30386) |#############    | Elapsed Time: 11:07:51 ETA:   3:00:53"
     ]
    },
    {
     "name": "stdout",
     "output_type": "stream",
     "text": [
      "\t Enregistrement intermédiaire effectué\n"
     ]
    },
    {
     "name": "stderr",
     "output_type": "stream",
     "text": [
      " 80% (24400 of 30386) |#############    | Elapsed Time: 11:10:35 ETA:   4:40:30"
     ]
    },
    {
     "name": "stdout",
     "output_type": "stream",
     "text": [
      "\t Enregistrement intermédiaire effectué\n"
     ]
    },
    {
     "name": "stderr",
     "output_type": "stream",
     "text": [
      " 80% (24500 of 30386) |#############    | Elapsed Time: 11:13:27 ETA:   2:23:28"
     ]
    },
    {
     "name": "stdout",
     "output_type": "stream",
     "text": [
      "\t Enregistrement intermédiaire effectué\n"
     ]
    },
    {
     "name": "stderr",
     "output_type": "stream",
     "text": [
      " 80% (24600 of 30386) |#############    | Elapsed Time: 11:16:14 ETA:   3:18:07"
     ]
    },
    {
     "name": "stdout",
     "output_type": "stream",
     "text": [
      "\t Enregistrement intermédiaire effectué\n"
     ]
    },
    {
     "name": "stderr",
     "output_type": "stream",
     "text": [
      " 81% (24700 of 30386) |#############    | Elapsed Time: 11:18:58 ETA:   2:37:17"
     ]
    },
    {
     "name": "stdout",
     "output_type": "stream",
     "text": [
      "\t Enregistrement intermédiaire effectué\n"
     ]
    },
    {
     "name": "stderr",
     "output_type": "stream",
     "text": [
      " 81% (24800 of 30386) |#############    | Elapsed Time: 11:21:43 ETA:   3:51:10"
     ]
    },
    {
     "name": "stdout",
     "output_type": "stream",
     "text": [
      "\t Enregistrement intermédiaire effectué\n"
     ]
    },
    {
     "name": "stderr",
     "output_type": "stream",
     "text": [
      " 81% (24900 of 30386) |#############    | Elapsed Time: 11:24:37 ETA:   5:21:12"
     ]
    },
    {
     "name": "stdout",
     "output_type": "stream",
     "text": [
      "\t Enregistrement intermédiaire effectué\n"
     ]
    },
    {
     "name": "stderr",
     "output_type": "stream",
     "text": [
      " 82% (25000 of 30386) |#############    | Elapsed Time: 11:27:34 ETA:   3:26:22"
     ]
    },
    {
     "name": "stdout",
     "output_type": "stream",
     "text": [
      "\t Enregistrement intermédiaire effectué\n"
     ]
    },
    {
     "name": "stderr",
     "output_type": "stream",
     "text": [
      " 82% (25100 of 30386) |##############   | Elapsed Time: 11:30:32 ETA:   2:32:58"
     ]
    },
    {
     "name": "stdout",
     "output_type": "stream",
     "text": [
      "\t Enregistrement intermédiaire effectué\n"
     ]
    },
    {
     "name": "stderr",
     "output_type": "stream",
     "text": [
      " 82% (25200 of 30386) |##############   | Elapsed Time: 11:33:18 ETA:   3:21:57"
     ]
    },
    {
     "name": "stdout",
     "output_type": "stream",
     "text": [
      "\t Enregistrement intermédiaire effectué\n"
     ]
    },
    {
     "name": "stderr",
     "output_type": "stream",
     "text": [
      " 83% (25300 of 30386) |##############   | Elapsed Time: 11:36:07 ETA:   1:57:43"
     ]
    },
    {
     "name": "stdout",
     "output_type": "stream",
     "text": [
      "\t Enregistrement intermédiaire effectué\n"
     ]
    },
    {
     "name": "stderr",
     "output_type": "stream",
     "text": [
      " 83% (25400 of 30386) |##############   | Elapsed Time: 11:38:52 ETA:   2:25:22"
     ]
    },
    {
     "name": "stdout",
     "output_type": "stream",
     "text": [
      "\t Enregistrement intermédiaire effectué\n"
     ]
    },
    {
     "name": "stderr",
     "output_type": "stream",
     "text": [
      " 83% (25500 of 30386) |##############   | Elapsed Time: 11:41:44 ETA:   2:08:32"
     ]
    },
    {
     "name": "stdout",
     "output_type": "stream",
     "text": [
      "\t Enregistrement intermédiaire effectué\n"
     ]
    },
    {
     "name": "stderr",
     "output_type": "stream",
     "text": [
      " 84% (25600 of 30386) |##############   | Elapsed Time: 11:44:32 ETA:   2:10:50"
     ]
    },
    {
     "name": "stdout",
     "output_type": "stream",
     "text": [
      "\t Enregistrement intermédiaire effectué\n"
     ]
    },
    {
     "name": "stderr",
     "output_type": "stream",
     "text": [
      " 84% (25700 of 30386) |##############   | Elapsed Time: 11:47:21 ETA:   3:24:57"
     ]
    },
    {
     "name": "stdout",
     "output_type": "stream",
     "text": [
      "\t Enregistrement intermédiaire effectué\n"
     ]
    },
    {
     "name": "stderr",
     "output_type": "stream",
     "text": [
      " 84% (25800 of 30386) |##############   | Elapsed Time: 11:50:12 ETA:   3:48:12"
     ]
    },
    {
     "name": "stdout",
     "output_type": "stream",
     "text": [
      "\t Enregistrement intermédiaire effectué\n"
     ]
    },
    {
     "name": "stderr",
     "output_type": "stream",
     "text": [
      " 85% (25900 of 30386) |##############   | Elapsed Time: 11:52:55 ETA:   2:51:59"
     ]
    },
    {
     "name": "stdout",
     "output_type": "stream",
     "text": [
      "\t Enregistrement intermédiaire effectué\n"
     ]
    },
    {
     "name": "stderr",
     "output_type": "stream",
     "text": [
      " 85% (26000 of 30386) |##############   | Elapsed Time: 11:55:42 ETA:   2:01:20"
     ]
    },
    {
     "name": "stdout",
     "output_type": "stream",
     "text": [
      "\t Enregistrement intermédiaire effectué\n"
     ]
    },
    {
     "name": "stderr",
     "output_type": "stream",
     "text": [
      " 85% (26100 of 30386) |##############   | Elapsed Time: 11:58:30 ETA:   1:44:47"
     ]
    },
    {
     "name": "stdout",
     "output_type": "stream",
     "text": [
      "\t Enregistrement intermédiaire effectué\n"
     ]
    },
    {
     "name": "stderr",
     "output_type": "stream",
     "text": [
      " 86% (26200 of 30386) |##############   | Elapsed Time: 12:01:09 ETA:   1:49:46"
     ]
    },
    {
     "name": "stdout",
     "output_type": "stream",
     "text": [
      "\t Enregistrement intermédiaire effectué\n"
     ]
    },
    {
     "name": "stderr",
     "output_type": "stream",
     "text": [
      " 86% (26300 of 30386) |##############   | Elapsed Time: 12:04:06 ETA:   1:30:32"
     ]
    },
    {
     "name": "stdout",
     "output_type": "stream",
     "text": [
      "\t Enregistrement intermédiaire effectué\n"
     ]
    },
    {
     "name": "stderr",
     "output_type": "stream",
     "text": [
      " 86% (26400 of 30386) |##############   | Elapsed Time: 12:06:54 ETA:   1:36:15"
     ]
    },
    {
     "name": "stdout",
     "output_type": "stream",
     "text": [
      "\t Enregistrement intermédiaire effectué\n"
     ]
    },
    {
     "name": "stderr",
     "output_type": "stream",
     "text": [
      " 87% (26500 of 30386) |##############   | Elapsed Time: 12:09:38 ETA:   2:05:00"
     ]
    },
    {
     "name": "stdout",
     "output_type": "stream",
     "text": [
      "\t Enregistrement intermédiaire effectué\n"
     ]
    },
    {
     "name": "stderr",
     "output_type": "stream",
     "text": [
      " 87% (26600 of 30386) |##############   | Elapsed Time: 12:12:17 ETA:   1:25:07"
     ]
    },
    {
     "name": "stdout",
     "output_type": "stream",
     "text": [
      "\t Enregistrement intermédiaire effectué\n"
     ]
    },
    {
     "name": "stderr",
     "output_type": "stream",
     "text": [
      " 87% (26700 of 30386) |##############   | Elapsed Time: 12:15:01 ETA:   1:13:34"
     ]
    },
    {
     "name": "stdout",
     "output_type": "stream",
     "text": [
      "\t Enregistrement intermédiaire effectué\n"
     ]
    },
    {
     "name": "stderr",
     "output_type": "stream",
     "text": [
      " 88% (26800 of 30386) |##############   | Elapsed Time: 12:17:44 ETA:   1:25:18"
     ]
    },
    {
     "name": "stdout",
     "output_type": "stream",
     "text": [
      "\t Enregistrement intermédiaire effectué\n"
     ]
    },
    {
     "name": "stderr",
     "output_type": "stream",
     "text": [
      " 88% (26900 of 30386) |###############  | Elapsed Time: 12:20:19 ETA:   1:21:03"
     ]
    },
    {
     "name": "stdout",
     "output_type": "stream",
     "text": [
      "\t Enregistrement intermédiaire effectué\n"
     ]
    },
    {
     "name": "stderr",
     "output_type": "stream",
     "text": [
      " 88% (27000 of 30386) |###############  | Elapsed Time: 12:23:06 ETA:   1:06:17"
     ]
    },
    {
     "name": "stdout",
     "output_type": "stream",
     "text": [
      "\t Enregistrement intermédiaire effectué\n"
     ]
    },
    {
     "name": "stderr",
     "output_type": "stream",
     "text": [
      " 89% (27100 of 30386) |###############  | Elapsed Time: 12:25:43 ETA:   2:37:52"
     ]
    },
    {
     "name": "stdout",
     "output_type": "stream",
     "text": [
      "\t Enregistrement intermédiaire effectué\n"
     ]
    },
    {
     "name": "stderr",
     "output_type": "stream",
     "text": [
      " 89% (27200 of 30386) |###############  | Elapsed Time: 12:28:26 ETA:   1:15:24"
     ]
    },
    {
     "name": "stdout",
     "output_type": "stream",
     "text": [
      "\t Enregistrement intermédiaire effectué\n"
     ]
    },
    {
     "name": "stderr",
     "output_type": "stream",
     "text": [
      " 89% (27300 of 30386) |###############  | Elapsed Time: 12:31:12 ETA:   1:47:25"
     ]
    },
    {
     "name": "stdout",
     "output_type": "stream",
     "text": [
      "\t Enregistrement intermédiaire effectué\n"
     ]
    },
    {
     "name": "stderr",
     "output_type": "stream",
     "text": [
      " 90% (27400 of 30386) |###############  | Elapsed Time: 12:33:48 ETA:   1:01:36"
     ]
    },
    {
     "name": "stdout",
     "output_type": "stream",
     "text": [
      "\t Enregistrement intermédiaire effectué\n"
     ]
    },
    {
     "name": "stderr",
     "output_type": "stream",
     "text": [
      " 90% (27500 of 30386) |###############  | Elapsed Time: 12:36:24 ETA:   1:06:28"
     ]
    },
    {
     "name": "stdout",
     "output_type": "stream",
     "text": [
      "\t Enregistrement intermédiaire effectué\n"
     ]
    },
    {
     "name": "stderr",
     "output_type": "stream",
     "text": [
      " 90% (27600 of 30386) |###############  | Elapsed Time: 12:39:06 ETA:   1:45:09"
     ]
    },
    {
     "name": "stdout",
     "output_type": "stream",
     "text": [
      "\t Enregistrement intermédiaire effectué\n"
     ]
    },
    {
     "name": "stderr",
     "output_type": "stream",
     "text": [
      " 91% (27700 of 30386) |###############  | Elapsed Time: 12:41:42 ETA:   0:47:10"
     ]
    },
    {
     "name": "stdout",
     "output_type": "stream",
     "text": [
      "\t Enregistrement intermédiaire effectué\n"
     ]
    },
    {
     "name": "stderr",
     "output_type": "stream",
     "text": [
      " 91% (27800 of 30386) |###############  | Elapsed Time: 12:44:28 ETA:   2:00:47"
     ]
    },
    {
     "name": "stdout",
     "output_type": "stream",
     "text": [
      "\t Enregistrement intermédiaire effectué\n"
     ]
    },
    {
     "name": "stderr",
     "output_type": "stream",
     "text": [
      " 91% (27900 of 30386) |###############  | Elapsed Time: 12:47:06 ETA:   1:24:48"
     ]
    },
    {
     "name": "stdout",
     "output_type": "stream",
     "text": [
      "\t Enregistrement intermédiaire effectué\n"
     ]
    },
    {
     "name": "stderr",
     "output_type": "stream",
     "text": [
      " 92% (28000 of 30386) |###############  | Elapsed Time: 12:49:52 ETA:   1:09:40"
     ]
    },
    {
     "name": "stdout",
     "output_type": "stream",
     "text": [
      "\t Enregistrement intermédiaire effectué\n"
     ]
    },
    {
     "name": "stderr",
     "output_type": "stream",
     "text": [
      " 92% (28100 of 30386) |###############  | Elapsed Time: 12:52:58 ETA:   1:08:18"
     ]
    },
    {
     "name": "stdout",
     "output_type": "stream",
     "text": [
      "\t Enregistrement intermédiaire effectué\n"
     ]
    },
    {
     "name": "stderr",
     "output_type": "stream",
     "text": [
      " 92% (28200 of 30386) |###############  | Elapsed Time: 12:56:12 ETA:   1:06:24"
     ]
    },
    {
     "name": "stdout",
     "output_type": "stream",
     "text": [
      "\t Enregistrement intermédiaire effectué\n"
     ]
    },
    {
     "name": "stderr",
     "output_type": "stream",
     "text": [
      " 93% (28300 of 30386) |###############  | Elapsed Time: 12:58:43 ETA:   1:11:30"
     ]
    },
    {
     "name": "stdout",
     "output_type": "stream",
     "text": [
      "\t Enregistrement intermédiaire effectué\n"
     ]
    },
    {
     "name": "stderr",
     "output_type": "stream",
     "text": [
      " 93% (28400 of 30386) |###############  | Elapsed Time: 13:01:31 ETA:   0:54:49"
     ]
    },
    {
     "name": "stdout",
     "output_type": "stream",
     "text": [
      "\t Enregistrement intermédiaire effectué\n"
     ]
    },
    {
     "name": "stderr",
     "output_type": "stream",
     "text": [
      " 93% (28500 of 30386) |###############  | Elapsed Time: 13:04:22 ETA:   0:51:33"
     ]
    },
    {
     "name": "stdout",
     "output_type": "stream",
     "text": [
      "\t Enregistrement intermédiaire effectué\n"
     ]
    },
    {
     "name": "stderr",
     "output_type": "stream",
     "text": [
      " 94% (28600 of 30386) |################ | Elapsed Time: 13:07:01 ETA:   0:43:16"
     ]
    },
    {
     "name": "stdout",
     "output_type": "stream",
     "text": [
      "\t Enregistrement intermédiaire effectué\n"
     ]
    },
    {
     "name": "stderr",
     "output_type": "stream",
     "text": [
      " 94% (28700 of 30386) |################ | Elapsed Time: 13:09:53 ETA:   0:48:49"
     ]
    },
    {
     "name": "stdout",
     "output_type": "stream",
     "text": [
      "\t Enregistrement intermédiaire effectué\n"
     ]
    },
    {
     "name": "stderr",
     "output_type": "stream",
     "text": [
      " 94% (28800 of 30386) |################ | Elapsed Time: 13:12:33 ETA:   0:43:28"
     ]
    },
    {
     "name": "stdout",
     "output_type": "stream",
     "text": [
      "\t Enregistrement intermédiaire effectué\n"
     ]
    },
    {
     "name": "stderr",
     "output_type": "stream",
     "text": [
      " 95% (28900 of 30386) |################ | Elapsed Time: 13:15:27 ETA:   0:34:57"
     ]
    },
    {
     "name": "stdout",
     "output_type": "stream",
     "text": [
      "\t Enregistrement intermédiaire effectué\n"
     ]
    },
    {
     "name": "stderr",
     "output_type": "stream",
     "text": [
      " 95% (29000 of 30386) |################ | Elapsed Time: 13:18:08 ETA:   0:30:19"
     ]
    },
    {
     "name": "stdout",
     "output_type": "stream",
     "text": [
      "\t Enregistrement intermédiaire effectué\n"
     ]
    },
    {
     "name": "stderr",
     "output_type": "stream",
     "text": [
      " 95% (29100 of 30386) |################ | Elapsed Time: 13:20:41 ETA:   0:24:24"
     ]
    },
    {
     "name": "stdout",
     "output_type": "stream",
     "text": [
      "\t Enregistrement intermédiaire effectué\n"
     ]
    },
    {
     "name": "stderr",
     "output_type": "stream",
     "text": [
      " 96% (29200 of 30386) |################ | Elapsed Time: 13:23:24 ETA:   0:36:02"
     ]
    },
    {
     "name": "stdout",
     "output_type": "stream",
     "text": [
      "\t Enregistrement intermédiaire effectué\n"
     ]
    },
    {
     "name": "stderr",
     "output_type": "stream",
     "text": [
      " 96% (29300 of 30386) |################ | Elapsed Time: 13:26:02 ETA:   0:30:55"
     ]
    },
    {
     "name": "stdout",
     "output_type": "stream",
     "text": [
      "\t Enregistrement intermédiaire effectué\n"
     ]
    },
    {
     "name": "stderr",
     "output_type": "stream",
     "text": [
      " 96% (29400 of 30386) |################ | Elapsed Time: 13:28:49 ETA:   0:26:50"
     ]
    },
    {
     "name": "stdout",
     "output_type": "stream",
     "text": [
      "\t Enregistrement intermédiaire effectué\n"
     ]
    },
    {
     "name": "stderr",
     "output_type": "stream",
     "text": [
      " 97% (29500 of 30386) |################ | Elapsed Time: 13:31:30 ETA:   0:16:46"
     ]
    },
    {
     "name": "stdout",
     "output_type": "stream",
     "text": [
      "\t Enregistrement intermédiaire effectué\n"
     ]
    },
    {
     "name": "stderr",
     "output_type": "stream",
     "text": [
      " 97% (29600 of 30386) |################ | Elapsed Time: 13:34:07 ETA:   0:21:30"
     ]
    },
    {
     "name": "stdout",
     "output_type": "stream",
     "text": [
      "\t Enregistrement intermédiaire effectué\n"
     ]
    },
    {
     "name": "stderr",
     "output_type": "stream",
     "text": [
      " 97% (29700 of 30386) |################ | Elapsed Time: 13:36:48 ETA:   0:15:22"
     ]
    },
    {
     "name": "stdout",
     "output_type": "stream",
     "text": [
      "\t Enregistrement intermédiaire effectué\n"
     ]
    },
    {
     "name": "stderr",
     "output_type": "stream",
     "text": [
      " 98% (29800 of 30386) |################ | Elapsed Time: 13:39:37 ETA:   0:21:27"
     ]
    },
    {
     "name": "stdout",
     "output_type": "stream",
     "text": [
      "\t Enregistrement intermédiaire effectué\n"
     ]
    },
    {
     "name": "stderr",
     "output_type": "stream",
     "text": [
      " 98% (29900 of 30386) |################ | Elapsed Time: 13:42:13 ETA:   0:14:12"
     ]
    },
    {
     "name": "stdout",
     "output_type": "stream",
     "text": [
      "\t Enregistrement intermédiaire effectué\n"
     ]
    },
    {
     "name": "stderr",
     "output_type": "stream",
     "text": [
      " 98% (30000 of 30386) |################ | Elapsed Time: 13:44:53 ETA:   0:08:43"
     ]
    },
    {
     "name": "stdout",
     "output_type": "stream",
     "text": [
      "\t Enregistrement intermédiaire effectué\n"
     ]
    },
    {
     "name": "stderr",
     "output_type": "stream",
     "text": [
      " 99% (30100 of 30386) |################ | Elapsed Time: 13:47:29 ETA:   0:07:02"
     ]
    },
    {
     "name": "stdout",
     "output_type": "stream",
     "text": [
      "\t Enregistrement intermédiaire effectué\n"
     ]
    },
    {
     "name": "stderr",
     "output_type": "stream",
     "text": [
      " 99% (30200 of 30386) |################ | Elapsed Time: 13:50:06 ETA:   0:03:54"
     ]
    },
    {
     "name": "stdout",
     "output_type": "stream",
     "text": [
      "\t Enregistrement intermédiaire effectué\n"
     ]
    },
    {
     "name": "stderr",
     "output_type": "stream",
     "text": [
      " 99% (30300 of 30386) |################ | Elapsed Time: 13:52:49 ETA:   0:02:04"
     ]
    },
    {
     "name": "stdout",
     "output_type": "stream",
     "text": [
      "\t Enregistrement intermédiaire effectué\n"
     ]
    },
    {
     "name": "stderr",
     "output_type": "stream",
     "text": [
      "100% (30386 of 30386) |#################| Elapsed Time: 13:54:58 Time: 13:54:58\n",
      "C:\\Users\\kaoua\\kickstarter.py:549: SettingWithCopyWarning: \n",
      "A value is trying to be set on a copy of a slice from a DataFrame.\n",
      "Try using .loc[row_indexer,col_indexer] = value instead\n",
      "\n",
      "See the caveats in the documentation: https://pandas.pydata.org/pandas-docs/stable/user_guide/indexing.html#returning-a-view-versus-a-copy\n",
      "  df['coup_de_coeur'] = coeur\n"
     ]
    },
    {
     "name": "stdout",
     "output_type": "stream",
     "text": [
      "Scrapping de l'année 2016\n"
     ]
    },
    {
     "name": "stderr",
     "output_type": "stream",
     "text": [
      "  0% (100 of 23505) |                    | Elapsed Time: 0:02:44 ETA:   8:25:22C:\\Users\\kaoua\\kickstarter.py:545: SettingWithCopyWarning: \n",
      "A value is trying to be set on a copy of a slice from a DataFrame.\n",
      "Try using .loc[row_indexer,col_indexer] = value instead\n",
      "\n",
      "See the caveats in the documentation: https://pandas.pydata.org/pandas-docs/stable/user_guide/indexing.html#returning-a-view-versus-a-copy\n",
      "  dfi['coup_de_coeur'] = coeur\n"
     ]
    },
    {
     "name": "stdout",
     "output_type": "stream",
     "text": [
      "\t Enregistrement intermédiaire effectué\n"
     ]
    },
    {
     "name": "stderr",
     "output_type": "stream",
     "text": [
      "  0% (200 of 23505) |                    | Elapsed Time: 0:05:22 ETA:   8:37:56"
     ]
    },
    {
     "name": "stdout",
     "output_type": "stream",
     "text": [
      "\t Enregistrement intermédiaire effectué\n"
     ]
    },
    {
     "name": "stderr",
     "output_type": "stream",
     "text": [
      "  1% (300 of 23505) |                    | Elapsed Time: 0:08:00 ETA:   9:14:18"
     ]
    },
    {
     "name": "stdout",
     "output_type": "stream",
     "text": [
      "\t Enregistrement intermédiaire effectué\n"
     ]
    },
    {
     "name": "stderr",
     "output_type": "stream",
     "text": [
      "  1% (400 of 23505) |                    | Elapsed Time: 0:10:31 ETA:   9:05:00"
     ]
    },
    {
     "name": "stdout",
     "output_type": "stream",
     "text": [
      "\t Enregistrement intermédiaire effectué\n"
     ]
    },
    {
     "name": "stderr",
     "output_type": "stream",
     "text": [
      "  2% (500 of 23505) |                    | Elapsed Time: 0:13:09 ETA:  13:17:25"
     ]
    },
    {
     "name": "stdout",
     "output_type": "stream",
     "text": [
      "\t Enregistrement intermédiaire effectué\n"
     ]
    },
    {
     "name": "stderr",
     "output_type": "stream",
     "text": [
      "  2% (600 of 23505) |                    | Elapsed Time: 0:15:53 ETA:   9:45:38"
     ]
    },
    {
     "name": "stdout",
     "output_type": "stream",
     "text": [
      "\t Enregistrement intermédiaire effectué\n"
     ]
    },
    {
     "name": "stderr",
     "output_type": "stream",
     "text": [
      "  2% (700 of 23505) |                    | Elapsed Time: 0:18:31 ETA:  17:07:23"
     ]
    },
    {
     "name": "stdout",
     "output_type": "stream",
     "text": [
      "\t Enregistrement intermédiaire effectué\n"
     ]
    },
    {
     "name": "stderr",
     "output_type": "stream",
     "text": [
      "  3% (800 of 23505) |                    | Elapsed Time: 0:21:12 ETA:   9:25:13"
     ]
    },
    {
     "name": "stdout",
     "output_type": "stream",
     "text": [
      "\t Enregistrement intermédiaire effectué\n"
     ]
    },
    {
     "name": "stderr",
     "output_type": "stream",
     "text": [
      "  3% (900 of 23505) |                    | Elapsed Time: 0:23:50 ETA:   8:49:16"
     ]
    },
    {
     "name": "stdout",
     "output_type": "stream",
     "text": [
      "\t Enregistrement intermédiaire effectué\n"
     ]
    },
    {
     "name": "stderr",
     "output_type": "stream",
     "text": [
      "  4% (1000 of 23505) |                   | Elapsed Time: 0:26:40 ETA:   9:28:32"
     ]
    },
    {
     "name": "stdout",
     "output_type": "stream",
     "text": [
      "\t Enregistrement intermédiaire effectué\n"
     ]
    },
    {
     "name": "stderr",
     "output_type": "stream",
     "text": [
      "  4% (1100 of 23505) |                   | Elapsed Time: 0:29:31 ETA:  10:12:23"
     ]
    },
    {
     "name": "stdout",
     "output_type": "stream",
     "text": [
      "\t Enregistrement intermédiaire effectué\n"
     ]
    },
    {
     "name": "stderr",
     "output_type": "stream",
     "text": [
      "  5% (1200 of 23505) |                   | Elapsed Time: 0:32:16 ETA:   7:23:37"
     ]
    },
    {
     "name": "stdout",
     "output_type": "stream",
     "text": [
      "\t Enregistrement intermédiaire effectué\n"
     ]
    },
    {
     "name": "stderr",
     "output_type": "stream",
     "text": [
      "  5% (1300 of 23505) |#                  | Elapsed Time: 0:35:00 ETA:   8:43:12"
     ]
    },
    {
     "name": "stdout",
     "output_type": "stream",
     "text": [
      "\t Enregistrement intermédiaire effectué\n"
     ]
    },
    {
     "name": "stderr",
     "output_type": "stream",
     "text": [
      "  5% (1400 of 23505) |#                  | Elapsed Time: 0:37:40 ETA:   9:12:40"
     ]
    },
    {
     "name": "stdout",
     "output_type": "stream",
     "text": [
      "\t Enregistrement intermédiaire effectué\n"
     ]
    },
    {
     "name": "stderr",
     "output_type": "stream",
     "text": [
      "  6% (1500 of 23505) |#                  | Elapsed Time: 0:40:23 ETA:  12:23:55"
     ]
    },
    {
     "name": "stdout",
     "output_type": "stream",
     "text": [
      "\t Enregistrement intermédiaire effectué\n"
     ]
    },
    {
     "name": "stderr",
     "output_type": "stream",
     "text": [
      "  6% (1600 of 23505) |#                  | Elapsed Time: 0:43:10 ETA:  11:33:26"
     ]
    },
    {
     "name": "stdout",
     "output_type": "stream",
     "text": [
      "\t Enregistrement intermédiaire effectué\n"
     ]
    },
    {
     "name": "stderr",
     "output_type": "stream",
     "text": [
      "  7% (1700 of 23505) |#                  | Elapsed Time: 0:45:50 ETA:   8:58:06"
     ]
    },
    {
     "name": "stdout",
     "output_type": "stream",
     "text": [
      "\t Enregistrement intermédiaire effectué\n"
     ]
    },
    {
     "name": "stderr",
     "output_type": "stream",
     "text": [
      "  7% (1800 of 23505) |#                  | Elapsed Time: 0:48:28 ETA:   9:21:36"
     ]
    },
    {
     "name": "stdout",
     "output_type": "stream",
     "text": [
      "\t Enregistrement intermédiaire effectué\n"
     ]
    },
    {
     "name": "stderr",
     "output_type": "stream",
     "text": [
      "  8% (1900 of 23505) |#                  | Elapsed Time: 0:51:11 ETA:   7:25:23"
     ]
    },
    {
     "name": "stdout",
     "output_type": "stream",
     "text": [
      "\t Enregistrement intermédiaire effectué\n"
     ]
    },
    {
     "name": "stderr",
     "output_type": "stream",
     "text": [
      "  8% (2000 of 23505) |#                  | Elapsed Time: 0:53:50 ETA:   9:00:39"
     ]
    },
    {
     "name": "stdout",
     "output_type": "stream",
     "text": [
      "\t Enregistrement intermédiaire effectué\n"
     ]
    },
    {
     "name": "stderr",
     "output_type": "stream",
     "text": [
      "  8% (2100 of 23505) |#                  | Elapsed Time: 0:56:49 ETA:   8:46:39"
     ]
    },
    {
     "name": "stdout",
     "output_type": "stream",
     "text": [
      "\t Enregistrement intermédiaire effectué\n"
     ]
    },
    {
     "name": "stderr",
     "output_type": "stream",
     "text": [
      "  9% (2200 of 23505) |#                  | Elapsed Time: 0:59:49 ETA:   9:19:25"
     ]
    },
    {
     "name": "stdout",
     "output_type": "stream",
     "text": [
      "\t Enregistrement intermédiaire effectué\n"
     ]
    },
    {
     "name": "stderr",
     "output_type": "stream",
     "text": [
      "  9% (2300 of 23505) |#                  | Elapsed Time: 1:02:47 ETA:  11:57:01"
     ]
    },
    {
     "name": "stdout",
     "output_type": "stream",
     "text": [
      "\t Enregistrement intermédiaire effectué\n"
     ]
    },
    {
     "name": "stderr",
     "output_type": "stream",
     "text": [
      " 10% (2400 of 23505) |#                  | Elapsed Time: 1:05:30 ETA:  10:01:26"
     ]
    },
    {
     "name": "stdout",
     "output_type": "stream",
     "text": [
      "\t Enregistrement intermédiaire effectué\n"
     ]
    },
    {
     "name": "stderr",
     "output_type": "stream",
     "text": [
      " 10% (2500 of 23505) |##                 | Elapsed Time: 1:08:11 ETA:   9:08:01"
     ]
    },
    {
     "name": "stdout",
     "output_type": "stream",
     "text": [
      "\t Enregistrement intermédiaire effectué\n"
     ]
    },
    {
     "name": "stderr",
     "output_type": "stream",
     "text": [
      " 11% (2600 of 23505) |##                 | Elapsed Time: 1:10:48 ETA:   8:45:33"
     ]
    },
    {
     "name": "stdout",
     "output_type": "stream",
     "text": [
      "\t Enregistrement intermédiaire effectué\n"
     ]
    },
    {
     "name": "stderr",
     "output_type": "stream",
     "text": [
      " 11% (2700 of 23505) |##                 | Elapsed Time: 1:13:32 ETA:   9:31:00"
     ]
    },
    {
     "name": "stdout",
     "output_type": "stream",
     "text": [
      "\t Enregistrement intermédiaire effectué\n"
     ]
    },
    {
     "name": "stderr",
     "output_type": "stream",
     "text": [
      " 11% (2800 of 23505) |##                 | Elapsed Time: 1:16:12 ETA:   9:22:00"
     ]
    },
    {
     "name": "stdout",
     "output_type": "stream",
     "text": [
      "\t Enregistrement intermédiaire effectué\n"
     ]
    },
    {
     "name": "stderr",
     "output_type": "stream",
     "text": [
      " 12% (2900 of 23505) |##                 | Elapsed Time: 1:18:59 ETA:   9:54:53"
     ]
    },
    {
     "name": "stdout",
     "output_type": "stream",
     "text": [
      "\t Enregistrement intermédiaire effectué\n"
     ]
    },
    {
     "name": "stderr",
     "output_type": "stream",
     "text": [
      " 12% (3000 of 23505) |##                 | Elapsed Time: 1:21:43 ETA:  11:08:32"
     ]
    },
    {
     "name": "stdout",
     "output_type": "stream",
     "text": [
      "\t Enregistrement intermédiaire effectué\n"
     ]
    },
    {
     "name": "stderr",
     "output_type": "stream",
     "text": [
      " 13% (3100 of 23505) |##                 | Elapsed Time: 1:24:17 ETA:   9:56:21"
     ]
    },
    {
     "name": "stdout",
     "output_type": "stream",
     "text": [
      "\t Enregistrement intermédiaire effectué\n"
     ]
    },
    {
     "name": "stderr",
     "output_type": "stream",
     "text": [
      " 13% (3200 of 23505) |##                 | Elapsed Time: 1:26:55 ETA:   8:00:23"
     ]
    },
    {
     "name": "stdout",
     "output_type": "stream",
     "text": [
      "\t Enregistrement intermédiaire effectué\n"
     ]
    },
    {
     "name": "stderr",
     "output_type": "stream",
     "text": [
      " 14% (3300 of 23505) |##                 | Elapsed Time: 1:29:46 ETA:   6:35:34"
     ]
    },
    {
     "name": "stdout",
     "output_type": "stream",
     "text": [
      "\t Enregistrement intermédiaire effectué\n"
     ]
    },
    {
     "name": "stderr",
     "output_type": "stream",
     "text": [
      " 14% (3400 of 23505) |##                 | Elapsed Time: 1:32:33 ETA:  12:07:33"
     ]
    },
    {
     "name": "stdout",
     "output_type": "stream",
     "text": [
      "\t Enregistrement intermédiaire effectué\n"
     ]
    },
    {
     "name": "stderr",
     "output_type": "stream",
     "text": [
      " 14% (3500 of 23505) |##                 | Elapsed Time: 1:35:20 ETA:  12:16:04"
     ]
    },
    {
     "name": "stdout",
     "output_type": "stream",
     "text": [
      "\t Enregistrement intermédiaire effectué\n"
     ]
    },
    {
     "name": "stderr",
     "output_type": "stream",
     "text": [
      " 15% (3600 of 23505) |##                 | Elapsed Time: 1:38:00 ETA:   5:58:31"
     ]
    },
    {
     "name": "stdout",
     "output_type": "stream",
     "text": [
      "\t Enregistrement intermédiaire effectué\n"
     ]
    },
    {
     "name": "stderr",
     "output_type": "stream",
     "text": [
      " 15% (3700 of 23505) |##                 | Elapsed Time: 1:40:44 ETA:   8:17:47"
     ]
    },
    {
     "name": "stdout",
     "output_type": "stream",
     "text": [
      "\t Enregistrement intermédiaire effectué\n"
     ]
    },
    {
     "name": "stderr",
     "output_type": "stream",
     "text": [
      " 16% (3800 of 23505) |###                | Elapsed Time: 1:43:27 ETA:   8:38:14"
     ]
    },
    {
     "name": "stdout",
     "output_type": "stream",
     "text": [
      "\t Enregistrement intermédiaire effectué\n"
     ]
    },
    {
     "name": "stderr",
     "output_type": "stream",
     "text": [
      " 16% (3900 of 23505) |###                | Elapsed Time: 1:46:08 ETA:  10:04:49"
     ]
    },
    {
     "name": "stdout",
     "output_type": "stream",
     "text": [
      "\t Enregistrement intermédiaire effectué\n"
     ]
    },
    {
     "name": "stderr",
     "output_type": "stream",
     "text": [
      " 17% (4000 of 23505) |###                | Elapsed Time: 1:48:57 ETA:  14:15:11"
     ]
    },
    {
     "name": "stdout",
     "output_type": "stream",
     "text": [
      "\t Enregistrement intermédiaire effectué\n"
     ]
    },
    {
     "name": "stderr",
     "output_type": "stream",
     "text": [
      " 17% (4100 of 23505) |###                | Elapsed Time: 1:51:42 ETA:   7:47:44"
     ]
    },
    {
     "name": "stdout",
     "output_type": "stream",
     "text": [
      "\t Enregistrement intermédiaire effectué\n"
     ]
    },
    {
     "name": "stderr",
     "output_type": "stream",
     "text": [
      " 17% (4200 of 23505) |###                | Elapsed Time: 1:54:20 ETA:   9:01:42"
     ]
    },
    {
     "name": "stdout",
     "output_type": "stream",
     "text": [
      "\t Enregistrement intermédiaire effectué\n"
     ]
    },
    {
     "name": "stderr",
     "output_type": "stream",
     "text": [
      " 18% (4300 of 23505) |###                | Elapsed Time: 1:57:06 ETA:  15:24:12"
     ]
    },
    {
     "name": "stdout",
     "output_type": "stream",
     "text": [
      "\t Enregistrement intermédiaire effectué\n"
     ]
    },
    {
     "name": "stderr",
     "output_type": "stream",
     "text": [
      " 18% (4400 of 23505) |###                | Elapsed Time: 1:59:51 ETA:   7:00:03"
     ]
    },
    {
     "name": "stdout",
     "output_type": "stream",
     "text": [
      "\t Enregistrement intermédiaire effectué\n"
     ]
    },
    {
     "name": "stderr",
     "output_type": "stream",
     "text": [
      " 19% (4500 of 23505) |###                | Elapsed Time: 2:02:59 ETA:  12:24:46"
     ]
    },
    {
     "name": "stdout",
     "output_type": "stream",
     "text": [
      "\t Enregistrement intermédiaire effectué\n"
     ]
    },
    {
     "name": "stderr",
     "output_type": "stream",
     "text": [
      " 19% (4600 of 23505) |###                | Elapsed Time: 2:05:51 ETA:  13:41:14"
     ]
    },
    {
     "name": "stdout",
     "output_type": "stream",
     "text": [
      "\t Enregistrement intermédiaire effectué\n"
     ]
    },
    {
     "name": "stderr",
     "output_type": "stream",
     "text": [
      " 19% (4700 of 23505) |###                | Elapsed Time: 2:08:32 ETA:   6:52:24"
     ]
    },
    {
     "name": "stdout",
     "output_type": "stream",
     "text": [
      "\t Enregistrement intermédiaire effectué\n"
     ]
    },
    {
     "name": "stderr",
     "output_type": "stream",
     "text": [
      " 20% (4800 of 23505) |###                | Elapsed Time: 2:11:11 ETA:   6:30:13"
     ]
    },
    {
     "name": "stdout",
     "output_type": "stream",
     "text": [
      "\t Enregistrement intermédiaire effectué\n"
     ]
    },
    {
     "name": "stderr",
     "output_type": "stream",
     "text": [
      " 20% (4900 of 23505) |###                | Elapsed Time: 2:14:04 ETA:   7:10:53"
     ]
    },
    {
     "name": "stdout",
     "output_type": "stream",
     "text": [
      "\t Enregistrement intermédiaire effectué\n"
     ]
    },
    {
     "name": "stderr",
     "output_type": "stream",
     "text": [
      " 21% (5000 of 23505) |####               | Elapsed Time: 2:16:45 ETA:   7:39:27"
     ]
    },
    {
     "name": "stdout",
     "output_type": "stream",
     "text": [
      "\t Enregistrement intermédiaire effectué\n"
     ]
    },
    {
     "name": "stderr",
     "output_type": "stream",
     "text": [
      " 21% (5100 of 23505) |####               | Elapsed Time: 2:19:31 ETA:   9:14:04"
     ]
    },
    {
     "name": "stdout",
     "output_type": "stream",
     "text": [
      "\t Enregistrement intermédiaire effectué\n"
     ]
    },
    {
     "name": "stderr",
     "output_type": "stream",
     "text": [
      " 22% (5200 of 23505) |####               | Elapsed Time: 2:22:11 ETA:   8:37:01"
     ]
    },
    {
     "name": "stdout",
     "output_type": "stream",
     "text": [
      "\t Enregistrement intermédiaire effectué\n"
     ]
    },
    {
     "name": "stderr",
     "output_type": "stream",
     "text": [
      " 22% (5300 of 23505) |####               | Elapsed Time: 2:24:55 ETA:   6:58:50"
     ]
    },
    {
     "name": "stdout",
     "output_type": "stream",
     "text": [
      "\t Enregistrement intermédiaire effectué\n"
     ]
    },
    {
     "name": "stderr",
     "output_type": "stream",
     "text": [
      " 22% (5400 of 23505) |####               | Elapsed Time: 2:27:43 ETA:   5:58:21"
     ]
    },
    {
     "name": "stdout",
     "output_type": "stream",
     "text": [
      "\t Enregistrement intermédiaire effectué\n"
     ]
    },
    {
     "name": "stderr",
     "output_type": "stream",
     "text": [
      " 23% (5500 of 23505) |####               | Elapsed Time: 2:30:23 ETA:   8:34:41"
     ]
    },
    {
     "name": "stdout",
     "output_type": "stream",
     "text": [
      "\t Enregistrement intermédiaire effectué\n"
     ]
    },
    {
     "name": "stderr",
     "output_type": "stream",
     "text": [
      " 23% (5600 of 23505) |####               | Elapsed Time: 2:33:51 ETA:  11:54:01"
     ]
    },
    {
     "name": "stdout",
     "output_type": "stream",
     "text": [
      "\t Enregistrement intermédiaire effectué\n"
     ]
    },
    {
     "name": "stderr",
     "output_type": "stream",
     "text": [
      " 24% (5700 of 23505) |####               | Elapsed Time: 2:36:59 ETA:   8:24:52"
     ]
    },
    {
     "name": "stdout",
     "output_type": "stream",
     "text": [
      "\t Enregistrement intermédiaire effectué\n"
     ]
    },
    {
     "name": "stderr",
     "output_type": "stream",
     "text": [
      " 24% (5800 of 23505) |####               | Elapsed Time: 2:39:41 ETA:   7:26:39"
     ]
    },
    {
     "name": "stdout",
     "output_type": "stream",
     "text": [
      "\t Enregistrement intermédiaire effectué\n"
     ]
    },
    {
     "name": "stderr",
     "output_type": "stream",
     "text": [
      " 25% (5900 of 23505) |####               | Elapsed Time: 2:42:42 ETA:   8:47:41"
     ]
    },
    {
     "name": "stdout",
     "output_type": "stream",
     "text": [
      "\t Enregistrement intermédiaire effectué\n"
     ]
    },
    {
     "name": "stderr",
     "output_type": "stream",
     "text": [
      " 25% (6000 of 23505) |####               | Elapsed Time: 2:45:55 ETA:   8:11:04"
     ]
    },
    {
     "name": "stdout",
     "output_type": "stream",
     "text": [
      "\t Enregistrement intermédiaire effectué\n"
     ]
    },
    {
     "name": "stderr",
     "output_type": "stream",
     "text": [
      " 25% (6100 of 23505) |####               | Elapsed Time: 2:48:39 ETA:   9:53:33"
     ]
    },
    {
     "name": "stdout",
     "output_type": "stream",
     "text": [
      "\t Enregistrement intermédiaire effectué\n"
     ]
    },
    {
     "name": "stderr",
     "output_type": "stream",
     "text": [
      " 26% (6200 of 23505) |#####              | Elapsed Time: 2:51:19 ETA:   9:06:44"
     ]
    },
    {
     "name": "stdout",
     "output_type": "stream",
     "text": [
      "\t Enregistrement intermédiaire effectué\n"
     ]
    },
    {
     "name": "stderr",
     "output_type": "stream",
     "text": [
      " 26% (6300 of 23505) |#####              | Elapsed Time: 2:53:57 ETA:  10:26:31"
     ]
    },
    {
     "name": "stdout",
     "output_type": "stream",
     "text": [
      "\t Enregistrement intermédiaire effectué\n"
     ]
    },
    {
     "name": "stderr",
     "output_type": "stream",
     "text": [
      " 27% (6400 of 23505) |#####              | Elapsed Time: 2:56:41 ETA:  12:55:00"
     ]
    },
    {
     "name": "stdout",
     "output_type": "stream",
     "text": [
      "\t Enregistrement intermédiaire effectué\n"
     ]
    },
    {
     "name": "stderr",
     "output_type": "stream",
     "text": [
      " 27% (6500 of 23505) |#####              | Elapsed Time: 2:59:29 ETA:   6:15:47"
     ]
    },
    {
     "name": "stdout",
     "output_type": "stream",
     "text": [
      "\t Enregistrement intermédiaire effectué\n"
     ]
    },
    {
     "name": "stderr",
     "output_type": "stream",
     "text": [
      " 28% (6600 of 23505) |#####              | Elapsed Time: 3:02:31 ETA:   9:05:16"
     ]
    },
    {
     "name": "stdout",
     "output_type": "stream",
     "text": [
      "\t Enregistrement intermédiaire effectué\n"
     ]
    },
    {
     "name": "stderr",
     "output_type": "stream",
     "text": [
      " 28% (6700 of 23505) |#####              | Elapsed Time: 3:05:41 ETA:   9:34:01"
     ]
    },
    {
     "name": "stdout",
     "output_type": "stream",
     "text": [
      "\t Enregistrement intermédiaire effectué\n"
     ]
    },
    {
     "name": "stderr",
     "output_type": "stream",
     "text": [
      " 28% (6800 of 23505) |#####              | Elapsed Time: 3:08:54 ETA:   6:37:16"
     ]
    },
    {
     "name": "stdout",
     "output_type": "stream",
     "text": [
      "\t Enregistrement intermédiaire effectué\n"
     ]
    },
    {
     "name": "stderr",
     "output_type": "stream",
     "text": [
      " 29% (6900 of 23505) |#####              | Elapsed Time: 3:12:14 ETA:   5:53:29"
     ]
    },
    {
     "name": "stdout",
     "output_type": "stream",
     "text": [
      "\t Enregistrement intermédiaire effectué\n"
     ]
    },
    {
     "name": "stderr",
     "output_type": "stream",
     "text": [
      " 29% (7000 of 23505) |#####              | Elapsed Time: 3:15:02 ETA:   5:46:58"
     ]
    },
    {
     "name": "stdout",
     "output_type": "stream",
     "text": [
      "\t Enregistrement intermédiaire effectué\n"
     ]
    },
    {
     "name": "stderr",
     "output_type": "stream",
     "text": [
      " 30% (7100 of 23505) |#####              | Elapsed Time: 3:17:59 ETA:   7:08:08"
     ]
    },
    {
     "name": "stdout",
     "output_type": "stream",
     "text": [
      "\t Enregistrement intermédiaire effectué\n"
     ]
    },
    {
     "name": "stderr",
     "output_type": "stream",
     "text": [
      " 30% (7200 of 23505) |#####              | Elapsed Time: 3:20:51 ETA:   7:12:43"
     ]
    },
    {
     "name": "stdout",
     "output_type": "stream",
     "text": [
      "\t Enregistrement intermédiaire effectué\n"
     ]
    },
    {
     "name": "stderr",
     "output_type": "stream",
     "text": [
      " 31% (7300 of 23505) |#####              | Elapsed Time: 3:23:36 ETA:   9:46:34"
     ]
    },
    {
     "name": "stdout",
     "output_type": "stream",
     "text": [
      "\t Enregistrement intermédiaire effectué\n"
     ]
    },
    {
     "name": "stderr",
     "output_type": "stream",
     "text": [
      " 31% (7400 of 23505) |#####              | Elapsed Time: 3:26:19 ETA:   5:45:32"
     ]
    },
    {
     "name": "stdout",
     "output_type": "stream",
     "text": [
      "\t Enregistrement intermédiaire effectué\n"
     ]
    },
    {
     "name": "stderr",
     "output_type": "stream",
     "text": [
      " 31% (7500 of 23505) |######             | Elapsed Time: 3:29:12 ETA:   7:31:32"
     ]
    },
    {
     "name": "stdout",
     "output_type": "stream",
     "text": [
      "\t Enregistrement intermédiaire effectué\n"
     ]
    },
    {
     "name": "stderr",
     "output_type": "stream",
     "text": [
      " 32% (7600 of 23505) |######             | Elapsed Time: 3:32:02 ETA:   5:49:31"
     ]
    },
    {
     "name": "stdout",
     "output_type": "stream",
     "text": [
      "\t Enregistrement intermédiaire effectué\n"
     ]
    },
    {
     "name": "stderr",
     "output_type": "stream",
     "text": [
      " 32% (7700 of 23505) |######             | Elapsed Time: 3:35:00 ETA:   5:25:27"
     ]
    },
    {
     "name": "stdout",
     "output_type": "stream",
     "text": [
      "\t Enregistrement intermédiaire effectué\n"
     ]
    },
    {
     "name": "stderr",
     "output_type": "stream",
     "text": [
      " 33% (7800 of 23505) |######             | Elapsed Time: 3:37:50 ETA:  12:21:09"
     ]
    },
    {
     "name": "stdout",
     "output_type": "stream",
     "text": [
      "\t Enregistrement intermédiaire effectué\n"
     ]
    },
    {
     "name": "stderr",
     "output_type": "stream",
     "text": [
      " 33% (7900 of 23505) |######             | Elapsed Time: 3:40:48 ETA:   6:44:57"
     ]
    },
    {
     "name": "stdout",
     "output_type": "stream",
     "text": [
      "\t Enregistrement intermédiaire effectué\n"
     ]
    },
    {
     "name": "stderr",
     "output_type": "stream",
     "text": [
      " 34% (8000 of 23505) |######             | Elapsed Time: 3:43:35 ETA:   6:03:22"
     ]
    },
    {
     "name": "stdout",
     "output_type": "stream",
     "text": [
      "\t Enregistrement intermédiaire effectué\n"
     ]
    },
    {
     "name": "stderr",
     "output_type": "stream",
     "text": [
      " 34% (8100 of 23505) |######             | Elapsed Time: 3:46:30 ETA:   7:02:20"
     ]
    },
    {
     "name": "stdout",
     "output_type": "stream",
     "text": [
      "\t Enregistrement intermédiaire effectué\n"
     ]
    },
    {
     "name": "stderr",
     "output_type": "stream",
     "text": [
      " 34% (8200 of 23505) |######             | Elapsed Time: 3:49:20 ETA:   8:16:22"
     ]
    },
    {
     "name": "stdout",
     "output_type": "stream",
     "text": [
      "\t Enregistrement intermédiaire effectué\n"
     ]
    },
    {
     "name": "stderr",
     "output_type": "stream",
     "text": [
      " 35% (8300 of 23505) |######             | Elapsed Time: 3:52:06 ETA:   7:06:13"
     ]
    },
    {
     "name": "stdout",
     "output_type": "stream",
     "text": [
      "\t Enregistrement intermédiaire effectué\n"
     ]
    },
    {
     "name": "stderr",
     "output_type": "stream",
     "text": [
      " 35% (8400 of 23505) |######             | Elapsed Time: 3:54:57 ETA:   6:35:42"
     ]
    },
    {
     "name": "stdout",
     "output_type": "stream",
     "text": [
      "\t Enregistrement intermédiaire effectué\n"
     ]
    },
    {
     "name": "stderr",
     "output_type": "stream",
     "text": [
      " 36% (8500 of 23505) |######             | Elapsed Time: 3:57:45 ETA:   7:43:39"
     ]
    },
    {
     "name": "stdout",
     "output_type": "stream",
     "text": [
      "\t Enregistrement intermédiaire effectué\n"
     ]
    },
    {
     "name": "stderr",
     "output_type": "stream",
     "text": [
      " 36% (8600 of 23505) |######             | Elapsed Time: 4:00:51 ETA:   7:17:02"
     ]
    },
    {
     "name": "stdout",
     "output_type": "stream",
     "text": [
      "\t Enregistrement intermédiaire effectué\n"
     ]
    },
    {
     "name": "stderr",
     "output_type": "stream",
     "text": [
      " 37% (8700 of 23505) |#######            | Elapsed Time: 4:03:39 ETA:   5:50:11"
     ]
    },
    {
     "name": "stdout",
     "output_type": "stream",
     "text": [
      "\t Enregistrement intermédiaire effectué\n"
     ]
    },
    {
     "name": "stderr",
     "output_type": "stream",
     "text": [
      " 37% (8800 of 23505) |#######            | Elapsed Time: 4:06:30 ETA:   5:42:04"
     ]
    },
    {
     "name": "stdout",
     "output_type": "stream",
     "text": [
      "\t Enregistrement intermédiaire effectué\n"
     ]
    },
    {
     "name": "stderr",
     "output_type": "stream",
     "text": [
      " 37% (8900 of 23505) |#######            | Elapsed Time: 4:09:05 ETA:   5:36:09"
     ]
    },
    {
     "name": "stdout",
     "output_type": "stream",
     "text": [
      "\t Enregistrement intermédiaire effectué\n"
     ]
    },
    {
     "name": "stderr",
     "output_type": "stream",
     "text": [
      " 38% (9000 of 23505) |#######            | Elapsed Time: 4:11:55 ETA:   6:36:18"
     ]
    },
    {
     "name": "stdout",
     "output_type": "stream",
     "text": [
      "\t Enregistrement intermédiaire effectué\n"
     ]
    },
    {
     "name": "stderr",
     "output_type": "stream",
     "text": [
      " 38% (9100 of 23505) |#######            | Elapsed Time: 4:14:41 ETA:   5:31:30"
     ]
    },
    {
     "name": "stdout",
     "output_type": "stream",
     "text": [
      "\t Enregistrement intermédiaire effectué\n"
     ]
    },
    {
     "name": "stderr",
     "output_type": "stream",
     "text": [
      " 39% (9200 of 23505) |#######            | Elapsed Time: 4:17:26 ETA:   6:44:16"
     ]
    },
    {
     "name": "stdout",
     "output_type": "stream",
     "text": [
      "\t Enregistrement intermédiaire effectué\n"
     ]
    },
    {
     "name": "stderr",
     "output_type": "stream",
     "text": [
      " 39% (9300 of 23505) |#######            | Elapsed Time: 4:20:10 ETA:   7:12:04"
     ]
    },
    {
     "name": "stdout",
     "output_type": "stream",
     "text": [
      "\t Enregistrement intermédiaire effectué\n"
     ]
    },
    {
     "name": "stderr",
     "output_type": "stream",
     "text": [
      " 39% (9400 of 23505) |#######            | Elapsed Time: 4:22:51 ETA:   7:23:25"
     ]
    },
    {
     "name": "stdout",
     "output_type": "stream",
     "text": [
      "\t Enregistrement intermédiaire effectué\n"
     ]
    },
    {
     "name": "stderr",
     "output_type": "stream",
     "text": [
      " 40% (9500 of 23505) |#######            | Elapsed Time: 4:25:30 ETA:   4:53:41"
     ]
    },
    {
     "name": "stdout",
     "output_type": "stream",
     "text": [
      "\t Enregistrement intermédiaire effectué\n"
     ]
    },
    {
     "name": "stderr",
     "output_type": "stream",
     "text": [
      " 40% (9600 of 23505) |#######            | Elapsed Time: 4:28:14 ETA:   7:27:45"
     ]
    },
    {
     "name": "stdout",
     "output_type": "stream",
     "text": [
      "\t Enregistrement intermédiaire effectué\n"
     ]
    },
    {
     "name": "stderr",
     "output_type": "stream",
     "text": [
      " 41% (9700 of 23505) |#######            | Elapsed Time: 4:30:58 ETA:   5:38:28"
     ]
    },
    {
     "name": "stdout",
     "output_type": "stream",
     "text": [
      "\t Enregistrement intermédiaire effectué\n"
     ]
    },
    {
     "name": "stderr",
     "output_type": "stream",
     "text": [
      " 41% (9800 of 23505) |#######            | Elapsed Time: 4:33:42 ETA:   4:20:04"
     ]
    },
    {
     "name": "stdout",
     "output_type": "stream",
     "text": [
      "\t Enregistrement intermédiaire effectué\n"
     ]
    },
    {
     "name": "stderr",
     "output_type": "stream",
     "text": [
      " 42% (9900 of 23505) |########           | Elapsed Time: 4:36:22 ETA:   6:08:04"
     ]
    },
    {
     "name": "stdout",
     "output_type": "stream",
     "text": [
      "\t Enregistrement intermédiaire effectué\n"
     ]
    },
    {
     "name": "stderr",
     "output_type": "stream",
     "text": [
      " 42% (10000 of 23505) |#######           | Elapsed Time: 4:39:07 ETA:   5:33:06"
     ]
    },
    {
     "name": "stdout",
     "output_type": "stream",
     "text": [
      "\t Enregistrement intermédiaire effectué\n"
     ]
    },
    {
     "name": "stderr",
     "output_type": "stream",
     "text": [
      " 42% (10100 of 23505) |#######           | Elapsed Time: 4:41:50 ETA:   5:40:34"
     ]
    },
    {
     "name": "stdout",
     "output_type": "stream",
     "text": [
      "\t Enregistrement intermédiaire effectué\n"
     ]
    },
    {
     "name": "stderr",
     "output_type": "stream",
     "text": [
      " 43% (10200 of 23505) |#######           | Elapsed Time: 4:44:44 ETA:   7:23:41"
     ]
    },
    {
     "name": "stdout",
     "output_type": "stream",
     "text": [
      "\t Enregistrement intermédiaire effectué\n"
     ]
    },
    {
     "name": "stderr",
     "output_type": "stream",
     "text": [
      " 43% (10300 of 23505) |#######           | Elapsed Time: 4:47:26 ETA:   6:43:38"
     ]
    },
    {
     "name": "stdout",
     "output_type": "stream",
     "text": [
      "\t Enregistrement intermédiaire effectué\n"
     ]
    },
    {
     "name": "stderr",
     "output_type": "stream",
     "text": [
      " 44% (10400 of 23505) |#######           | Elapsed Time: 4:50:13 ETA:   4:23:16"
     ]
    },
    {
     "name": "stdout",
     "output_type": "stream",
     "text": [
      "\t Enregistrement intermédiaire effectué\n"
     ]
    },
    {
     "name": "stderr",
     "output_type": "stream",
     "text": [
      " 44% (10500 of 23505) |########          | Elapsed Time: 4:52:48 ETA:   5:07:08"
     ]
    },
    {
     "name": "stdout",
     "output_type": "stream",
     "text": [
      "\t Enregistrement intermédiaire effectué\n"
     ]
    },
    {
     "name": "stderr",
     "output_type": "stream",
     "text": [
      " 45% (10600 of 23505) |########          | Elapsed Time: 4:55:39 ETA:   7:12:15"
     ]
    },
    {
     "name": "stdout",
     "output_type": "stream",
     "text": [
      "\t Enregistrement intermédiaire effectué\n"
     ]
    },
    {
     "name": "stderr",
     "output_type": "stream",
     "text": [
      " 45% (10700 of 23505) |########          | Elapsed Time: 4:58:20 ETA:   5:12:36"
     ]
    },
    {
     "name": "stdout",
     "output_type": "stream",
     "text": [
      "\t Enregistrement intermédiaire effectué\n"
     ]
    },
    {
     "name": "stderr",
     "output_type": "stream",
     "text": [
      " 45% (10800 of 23505) |########          | Elapsed Time: 5:00:55 ETA:   5:12:52"
     ]
    },
    {
     "name": "stdout",
     "output_type": "stream",
     "text": [
      "\t Enregistrement intermédiaire effectué\n"
     ]
    },
    {
     "name": "stderr",
     "output_type": "stream",
     "text": [
      " 46% (10900 of 23505) |########          | Elapsed Time: 5:03:47 ETA:   7:23:32"
     ]
    },
    {
     "name": "stdout",
     "output_type": "stream",
     "text": [
      "\t Enregistrement intermédiaire effectué\n"
     ]
    },
    {
     "name": "stderr",
     "output_type": "stream",
     "text": [
      " 46% (11000 of 23505) |########          | Elapsed Time: 5:06:28 ETA:   6:42:06"
     ]
    },
    {
     "name": "stdout",
     "output_type": "stream",
     "text": [
      "\t Enregistrement intermédiaire effectué\n"
     ]
    },
    {
     "name": "stderr",
     "output_type": "stream",
     "text": [
      " 47% (11100 of 23505) |########          | Elapsed Time: 5:09:10 ETA:   7:28:19"
     ]
    },
    {
     "name": "stdout",
     "output_type": "stream",
     "text": [
      "\t Enregistrement intermédiaire effectué\n"
     ]
    },
    {
     "name": "stderr",
     "output_type": "stream",
     "text": [
      " 47% (11200 of 23505) |########          | Elapsed Time: 5:12:04 ETA:   4:47:55"
     ]
    },
    {
     "name": "stdout",
     "output_type": "stream",
     "text": [
      "\t Enregistrement intermédiaire effectué\n"
     ]
    },
    {
     "name": "stderr",
     "output_type": "stream",
     "text": [
      " 48% (11300 of 23505) |########          | Elapsed Time: 5:14:51 ETA:   4:36:02"
     ]
    },
    {
     "name": "stdout",
     "output_type": "stream",
     "text": [
      "\t Enregistrement intermédiaire effectué\n"
     ]
    },
    {
     "name": "stderr",
     "output_type": "stream",
     "text": [
      " 48% (11400 of 23505) |########          | Elapsed Time: 5:17:38 ETA:   4:12:19"
     ]
    },
    {
     "name": "stdout",
     "output_type": "stream",
     "text": [
      "\t Enregistrement intermédiaire effectué\n"
     ]
    },
    {
     "name": "stderr",
     "output_type": "stream",
     "text": [
      " 48% (11500 of 23505) |########          | Elapsed Time: 5:20:12 ETA:   5:26:29"
     ]
    },
    {
     "name": "stdout",
     "output_type": "stream",
     "text": [
      "\t Enregistrement intermédiaire effectué\n"
     ]
    },
    {
     "name": "stderr",
     "output_type": "stream",
     "text": [
      " 49% (11600 of 23505) |########          | Elapsed Time: 5:22:54 ETA:   5:38:06"
     ]
    },
    {
     "name": "stdout",
     "output_type": "stream",
     "text": [
      "\t Enregistrement intermédiaire effectué\n"
     ]
    },
    {
     "name": "stderr",
     "output_type": "stream",
     "text": [
      " 49% (11700 of 23505) |########          | Elapsed Time: 5:25:43 ETA:   4:35:25"
     ]
    },
    {
     "name": "stdout",
     "output_type": "stream",
     "text": [
      "\t Enregistrement intermédiaire effectué\n"
     ]
    },
    {
     "name": "stderr",
     "output_type": "stream",
     "text": [
      " 50% (11800 of 23505) |#########         | Elapsed Time: 5:28:15 ETA:   4:14:41"
     ]
    },
    {
     "name": "stdout",
     "output_type": "stream",
     "text": [
      "\t Enregistrement intermédiaire effectué\n"
     ]
    },
    {
     "name": "stderr",
     "output_type": "stream",
     "text": [
      " 50% (11900 of 23505) |#########         | Elapsed Time: 5:30:59 ETA:   5:01:36"
     ]
    },
    {
     "name": "stdout",
     "output_type": "stream",
     "text": [
      "\t Enregistrement intermédiaire effectué\n"
     ]
    },
    {
     "name": "stderr",
     "output_type": "stream",
     "text": [
      " 51% (12000 of 23505) |#########         | Elapsed Time: 5:33:42 ETA:   4:27:51"
     ]
    },
    {
     "name": "stdout",
     "output_type": "stream",
     "text": [
      "\t Enregistrement intermédiaire effectué\n"
     ]
    },
    {
     "name": "stderr",
     "output_type": "stream",
     "text": [
      " 51% (12100 of 23505) |#########         | Elapsed Time: 5:36:29 ETA:   5:28:20"
     ]
    },
    {
     "name": "stdout",
     "output_type": "stream",
     "text": [
      "\t Enregistrement intermédiaire effectué\n"
     ]
    },
    {
     "name": "stderr",
     "output_type": "stream",
     "text": [
      " 51% (12200 of 23505) |#########         | Elapsed Time: 5:39:07 ETA:   5:35:00"
     ]
    },
    {
     "name": "stdout",
     "output_type": "stream",
     "text": [
      "\t Enregistrement intermédiaire effectué\n"
     ]
    },
    {
     "name": "stderr",
     "output_type": "stream",
     "text": [
      " 52% (12300 of 23505) |#########         | Elapsed Time: 5:41:54 ETA:   5:03:52"
     ]
    },
    {
     "name": "stdout",
     "output_type": "stream",
     "text": [
      "\t Enregistrement intermédiaire effectué\n"
     ]
    },
    {
     "name": "stderr",
     "output_type": "stream",
     "text": [
      " 52% (12400 of 23505) |#########         | Elapsed Time: 5:44:39 ETA:   4:50:49"
     ]
    },
    {
     "name": "stdout",
     "output_type": "stream",
     "text": [
      "\t Enregistrement intermédiaire effectué\n"
     ]
    },
    {
     "name": "stderr",
     "output_type": "stream",
     "text": [
      " 53% (12500 of 23505) |#########         | Elapsed Time: 5:47:32 ETA:   6:27:42"
     ]
    },
    {
     "name": "stdout",
     "output_type": "stream",
     "text": [
      "\t Enregistrement intermédiaire effectué\n"
     ]
    },
    {
     "name": "stderr",
     "output_type": "stream",
     "text": [
      " 53% (12600 of 23505) |#########         | Elapsed Time: 5:50:15 ETA:   3:52:16"
     ]
    },
    {
     "name": "stdout",
     "output_type": "stream",
     "text": [
      "\t Enregistrement intermédiaire effectué\n"
     ]
    },
    {
     "name": "stderr",
     "output_type": "stream",
     "text": [
      " 54% (12700 of 23505) |#########         | Elapsed Time: 5:52:51 ETA:   3:45:23"
     ]
    },
    {
     "name": "stdout",
     "output_type": "stream",
     "text": [
      "\t Enregistrement intermédiaire effectué\n"
     ]
    },
    {
     "name": "stderr",
     "output_type": "stream",
     "text": [
      " 54% (12800 of 23505) |#########         | Elapsed Time: 5:55:21 ETA:   5:26:18"
     ]
    },
    {
     "name": "stdout",
     "output_type": "stream",
     "text": [
      "\t Enregistrement intermédiaire effectué\n"
     ]
    },
    {
     "name": "stderr",
     "output_type": "stream",
     "text": [
      " 54% (12900 of 23505) |#########         | Elapsed Time: 5:58:09 ETA:   3:50:36"
     ]
    },
    {
     "name": "stdout",
     "output_type": "stream",
     "text": [
      "\t Enregistrement intermédiaire effectué\n"
     ]
    },
    {
     "name": "stderr",
     "output_type": "stream",
     "text": [
      " 55% (13000 of 23505) |#########         | Elapsed Time: 6:00:45 ETA:   4:17:04"
     ]
    },
    {
     "name": "stdout",
     "output_type": "stream",
     "text": [
      "\t Enregistrement intermédiaire effectué\n"
     ]
    },
    {
     "name": "stderr",
     "output_type": "stream",
     "text": [
      " 55% (13100 of 23505) |##########        | Elapsed Time: 6:03:28 ETA:   4:40:46"
     ]
    },
    {
     "name": "stdout",
     "output_type": "stream",
     "text": [
      "\t Enregistrement intermédiaire effectué\n"
     ]
    },
    {
     "name": "stderr",
     "output_type": "stream",
     "text": [
      " 56% (13200 of 23505) |##########        | Elapsed Time: 6:06:08 ETA:   6:00:49"
     ]
    },
    {
     "name": "stdout",
     "output_type": "stream",
     "text": [
      "\t Enregistrement intermédiaire effectué\n"
     ]
    },
    {
     "name": "stderr",
     "output_type": "stream",
     "text": [
      " 56% (13300 of 23505) |##########        | Elapsed Time: 6:09:05 ETA:   3:15:19"
     ]
    },
    {
     "name": "stdout",
     "output_type": "stream",
     "text": [
      "\t Enregistrement intermédiaire effectué\n"
     ]
    },
    {
     "name": "stderr",
     "output_type": "stream",
     "text": [
      " 57% (13400 of 23505) |##########        | Elapsed Time: 6:11:44 ETA:   4:41:15"
     ]
    },
    {
     "name": "stdout",
     "output_type": "stream",
     "text": [
      "\t Enregistrement intermédiaire effectué\n"
     ]
    },
    {
     "name": "stderr",
     "output_type": "stream",
     "text": [
      " 57% (13500 of 23505) |##########        | Elapsed Time: 6:14:18 ETA:   3:15:09"
     ]
    },
    {
     "name": "stdout",
     "output_type": "stream",
     "text": [
      "\t Enregistrement intermédiaire effectué\n"
     ]
    },
    {
     "name": "stderr",
     "output_type": "stream",
     "text": [
      " 57% (13600 of 23505) |##########        | Elapsed Time: 6:16:57 ETA:   5:53:33"
     ]
    },
    {
     "name": "stdout",
     "output_type": "stream",
     "text": [
      "\t Enregistrement intermédiaire effectué\n"
     ]
    },
    {
     "name": "stderr",
     "output_type": "stream",
     "text": [
      " 58% (13700 of 23505) |##########        | Elapsed Time: 6:19:39 ETA:   5:08:07"
     ]
    },
    {
     "name": "stdout",
     "output_type": "stream",
     "text": [
      "\t Enregistrement intermédiaire effectué\n"
     ]
    },
    {
     "name": "stderr",
     "output_type": "stream",
     "text": [
      " 58% (13800 of 23505) |##########        | Elapsed Time: 6:22:33 ETA:   6:39:00"
     ]
    },
    {
     "name": "stdout",
     "output_type": "stream",
     "text": [
      "\t Enregistrement intermédiaire effectué\n"
     ]
    },
    {
     "name": "stderr",
     "output_type": "stream",
     "text": [
      " 59% (13900 of 23505) |##########        | Elapsed Time: 6:25:52 ETA:   5:45:30"
     ]
    },
    {
     "name": "stdout",
     "output_type": "stream",
     "text": [
      "\t Enregistrement intermédiaire effectué\n"
     ]
    },
    {
     "name": "stderr",
     "output_type": "stream",
     "text": [
      " 59% (14000 of 23505) |##########        | Elapsed Time: 6:28:51 ETA:   3:36:56"
     ]
    },
    {
     "name": "stdout",
     "output_type": "stream",
     "text": [
      "\t Enregistrement intermédiaire effectué\n"
     ]
    },
    {
     "name": "stderr",
     "output_type": "stream",
     "text": [
      " 59% (14100 of 23505) |##########        | Elapsed Time: 6:31:38 ETA:   6:21:30"
     ]
    },
    {
     "name": "stdout",
     "output_type": "stream",
     "text": [
      "\t Enregistrement intermédiaire effectué\n"
     ]
    },
    {
     "name": "stderr",
     "output_type": "stream",
     "text": [
      " 60% (14200 of 23505) |##########        | Elapsed Time: 6:34:30 ETA:   4:09:27"
     ]
    },
    {
     "name": "stdout",
     "output_type": "stream",
     "text": [
      "\t Enregistrement intermédiaire effectué\n"
     ]
    },
    {
     "name": "stderr",
     "output_type": "stream",
     "text": [
      " 60% (14300 of 23505) |##########        | Elapsed Time: 6:37:18 ETA:   3:51:22"
     ]
    },
    {
     "name": "stdout",
     "output_type": "stream",
     "text": [
      "\t Enregistrement intermédiaire effectué\n"
     ]
    },
    {
     "name": "stderr",
     "output_type": "stream",
     "text": [
      " 61% (14400 of 23505) |###########       | Elapsed Time: 6:39:58 ETA:   6:24:24"
     ]
    },
    {
     "name": "stdout",
     "output_type": "stream",
     "text": [
      "\t Enregistrement intermédiaire effectué\n"
     ]
    },
    {
     "name": "stderr",
     "output_type": "stream",
     "text": [
      " 61% (14500 of 23505) |###########       | Elapsed Time: 6:42:33 ETA:   3:29:07"
     ]
    },
    {
     "name": "stdout",
     "output_type": "stream",
     "text": [
      "\t Enregistrement intermédiaire effectué\n"
     ]
    },
    {
     "name": "stderr",
     "output_type": "stream",
     "text": [
      " 62% (14600 of 23505) |###########       | Elapsed Time: 6:45:18 ETA:   5:03:10"
     ]
    },
    {
     "name": "stdout",
     "output_type": "stream",
     "text": [
      "\t Enregistrement intermédiaire effectué\n"
     ]
    },
    {
     "name": "stderr",
     "output_type": "stream",
     "text": [
      " 62% (14700 of 23505) |###########       | Elapsed Time: 6:47:56 ETA:   2:48:56"
     ]
    },
    {
     "name": "stdout",
     "output_type": "stream",
     "text": [
      "\t Enregistrement intermédiaire effectué\n"
     ]
    },
    {
     "name": "stderr",
     "output_type": "stream",
     "text": [
      " 62% (14800 of 23505) |###########       | Elapsed Time: 6:50:39 ETA:   4:42:36"
     ]
    },
    {
     "name": "stdout",
     "output_type": "stream",
     "text": [
      "\t Enregistrement intermédiaire effectué\n"
     ]
    },
    {
     "name": "stderr",
     "output_type": "stream",
     "text": [
      " 63% (14900 of 23505) |###########       | Elapsed Time: 6:53:19 ETA:   3:01:36"
     ]
    },
    {
     "name": "stdout",
     "output_type": "stream",
     "text": [
      "\t Enregistrement intermédiaire effectué\n"
     ]
    },
    {
     "name": "stderr",
     "output_type": "stream",
     "text": [
      " 63% (15000 of 23505) |###########       | Elapsed Time: 6:56:01 ETA:   5:04:29"
     ]
    },
    {
     "name": "stdout",
     "output_type": "stream",
     "text": [
      "\t Enregistrement intermédiaire effectué\n"
     ]
    },
    {
     "name": "stderr",
     "output_type": "stream",
     "text": [
      " 64% (15100 of 23505) |###########       | Elapsed Time: 6:58:40 ETA:   3:06:34"
     ]
    },
    {
     "name": "stdout",
     "output_type": "stream",
     "text": [
      "\t Enregistrement intermédiaire effectué\n"
     ]
    },
    {
     "name": "stderr",
     "output_type": "stream",
     "text": [
      " 64% (15200 of 23505) |###########       | Elapsed Time: 7:01:25 ETA:   8:16:16"
     ]
    },
    {
     "name": "stdout",
     "output_type": "stream",
     "text": [
      "\t Enregistrement intermédiaire effectué\n"
     ]
    },
    {
     "name": "stderr",
     "output_type": "stream",
     "text": [
      " 65% (15300 of 23505) |###########       | Elapsed Time: 7:04:21 ETA:   2:49:37"
     ]
    },
    {
     "name": "stdout",
     "output_type": "stream",
     "text": [
      "\t Enregistrement intermédiaire effectué\n"
     ]
    },
    {
     "name": "stderr",
     "output_type": "stream",
     "text": [
      " 65% (15400 of 23505) |###########       | Elapsed Time: 7:07:02 ETA:   2:30:19"
     ]
    },
    {
     "name": "stdout",
     "output_type": "stream",
     "text": [
      "\t Enregistrement intermédiaire effectué\n"
     ]
    },
    {
     "name": "stderr",
     "output_type": "stream",
     "text": [
      " 65% (15500 of 23505) |###########       | Elapsed Time: 7:09:41 ETA:   2:37:37"
     ]
    },
    {
     "name": "stdout",
     "output_type": "stream",
     "text": [
      "\t Enregistrement intermédiaire effectué\n"
     ]
    },
    {
     "name": "stderr",
     "output_type": "stream",
     "text": [
      " 66% (15600 of 23505) |###########       | Elapsed Time: 7:12:20 ETA:   2:59:21"
     ]
    },
    {
     "name": "stdout",
     "output_type": "stream",
     "text": [
      "\t Enregistrement intermédiaire effectué\n"
     ]
    },
    {
     "name": "stderr",
     "output_type": "stream",
     "text": [
      " 66% (15700 of 23505) |############      | Elapsed Time: 7:15:15 ETA:   4:14:55"
     ]
    },
    {
     "name": "stdout",
     "output_type": "stream",
     "text": [
      "\t Enregistrement intermédiaire effectué\n"
     ]
    },
    {
     "name": "stderr",
     "output_type": "stream",
     "text": [
      " 67% (15800 of 23505) |############      | Elapsed Time: 7:18:04 ETA:   3:58:06"
     ]
    },
    {
     "name": "stdout",
     "output_type": "stream",
     "text": [
      "\t Enregistrement intermédiaire effectué\n"
     ]
    },
    {
     "name": "stderr",
     "output_type": "stream",
     "text": [
      " 67% (15900 of 23505) |############      | Elapsed Time: 7:20:39 ETA:   2:33:59"
     ]
    },
    {
     "name": "stdout",
     "output_type": "stream",
     "text": [
      "\t Enregistrement intermédiaire effectué\n"
     ]
    },
    {
     "name": "stderr",
     "output_type": "stream",
     "text": [
      " 68% (16000 of 23505) |############      | Elapsed Time: 7:23:29 ETA:   3:36:58"
     ]
    },
    {
     "name": "stdout",
     "output_type": "stream",
     "text": [
      "\t Enregistrement intermédiaire effectué\n"
     ]
    },
    {
     "name": "stderr",
     "output_type": "stream",
     "text": [
      " 68% (16100 of 23505) |############      | Elapsed Time: 7:26:08 ETA:   2:52:01"
     ]
    },
    {
     "name": "stdout",
     "output_type": "stream",
     "text": [
      "\t Enregistrement intermédiaire effectué\n"
     ]
    },
    {
     "name": "stderr",
     "output_type": "stream",
     "text": [
      " 68% (16200 of 23505) |############      | Elapsed Time: 7:28:47 ETA:   3:51:44"
     ]
    },
    {
     "name": "stdout",
     "output_type": "stream",
     "text": [
      "\t Enregistrement intermédiaire effectué\n"
     ]
    },
    {
     "name": "stderr",
     "output_type": "stream",
     "text": [
      " 69% (16300 of 23505) |############      | Elapsed Time: 7:31:25 ETA:   3:01:04"
     ]
    },
    {
     "name": "stdout",
     "output_type": "stream",
     "text": [
      "\t Enregistrement intermédiaire effectué\n"
     ]
    },
    {
     "name": "stderr",
     "output_type": "stream",
     "text": [
      " 69% (16400 of 23505) |############      | Elapsed Time: 7:34:05 ETA:   3:25:28"
     ]
    },
    {
     "name": "stdout",
     "output_type": "stream",
     "text": [
      "\t Enregistrement intermédiaire effectué\n"
     ]
    },
    {
     "name": "stderr",
     "output_type": "stream",
     "text": [
      " 70% (16500 of 23505) |############      | Elapsed Time: 7:36:53 ETA:   3:09:02"
     ]
    },
    {
     "name": "stdout",
     "output_type": "stream",
     "text": [
      "\t Enregistrement intermédiaire effectué\n"
     ]
    },
    {
     "name": "stderr",
     "output_type": "stream",
     "text": [
      " 70% (16600 of 23505) |############      | Elapsed Time: 7:39:37 ETA:   3:01:39"
     ]
    },
    {
     "name": "stdout",
     "output_type": "stream",
     "text": [
      "\t Enregistrement intermédiaire effectué\n"
     ]
    },
    {
     "name": "stderr",
     "output_type": "stream",
     "text": [
      " 71% (16700 of 23505) |############      | Elapsed Time: 7:42:25 ETA:   2:51:22"
     ]
    },
    {
     "name": "stdout",
     "output_type": "stream",
     "text": [
      "\t Enregistrement intermédiaire effectué\n"
     ]
    },
    {
     "name": "stderr",
     "output_type": "stream",
     "text": [
      " 71% (16800 of 23505) |############      | Elapsed Time: 7:45:03 ETA:   3:56:23"
     ]
    },
    {
     "name": "stdout",
     "output_type": "stream",
     "text": [
      "\t Enregistrement intermédiaire effectué\n"
     ]
    },
    {
     "name": "stderr",
     "output_type": "stream",
     "text": [
      " 71% (16900 of 23505) |############      | Elapsed Time: 7:47:47 ETA:   2:21:11"
     ]
    },
    {
     "name": "stdout",
     "output_type": "stream",
     "text": [
      "\t Enregistrement intermédiaire effectué\n"
     ]
    },
    {
     "name": "stderr",
     "output_type": "stream",
     "text": [
      " 72% (17000 of 23505) |#############     | Elapsed Time: 7:50:49 ETA:   2:31:41"
     ]
    },
    {
     "name": "stdout",
     "output_type": "stream",
     "text": [
      "\t Enregistrement intermédiaire effectué\n"
     ]
    },
    {
     "name": "stderr",
     "output_type": "stream",
     "text": [
      " 72% (17100 of 23505) |#############     | Elapsed Time: 7:53:38 ETA:   2:35:25"
     ]
    },
    {
     "name": "stdout",
     "output_type": "stream",
     "text": [
      "\t Enregistrement intermédiaire effectué\n"
     ]
    },
    {
     "name": "stderr",
     "output_type": "stream",
     "text": [
      " 73% (17200 of 23505) |#############     | Elapsed Time: 7:56:24 ETA:   3:38:51"
     ]
    },
    {
     "name": "stdout",
     "output_type": "stream",
     "text": [
      "\t Enregistrement intermédiaire effectué\n"
     ]
    },
    {
     "name": "stderr",
     "output_type": "stream",
     "text": [
      " 73% (17300 of 23505) |#############     | Elapsed Time: 7:59:02 ETA:   2:18:30"
     ]
    },
    {
     "name": "stdout",
     "output_type": "stream",
     "text": [
      "\t Enregistrement intermédiaire effectué\n"
     ]
    },
    {
     "name": "stderr",
     "output_type": "stream",
     "text": [
      " 74% (17400 of 23505) |#############     | Elapsed Time: 8:01:41 ETA:   3:35:22"
     ]
    },
    {
     "name": "stdout",
     "output_type": "stream",
     "text": [
      "\t Enregistrement intermédiaire effectué\n"
     ]
    },
    {
     "name": "stderr",
     "output_type": "stream",
     "text": [
      " 74% (17500 of 23505) |#############     | Elapsed Time: 8:04:34 ETA:   3:43:26"
     ]
    },
    {
     "name": "stdout",
     "output_type": "stream",
     "text": [
      "\t Enregistrement intermédiaire effectué\n"
     ]
    },
    {
     "name": "stderr",
     "output_type": "stream",
     "text": [
      " 74% (17600 of 23505) |#############     | Elapsed Time: 8:07:07 ETA:   3:55:01"
     ]
    },
    {
     "name": "stdout",
     "output_type": "stream",
     "text": [
      "\t Enregistrement intermédiaire effectué\n"
     ]
    },
    {
     "name": "stderr",
     "output_type": "stream",
     "text": [
      " 75% (17700 of 23505) |#############     | Elapsed Time: 8:09:51 ETA:   2:19:45"
     ]
    },
    {
     "name": "stdout",
     "output_type": "stream",
     "text": [
      "\t Enregistrement intermédiaire effectué\n"
     ]
    },
    {
     "name": "stderr",
     "output_type": "stream",
     "text": [
      " 75% (17800 of 23505) |#############     | Elapsed Time: 8:12:39 ETA:   2:05:04"
     ]
    },
    {
     "name": "stdout",
     "output_type": "stream",
     "text": [
      "\t Enregistrement intermédiaire effectué\n"
     ]
    },
    {
     "name": "stderr",
     "output_type": "stream",
     "text": [
      " 76% (17900 of 23505) |#############     | Elapsed Time: 8:15:22 ETA:   2:01:35"
     ]
    },
    {
     "name": "stdout",
     "output_type": "stream",
     "text": [
      "\t Enregistrement intermédiaire effectué\n"
     ]
    },
    {
     "name": "stderr",
     "output_type": "stream",
     "text": [
      " 76% (18000 of 23505) |#############     | Elapsed Time: 8:18:11 ETA:   2:03:41"
     ]
    },
    {
     "name": "stdout",
     "output_type": "stream",
     "text": [
      "\t Enregistrement intermédiaire effectué\n"
     ]
    },
    {
     "name": "stderr",
     "output_type": "stream",
     "text": [
      " 77% (18100 of 23505) |#############     | Elapsed Time: 8:20:55 ETA:   2:13:15"
     ]
    },
    {
     "name": "stdout",
     "output_type": "stream",
     "text": [
      "\t Enregistrement intermédiaire effectué\n"
     ]
    },
    {
     "name": "stderr",
     "output_type": "stream",
     "text": [
      " 77% (18200 of 23505) |#############     | Elapsed Time: 8:23:45 ETA:   3:19:53"
     ]
    },
    {
     "name": "stdout",
     "output_type": "stream",
     "text": [
      "\t Enregistrement intermédiaire effectué\n"
     ]
    },
    {
     "name": "stderr",
     "output_type": "stream",
     "text": [
      " 77% (18300 of 23505) |##############    | Elapsed Time: 8:26:39 ETA:   2:25:38"
     ]
    },
    {
     "name": "stdout",
     "output_type": "stream",
     "text": [
      "\t Enregistrement intermédiaire effectué\n"
     ]
    },
    {
     "name": "stderr",
     "output_type": "stream",
     "text": [
      " 78% (18400 of 23505) |##############    | Elapsed Time: 8:29:39 ETA:   3:23:33"
     ]
    },
    {
     "name": "stdout",
     "output_type": "stream",
     "text": [
      "\t Enregistrement intermédiaire effectué\n"
     ]
    },
    {
     "name": "stderr",
     "output_type": "stream",
     "text": [
      " 78% (18500 of 23505) |##############    | Elapsed Time: 8:32:57 ETA:   7:11:59"
     ]
    },
    {
     "name": "stdout",
     "output_type": "stream",
     "text": [
      "\t Enregistrement intermédiaire effectué\n"
     ]
    },
    {
     "name": "stderr",
     "output_type": "stream",
     "text": [
      " 79% (18600 of 23505) |##############    | Elapsed Time: 8:35:48 ETA:   2:34:15"
     ]
    },
    {
     "name": "stdout",
     "output_type": "stream",
     "text": [
      "\t Enregistrement intermédiaire effectué\n"
     ]
    },
    {
     "name": "stderr",
     "output_type": "stream",
     "text": [
      " 79% (18700 of 23505) |##############    | Elapsed Time: 8:38:41 ETA:   2:11:06"
     ]
    },
    {
     "name": "stdout",
     "output_type": "stream",
     "text": [
      "\t Enregistrement intermédiaire effectué\n"
     ]
    },
    {
     "name": "stderr",
     "output_type": "stream",
     "text": [
      " 79% (18800 of 23505) |##############    | Elapsed Time: 8:41:29 ETA:   2:28:14"
     ]
    },
    {
     "name": "stdout",
     "output_type": "stream",
     "text": [
      "\t Enregistrement intermédiaire effectué\n"
     ]
    },
    {
     "name": "stderr",
     "output_type": "stream",
     "text": [
      " 80% (18900 of 23505) |##############    | Elapsed Time: 8:44:27 ETA:   3:53:35"
     ]
    },
    {
     "name": "stdout",
     "output_type": "stream",
     "text": [
      "\t Enregistrement intermédiaire effectué\n"
     ]
    },
    {
     "name": "stderr",
     "output_type": "stream",
     "text": [
      " 80% (19000 of 23505) |##############    | Elapsed Time: 8:47:21 ETA:   2:02:45"
     ]
    },
    {
     "name": "stdout",
     "output_type": "stream",
     "text": [
      "\t Enregistrement intermédiaire effectué\n"
     ]
    },
    {
     "name": "stderr",
     "output_type": "stream",
     "text": [
      " 81% (19100 of 23505) |##############    | Elapsed Time: 8:50:01 ETA:   2:36:37"
     ]
    },
    {
     "name": "stdout",
     "output_type": "stream",
     "text": [
      "\t Enregistrement intermédiaire effectué\n"
     ]
    },
    {
     "name": "stderr",
     "output_type": "stream",
     "text": [
      " 81% (19200 of 23505) |##############    | Elapsed Time: 8:52:48 ETA:   2:12:02"
     ]
    },
    {
     "name": "stdout",
     "output_type": "stream",
     "text": [
      "\t Enregistrement intermédiaire effectué\n"
     ]
    },
    {
     "name": "stderr",
     "output_type": "stream",
     "text": [
      " 82% (19300 of 23505) |##############    | Elapsed Time: 8:55:39 ETA:   1:22:41"
     ]
    },
    {
     "name": "stdout",
     "output_type": "stream",
     "text": [
      "\t Enregistrement intermédiaire effectué\n"
     ]
    },
    {
     "name": "stderr",
     "output_type": "stream",
     "text": [
      " 82% (19400 of 23505) |##############    | Elapsed Time: 8:58:31 ETA:   2:34:11"
     ]
    },
    {
     "name": "stdout",
     "output_type": "stream",
     "text": [
      "\t Enregistrement intermédiaire effectué\n"
     ]
    },
    {
     "name": "stderr",
     "output_type": "stream",
     "text": [
      " 82% (19500 of 23505) |##############    | Elapsed Time: 9:01:21 ETA:   1:49:11"
     ]
    },
    {
     "name": "stdout",
     "output_type": "stream",
     "text": [
      "\t Enregistrement intermédiaire effectué\n"
     ]
    },
    {
     "name": "stderr",
     "output_type": "stream",
     "text": [
      " 83% (19600 of 23505) |###############   | Elapsed Time: 9:04:14 ETA:   2:17:13"
     ]
    },
    {
     "name": "stdout",
     "output_type": "stream",
     "text": [
      "\t Enregistrement intermédiaire effectué\n"
     ]
    },
    {
     "name": "stderr",
     "output_type": "stream",
     "text": [
      " 83% (19700 of 23505) |###############   | Elapsed Time: 9:06:49 ETA:   1:14:33"
     ]
    },
    {
     "name": "stdout",
     "output_type": "stream",
     "text": [
      "\t Enregistrement intermédiaire effectué\n"
     ]
    },
    {
     "name": "stderr",
     "output_type": "stream",
     "text": [
      " 84% (19800 of 23505) |###############   | Elapsed Time: 9:09:47 ETA:   1:22:25"
     ]
    },
    {
     "name": "stdout",
     "output_type": "stream",
     "text": [
      "\t Enregistrement intermédiaire effectué\n"
     ]
    },
    {
     "name": "stderr",
     "output_type": "stream",
     "text": [
      " 84% (19900 of 23505) |###############   | Elapsed Time: 9:12:32 ETA:   1:34:38"
     ]
    },
    {
     "name": "stdout",
     "output_type": "stream",
     "text": [
      "\t Enregistrement intermédiaire effectué\n"
     ]
    },
    {
     "name": "stderr",
     "output_type": "stream",
     "text": [
      " 85% (20000 of 23505) |###############   | Elapsed Time: 9:15:19 ETA:   1:56:54"
     ]
    },
    {
     "name": "stdout",
     "output_type": "stream",
     "text": [
      "\t Enregistrement intermédiaire effectué\n"
     ]
    },
    {
     "name": "stderr",
     "output_type": "stream",
     "text": [
      " 85% (20100 of 23505) |###############   | Elapsed Time: 9:18:08 ETA:   1:23:41"
     ]
    },
    {
     "name": "stdout",
     "output_type": "stream",
     "text": [
      "\t Enregistrement intermédiaire effectué\n"
     ]
    },
    {
     "name": "stderr",
     "output_type": "stream",
     "text": [
      " 85% (20200 of 23505) |###############   | Elapsed Time: 9:21:02 ETA:   1:49:41"
     ]
    },
    {
     "name": "stdout",
     "output_type": "stream",
     "text": [
      "\t Enregistrement intermédiaire effectué\n"
     ]
    },
    {
     "name": "stderr",
     "output_type": "stream",
     "text": [
      " 86% (20300 of 23505) |###############   | Elapsed Time: 9:23:52 ETA:   1:51:54"
     ]
    },
    {
     "name": "stdout",
     "output_type": "stream",
     "text": [
      "\t Enregistrement intermédiaire effectué\n"
     ]
    },
    {
     "name": "stderr",
     "output_type": "stream",
     "text": [
      " 86% (20400 of 23505) |###############   | Elapsed Time: 9:26:47 ETA:   1:40:51"
     ]
    },
    {
     "name": "stdout",
     "output_type": "stream",
     "text": [
      "\t Enregistrement intermédiaire effectué\n"
     ]
    },
    {
     "name": "stderr",
     "output_type": "stream",
     "text": [
      " 87% (20500 of 23505) |###############   | Elapsed Time: 9:29:34 ETA:   1:28:29"
     ]
    },
    {
     "name": "stdout",
     "output_type": "stream",
     "text": [
      "\t Enregistrement intermédiaire effectué\n"
     ]
    },
    {
     "name": "stderr",
     "output_type": "stream",
     "text": [
      " 87% (20600 of 23505) |###############   | Elapsed Time: 9:32:25 ETA:   1:04:23"
     ]
    },
    {
     "name": "stdout",
     "output_type": "stream",
     "text": [
      "\t Enregistrement intermédiaire effectué\n"
     ]
    },
    {
     "name": "stderr",
     "output_type": "stream",
     "text": [
      " 88% (20700 of 23505) |###############   | Elapsed Time: 9:35:14 ETA:   1:21:24"
     ]
    },
    {
     "name": "stdout",
     "output_type": "stream",
     "text": [
      "\t Enregistrement intermédiaire effectué\n"
     ]
    },
    {
     "name": "stderr",
     "output_type": "stream",
     "text": [
      " 88% (20800 of 23505) |###############   | Elapsed Time: 9:38:09 ETA:   0:54:44"
     ]
    },
    {
     "name": "stdout",
     "output_type": "stream",
     "text": [
      "\t Enregistrement intermédiaire effectué\n"
     ]
    },
    {
     "name": "stderr",
     "output_type": "stream",
     "text": [
      " 88% (20900 of 23505) |################  | Elapsed Time: 9:40:53 ETA:   1:11:15"
     ]
    },
    {
     "name": "stdout",
     "output_type": "stream",
     "text": [
      "\t Enregistrement intermédiaire effectué\n"
     ]
    },
    {
     "name": "stderr",
     "output_type": "stream",
     "text": [
      " 89% (21000 of 23505) |################  | Elapsed Time: 9:43:34 ETA:   1:02:27"
     ]
    },
    {
     "name": "stdout",
     "output_type": "stream",
     "text": [
      "\t Enregistrement intermédiaire effectué\n"
     ]
    },
    {
     "name": "stderr",
     "output_type": "stream",
     "text": [
      " 89% (21100 of 23505) |################  | Elapsed Time: 9:46:31 ETA:   2:07:03"
     ]
    },
    {
     "name": "stdout",
     "output_type": "stream",
     "text": [
      "\t Enregistrement intermédiaire effectué\n"
     ]
    },
    {
     "name": "stderr",
     "output_type": "stream",
     "text": [
      " 90% (21200 of 23505) |################  | Elapsed Time: 9:49:26 ETA:   1:05:23"
     ]
    },
    {
     "name": "stdout",
     "output_type": "stream",
     "text": [
      "\t Enregistrement intermédiaire effectué\n"
     ]
    },
    {
     "name": "stderr",
     "output_type": "stream",
     "text": [
      " 90% (21300 of 23505) |################  | Elapsed Time: 9:52:19 ETA:   1:07:06"
     ]
    },
    {
     "name": "stdout",
     "output_type": "stream",
     "text": [
      "\t Enregistrement intermédiaire effectué\n"
     ]
    },
    {
     "name": "stderr",
     "output_type": "stream",
     "text": [
      " 91% (21400 of 23505) |################  | Elapsed Time: 9:55:01 ETA:   1:17:51"
     ]
    },
    {
     "name": "stdout",
     "output_type": "stream",
     "text": [
      "\t Enregistrement intermédiaire effectué\n"
     ]
    },
    {
     "name": "stderr",
     "output_type": "stream",
     "text": [
      " 91% (21500 of 23505) |################  | Elapsed Time: 9:57:56 ETA:   1:20:46"
     ]
    },
    {
     "name": "stdout",
     "output_type": "stream",
     "text": [
      "\t Enregistrement intermédiaire effectué\n"
     ]
    },
    {
     "name": "stderr",
     "output_type": "stream",
     "text": [
      " 91% (21600 of 23505) |###############  | Elapsed Time: 10:00:43 ETA:   0:54:51"
     ]
    },
    {
     "name": "stdout",
     "output_type": "stream",
     "text": [
      "\t Enregistrement intermédiaire effectué\n"
     ]
    },
    {
     "name": "stderr",
     "output_type": "stream",
     "text": [
      " 92% (21700 of 23505) |###############  | Elapsed Time: 10:03:34 ETA:   0:34:34"
     ]
    },
    {
     "name": "stdout",
     "output_type": "stream",
     "text": [
      "\t Enregistrement intermédiaire effectué\n"
     ]
    },
    {
     "name": "stderr",
     "output_type": "stream",
     "text": [
      " 92% (21800 of 23505) |###############  | Elapsed Time: 10:06:14 ETA:   0:41:08"
     ]
    },
    {
     "name": "stdout",
     "output_type": "stream",
     "text": [
      "\t Enregistrement intermédiaire effectué\n"
     ]
    },
    {
     "name": "stderr",
     "output_type": "stream",
     "text": [
      " 93% (21900 of 23505) |###############  | Elapsed Time: 10:09:05 ETA:   0:44:50"
     ]
    },
    {
     "name": "stdout",
     "output_type": "stream",
     "text": [
      "\t Enregistrement intermédiaire effectué\n"
     ]
    },
    {
     "name": "stderr",
     "output_type": "stream",
     "text": [
      " 93% (22000 of 23505) |###############  | Elapsed Time: 10:11:51 ETA:   0:55:02"
     ]
    },
    {
     "name": "stdout",
     "output_type": "stream",
     "text": [
      "\t Enregistrement intermédiaire effectué\n"
     ]
    },
    {
     "name": "stderr",
     "output_type": "stream",
     "text": [
      " 94% (22100 of 23505) |###############  | Elapsed Time: 10:14:39 ETA:   0:36:51"
     ]
    },
    {
     "name": "stdout",
     "output_type": "stream",
     "text": [
      "\t Enregistrement intermédiaire effectué\n"
     ]
    },
    {
     "name": "stderr",
     "output_type": "stream",
     "text": [
      " 94% (22200 of 23505) |################ | Elapsed Time: 10:17:26 ETA:   0:36:47"
     ]
    },
    {
     "name": "stdout",
     "output_type": "stream",
     "text": [
      "\t Enregistrement intermédiaire effectué\n"
     ]
    },
    {
     "name": "stderr",
     "output_type": "stream",
     "text": [
      " 94% (22300 of 23505) |################ | Elapsed Time: 10:20:05 ETA:   0:28:14"
     ]
    },
    {
     "name": "stdout",
     "output_type": "stream",
     "text": [
      "\t Enregistrement intermédiaire effectué\n"
     ]
    },
    {
     "name": "stderr",
     "output_type": "stream",
     "text": [
      " 95% (22400 of 23505) |################ | Elapsed Time: 10:22:41 ETA:   0:25:47"
     ]
    },
    {
     "name": "stdout",
     "output_type": "stream",
     "text": [
      "\t Enregistrement intermédiaire effectué\n"
     ]
    },
    {
     "name": "stderr",
     "output_type": "stream",
     "text": [
      " 95% (22500 of 23505) |################ | Elapsed Time: 10:25:17 ETA:   0:21:16"
     ]
    },
    {
     "name": "stdout",
     "output_type": "stream",
     "text": [
      "\t Enregistrement intermédiaire effectué\n"
     ]
    },
    {
     "name": "stderr",
     "output_type": "stream",
     "text": [
      " 96% (22600 of 23505) |################ | Elapsed Time: 10:28:09 ETA:   0:22:38"
     ]
    },
    {
     "name": "stdout",
     "output_type": "stream",
     "text": [
      "\t Enregistrement intermédiaire effectué\n"
     ]
    },
    {
     "name": "stderr",
     "output_type": "stream",
     "text": [
      " 96% (22700 of 23505) |################ | Elapsed Time: 10:30:45 ETA:   0:21:20"
     ]
    },
    {
     "name": "stdout",
     "output_type": "stream",
     "text": [
      "\t Enregistrement intermédiaire effectué\n"
     ]
    },
    {
     "name": "stderr",
     "output_type": "stream",
     "text": [
      " 97% (22800 of 23505) |################ | Elapsed Time: 10:33:29 ETA:   0:25:43"
     ]
    },
    {
     "name": "stdout",
     "output_type": "stream",
     "text": [
      "\t Enregistrement intermédiaire effectué\n"
     ]
    },
    {
     "name": "stderr",
     "output_type": "stream",
     "text": [
      " 97% (22900 of 23505) |################ | Elapsed Time: 10:36:12 ETA:   0:20:55"
     ]
    },
    {
     "name": "stdout",
     "output_type": "stream",
     "text": [
      "\t Enregistrement intermédiaire effectué\n"
     ]
    },
    {
     "name": "stderr",
     "output_type": "stream",
     "text": [
      " 97% (23000 of 23505) |################ | Elapsed Time: 10:38:52 ETA:   0:14:10"
     ]
    },
    {
     "name": "stdout",
     "output_type": "stream",
     "text": [
      "\t Enregistrement intermédiaire effectué\n"
     ]
    },
    {
     "name": "stderr",
     "output_type": "stream",
     "text": [
      " 98% (23100 of 23505) |################ | Elapsed Time: 10:41:28 ETA:   0:09:54"
     ]
    },
    {
     "name": "stdout",
     "output_type": "stream",
     "text": [
      "\t Enregistrement intermédiaire effectué\n"
     ]
    },
    {
     "name": "stderr",
     "output_type": "stream",
     "text": [
      " 98% (23200 of 23505) |################ | Elapsed Time: 10:44:12 ETA:   0:09:00"
     ]
    },
    {
     "name": "stdout",
     "output_type": "stream",
     "text": [
      "\t Enregistrement intermédiaire effectué\n"
     ]
    },
    {
     "name": "stderr",
     "output_type": "stream",
     "text": [
      " 99% (23300 of 23505) |################ | Elapsed Time: 10:46:56 ETA:   0:04:25"
     ]
    },
    {
     "name": "stdout",
     "output_type": "stream",
     "text": [
      "\t Enregistrement intermédiaire effectué\n"
     ]
    },
    {
     "name": "stderr",
     "output_type": "stream",
     "text": [
      " 99% (23400 of 23505) |################ | Elapsed Time: 10:49:29 ETA:   0:02:45"
     ]
    },
    {
     "name": "stdout",
     "output_type": "stream",
     "text": [
      "\t Enregistrement intermédiaire effectué\n"
     ]
    },
    {
     "name": "stderr",
     "output_type": "stream",
     "text": [
      " 99% (23500 of 23505) |################ | Elapsed Time: 10:52:03 ETA:   0:00:09"
     ]
    },
    {
     "name": "stdout",
     "output_type": "stream",
     "text": [
      "\t Enregistrement intermédiaire effectué\n"
     ]
    },
    {
     "name": "stderr",
     "output_type": "stream",
     "text": [
      "100% (23505 of 23505) |#################| Elapsed Time: 10:52:11 Time: 10:52:11\n",
      "C:\\Users\\kaoua\\kickstarter.py:549: SettingWithCopyWarning: \n",
      "A value is trying to be set on a copy of a slice from a DataFrame.\n",
      "Try using .loc[row_indexer,col_indexer] = value instead\n",
      "\n",
      "See the caveats in the documentation: https://pandas.pydata.org/pandas-docs/stable/user_guide/indexing.html#returning-a-view-versus-a-copy\n",
      "  df['coup_de_coeur'] = coeur\n"
     ]
    },
    {
     "name": "stdout",
     "output_type": "stream",
     "text": [
      "Scrapping de l'année 2017\n"
     ]
    },
    {
     "name": "stderr",
     "output_type": "stream",
     "text": [
      "  0% (100 of 22127) |                    | Elapsed Time: 0:02:40 ETA:   8:40:02C:\\Users\\kaoua\\kickstarter.py:545: SettingWithCopyWarning: \n",
      "A value is trying to be set on a copy of a slice from a DataFrame.\n",
      "Try using .loc[row_indexer,col_indexer] = value instead\n",
      "\n",
      "See the caveats in the documentation: https://pandas.pydata.org/pandas-docs/stable/user_guide/indexing.html#returning-a-view-versus-a-copy\n",
      "  dfi['coup_de_coeur'] = coeur\n"
     ]
    },
    {
     "name": "stdout",
     "output_type": "stream",
     "text": [
      "\t Enregistrement intermédiaire effectué\n"
     ]
    },
    {
     "name": "stderr",
     "output_type": "stream",
     "text": [
      "  0% (200 of 22127) |                    | Elapsed Time: 0:05:13 ETA:   9:10:00"
     ]
    },
    {
     "name": "stdout",
     "output_type": "stream",
     "text": [
      "\t Enregistrement intermédiaire effectué\n"
     ]
    },
    {
     "name": "stderr",
     "output_type": "stream",
     "text": [
      "  1% (300 of 22127) |                    | Elapsed Time: 0:07:46 ETA:   8:54:53"
     ]
    },
    {
     "name": "stdout",
     "output_type": "stream",
     "text": [
      "\t Enregistrement intermédiaire effectué\n"
     ]
    },
    {
     "name": "stderr",
     "output_type": "stream",
     "text": [
      "  1% (400 of 22127) |                    | Elapsed Time: 0:10:17 ETA:   9:29:29"
     ]
    },
    {
     "name": "stdout",
     "output_type": "stream",
     "text": [
      "\t Enregistrement intermédiaire effectué\n"
     ]
    },
    {
     "name": "stderr",
     "output_type": "stream",
     "text": [
      "  2% (500 of 22127) |                    | Elapsed Time: 0:13:05 ETA:  15:36:17"
     ]
    },
    {
     "name": "stdout",
     "output_type": "stream",
     "text": [
      "\t Enregistrement intermédiaire effectué\n"
     ]
    },
    {
     "name": "stderr",
     "output_type": "stream",
     "text": [
      "  2% (600 of 22127) |                    | Elapsed Time: 0:15:41 ETA:   8:26:27"
     ]
    },
    {
     "name": "stdout",
     "output_type": "stream",
     "text": [
      "\t Enregistrement intermédiaire effectué\n"
     ]
    },
    {
     "name": "stderr",
     "output_type": "stream",
     "text": [
      "  3% (700 of 22127) |                    | Elapsed Time: 0:18:16 ETA:   8:57:30"
     ]
    },
    {
     "name": "stdout",
     "output_type": "stream",
     "text": [
      "\t Enregistrement intermédiaire effectué\n"
     ]
    },
    {
     "name": "stderr",
     "output_type": "stream",
     "text": [
      "  3% (800 of 22127) |                    | Elapsed Time: 0:20:53 ETA:  13:14:37"
     ]
    },
    {
     "name": "stdout",
     "output_type": "stream",
     "text": [
      "\t Enregistrement intermédiaire effectué\n"
     ]
    },
    {
     "name": "stderr",
     "output_type": "stream",
     "text": [
      "  4% (900 of 22127) |                    | Elapsed Time: 0:23:28 ETA:   7:21:27"
     ]
    },
    {
     "name": "stdout",
     "output_type": "stream",
     "text": [
      "\t Enregistrement intermédiaire effectué\n"
     ]
    },
    {
     "name": "stderr",
     "output_type": "stream",
     "text": [
      "  4% (1000 of 22127) |                   | Elapsed Time: 0:25:57 ETA:   9:01:48"
     ]
    },
    {
     "name": "stdout",
     "output_type": "stream",
     "text": [
      "\t Enregistrement intermédiaire effectué\n"
     ]
    },
    {
     "name": "stderr",
     "output_type": "stream",
     "text": [
      "  4% (1100 of 22127) |                   | Elapsed Time: 0:28:35 ETA:   8:39:57"
     ]
    },
    {
     "name": "stdout",
     "output_type": "stream",
     "text": [
      "\t Enregistrement intermédiaire effectué\n"
     ]
    },
    {
     "name": "stderr",
     "output_type": "stream",
     "text": [
      "  5% (1200 of 22127) |#                  | Elapsed Time: 0:31:12 ETA:  10:08:54"
     ]
    },
    {
     "name": "stdout",
     "output_type": "stream",
     "text": [
      "\t Enregistrement intermédiaire effectué\n"
     ]
    },
    {
     "name": "stderr",
     "output_type": "stream",
     "text": [
      "  5% (1300 of 22127) |#                  | Elapsed Time: 0:33:49 ETA:   7:53:58"
     ]
    },
    {
     "name": "stdout",
     "output_type": "stream",
     "text": [
      "\t Enregistrement intermédiaire effectué\n"
     ]
    },
    {
     "name": "stderr",
     "output_type": "stream",
     "text": [
      "  6% (1400 of 22127) |#                  | Elapsed Time: 0:36:26 ETA:   9:09:24"
     ]
    },
    {
     "name": "stdout",
     "output_type": "stream",
     "text": [
      "\t Enregistrement intermédiaire effectué\n"
     ]
    },
    {
     "name": "stderr",
     "output_type": "stream",
     "text": [
      "  6% (1500 of 22127) |#                  | Elapsed Time: 0:39:12 ETA:  10:08:28"
     ]
    },
    {
     "name": "stdout",
     "output_type": "stream",
     "text": [
      "\t Enregistrement intermédiaire effectué\n"
     ]
    },
    {
     "name": "stderr",
     "output_type": "stream",
     "text": [
      "  7% (1600 of 22127) |#                  | Elapsed Time: 0:41:52 ETA:  10:03:45"
     ]
    },
    {
     "name": "stdout",
     "output_type": "stream",
     "text": [
      "\t Enregistrement intermédiaire effectué\n"
     ]
    },
    {
     "name": "stderr",
     "output_type": "stream",
     "text": [
      "  7% (1700 of 22127) |#                  | Elapsed Time: 0:44:32 ETA:   8:53:16"
     ]
    },
    {
     "name": "stdout",
     "output_type": "stream",
     "text": [
      "\t Enregistrement intermédiaire effectué\n"
     ]
    },
    {
     "name": "stderr",
     "output_type": "stream",
     "text": [
      "  8% (1800 of 22127) |#                  | Elapsed Time: 0:47:15 ETA:   8:17:12"
     ]
    },
    {
     "name": "stdout",
     "output_type": "stream",
     "text": [
      "\t Enregistrement intermédiaire effectué\n"
     ]
    },
    {
     "name": "stderr",
     "output_type": "stream",
     "text": [
      "  8% (1900 of 22127) |#                  | Elapsed Time: 0:49:56 ETA:   6:14:56"
     ]
    },
    {
     "name": "stdout",
     "output_type": "stream",
     "text": [
      "\t Enregistrement intermédiaire effectué\n"
     ]
    },
    {
     "name": "stderr",
     "output_type": "stream",
     "text": [
      "  9% (2000 of 22127) |#                  | Elapsed Time: 0:52:57 ETA:   8:18:04"
     ]
    },
    {
     "name": "stdout",
     "output_type": "stream",
     "text": [
      "\t Enregistrement intermédiaire effectué\n"
     ]
    },
    {
     "name": "stderr",
     "output_type": "stream",
     "text": [
      "  9% (2100 of 22127) |#                  | Elapsed Time: 0:55:31 ETA:   7:04:26"
     ]
    },
    {
     "name": "stdout",
     "output_type": "stream",
     "text": [
      "\t Enregistrement intermédiaire effectué\n"
     ]
    },
    {
     "name": "stderr",
     "output_type": "stream",
     "text": [
      "  9% (2200 of 22127) |#                  | Elapsed Time: 0:58:08 ETA:  11:37:39"
     ]
    },
    {
     "name": "stdout",
     "output_type": "stream",
     "text": [
      "\t Enregistrement intermédiaire effectué\n"
     ]
    },
    {
     "name": "stderr",
     "output_type": "stream",
     "text": [
      " 10% (2300 of 22127) |#                  | Elapsed Time: 1:00:58 ETA:   7:36:01"
     ]
    },
    {
     "name": "stdout",
     "output_type": "stream",
     "text": [
      "\t Enregistrement intermédiaire effectué\n"
     ]
    },
    {
     "name": "stderr",
     "output_type": "stream",
     "text": [
      " 10% (2400 of 22127) |##                 | Elapsed Time: 1:03:49 ETA:  13:17:16"
     ]
    },
    {
     "name": "stdout",
     "output_type": "stream",
     "text": [
      "\t Enregistrement intermédiaire effectué\n"
     ]
    },
    {
     "name": "stderr",
     "output_type": "stream",
     "text": [
      " 11% (2500 of 22127) |##                 | Elapsed Time: 1:07:13 ETA:   7:45:45"
     ]
    },
    {
     "name": "stdout",
     "output_type": "stream",
     "text": [
      "\t Enregistrement intermédiaire effectué\n"
     ]
    },
    {
     "name": "stderr",
     "output_type": "stream",
     "text": [
      " 11% (2600 of 22127) |##                 | Elapsed Time: 1:10:01 ETA:   8:31:46"
     ]
    },
    {
     "name": "stdout",
     "output_type": "stream",
     "text": [
      "\t Enregistrement intermédiaire effectué\n"
     ]
    },
    {
     "name": "stderr",
     "output_type": "stream",
     "text": [
      " 12% (2700 of 22127) |##                 | Elapsed Time: 1:12:41 ETA:   8:42:07"
     ]
    },
    {
     "name": "stdout",
     "output_type": "stream",
     "text": [
      "\t Enregistrement intermédiaire effectué\n"
     ]
    },
    {
     "name": "stderr",
     "output_type": "stream",
     "text": [
      " 12% (2800 of 22127) |##                 | Elapsed Time: 1:15:30 ETA:   9:21:47"
     ]
    },
    {
     "name": "stdout",
     "output_type": "stream",
     "text": [
      "\t Enregistrement intermédiaire effectué\n"
     ]
    },
    {
     "name": "stderr",
     "output_type": "stream",
     "text": [
      " 13% (2900 of 22127) |##                 | Elapsed Time: 1:18:20 ETA:  10:00:56"
     ]
    },
    {
     "name": "stdout",
     "output_type": "stream",
     "text": [
      "\t Enregistrement intermédiaire effectué\n"
     ]
    },
    {
     "name": "stderr",
     "output_type": "stream",
     "text": [
      " 13% (3000 of 22127) |##                 | Elapsed Time: 1:21:04 ETA:   7:57:47"
     ]
    },
    {
     "name": "stdout",
     "output_type": "stream",
     "text": [
      "\t Enregistrement intermédiaire effectué\n"
     ]
    },
    {
     "name": "stderr",
     "output_type": "stream",
     "text": [
      " 14% (3100 of 22127) |##                 | Elapsed Time: 1:23:52 ETA:   7:25:02"
     ]
    },
    {
     "name": "stdout",
     "output_type": "stream",
     "text": [
      "\t Enregistrement intermédiaire effectué\n"
     ]
    },
    {
     "name": "stderr",
     "output_type": "stream",
     "text": [
      " 14% (3200 of 22127) |##                 | Elapsed Time: 1:26:35 ETA:   9:24:17"
     ]
    },
    {
     "name": "stdout",
     "output_type": "stream",
     "text": [
      "\t Enregistrement intermédiaire effectué\n"
     ]
    },
    {
     "name": "stderr",
     "output_type": "stream",
     "text": [
      " 14% (3300 of 22127) |##                 | Elapsed Time: 1:29:11 ETA:   7:56:09"
     ]
    },
    {
     "name": "stdout",
     "output_type": "stream",
     "text": [
      "\t Enregistrement intermédiaire effectué\n"
     ]
    },
    {
     "name": "stderr",
     "output_type": "stream",
     "text": [
      " 15% (3400 of 22127) |##                 | Elapsed Time: 1:31:48 ETA:  10:07:22"
     ]
    },
    {
     "name": "stdout",
     "output_type": "stream",
     "text": [
      "\t Enregistrement intermédiaire effectué\n"
     ]
    },
    {
     "name": "stderr",
     "output_type": "stream",
     "text": [
      " 15% (3500 of 22127) |###                | Elapsed Time: 1:34:28 ETA:  11:18:12"
     ]
    },
    {
     "name": "stdout",
     "output_type": "stream",
     "text": [
      "\t Enregistrement intermédiaire effectué\n"
     ]
    },
    {
     "name": "stderr",
     "output_type": "stream",
     "text": [
      " 16% (3600 of 22127) |###                | Elapsed Time: 1:37:36 ETA:   8:47:51"
     ]
    },
    {
     "name": "stdout",
     "output_type": "stream",
     "text": [
      "\t Enregistrement intermédiaire effectué\n"
     ]
    },
    {
     "name": "stderr",
     "output_type": "stream",
     "text": [
      " 16% (3700 of 22127) |###                | Elapsed Time: 1:40:29 ETA:   7:09:17"
     ]
    },
    {
     "name": "stdout",
     "output_type": "stream",
     "text": [
      "\t Enregistrement intermédiaire effectué\n"
     ]
    },
    {
     "name": "stderr",
     "output_type": "stream",
     "text": [
      " 17% (3800 of 22127) |###                | Elapsed Time: 1:43:17 ETA:   7:10:42"
     ]
    },
    {
     "name": "stdout",
     "output_type": "stream",
     "text": [
      "\t Enregistrement intermédiaire effectué\n"
     ]
    },
    {
     "name": "stderr",
     "output_type": "stream",
     "text": [
      " 17% (3900 of 22127) |###                | Elapsed Time: 1:45:53 ETA:   8:29:48"
     ]
    },
    {
     "name": "stdout",
     "output_type": "stream",
     "text": [
      "\t Enregistrement intermédiaire effectué\n"
     ]
    },
    {
     "name": "stderr",
     "output_type": "stream",
     "text": [
      " 18% (4000 of 22127) |###                | Elapsed Time: 1:48:26 ETA:   8:09:12"
     ]
    },
    {
     "name": "stdout",
     "output_type": "stream",
     "text": [
      "\t Enregistrement intermédiaire effectué\n"
     ]
    },
    {
     "name": "stderr",
     "output_type": "stream",
     "text": [
      " 18% (4100 of 22127) |###                | Elapsed Time: 1:51:09 ETA:  12:38:25"
     ]
    },
    {
     "name": "stdout",
     "output_type": "stream",
     "text": [
      "\t Enregistrement intermédiaire effectué\n"
     ]
    },
    {
     "name": "stderr",
     "output_type": "stream",
     "text": [
      " 18% (4200 of 22127) |###                | Elapsed Time: 1:54:05 ETA:   8:24:53"
     ]
    },
    {
     "name": "stdout",
     "output_type": "stream",
     "text": [
      "\t Enregistrement intermédiaire effectué\n"
     ]
    },
    {
     "name": "stderr",
     "output_type": "stream",
     "text": [
      " 19% (4300 of 22127) |###                | Elapsed Time: 1:57:06 ETA:   9:33:40"
     ]
    },
    {
     "name": "stdout",
     "output_type": "stream",
     "text": [
      "\t Enregistrement intermédiaire effectué\n"
     ]
    },
    {
     "name": "stderr",
     "output_type": "stream",
     "text": [
      " 19% (4400 of 22127) |###                | Elapsed Time: 1:59:44 ETA:   7:23:01"
     ]
    },
    {
     "name": "stdout",
     "output_type": "stream",
     "text": [
      "\t Enregistrement intermédiaire effectué\n"
     ]
    },
    {
     "name": "stderr",
     "output_type": "stream",
     "text": [
      " 20% (4500 of 22127) |###                | Elapsed Time: 2:02:26 ETA:   7:46:48"
     ]
    },
    {
     "name": "stdout",
     "output_type": "stream",
     "text": [
      "\t Enregistrement intermédiaire effectué\n"
     ]
    },
    {
     "name": "stderr",
     "output_type": "stream",
     "text": [
      " 20% (4600 of 22127) |###                | Elapsed Time: 2:05:04 ETA:  11:51:11"
     ]
    },
    {
     "name": "stdout",
     "output_type": "stream",
     "text": [
      "\t Enregistrement intermédiaire effectué\n"
     ]
    },
    {
     "name": "stderr",
     "output_type": "stream",
     "text": [
      " 21% (4700 of 22127) |####               | Elapsed Time: 2:07:49 ETA:   6:45:59"
     ]
    },
    {
     "name": "stdout",
     "output_type": "stream",
     "text": [
      "\t Enregistrement intermédiaire effectué\n"
     ]
    },
    {
     "name": "stderr",
     "output_type": "stream",
     "text": [
      " 21% (4800 of 22127) |####               | Elapsed Time: 2:10:37 ETA:   5:53:58"
     ]
    },
    {
     "name": "stdout",
     "output_type": "stream",
     "text": [
      "\t Enregistrement intermédiaire effectué\n"
     ]
    },
    {
     "name": "stderr",
     "output_type": "stream",
     "text": [
      " 22% (4900 of 22127) |####               | Elapsed Time: 2:13:27 ETA:  10:59:27"
     ]
    },
    {
     "name": "stdout",
     "output_type": "stream",
     "text": [
      "\t Enregistrement intermédiaire effectué\n"
     ]
    },
    {
     "name": "stderr",
     "output_type": "stream",
     "text": [
      " 22% (5000 of 22127) |####               | Elapsed Time: 2:16:30 ETA:   9:45:17"
     ]
    },
    {
     "name": "stdout",
     "output_type": "stream",
     "text": [
      "\t Enregistrement intermédiaire effectué\n"
     ]
    },
    {
     "name": "stderr",
     "output_type": "stream",
     "text": [
      " 23% (5100 of 22127) |####               | Elapsed Time: 2:19:25 ETA:   7:20:03"
     ]
    },
    {
     "name": "stdout",
     "output_type": "stream",
     "text": [
      "\t Enregistrement intermédiaire effectué\n"
     ]
    },
    {
     "name": "stderr",
     "output_type": "stream",
     "text": [
      " 23% (5200 of 22127) |####               | Elapsed Time: 2:22:10 ETA:   7:06:19"
     ]
    },
    {
     "name": "stdout",
     "output_type": "stream",
     "text": [
      "\t Enregistrement intermédiaire effectué\n"
     ]
    },
    {
     "name": "stderr",
     "output_type": "stream",
     "text": [
      " 23% (5300 of 22127) |####               | Elapsed Time: 2:25:01 ETA:  10:53:30"
     ]
    },
    {
     "name": "stdout",
     "output_type": "stream",
     "text": [
      "\t Enregistrement intermédiaire effectué\n"
     ]
    },
    {
     "name": "stderr",
     "output_type": "stream",
     "text": [
      " 24% (5400 of 22127) |####               | Elapsed Time: 2:27:52 ETA:   6:38:56"
     ]
    },
    {
     "name": "stdout",
     "output_type": "stream",
     "text": [
      "\t Enregistrement intermédiaire effectué\n"
     ]
    },
    {
     "name": "stderr",
     "output_type": "stream",
     "text": [
      " 24% (5500 of 22127) |####               | Elapsed Time: 2:30:36 ETA:   6:24:46"
     ]
    },
    {
     "name": "stdout",
     "output_type": "stream",
     "text": [
      "\t Enregistrement intermédiaire effectué\n"
     ]
    },
    {
     "name": "stderr",
     "output_type": "stream",
     "text": [
      " 25% (5600 of 22127) |####               | Elapsed Time: 2:33:21 ETA:   7:01:06"
     ]
    },
    {
     "name": "stdout",
     "output_type": "stream",
     "text": [
      "\t Enregistrement intermédiaire effectué\n"
     ]
    },
    {
     "name": "stderr",
     "output_type": "stream",
     "text": [
      " 25% (5700 of 22127) |####               | Elapsed Time: 2:36:08 ETA:   6:52:53"
     ]
    },
    {
     "name": "stdout",
     "output_type": "stream",
     "text": [
      "\t Enregistrement intermédiaire effectué\n"
     ]
    },
    {
     "name": "stderr",
     "output_type": "stream",
     "text": [
      " 26% (5800 of 22127) |####               | Elapsed Time: 2:38:48 ETA:   7:50:24"
     ]
    },
    {
     "name": "stdout",
     "output_type": "stream",
     "text": [
      "\t Enregistrement intermédiaire effectué\n"
     ]
    },
    {
     "name": "stderr",
     "output_type": "stream",
     "text": [
      " 26% (5900 of 22127) |#####              | Elapsed Time: 2:41:25 ETA:  10:14:16"
     ]
    },
    {
     "name": "stdout",
     "output_type": "stream",
     "text": [
      "\t Enregistrement intermédiaire effectué\n"
     ]
    },
    {
     "name": "stderr",
     "output_type": "stream",
     "text": [
      " 27% (6000 of 22127) |#####              | Elapsed Time: 2:44:22 ETA:  20:57:10"
     ]
    },
    {
     "name": "stdout",
     "output_type": "stream",
     "text": [
      "\t Enregistrement intermédiaire effectué\n"
     ]
    },
    {
     "name": "stderr",
     "output_type": "stream",
     "text": [
      " 27% (6100 of 22127) |#####              | Elapsed Time: 2:47:12 ETA:   8:59:29"
     ]
    },
    {
     "name": "stdout",
     "output_type": "stream",
     "text": [
      "\t Enregistrement intermédiaire effectué\n"
     ]
    },
    {
     "name": "stderr",
     "output_type": "stream",
     "text": [
      " 28% (6200 of 22127) |#####              | Elapsed Time: 2:50:07 ETA:   5:54:48"
     ]
    },
    {
     "name": "stdout",
     "output_type": "stream",
     "text": [
      "\t Enregistrement intermédiaire effectué\n"
     ]
    },
    {
     "name": "stderr",
     "output_type": "stream",
     "text": [
      " 28% (6300 of 22127) |#####              | Elapsed Time: 2:52:58 ETA:   5:49:49"
     ]
    },
    {
     "name": "stdout",
     "output_type": "stream",
     "text": [
      "\t Enregistrement intermédiaire effectué\n"
     ]
    },
    {
     "name": "stderr",
     "output_type": "stream",
     "text": [
      " 28% (6400 of 22127) |#####              | Elapsed Time: 2:55:42 ETA:   7:06:46"
     ]
    },
    {
     "name": "stdout",
     "output_type": "stream",
     "text": [
      "\t Enregistrement intermédiaire effectué\n"
     ]
    },
    {
     "name": "stderr",
     "output_type": "stream",
     "text": [
      " 29% (6500 of 22127) |#####              | Elapsed Time: 2:58:31 ETA:   6:08:18"
     ]
    },
    {
     "name": "stdout",
     "output_type": "stream",
     "text": [
      "\t Enregistrement intermédiaire effectué\n"
     ]
    },
    {
     "name": "stderr",
     "output_type": "stream",
     "text": [
      " 29% (6600 of 22127) |#####              | Elapsed Time: 3:01:21 ETA:   6:11:16"
     ]
    },
    {
     "name": "stdout",
     "output_type": "stream",
     "text": [
      "\t Enregistrement intermédiaire effectué\n"
     ]
    },
    {
     "name": "stderr",
     "output_type": "stream",
     "text": [
      " 30% (6700 of 22127) |#####              | Elapsed Time: 3:04:09 ETA:   7:05:25"
     ]
    },
    {
     "name": "stdout",
     "output_type": "stream",
     "text": [
      "\t Enregistrement intermédiaire effectué\n"
     ]
    },
    {
     "name": "stderr",
     "output_type": "stream",
     "text": [
      " 30% (6800 of 22127) |#####              | Elapsed Time: 3:06:55 ETA:  13:53:05"
     ]
    },
    {
     "name": "stdout",
     "output_type": "stream",
     "text": [
      "\t Enregistrement intermédiaire effectué\n"
     ]
    },
    {
     "name": "stderr",
     "output_type": "stream",
     "text": [
      " 31% (6900 of 22127) |#####              | Elapsed Time: 3:09:44 ETA:   5:46:41"
     ]
    },
    {
     "name": "stdout",
     "output_type": "stream",
     "text": [
      "\t Enregistrement intermédiaire effectué\n"
     ]
    },
    {
     "name": "stderr",
     "output_type": "stream",
     "text": [
      " 31% (7000 of 22127) |######             | Elapsed Time: 3:12:37 ETA:  10:33:41"
     ]
    },
    {
     "name": "stdout",
     "output_type": "stream",
     "text": [
      "\t Enregistrement intermédiaire effectué\n"
     ]
    },
    {
     "name": "stderr",
     "output_type": "stream",
     "text": [
      " 32% (7100 of 22127) |######             | Elapsed Time: 3:15:22 ETA:  10:14:57"
     ]
    },
    {
     "name": "stdout",
     "output_type": "stream",
     "text": [
      "\t Enregistrement intermédiaire effectué\n"
     ]
    },
    {
     "name": "stderr",
     "output_type": "stream",
     "text": [
      " 32% (7200 of 22127) |######             | Elapsed Time: 3:18:12 ETA:  10:14:02"
     ]
    },
    {
     "name": "stdout",
     "output_type": "stream",
     "text": [
      "\t Enregistrement intermédiaire effectué\n"
     ]
    },
    {
     "name": "stderr",
     "output_type": "stream",
     "text": [
      " 32% (7300 of 22127) |######             | Elapsed Time: 3:21:03 ETA:   7:09:45"
     ]
    },
    {
     "name": "stdout",
     "output_type": "stream",
     "text": [
      "\t Enregistrement intermédiaire effectué\n"
     ]
    },
    {
     "name": "stderr",
     "output_type": "stream",
     "text": [
      " 33% (7400 of 22127) |######             | Elapsed Time: 3:23:50 ETA:   8:24:58"
     ]
    },
    {
     "name": "stdout",
     "output_type": "stream",
     "text": [
      "\t Enregistrement intermédiaire effectué\n"
     ]
    },
    {
     "name": "stderr",
     "output_type": "stream",
     "text": [
      " 33% (7500 of 22127) |######             | Elapsed Time: 3:26:43 ETA:   6:06:43"
     ]
    },
    {
     "name": "stdout",
     "output_type": "stream",
     "text": [
      "\t Enregistrement intermédiaire effectué\n"
     ]
    },
    {
     "name": "stderr",
     "output_type": "stream",
     "text": [
      " 34% (7600 of 22127) |######             | Elapsed Time: 3:29:35 ETA:   7:30:55"
     ]
    },
    {
     "name": "stdout",
     "output_type": "stream",
     "text": [
      "\t Enregistrement intermédiaire effectué\n"
     ]
    },
    {
     "name": "stderr",
     "output_type": "stream",
     "text": [
      " 34% (7700 of 22127) |######             | Elapsed Time: 3:32:19 ETA:   5:23:10"
     ]
    },
    {
     "name": "stdout",
     "output_type": "stream",
     "text": [
      "\t Enregistrement intermédiaire effectué\n"
     ]
    },
    {
     "name": "stderr",
     "output_type": "stream",
     "text": [
      " 35% (7800 of 22127) |######             | Elapsed Time: 3:35:27 ETA:   7:35:51"
     ]
    },
    {
     "name": "stdout",
     "output_type": "stream",
     "text": [
      "\t Enregistrement intermédiaire effectué\n"
     ]
    },
    {
     "name": "stderr",
     "output_type": "stream",
     "text": [
      " 35% (7900 of 22127) |######             | Elapsed Time: 3:38:20 ETA:   4:58:39"
     ]
    },
    {
     "name": "stdout",
     "output_type": "stream",
     "text": [
      "\t Enregistrement intermédiaire effectué\n"
     ]
    },
    {
     "name": "stderr",
     "output_type": "stream",
     "text": [
      " 36% (8000 of 22127) |######             | Elapsed Time: 3:41:14 ETA:   6:14:14"
     ]
    },
    {
     "name": "stdout",
     "output_type": "stream",
     "text": [
      "\t Enregistrement intermédiaire effectué\n"
     ]
    },
    {
     "name": "stderr",
     "output_type": "stream",
     "text": [
      " 36% (8100 of 22127) |######             | Elapsed Time: 3:44:31 ETA:   9:16:07"
     ]
    },
    {
     "name": "stdout",
     "output_type": "stream",
     "text": [
      "\t Enregistrement intermédiaire effectué\n"
     ]
    },
    {
     "name": "stderr",
     "output_type": "stream",
     "text": [
      " 37% (8200 of 22127) |#######            | Elapsed Time: 3:47:44 ETA:   5:32:56"
     ]
    },
    {
     "name": "stdout",
     "output_type": "stream",
     "text": [
      "\t Enregistrement intermédiaire effectué\n"
     ]
    },
    {
     "name": "stderr",
     "output_type": "stream",
     "text": [
      " 37% (8300 of 22127) |#######            | Elapsed Time: 3:50:45 ETA:   5:48:37"
     ]
    },
    {
     "name": "stdout",
     "output_type": "stream",
     "text": [
      "\t Enregistrement intermédiaire effectué\n"
     ]
    },
    {
     "name": "stderr",
     "output_type": "stream",
     "text": [
      " 37% (8400 of 22127) |#######            | Elapsed Time: 3:53:34 ETA:   7:56:34"
     ]
    },
    {
     "name": "stdout",
     "output_type": "stream",
     "text": [
      "\t Enregistrement intermédiaire effectué\n"
     ]
    },
    {
     "name": "stderr",
     "output_type": "stream",
     "text": [
      " 38% (8500 of 22127) |#######            | Elapsed Time: 3:56:22 ETA:   4:44:29"
     ]
    },
    {
     "name": "stdout",
     "output_type": "stream",
     "text": [
      "\t Enregistrement intermédiaire effectué\n"
     ]
    },
    {
     "name": "stderr",
     "output_type": "stream",
     "text": [
      " 38% (8600 of 22127) |#######            | Elapsed Time: 3:59:04 ETA:   5:30:28"
     ]
    },
    {
     "name": "stdout",
     "output_type": "stream",
     "text": [
      "\t Enregistrement intermédiaire effectué\n"
     ]
    },
    {
     "name": "stderr",
     "output_type": "stream",
     "text": [
      " 39% (8700 of 22127) |#######            | Elapsed Time: 4:01:50 ETA:   5:35:15"
     ]
    },
    {
     "name": "stdout",
     "output_type": "stream",
     "text": [
      "\t Enregistrement intermédiaire effectué\n"
     ]
    },
    {
     "name": "stderr",
     "output_type": "stream",
     "text": [
      " 39% (8800 of 22127) |#######            | Elapsed Time: 4:04:46 ETA:   6:41:27"
     ]
    },
    {
     "name": "stdout",
     "output_type": "stream",
     "text": [
      "\t Enregistrement intermédiaire effectué\n"
     ]
    },
    {
     "name": "stderr",
     "output_type": "stream",
     "text": [
      " 40% (8900 of 22127) |#######            | Elapsed Time: 4:08:11 ETA:   5:46:39"
     ]
    },
    {
     "name": "stdout",
     "output_type": "stream",
     "text": [
      "\t Enregistrement intermédiaire effectué\n"
     ]
    },
    {
     "name": "stderr",
     "output_type": "stream",
     "text": [
      " 40% (9000 of 22127) |#######            | Elapsed Time: 4:11:10 ETA:   7:49:57"
     ]
    },
    {
     "name": "stdout",
     "output_type": "stream",
     "text": [
      "\t Enregistrement intermédiaire effectué\n"
     ]
    },
    {
     "name": "stderr",
     "output_type": "stream",
     "text": [
      " 41% (9100 of 22127) |#######            | Elapsed Time: 4:14:12 ETA:   9:54:30"
     ]
    },
    {
     "name": "stdout",
     "output_type": "stream",
     "text": [
      "\t Enregistrement intermédiaire effectué\n"
     ]
    },
    {
     "name": "stderr",
     "output_type": "stream",
     "text": [
      " 41% (9200 of 22127) |#######            | Elapsed Time: 4:16:59 ETA:   9:04:51"
     ]
    },
    {
     "name": "stdout",
     "output_type": "stream",
     "text": [
      "\t Enregistrement intermédiaire effectué\n"
     ]
    },
    {
     "name": "stderr",
     "output_type": "stream",
     "text": [
      " 42% (9300 of 22127) |#######            | Elapsed Time: 4:19:54 ETA:   6:24:49"
     ]
    },
    {
     "name": "stdout",
     "output_type": "stream",
     "text": [
      "\t Enregistrement intermédiaire effectué\n"
     ]
    },
    {
     "name": "stderr",
     "output_type": "stream",
     "text": [
      " 42% (9400 of 22127) |########           | Elapsed Time: 4:22:36 ETA:   6:20:00"
     ]
    },
    {
     "name": "stdout",
     "output_type": "stream",
     "text": [
      "\t Enregistrement intermédiaire effectué\n"
     ]
    },
    {
     "name": "stderr",
     "output_type": "stream",
     "text": [
      " 42% (9500 of 22127) |########           | Elapsed Time: 4:25:26 ETA:   5:24:13"
     ]
    },
    {
     "name": "stdout",
     "output_type": "stream",
     "text": [
      "\t Enregistrement intermédiaire effectué\n"
     ]
    },
    {
     "name": "stderr",
     "output_type": "stream",
     "text": [
      " 43% (9600 of 22127) |########           | Elapsed Time: 4:28:24 ETA:   9:30:42"
     ]
    },
    {
     "name": "stdout",
     "output_type": "stream",
     "text": [
      "\t Enregistrement intermédiaire effectué\n"
     ]
    },
    {
     "name": "stderr",
     "output_type": "stream",
     "text": [
      " 43% (9700 of 22127) |########           | Elapsed Time: 4:31:13 ETA:   5:23:51"
     ]
    },
    {
     "name": "stdout",
     "output_type": "stream",
     "text": [
      "\t Enregistrement intermédiaire effectué\n"
     ]
    },
    {
     "name": "stderr",
     "output_type": "stream",
     "text": [
      " 44% (9800 of 22127) |########           | Elapsed Time: 4:34:09 ETA:   7:19:22"
     ]
    },
    {
     "name": "stdout",
     "output_type": "stream",
     "text": [
      "\t Enregistrement intermédiaire effectué\n"
     ]
    },
    {
     "name": "stderr",
     "output_type": "stream",
     "text": [
      " 44% (9900 of 22127) |########           | Elapsed Time: 4:37:08 ETA:   6:26:24"
     ]
    },
    {
     "name": "stdout",
     "output_type": "stream",
     "text": [
      "\t Enregistrement intermédiaire effectué\n"
     ]
    },
    {
     "name": "stderr",
     "output_type": "stream",
     "text": [
      " 45% (10000 of 22127) |########          | Elapsed Time: 4:39:54 ETA:   4:30:30"
     ]
    },
    {
     "name": "stdout",
     "output_type": "stream",
     "text": [
      "\t Enregistrement intermédiaire effectué\n"
     ]
    },
    {
     "name": "stderr",
     "output_type": "stream",
     "text": [
      " 45% (10100 of 22127) |########          | Elapsed Time: 4:42:43 ETA:   6:49:58"
     ]
    },
    {
     "name": "stdout",
     "output_type": "stream",
     "text": [
      "\t Enregistrement intermédiaire effectué\n"
     ]
    },
    {
     "name": "stderr",
     "output_type": "stream",
     "text": [
      " 46% (10200 of 22127) |########          | Elapsed Time: 4:45:33 ETA:   5:34:11"
     ]
    },
    {
     "name": "stdout",
     "output_type": "stream",
     "text": [
      "\t Enregistrement intermédiaire effectué\n"
     ]
    },
    {
     "name": "stderr",
     "output_type": "stream",
     "text": [
      " 46% (10300 of 22127) |########          | Elapsed Time: 4:48:38 ETA:   8:01:14"
     ]
    },
    {
     "name": "stdout",
     "output_type": "stream",
     "text": [
      "\t Enregistrement intermédiaire effectué\n"
     ]
    },
    {
     "name": "stderr",
     "output_type": "stream",
     "text": [
      " 47% (10400 of 22127) |########          | Elapsed Time: 4:51:26 ETA:   5:01:29"
     ]
    },
    {
     "name": "stdout",
     "output_type": "stream",
     "text": [
      "\t Enregistrement intermédiaire effectué\n"
     ]
    },
    {
     "name": "stderr",
     "output_type": "stream",
     "text": [
      " 47% (10500 of 22127) |########          | Elapsed Time: 4:54:08 ETA:   4:23:31"
     ]
    },
    {
     "name": "stdout",
     "output_type": "stream",
     "text": [
      "\t Enregistrement intermédiaire effectué\n"
     ]
    },
    {
     "name": "stderr",
     "output_type": "stream",
     "text": [
      " 47% (10600 of 22127) |########          | Elapsed Time: 4:56:47 ETA:   4:36:37"
     ]
    },
    {
     "name": "stdout",
     "output_type": "stream",
     "text": [
      "\t Enregistrement intermédiaire effectué\n"
     ]
    },
    {
     "name": "stderr",
     "output_type": "stream",
     "text": [
      " 48% (10700 of 22127) |########          | Elapsed Time: 4:59:35 ETA:   6:50:27"
     ]
    },
    {
     "name": "stdout",
     "output_type": "stream",
     "text": [
      "\t Enregistrement intermédiaire effectué\n"
     ]
    },
    {
     "name": "stderr",
     "output_type": "stream",
     "text": [
      " 48% (10800 of 22127) |########          | Elapsed Time: 5:02:23 ETA:   6:28:55"
     ]
    },
    {
     "name": "stdout",
     "output_type": "stream",
     "text": [
      "\t Enregistrement intermédiaire effectué\n"
     ]
    },
    {
     "name": "stderr",
     "output_type": "stream",
     "text": [
      " 49% (10900 of 22127) |########          | Elapsed Time: 5:05:03 ETA:   6:52:12"
     ]
    },
    {
     "name": "stdout",
     "output_type": "stream",
     "text": [
      "\t Enregistrement intermédiaire effectué\n"
     ]
    },
    {
     "name": "stderr",
     "output_type": "stream",
     "text": [
      " 49% (11000 of 22127) |########          | Elapsed Time: 5:07:45 ETA:   6:28:49"
     ]
    },
    {
     "name": "stdout",
     "output_type": "stream",
     "text": [
      "\t Enregistrement intermédiaire effectué\n"
     ]
    },
    {
     "name": "stderr",
     "output_type": "stream",
     "text": [
      " 50% (11100 of 22127) |#########         | Elapsed Time: 5:10:30 ETA:   4:09:50"
     ]
    },
    {
     "name": "stdout",
     "output_type": "stream",
     "text": [
      "\t Enregistrement intermédiaire effectué\n"
     ]
    },
    {
     "name": "stderr",
     "output_type": "stream",
     "text": [
      " 50% (11200 of 22127) |#########         | Elapsed Time: 5:13:25 ETA:   4:37:09"
     ]
    },
    {
     "name": "stdout",
     "output_type": "stream",
     "text": [
      "\t Enregistrement intermédiaire effectué\n"
     ]
    },
    {
     "name": "stderr",
     "output_type": "stream",
     "text": [
      " 51% (11300 of 22127) |#########         | Elapsed Time: 5:16:03 ETA:   3:40:51"
     ]
    },
    {
     "name": "stdout",
     "output_type": "stream",
     "text": [
      "\t Enregistrement intermédiaire effectué\n"
     ]
    },
    {
     "name": "stderr",
     "output_type": "stream",
     "text": [
      " 51% (11400 of 22127) |#########         | Elapsed Time: 5:18:47 ETA:   5:09:51"
     ]
    },
    {
     "name": "stdout",
     "output_type": "stream",
     "text": [
      "\t Enregistrement intermédiaire effectué\n"
     ]
    },
    {
     "name": "stderr",
     "output_type": "stream",
     "text": [
      " 51% (11500 of 22127) |#########         | Elapsed Time: 5:21:39 ETA:   5:01:58"
     ]
    },
    {
     "name": "stdout",
     "output_type": "stream",
     "text": [
      "\t Enregistrement intermédiaire effectué\n"
     ]
    },
    {
     "name": "stderr",
     "output_type": "stream",
     "text": [
      " 52% (11600 of 22127) |#########         | Elapsed Time: 5:24:33 ETA:   4:27:39"
     ]
    },
    {
     "name": "stdout",
     "output_type": "stream",
     "text": [
      "\t Enregistrement intermédiaire effectué\n"
     ]
    },
    {
     "name": "stderr",
     "output_type": "stream",
     "text": [
      " 52% (11700 of 22127) |#########         | Elapsed Time: 5:27:20 ETA:   6:21:53"
     ]
    },
    {
     "name": "stdout",
     "output_type": "stream",
     "text": [
      "\t Enregistrement intermédiaire effectué\n"
     ]
    },
    {
     "name": "stderr",
     "output_type": "stream",
     "text": [
      " 53% (11800 of 22127) |#########         | Elapsed Time: 5:30:10 ETA:   4:28:30"
     ]
    },
    {
     "name": "stdout",
     "output_type": "stream",
     "text": [
      "\t Enregistrement intermédiaire effectué\n"
     ]
    },
    {
     "name": "stderr",
     "output_type": "stream",
     "text": [
      " 53% (11900 of 22127) |#########         | Elapsed Time: 5:33:06 ETA:   3:57:19"
     ]
    },
    {
     "name": "stdout",
     "output_type": "stream",
     "text": [
      "\t Enregistrement intermédiaire effectué\n"
     ]
    },
    {
     "name": "stderr",
     "output_type": "stream",
     "text": [
      " 54% (12000 of 22127) |#########         | Elapsed Time: 5:35:49 ETA:   3:51:13"
     ]
    },
    {
     "name": "stdout",
     "output_type": "stream",
     "text": [
      "\t Enregistrement intermédiaire effectué\n"
     ]
    },
    {
     "name": "stderr",
     "output_type": "stream",
     "text": [
      " 54% (12100 of 22127) |#########         | Elapsed Time: 5:38:38 ETA:   4:44:54"
     ]
    },
    {
     "name": "stdout",
     "output_type": "stream",
     "text": [
      "\t Enregistrement intermédiaire effectué\n"
     ]
    },
    {
     "name": "stderr",
     "output_type": "stream",
     "text": [
      " 55% (12200 of 22127) |#########         | Elapsed Time: 5:41:25 ETA:   4:55:19"
     ]
    },
    {
     "name": "stdout",
     "output_type": "stream",
     "text": [
      "\t Enregistrement intermédiaire effectué\n"
     ]
    },
    {
     "name": "stderr",
     "output_type": "stream",
     "text": [
      " 55% (12300 of 22127) |##########        | Elapsed Time: 5:44:17 ETA:   3:53:57"
     ]
    },
    {
     "name": "stdout",
     "output_type": "stream",
     "text": [
      "\t Enregistrement intermédiaire effectué\n"
     ]
    },
    {
     "name": "stderr",
     "output_type": "stream",
     "text": [
      " 56% (12400 of 22127) |##########        | Elapsed Time: 5:47:14 ETA:   5:35:51"
     ]
    },
    {
     "name": "stdout",
     "output_type": "stream",
     "text": [
      "\t Enregistrement intermédiaire effectué\n"
     ]
    },
    {
     "name": "stderr",
     "output_type": "stream",
     "text": [
      " 56% (12500 of 22127) |##########        | Elapsed Time: 5:50:04 ETA:  13:00:16"
     ]
    },
    {
     "name": "stdout",
     "output_type": "stream",
     "text": [
      "\t Enregistrement intermédiaire effectué\n"
     ]
    },
    {
     "name": "stderr",
     "output_type": "stream",
     "text": [
      " 56% (12600 of 22127) |##########        | Elapsed Time: 5:52:52 ETA:   6:01:11"
     ]
    },
    {
     "name": "stdout",
     "output_type": "stream",
     "text": [
      "\t Enregistrement intermédiaire effectué\n"
     ]
    },
    {
     "name": "stderr",
     "output_type": "stream",
     "text": [
      " 57% (12700 of 22127) |##########        | Elapsed Time: 5:55:47 ETA:   7:25:46"
     ]
    },
    {
     "name": "stdout",
     "output_type": "stream",
     "text": [
      "\t Enregistrement intermédiaire effectué\n"
     ]
    },
    {
     "name": "stderr",
     "output_type": "stream",
     "text": [
      " 57% (12800 of 22127) |##########        | Elapsed Time: 5:58:41 ETA:   4:14:45"
     ]
    },
    {
     "name": "stdout",
     "output_type": "stream",
     "text": [
      "\t Enregistrement intermédiaire effectué\n"
     ]
    },
    {
     "name": "stderr",
     "output_type": "stream",
     "text": [
      " 58% (12900 of 22127) |##########        | Elapsed Time: 6:01:24 ETA:   3:20:32"
     ]
    },
    {
     "name": "stdout",
     "output_type": "stream",
     "text": [
      "\t Enregistrement intermédiaire effectué\n"
     ]
    },
    {
     "name": "stderr",
     "output_type": "stream",
     "text": [
      " 58% (13000 of 22127) |##########        | Elapsed Time: 6:04:11 ETA:   7:23:39"
     ]
    },
    {
     "name": "stdout",
     "output_type": "stream",
     "text": [
      "\t Enregistrement intermédiaire effectué\n"
     ]
    },
    {
     "name": "stderr",
     "output_type": "stream",
     "text": [
      " 59% (13100 of 22127) |##########        | Elapsed Time: 6:07:03 ETA:   4:28:14"
     ]
    },
    {
     "name": "stdout",
     "output_type": "stream",
     "text": [
      "\t Enregistrement intermédiaire effectué\n"
     ]
    },
    {
     "name": "stderr",
     "output_type": "stream",
     "text": [
      " 59% (13200 of 22127) |##########        | Elapsed Time: 6:09:58 ETA:   6:33:51"
     ]
    },
    {
     "name": "stdout",
     "output_type": "stream",
     "text": [
      "\t Enregistrement intermédiaire effectué\n"
     ]
    },
    {
     "name": "stderr",
     "output_type": "stream",
     "text": [
      " 60% (13300 of 22127) |##########        | Elapsed Time: 6:12:41 ETA:   3:33:21"
     ]
    },
    {
     "name": "stdout",
     "output_type": "stream",
     "text": [
      "\t Enregistrement intermédiaire effectué\n"
     ]
    },
    {
     "name": "stderr",
     "output_type": "stream",
     "text": [
      " 60% (13400 of 22127) |##########        | Elapsed Time: 6:15:32 ETA:   4:35:12"
     ]
    },
    {
     "name": "stdout",
     "output_type": "stream",
     "text": [
      "\t Enregistrement intermédiaire effectué\n"
     ]
    },
    {
     "name": "stderr",
     "output_type": "stream",
     "text": [
      " 61% (13500 of 22127) |##########        | Elapsed Time: 6:18:33 ETA:   3:00:09"
     ]
    },
    {
     "name": "stdout",
     "output_type": "stream",
     "text": [
      "\t Enregistrement intermédiaire effectué\n"
     ]
    },
    {
     "name": "stderr",
     "output_type": "stream",
     "text": [
      " 61% (13600 of 22127) |###########       | Elapsed Time: 6:21:38 ETA:   3:12:29"
     ]
    },
    {
     "name": "stdout",
     "output_type": "stream",
     "text": [
      "\t Enregistrement intermédiaire effectué\n"
     ]
    },
    {
     "name": "stderr",
     "output_type": "stream",
     "text": [
      " 61% (13700 of 22127) |###########       | Elapsed Time: 6:24:30 ETA:   4:02:18"
     ]
    },
    {
     "name": "stdout",
     "output_type": "stream",
     "text": [
      "\t Enregistrement intermédiaire effectué\n"
     ]
    },
    {
     "name": "stderr",
     "output_type": "stream",
     "text": [
      " 62% (13800 of 22127) |###########       | Elapsed Time: 6:27:22 ETA:   5:15:48"
     ]
    },
    {
     "name": "stdout",
     "output_type": "stream",
     "text": [
      "\t Enregistrement intermédiaire effectué\n"
     ]
    },
    {
     "name": "stderr",
     "output_type": "stream",
     "text": [
      " 62% (13900 of 22127) |###########       | Elapsed Time: 6:30:12 ETA:   4:31:03"
     ]
    },
    {
     "name": "stdout",
     "output_type": "stream",
     "text": [
      "\t Enregistrement intermédiaire effectué\n"
     ]
    },
    {
     "name": "stderr",
     "output_type": "stream",
     "text": [
      " 63% (14000 of 22127) |###########       | Elapsed Time: 6:33:07 ETA:   3:50:12"
     ]
    },
    {
     "name": "stdout",
     "output_type": "stream",
     "text": [
      "\t Enregistrement intermédiaire effectué\n"
     ]
    },
    {
     "name": "stderr",
     "output_type": "stream",
     "text": [
      " 63% (14100 of 22127) |###########       | Elapsed Time: 6:36:06 ETA:   2:52:55"
     ]
    },
    {
     "name": "stdout",
     "output_type": "stream",
     "text": [
      "\t Enregistrement intermédiaire effectué\n"
     ]
    },
    {
     "name": "stderr",
     "output_type": "stream",
     "text": [
      " 64% (14200 of 22127) |###########       | Elapsed Time: 6:38:51 ETA:   3:28:27"
     ]
    },
    {
     "name": "stdout",
     "output_type": "stream",
     "text": [
      "\t Enregistrement intermédiaire effectué\n"
     ]
    },
    {
     "name": "stderr",
     "output_type": "stream",
     "text": [
      " 64% (14300 of 22127) |###########       | Elapsed Time: 6:41:54 ETA:   3:37:38"
     ]
    },
    {
     "name": "stdout",
     "output_type": "stream",
     "text": [
      "\t Enregistrement intermédiaire effectué\n"
     ]
    },
    {
     "name": "stderr",
     "output_type": "stream",
     "text": [
      " 65% (14400 of 22127) |###########       | Elapsed Time: 6:44:57 ETA:   2:42:10"
     ]
    },
    {
     "name": "stdout",
     "output_type": "stream",
     "text": [
      "\t Enregistrement intermédiaire effectué\n"
     ]
    },
    {
     "name": "stderr",
     "output_type": "stream",
     "text": [
      " 65% (14500 of 22127) |###########       | Elapsed Time: 6:47:45 ETA:   2:48:05"
     ]
    },
    {
     "name": "stdout",
     "output_type": "stream",
     "text": [
      "\t Enregistrement intermédiaire effectué\n"
     ]
    },
    {
     "name": "stderr",
     "output_type": "stream",
     "text": [
      " 65% (14600 of 22127) |###########       | Elapsed Time: 6:50:28 ETA:   7:39:12"
     ]
    },
    {
     "name": "stdout",
     "output_type": "stream",
     "text": [
      "\t Enregistrement intermédiaire effectué\n"
     ]
    },
    {
     "name": "stderr",
     "output_type": "stream",
     "text": [
      " 66% (14700 of 22127) |###########       | Elapsed Time: 6:53:22 ETA:   3:39:39"
     ]
    },
    {
     "name": "stdout",
     "output_type": "stream",
     "text": [
      "\t Enregistrement intermédiaire effectué\n"
     ]
    },
    {
     "name": "stderr",
     "output_type": "stream",
     "text": [
      " 66% (14800 of 22127) |############      | Elapsed Time: 6:56:27 ETA:   5:36:37"
     ]
    },
    {
     "name": "stdout",
     "output_type": "stream",
     "text": [
      "\t Enregistrement intermédiaire effectué\n"
     ]
    },
    {
     "name": "stderr",
     "output_type": "stream",
     "text": [
      " 67% (14900 of 22127) |############      | Elapsed Time: 6:59:19 ETA:   3:06:10"
     ]
    },
    {
     "name": "stdout",
     "output_type": "stream",
     "text": [
      "\t Enregistrement intermédiaire effectué\n"
     ]
    },
    {
     "name": "stderr",
     "output_type": "stream",
     "text": [
      " 67% (15000 of 22127) |############      | Elapsed Time: 7:02:00 ETA:   2:34:53"
     ]
    },
    {
     "name": "stdout",
     "output_type": "stream",
     "text": [
      "\t Enregistrement intermédiaire effectué\n"
     ]
    },
    {
     "name": "stderr",
     "output_type": "stream",
     "text": [
      " 68% (15100 of 22127) |############      | Elapsed Time: 7:04:53 ETA:   3:28:53"
     ]
    },
    {
     "name": "stdout",
     "output_type": "stream",
     "text": [
      "\t Enregistrement intermédiaire effectué\n"
     ]
    },
    {
     "name": "stderr",
     "output_type": "stream",
     "text": [
      " 68% (15200 of 22127) |############      | Elapsed Time: 7:07:47 ETA:   4:10:01"
     ]
    },
    {
     "name": "stdout",
     "output_type": "stream",
     "text": [
      "\t Enregistrement intermédiaire effectué\n"
     ]
    },
    {
     "name": "stderr",
     "output_type": "stream",
     "text": [
      " 69% (15300 of 22127) |############      | Elapsed Time: 7:10:40 ETA:   3:20:20"
     ]
    },
    {
     "name": "stdout",
     "output_type": "stream",
     "text": [
      "\t Enregistrement intermédiaire effectué\n"
     ]
    },
    {
     "name": "stderr",
     "output_type": "stream",
     "text": [
      " 69% (15400 of 22127) |############      | Elapsed Time: 7:13:35 ETA:   3:37:09"
     ]
    },
    {
     "name": "stdout",
     "output_type": "stream",
     "text": [
      "\t Enregistrement intermédiaire effectué\n"
     ]
    },
    {
     "name": "stderr",
     "output_type": "stream",
     "text": [
      " 70% (15500 of 22127) |############      | Elapsed Time: 7:16:35 ETA:   5:41:21"
     ]
    },
    {
     "name": "stdout",
     "output_type": "stream",
     "text": [
      "\t Enregistrement intermédiaire effectué\n"
     ]
    },
    {
     "name": "stderr",
     "output_type": "stream",
     "text": [
      " 70% (15600 of 22127) |############      | Elapsed Time: 7:19:19 ETA:   2:51:34"
     ]
    },
    {
     "name": "stdout",
     "output_type": "stream",
     "text": [
      "\t Enregistrement intermédiaire effectué\n"
     ]
    },
    {
     "name": "stderr",
     "output_type": "stream",
     "text": [
      " 70% (15700 of 22127) |############      | Elapsed Time: 7:22:25 ETA:   2:51:11"
     ]
    },
    {
     "name": "stdout",
     "output_type": "stream",
     "text": [
      "\t Enregistrement intermédiaire effectué\n"
     ]
    },
    {
     "name": "stderr",
     "output_type": "stream",
     "text": [
      " 71% (15800 of 22127) |############      | Elapsed Time: 7:25:14 ETA:   2:27:27"
     ]
    },
    {
     "name": "stdout",
     "output_type": "stream",
     "text": [
      "\t Enregistrement intermédiaire effectué\n"
     ]
    },
    {
     "name": "stderr",
     "output_type": "stream",
     "text": [
      " 71% (15900 of 22127) |############      | Elapsed Time: 7:27:57 ETA:   2:58:25"
     ]
    },
    {
     "name": "stdout",
     "output_type": "stream",
     "text": [
      "\t Enregistrement intermédiaire effectué\n"
     ]
    },
    {
     "name": "stderr",
     "output_type": "stream",
     "text": [
      " 72% (16000 of 22127) |#############     | Elapsed Time: 7:30:52 ETA:   2:24:21"
     ]
    },
    {
     "name": "stdout",
     "output_type": "stream",
     "text": [
      "\t Enregistrement intermédiaire effectué\n"
     ]
    },
    {
     "name": "stderr",
     "output_type": "stream",
     "text": [
      " 72% (16100 of 22127) |#############     | Elapsed Time: 7:33:46 ETA:   2:07:26"
     ]
    },
    {
     "name": "stdout",
     "output_type": "stream",
     "text": [
      "\t Enregistrement intermédiaire effectué\n"
     ]
    },
    {
     "name": "stderr",
     "output_type": "stream",
     "text": [
      " 73% (16200 of 22127) |#############     | Elapsed Time: 7:36:40 ETA:   2:24:23"
     ]
    },
    {
     "name": "stdout",
     "output_type": "stream",
     "text": [
      "\t Enregistrement intermédiaire effectué\n"
     ]
    },
    {
     "name": "stderr",
     "output_type": "stream",
     "text": [
      " 73% (16300 of 22127) |#############     | Elapsed Time: 7:39:36 ETA:   4:42:50"
     ]
    },
    {
     "name": "stdout",
     "output_type": "stream",
     "text": [
      "\t Enregistrement intermédiaire effectué\n"
     ]
    },
    {
     "name": "stderr",
     "output_type": "stream",
     "text": [
      " 74% (16400 of 22127) |#############     | Elapsed Time: 7:42:37 ETA:   2:30:36"
     ]
    },
    {
     "name": "stdout",
     "output_type": "stream",
     "text": [
      "\t Enregistrement intermédiaire effectué\n"
     ]
    },
    {
     "name": "stderr",
     "output_type": "stream",
     "text": [
      " 74% (16500 of 22127) |#############     | Elapsed Time: 7:45:50 ETA:   4:39:30"
     ]
    },
    {
     "name": "stdout",
     "output_type": "stream",
     "text": [
      "\t Enregistrement intermédiaire effectué\n"
     ]
    },
    {
     "name": "stderr",
     "output_type": "stream",
     "text": [
      " 75% (16600 of 22127) |#############     | Elapsed Time: 7:48:43 ETA:   2:24:16"
     ]
    },
    {
     "name": "stdout",
     "output_type": "stream",
     "text": [
      "\t Enregistrement intermédiaire effectué\n"
     ]
    },
    {
     "name": "stderr",
     "output_type": "stream",
     "text": [
      " 75% (16700 of 22127) |#############     | Elapsed Time: 7:51:31 ETA:   2:10:53"
     ]
    },
    {
     "name": "stdout",
     "output_type": "stream",
     "text": [
      "\t Enregistrement intermédiaire effectué\n"
     ]
    },
    {
     "name": "stderr",
     "output_type": "stream",
     "text": [
      " 75% (16800 of 22127) |#############     | Elapsed Time: 7:54:21 ETA:   3:41:51"
     ]
    },
    {
     "name": "stdout",
     "output_type": "stream",
     "text": [
      "\t Enregistrement intermédiaire effectué\n"
     ]
    },
    {
     "name": "stderr",
     "output_type": "stream",
     "text": [
      " 76% (16900 of 22127) |#############     | Elapsed Time: 7:57:12 ETA:   2:57:23"
     ]
    },
    {
     "name": "stdout",
     "output_type": "stream",
     "text": [
      "\t Enregistrement intermédiaire effectué\n"
     ]
    },
    {
     "name": "stderr",
     "output_type": "stream",
     "text": [
      " 76% (17000 of 22127) |#############     | Elapsed Time: 8:00:13 ETA:   2:13:54"
     ]
    },
    {
     "name": "stdout",
     "output_type": "stream",
     "text": [
      "\t Enregistrement intermédiaire effectué\n"
     ]
    },
    {
     "name": "stderr",
     "output_type": "stream",
     "text": [
      " 77% (17100 of 22127) |#############     | Elapsed Time: 8:03:15 ETA:   2:20:59"
     ]
    },
    {
     "name": "stdout",
     "output_type": "stream",
     "text": [
      "\t Enregistrement intermédiaire effectué\n"
     ]
    },
    {
     "name": "stderr",
     "output_type": "stream",
     "text": [
      " 77% (17200 of 22127) |#############     | Elapsed Time: 8:06:15 ETA:   2:09:26"
     ]
    },
    {
     "name": "stdout",
     "output_type": "stream",
     "text": [
      "\t Enregistrement intermédiaire effectué\n"
     ]
    },
    {
     "name": "stderr",
     "output_type": "stream",
     "text": [
      " 78% (17300 of 22127) |##############    | Elapsed Time: 8:09:05 ETA:   1:35:16"
     ]
    },
    {
     "name": "stdout",
     "output_type": "stream",
     "text": [
      "\t Enregistrement intermédiaire effectué\n"
     ]
    },
    {
     "name": "stderr",
     "output_type": "stream",
     "text": [
      " 78% (17400 of 22127) |##############    | Elapsed Time: 8:12:02 ETA:   2:37:58"
     ]
    },
    {
     "name": "stdout",
     "output_type": "stream",
     "text": [
      "\t Enregistrement intermédiaire effectué\n"
     ]
    },
    {
     "name": "stderr",
     "output_type": "stream",
     "text": [
      " 79% (17500 of 22127) |##############    | Elapsed Time: 8:15:02 ETA:   2:27:24"
     ]
    },
    {
     "name": "stdout",
     "output_type": "stream",
     "text": [
      "\t Enregistrement intermédiaire effectué\n"
     ]
    },
    {
     "name": "stderr",
     "output_type": "stream",
     "text": [
      " 79% (17600 of 22127) |##############    | Elapsed Time: 8:17:55 ETA:   1:36:18"
     ]
    },
    {
     "name": "stdout",
     "output_type": "stream",
     "text": [
      "\t Enregistrement intermédiaire effectué\n"
     ]
    },
    {
     "name": "stderr",
     "output_type": "stream",
     "text": [
      " 79% (17700 of 22127) |##############    | Elapsed Time: 8:20:56 ETA:   1:36:28"
     ]
    },
    {
     "name": "stdout",
     "output_type": "stream",
     "text": [
      "\t Enregistrement intermédiaire effectué\n"
     ]
    },
    {
     "name": "stderr",
     "output_type": "stream",
     "text": [
      " 80% (17800 of 22127) |##############    | Elapsed Time: 8:23:49 ETA:   3:52:32"
     ]
    },
    {
     "name": "stdout",
     "output_type": "stream",
     "text": [
      "\t Enregistrement intermédiaire effectué\n"
     ]
    },
    {
     "name": "stderr",
     "output_type": "stream",
     "text": [
      " 80% (17900 of 22127) |##############    | Elapsed Time: 8:26:38 ETA:   1:33:20"
     ]
    },
    {
     "name": "stdout",
     "output_type": "stream",
     "text": [
      "\t Enregistrement intermédiaire effectué\n"
     ]
    },
    {
     "name": "stderr",
     "output_type": "stream",
     "text": [
      " 81% (18000 of 22127) |##############    | Elapsed Time: 8:29:37 ETA:   1:58:00"
     ]
    },
    {
     "name": "stdout",
     "output_type": "stream",
     "text": [
      "\t Enregistrement intermédiaire effectué\n"
     ]
    },
    {
     "name": "stderr",
     "output_type": "stream",
     "text": [
      " 81% (18100 of 22127) |##############    | Elapsed Time: 8:32:41 ETA:   1:49:49"
     ]
    },
    {
     "name": "stdout",
     "output_type": "stream",
     "text": [
      "\t Enregistrement intermédiaire effectué\n"
     ]
    },
    {
     "name": "stderr",
     "output_type": "stream",
     "text": [
      " 82% (18200 of 22127) |##############    | Elapsed Time: 8:35:40 ETA:   2:59:45"
     ]
    },
    {
     "name": "stdout",
     "output_type": "stream",
     "text": [
      "\t Enregistrement intermédiaire effectué\n"
     ]
    },
    {
     "name": "stderr",
     "output_type": "stream",
     "text": [
      " 82% (18300 of 22127) |##############    | Elapsed Time: 8:38:28 ETA:   2:08:13"
     ]
    },
    {
     "name": "stdout",
     "output_type": "stream",
     "text": [
      "\t Enregistrement intermédiaire effectué\n"
     ]
    },
    {
     "name": "stderr",
     "output_type": "stream",
     "text": [
      " 83% (18400 of 22127) |##############    | Elapsed Time: 8:41:30 ETA:   1:17:39"
     ]
    },
    {
     "name": "stdout",
     "output_type": "stream",
     "text": [
      "\t Enregistrement intermédiaire effectué\n"
     ]
    },
    {
     "name": "stderr",
     "output_type": "stream",
     "text": [
      " 83% (18500 of 22127) |###############   | Elapsed Time: 8:44:41 ETA:   1:58:23"
     ]
    },
    {
     "name": "stdout",
     "output_type": "stream",
     "text": [
      "\t Enregistrement intermédiaire effectué\n"
     ]
    },
    {
     "name": "stderr",
     "output_type": "stream",
     "text": [
      " 84% (18600 of 22127) |###############   | Elapsed Time: 8:47:36 ETA:   1:23:47"
     ]
    },
    {
     "name": "stdout",
     "output_type": "stream",
     "text": [
      "\t Enregistrement intermédiaire effectué\n"
     ]
    },
    {
     "name": "stderr",
     "output_type": "stream",
     "text": [
      " 84% (18700 of 22127) |###############   | Elapsed Time: 8:50:29 ETA:   2:02:15"
     ]
    },
    {
     "name": "stdout",
     "output_type": "stream",
     "text": [
      "\t Enregistrement intermédiaire effectué\n"
     ]
    },
    {
     "name": "stderr",
     "output_type": "stream",
     "text": [
      " 84% (18800 of 22127) |###############   | Elapsed Time: 8:53:21 ETA:   2:37:32"
     ]
    },
    {
     "name": "stdout",
     "output_type": "stream",
     "text": [
      "\t Enregistrement intermédiaire effectué\n"
     ]
    },
    {
     "name": "stderr",
     "output_type": "stream",
     "text": [
      " 85% (18900 of 22127) |###############   | Elapsed Time: 8:56:12 ETA:   1:51:25"
     ]
    },
    {
     "name": "stdout",
     "output_type": "stream",
     "text": [
      "\t Enregistrement intermédiaire effectué\n"
     ]
    },
    {
     "name": "stderr",
     "output_type": "stream",
     "text": [
      " 85% (19000 of 22127) |###############   | Elapsed Time: 8:59:09 ETA:   1:22:51"
     ]
    },
    {
     "name": "stdout",
     "output_type": "stream",
     "text": [
      "\t Enregistrement intermédiaire effectué\n"
     ]
    },
    {
     "name": "stderr",
     "output_type": "stream",
     "text": [
      " 86% (19100 of 22127) |###############   | Elapsed Time: 9:02:13 ETA:   1:30:18"
     ]
    },
    {
     "name": "stdout",
     "output_type": "stream",
     "text": [
      "\t Enregistrement intermédiaire effectué\n"
     ]
    },
    {
     "name": "stderr",
     "output_type": "stream",
     "text": [
      " 86% (19200 of 22127) |###############   | Elapsed Time: 9:05:19 ETA:   1:06:22"
     ]
    },
    {
     "name": "stdout",
     "output_type": "stream",
     "text": [
      "\t Enregistrement intermédiaire effectué\n"
     ]
    },
    {
     "name": "stderr",
     "output_type": "stream",
     "text": [
      " 87% (19300 of 22127) |###############   | Elapsed Time: 9:08:12 ETA:   1:16:21"
     ]
    },
    {
     "name": "stdout",
     "output_type": "stream",
     "text": [
      "\t Enregistrement intermédiaire effectué\n"
     ]
    },
    {
     "name": "stderr",
     "output_type": "stream",
     "text": [
      " 87% (19400 of 22127) |###############   | Elapsed Time: 9:11:03 ETA:   1:18:30"
     ]
    },
    {
     "name": "stdout",
     "output_type": "stream",
     "text": [
      "\t Enregistrement intermédiaire effectué\n"
     ]
    },
    {
     "name": "stderr",
     "output_type": "stream",
     "text": [
      " 88% (19500 of 22127) |###############   | Elapsed Time: 9:14:06 ETA:   1:03:33"
     ]
    },
    {
     "name": "stdout",
     "output_type": "stream",
     "text": [
      "\t Enregistrement intermédiaire effectué\n"
     ]
    },
    {
     "name": "stderr",
     "output_type": "stream",
     "text": [
      " 88% (19600 of 22127) |###############   | Elapsed Time: 9:17:11 ETA:   0:55:48"
     ]
    },
    {
     "name": "stdout",
     "output_type": "stream",
     "text": [
      "\t Enregistrement intermédiaire effectué\n"
     ]
    },
    {
     "name": "stderr",
     "output_type": "stream",
     "text": [
      " 89% (19700 of 22127) |################  | Elapsed Time: 9:19:57 ETA:   0:59:57"
     ]
    },
    {
     "name": "stdout",
     "output_type": "stream",
     "text": [
      "\t Enregistrement intermédiaire effectué\n"
     ]
    },
    {
     "name": "stderr",
     "output_type": "stream",
     "text": [
      " 89% (19800 of 22127) |################  | Elapsed Time: 9:22:48 ETA:   1:22:32"
     ]
    },
    {
     "name": "stdout",
     "output_type": "stream",
     "text": [
      "\t Enregistrement intermédiaire effectué\n"
     ]
    },
    {
     "name": "stderr",
     "output_type": "stream",
     "text": [
      " 89% (19900 of 22127) |################  | Elapsed Time: 9:26:23 ETA:   0:56:48"
     ]
    },
    {
     "name": "stdout",
     "output_type": "stream",
     "text": [
      "\t Enregistrement intermédiaire effectué\n"
     ]
    },
    {
     "name": "stderr",
     "output_type": "stream",
     "text": [
      " 90% (20000 of 22127) |################  | Elapsed Time: 9:29:35 ETA:   1:16:42"
     ]
    },
    {
     "name": "stdout",
     "output_type": "stream",
     "text": [
      "\t Enregistrement intermédiaire effectué\n"
     ]
    },
    {
     "name": "stderr",
     "output_type": "stream",
     "text": [
      " 90% (20100 of 22127) |################  | Elapsed Time: 9:32:29 ETA:   0:43:46"
     ]
    },
    {
     "name": "stdout",
     "output_type": "stream",
     "text": [
      "\t Enregistrement intermédiaire effectué\n"
     ]
    },
    {
     "name": "stderr",
     "output_type": "stream",
     "text": [
      " 91% (20200 of 22127) |################  | Elapsed Time: 9:35:31 ETA:   0:44:41"
     ]
    },
    {
     "name": "stdout",
     "output_type": "stream",
     "text": [
      "\t Enregistrement intermédiaire effectué\n"
     ]
    },
    {
     "name": "stderr",
     "output_type": "stream",
     "text": [
      " 91% (20300 of 22127) |################  | Elapsed Time: 9:38:25 ETA:   0:46:48"
     ]
    },
    {
     "name": "stdout",
     "output_type": "stream",
     "text": [
      "\t Enregistrement intermédiaire effectué\n"
     ]
    },
    {
     "name": "stderr",
     "output_type": "stream",
     "text": [
      " 92% (20400 of 22127) |################  | Elapsed Time: 9:41:21 ETA:   0:39:22"
     ]
    },
    {
     "name": "stdout",
     "output_type": "stream",
     "text": [
      "\t Enregistrement intermédiaire effectué\n"
     ]
    },
    {
     "name": "stderr",
     "output_type": "stream",
     "text": [
      " 92% (20500 of 22127) |################  | Elapsed Time: 9:44:13 ETA:   0:39:46"
     ]
    },
    {
     "name": "stdout",
     "output_type": "stream",
     "text": [
      "\t Enregistrement intermédiaire effectué\n"
     ]
    },
    {
     "name": "stderr",
     "output_type": "stream",
     "text": [
      " 93% (20600 of 22127) |################  | Elapsed Time: 9:47:16 ETA:   0:49:11"
     ]
    },
    {
     "name": "stdout",
     "output_type": "stream",
     "text": [
      "\t Enregistrement intermédiaire effectué\n"
     ]
    },
    {
     "name": "stderr",
     "output_type": "stream",
     "text": [
      " 93% (20700 of 22127) |################  | Elapsed Time: 9:50:05 ETA:   0:35:41"
     ]
    },
    {
     "name": "stdout",
     "output_type": "stream",
     "text": [
      "\t Enregistrement intermédiaire effectué\n"
     ]
    },
    {
     "name": "stderr",
     "output_type": "stream",
     "text": [
      " 94% (20800 of 22127) |################  | Elapsed Time: 9:52:59 ETA:   0:48:29"
     ]
    },
    {
     "name": "stdout",
     "output_type": "stream",
     "text": [
      "\t Enregistrement intermédiaire effectué\n"
     ]
    },
    {
     "name": "stderr",
     "output_type": "stream",
     "text": [
      " 94% (20900 of 22127) |################# | Elapsed Time: 9:55:49 ETA:   0:28:54"
     ]
    },
    {
     "name": "stdout",
     "output_type": "stream",
     "text": [
      "\t Enregistrement intermédiaire effectué\n"
     ]
    },
    {
     "name": "stderr",
     "output_type": "stream",
     "text": [
      " 94% (21000 of 22127) |################# | Elapsed Time: 9:58:42 ETA:   0:22:47"
     ]
    },
    {
     "name": "stdout",
     "output_type": "stream",
     "text": [
      "\t Enregistrement intermédiaire effectué\n"
     ]
    },
    {
     "name": "stderr",
     "output_type": "stream",
     "text": [
      " 95% (21100 of 22127) |################ | Elapsed Time: 10:01:27 ETA:   0:24:14"
     ]
    },
    {
     "name": "stdout",
     "output_type": "stream",
     "text": [
      "\t Enregistrement intermédiaire effectué\n"
     ]
    },
    {
     "name": "stderr",
     "output_type": "stream",
     "text": [
      " 95% (21200 of 22127) |################ | Elapsed Time: 10:04:12 ETA:   0:25:58"
     ]
    },
    {
     "name": "stdout",
     "output_type": "stream",
     "text": [
      "\t Enregistrement intermédiaire effectué\n"
     ]
    },
    {
     "name": "stderr",
     "output_type": "stream",
     "text": [
      " 96% (21300 of 22127) |################ | Elapsed Time: 10:07:05 ETA:   0:28:22"
     ]
    },
    {
     "name": "stdout",
     "output_type": "stream",
     "text": [
      "\t Enregistrement intermédiaire effectué\n"
     ]
    },
    {
     "name": "stderr",
     "output_type": "stream",
     "text": [
      " 96% (21400 of 22127) |################ | Elapsed Time: 10:10:13 ETA:   0:19:23"
     ]
    },
    {
     "name": "stdout",
     "output_type": "stream",
     "text": [
      "\t Enregistrement intermédiaire effectué\n"
     ]
    },
    {
     "name": "stderr",
     "output_type": "stream",
     "text": [
      " 97% (21500 of 22127) |################ | Elapsed Time: 10:12:50 ETA:   0:13:24"
     ]
    },
    {
     "name": "stdout",
     "output_type": "stream",
     "text": [
      "\t Enregistrement intermédiaire effectué\n"
     ]
    },
    {
     "name": "stderr",
     "output_type": "stream",
     "text": [
      " 97% (21600 of 22127) |################ | Elapsed Time: 10:15:36 ETA:   0:32:02"
     ]
    },
    {
     "name": "stdout",
     "output_type": "stream",
     "text": [
      "\t Enregistrement intermédiaire effectué\n"
     ]
    },
    {
     "name": "stderr",
     "output_type": "stream",
     "text": [
      " 98% (21700 of 22127) |################ | Elapsed Time: 10:18:21 ETA:   0:13:02"
     ]
    },
    {
     "name": "stdout",
     "output_type": "stream",
     "text": [
      "\t Enregistrement intermédiaire effectué\n"
     ]
    },
    {
     "name": "stderr",
     "output_type": "stream",
     "text": [
      " 98% (21800 of 22127) |################ | Elapsed Time: 10:21:09 ETA:   0:08:06"
     ]
    },
    {
     "name": "stdout",
     "output_type": "stream",
     "text": [
      "\t Enregistrement intermédiaire effectué\n"
     ]
    },
    {
     "name": "stderr",
     "output_type": "stream",
     "text": [
      " 98% (21900 of 22127) |################ | Elapsed Time: 10:23:54 ETA:   0:07:52"
     ]
    },
    {
     "name": "stdout",
     "output_type": "stream",
     "text": [
      "\t Enregistrement intermédiaire effectué\n"
     ]
    },
    {
     "name": "stderr",
     "output_type": "stream",
     "text": [
      " 99% (22000 of 22127) |################ | Elapsed Time: 10:26:31 ETA:   0:03:13"
     ]
    },
    {
     "name": "stdout",
     "output_type": "stream",
     "text": [
      "\t Enregistrement intermédiaire effectué\n"
     ]
    },
    {
     "name": "stderr",
     "output_type": "stream",
     "text": [
      " 99% (22100 of 22127) |################ | Elapsed Time: 10:29:07 ETA:   0:00:40"
     ]
    },
    {
     "name": "stdout",
     "output_type": "stream",
     "text": [
      "\t Enregistrement intermédiaire effectué\n"
     ]
    },
    {
     "name": "stderr",
     "output_type": "stream",
     "text": [
      "100% (22127 of 22127) |#################| Elapsed Time: 10:29:51 Time: 10:29:51\n",
      "C:\\Users\\kaoua\\kickstarter.py:549: SettingWithCopyWarning: \n",
      "A value is trying to be set on a copy of a slice from a DataFrame.\n",
      "Try using .loc[row_indexer,col_indexer] = value instead\n",
      "\n",
      "See the caveats in the documentation: https://pandas.pydata.org/pandas-docs/stable/user_guide/indexing.html#returning-a-view-versus-a-copy\n",
      "  df['coup_de_coeur'] = coeur\n"
     ]
    },
    {
     "name": "stdout",
     "output_type": "stream",
     "text": [
      "Scrapping de l'année 2018\n"
     ]
    },
    {
     "name": "stderr",
     "output_type": "stream",
     "text": [
      "  0% (100 of 20297) |                    | Elapsed Time: 0:02:41 ETA:   8:43:12C:\\Users\\kaoua\\kickstarter.py:545: SettingWithCopyWarning: \n",
      "A value is trying to be set on a copy of a slice from a DataFrame.\n",
      "Try using .loc[row_indexer,col_indexer] = value instead\n",
      "\n",
      "See the caveats in the documentation: https://pandas.pydata.org/pandas-docs/stable/user_guide/indexing.html#returning-a-view-versus-a-copy\n",
      "  dfi['coup_de_coeur'] = coeur\n"
     ]
    },
    {
     "name": "stdout",
     "output_type": "stream",
     "text": [
      "\t Enregistrement intermédiaire effectué\n"
     ]
    },
    {
     "name": "stderr",
     "output_type": "stream",
     "text": [
      "  0% (200 of 20297) |                    | Elapsed Time: 0:05:31 ETA:   8:25:13"
     ]
    },
    {
     "name": "stdout",
     "output_type": "stream",
     "text": [
      "\t Enregistrement intermédiaire effectué\n"
     ]
    },
    {
     "name": "stderr",
     "output_type": "stream",
     "text": [
      "  1% (300 of 20297) |                    | Elapsed Time: 0:08:17 ETA:   8:45:53"
     ]
    },
    {
     "name": "stdout",
     "output_type": "stream",
     "text": [
      "\t Enregistrement intermédiaire effectué\n"
     ]
    },
    {
     "name": "stderr",
     "output_type": "stream",
     "text": [
      "  1% (400 of 20297) |                    | Elapsed Time: 0:10:55 ETA:   8:03:53"
     ]
    },
    {
     "name": "stdout",
     "output_type": "stream",
     "text": [
      "\t Enregistrement intermédiaire effectué\n"
     ]
    },
    {
     "name": "stderr",
     "output_type": "stream",
     "text": [
      "  2% (500 of 20297) |                    | Elapsed Time: 0:13:46 ETA:   9:03:07"
     ]
    },
    {
     "name": "stdout",
     "output_type": "stream",
     "text": [
      "\t Enregistrement intermédiaire effectué\n"
     ]
    },
    {
     "name": "stderr",
     "output_type": "stream",
     "text": [
      "  2% (600 of 20297) |                    | Elapsed Time: 0:16:17 ETA:   7:33:01"
     ]
    },
    {
     "name": "stdout",
     "output_type": "stream",
     "text": [
      "\t Enregistrement intermédiaire effectué\n"
     ]
    },
    {
     "name": "stderr",
     "output_type": "stream",
     "text": [
      "  3% (700 of 20297) |                    | Elapsed Time: 0:19:04 ETA:   6:29:41"
     ]
    },
    {
     "name": "stdout",
     "output_type": "stream",
     "text": [
      "\t Enregistrement intermédiaire effectué\n"
     ]
    },
    {
     "name": "stderr",
     "output_type": "stream",
     "text": [
      "  3% (800 of 20297) |                    | Elapsed Time: 0:21:50 ETA:  11:23:12"
     ]
    },
    {
     "name": "stdout",
     "output_type": "stream",
     "text": [
      "\t Enregistrement intermédiaire effectué\n"
     ]
    },
    {
     "name": "stderr",
     "output_type": "stream",
     "text": [
      "  4% (900 of 20297) |                    | Elapsed Time: 0:24:36 ETA:   9:51:00"
     ]
    },
    {
     "name": "stdout",
     "output_type": "stream",
     "text": [
      "\t Enregistrement intermédiaire effectué\n"
     ]
    },
    {
     "name": "stderr",
     "output_type": "stream",
     "text": [
      "  4% (1000 of 20297) |                   | Elapsed Time: 0:27:20 ETA:   7:54:37"
     ]
    },
    {
     "name": "stdout",
     "output_type": "stream",
     "text": [
      "\t Enregistrement intermédiaire effectué\n"
     ]
    },
    {
     "name": "stderr",
     "output_type": "stream",
     "text": [
      "  5% (1100 of 20297) |#                  | Elapsed Time: 0:30:02 ETA:   6:09:27"
     ]
    },
    {
     "name": "stdout",
     "output_type": "stream",
     "text": [
      "\t Enregistrement intermédiaire effectué\n"
     ]
    },
    {
     "name": "stderr",
     "output_type": "stream",
     "text": [
      "  5% (1200 of 20297) |#                  | Elapsed Time: 0:32:41 ETA:   8:34:19"
     ]
    },
    {
     "name": "stdout",
     "output_type": "stream",
     "text": [
      "\t Enregistrement intermédiaire effectué\n"
     ]
    },
    {
     "name": "stderr",
     "output_type": "stream",
     "text": [
      "  6% (1300 of 20297) |#                  | Elapsed Time: 0:35:19 ETA:   9:53:46"
     ]
    },
    {
     "name": "stdout",
     "output_type": "stream",
     "text": [
      "\t Enregistrement intermédiaire effectué\n"
     ]
    },
    {
     "name": "stderr",
     "output_type": "stream",
     "text": [
      "  6% (1400 of 20297) |#                  | Elapsed Time: 0:38:02 ETA:   8:41:47"
     ]
    },
    {
     "name": "stdout",
     "output_type": "stream",
     "text": [
      "\t Enregistrement intermédiaire effectué\n"
     ]
    },
    {
     "name": "stderr",
     "output_type": "stream",
     "text": [
      "  7% (1500 of 20297) |#                  | Elapsed Time: 0:40:44 ETA:   8:04:45"
     ]
    },
    {
     "name": "stdout",
     "output_type": "stream",
     "text": [
      "\t Enregistrement intermédiaire effectué\n"
     ]
    },
    {
     "name": "stderr",
     "output_type": "stream",
     "text": [
      "  7% (1600 of 20297) |#                  | Elapsed Time: 0:43:35 ETA:   8:16:41"
     ]
    },
    {
     "name": "stdout",
     "output_type": "stream",
     "text": [
      "\t Enregistrement intermédiaire effectué\n"
     ]
    },
    {
     "name": "stderr",
     "output_type": "stream",
     "text": [
      "  8% (1700 of 20297) |#                  | Elapsed Time: 0:46:23 ETA:   9:11:26"
     ]
    },
    {
     "name": "stdout",
     "output_type": "stream",
     "text": [
      "\t Enregistrement intermédiaire effectué\n"
     ]
    },
    {
     "name": "stderr",
     "output_type": "stream",
     "text": [
      "  8% (1800 of 20297) |#                  | Elapsed Time: 0:49:02 ETA:  15:52:01"
     ]
    },
    {
     "name": "stdout",
     "output_type": "stream",
     "text": [
      "\t Enregistrement intermédiaire effectué\n"
     ]
    },
    {
     "name": "stderr",
     "output_type": "stream",
     "text": [
      "  9% (1900 of 20297) |#                  | Elapsed Time: 0:52:00 ETA:  11:22:15"
     ]
    },
    {
     "name": "stdout",
     "output_type": "stream",
     "text": [
      "\t Enregistrement intermédiaire effectué\n"
     ]
    },
    {
     "name": "stderr",
     "output_type": "stream",
     "text": [
      "  9% (2000 of 20297) |#                  | Elapsed Time: 0:54:45 ETA:   8:39:38"
     ]
    },
    {
     "name": "stdout",
     "output_type": "stream",
     "text": [
      "\t Enregistrement intermédiaire effectué\n"
     ]
    },
    {
     "name": "stderr",
     "output_type": "stream",
     "text": [
      " 10% (2100 of 20297) |#                  | Elapsed Time: 0:57:31 ETA:   7:42:23"
     ]
    },
    {
     "name": "stdout",
     "output_type": "stream",
     "text": [
      "\t Enregistrement intermédiaire effectué\n"
     ]
    },
    {
     "name": "stderr",
     "output_type": "stream",
     "text": [
      " 10% (2200 of 20297) |##                 | Elapsed Time: 1:00:25 ETA:  10:07:42"
     ]
    },
    {
     "name": "stdout",
     "output_type": "stream",
     "text": [
      "\t Enregistrement intermédiaire effectué\n"
     ]
    },
    {
     "name": "stderr",
     "output_type": "stream",
     "text": [
      " 11% (2300 of 20297) |##                 | Elapsed Time: 1:03:16 ETA:   8:09:02"
     ]
    },
    {
     "name": "stdout",
     "output_type": "stream",
     "text": [
      "\t Enregistrement intermédiaire effectué\n"
     ]
    },
    {
     "name": "stderr",
     "output_type": "stream",
     "text": [
      " 11% (2400 of 20297) |##                 | Elapsed Time: 1:06:08 ETA:   9:26:04"
     ]
    },
    {
     "name": "stdout",
     "output_type": "stream",
     "text": [
      "\t Enregistrement intermédiaire effectué\n"
     ]
    },
    {
     "name": "stderr",
     "output_type": "stream",
     "text": [
      " 12% (2500 of 20297) |##                 | Elapsed Time: 1:08:56 ETA:   7:49:00"
     ]
    },
    {
     "name": "stdout",
     "output_type": "stream",
     "text": [
      "\t Enregistrement intermédiaire effectué\n"
     ]
    },
    {
     "name": "stderr",
     "output_type": "stream",
     "text": [
      " 12% (2600 of 20297) |##                 | Elapsed Time: 1:11:46 ETA:  12:22:55"
     ]
    },
    {
     "name": "stdout",
     "output_type": "stream",
     "text": [
      "\t Enregistrement intermédiaire effectué\n"
     ]
    },
    {
     "name": "stderr",
     "output_type": "stream",
     "text": [
      " 13% (2700 of 20297) |##                 | Elapsed Time: 1:14:39 ETA:   8:04:18"
     ]
    },
    {
     "name": "stdout",
     "output_type": "stream",
     "text": [
      "\t Enregistrement intermédiaire effectué\n"
     ]
    },
    {
     "name": "stderr",
     "output_type": "stream",
     "text": [
      " 13% (2800 of 20297) |##                 | Elapsed Time: 1:17:22 ETA:   6:26:28"
     ]
    },
    {
     "name": "stdout",
     "output_type": "stream",
     "text": [
      "\t Enregistrement intermédiaire effectué\n"
     ]
    },
    {
     "name": "stderr",
     "output_type": "stream",
     "text": [
      " 14% (2900 of 20297) |##                 | Elapsed Time: 1:20:27 ETA:   6:21:10"
     ]
    },
    {
     "name": "stdout",
     "output_type": "stream",
     "text": [
      "\t Enregistrement intermédiaire effectué\n"
     ]
    },
    {
     "name": "stderr",
     "output_type": "stream",
     "text": [
      " 14% (3000 of 20297) |##                 | Elapsed Time: 1:23:17 ETA:   9:19:29"
     ]
    },
    {
     "name": "stdout",
     "output_type": "stream",
     "text": [
      "\t Enregistrement intermédiaire effectué\n"
     ]
    },
    {
     "name": "stderr",
     "output_type": "stream",
     "text": [
      " 15% (3100 of 20297) |##                 | Elapsed Time: 1:26:06 ETA:  10:03:11"
     ]
    },
    {
     "name": "stdout",
     "output_type": "stream",
     "text": [
      "\t Enregistrement intermédiaire effectué\n"
     ]
    },
    {
     "name": "stderr",
     "output_type": "stream",
     "text": [
      " 15% (3200 of 20297) |##                 | Elapsed Time: 1:28:47 ETA:   6:42:49"
     ]
    },
    {
     "name": "stdout",
     "output_type": "stream",
     "text": [
      "\t Enregistrement intermédiaire effectué\n"
     ]
    },
    {
     "name": "stderr",
     "output_type": "stream",
     "text": [
      " 16% (3300 of 20297) |###                | Elapsed Time: 1:31:31 ETA:   8:01:51"
     ]
    },
    {
     "name": "stdout",
     "output_type": "stream",
     "text": [
      "\t Enregistrement intermédiaire effectué\n"
     ]
    },
    {
     "name": "stderr",
     "output_type": "stream",
     "text": [
      " 16% (3400 of 20297) |###                | Elapsed Time: 1:34:18 ETA:   8:18:03"
     ]
    },
    {
     "name": "stdout",
     "output_type": "stream",
     "text": [
      "\t Enregistrement intermédiaire effectué\n"
     ]
    },
    {
     "name": "stderr",
     "output_type": "stream",
     "text": [
      " 17% (3500 of 20297) |###                | Elapsed Time: 1:37:23 ETA:   9:58:16"
     ]
    },
    {
     "name": "stdout",
     "output_type": "stream",
     "text": [
      "\t Enregistrement intermédiaire effectué\n"
     ]
    },
    {
     "name": "stderr",
     "output_type": "stream",
     "text": [
      " 17% (3600 of 20297) |###                | Elapsed Time: 1:40:14 ETA:   6:46:14"
     ]
    },
    {
     "name": "stdout",
     "output_type": "stream",
     "text": [
      "\t Enregistrement intermédiaire effectué\n"
     ]
    },
    {
     "name": "stderr",
     "output_type": "stream",
     "text": [
      " 18% (3700 of 20297) |###                | Elapsed Time: 1:42:56 ETA:   7:41:33"
     ]
    },
    {
     "name": "stdout",
     "output_type": "stream",
     "text": [
      "\t Enregistrement intermédiaire effectué\n"
     ]
    },
    {
     "name": "stderr",
     "output_type": "stream",
     "text": [
      " 18% (3800 of 20297) |###                | Elapsed Time: 1:45:51 ETA:  13:20:22"
     ]
    },
    {
     "name": "stdout",
     "output_type": "stream",
     "text": [
      "\t Enregistrement intermédiaire effectué\n"
     ]
    },
    {
     "name": "stderr",
     "output_type": "stream",
     "text": [
      " 19% (3900 of 20297) |###                | Elapsed Time: 1:48:40 ETA:   6:55:27"
     ]
    },
    {
     "name": "stdout",
     "output_type": "stream",
     "text": [
      "\t Enregistrement intermédiaire effectué\n"
     ]
    },
    {
     "name": "stderr",
     "output_type": "stream",
     "text": [
      " 19% (4000 of 20297) |###                | Elapsed Time: 1:51:36 ETA:   7:25:37"
     ]
    },
    {
     "name": "stdout",
     "output_type": "stream",
     "text": [
      "\t Enregistrement intermédiaire effectué\n"
     ]
    },
    {
     "name": "stderr",
     "output_type": "stream",
     "text": [
      " 20% (4100 of 20297) |###                | Elapsed Time: 1:54:27 ETA:   7:46:06"
     ]
    },
    {
     "name": "stdout",
     "output_type": "stream",
     "text": [
      "\t Enregistrement intermédiaire effectué\n"
     ]
    },
    {
     "name": "stderr",
     "output_type": "stream",
     "text": [
      " 20% (4200 of 20297) |###                | Elapsed Time: 1:57:29 ETA:   8:28:46"
     ]
    },
    {
     "name": "stdout",
     "output_type": "stream",
     "text": [
      "\t Enregistrement intermédiaire effectué\n"
     ]
    },
    {
     "name": "stderr",
     "output_type": "stream",
     "text": [
      " 21% (4300 of 20297) |####               | Elapsed Time: 2:00:25 ETA:  11:55:52"
     ]
    },
    {
     "name": "stdout",
     "output_type": "stream",
     "text": [
      "\t Enregistrement intermédiaire effectué\n"
     ]
    },
    {
     "name": "stderr",
     "output_type": "stream",
     "text": [
      " 21% (4400 of 20297) |####               | Elapsed Time: 2:03:23 ETA:   5:31:31"
     ]
    },
    {
     "name": "stdout",
     "output_type": "stream",
     "text": [
      "\t Enregistrement intermédiaire effectué\n"
     ]
    },
    {
     "name": "stderr",
     "output_type": "stream",
     "text": [
      " 22% (4500 of 20297) |####               | Elapsed Time: 2:06:28 ETA:   9:04:38"
     ]
    },
    {
     "name": "stdout",
     "output_type": "stream",
     "text": [
      "\t Enregistrement intermédiaire effectué\n"
     ]
    },
    {
     "name": "stderr",
     "output_type": "stream",
     "text": [
      " 22% (4600 of 20297) |####               | Elapsed Time: 2:09:26 ETA:   7:06:08"
     ]
    },
    {
     "name": "stdout",
     "output_type": "stream",
     "text": [
      "\t Enregistrement intermédiaire effectué\n"
     ]
    },
    {
     "name": "stderr",
     "output_type": "stream",
     "text": [
      " 23% (4700 of 20297) |####               | Elapsed Time: 2:12:10 ETA:   6:25:39"
     ]
    },
    {
     "name": "stdout",
     "output_type": "stream",
     "text": [
      "\t Enregistrement intermédiaire effectué\n"
     ]
    },
    {
     "name": "stderr",
     "output_type": "stream",
     "text": [
      " 23% (4800 of 20297) |####               | Elapsed Time: 2:15:09 ETA:   6:06:33"
     ]
    },
    {
     "name": "stdout",
     "output_type": "stream",
     "text": [
      "\t Enregistrement intermédiaire effectué\n"
     ]
    },
    {
     "name": "stderr",
     "output_type": "stream",
     "text": [
      " 24% (4900 of 20297) |####               | Elapsed Time: 2:18:14 ETA:   6:56:18"
     ]
    },
    {
     "name": "stdout",
     "output_type": "stream",
     "text": [
      "\t Enregistrement intermédiaire effectué\n"
     ]
    },
    {
     "name": "stderr",
     "output_type": "stream",
     "text": [
      " 24% (5000 of 20297) |####               | Elapsed Time: 2:21:12 ETA:  10:43:02"
     ]
    },
    {
     "name": "stdout",
     "output_type": "stream",
     "text": [
      "\t Enregistrement intermédiaire effectué\n"
     ]
    },
    {
     "name": "stderr",
     "output_type": "stream",
     "text": [
      " 25% (5100 of 20297) |####               | Elapsed Time: 2:24:04 ETA:   8:29:41"
     ]
    },
    {
     "name": "stdout",
     "output_type": "stream",
     "text": [
      "\t Enregistrement intermédiaire effectué\n"
     ]
    },
    {
     "name": "stderr",
     "output_type": "stream",
     "text": [
      " 25% (5200 of 20297) |####               | Elapsed Time: 2:27:14 ETA:   9:30:45"
     ]
    },
    {
     "name": "stdout",
     "output_type": "stream",
     "text": [
      "\t Enregistrement intermédiaire effectué\n"
     ]
    },
    {
     "name": "stderr",
     "output_type": "stream",
     "text": [
      " 26% (5300 of 20297) |####               | Elapsed Time: 2:30:16 ETA:  10:29:16"
     ]
    },
    {
     "name": "stdout",
     "output_type": "stream",
     "text": [
      "\t Enregistrement intermédiaire effectué\n"
     ]
    },
    {
     "name": "stderr",
     "output_type": "stream",
     "text": [
      " 26% (5400 of 20297) |#####              | Elapsed Time: 2:33:30 ETA:  20:07:06"
     ]
    },
    {
     "name": "stdout",
     "output_type": "stream",
     "text": [
      "\t Enregistrement intermédiaire effectué\n"
     ]
    },
    {
     "name": "stderr",
     "output_type": "stream",
     "text": [
      " 27% (5500 of 20297) |#####              | Elapsed Time: 2:36:25 ETA:   8:35:11"
     ]
    },
    {
     "name": "stdout",
     "output_type": "stream",
     "text": [
      "\t Enregistrement intermédiaire effectué\n"
     ]
    },
    {
     "name": "stderr",
     "output_type": "stream",
     "text": [
      " 27% (5600 of 20297) |#####              | Elapsed Time: 2:39:27 ETA:   8:27:15"
     ]
    },
    {
     "name": "stdout",
     "output_type": "stream",
     "text": [
      "\t Enregistrement intermédiaire effectué\n"
     ]
    },
    {
     "name": "stderr",
     "output_type": "stream",
     "text": [
      " 28% (5700 of 20297) |#####              | Elapsed Time: 2:42:28 ETA:  10:06:33"
     ]
    },
    {
     "name": "stdout",
     "output_type": "stream",
     "text": [
      "\t Enregistrement intermédiaire effectué\n"
     ]
    },
    {
     "name": "stderr",
     "output_type": "stream",
     "text": [
      " 28% (5800 of 20297) |#####              | Elapsed Time: 2:45:22 ETA:   6:09:44"
     ]
    },
    {
     "name": "stdout",
     "output_type": "stream",
     "text": [
      "\t Enregistrement intermédiaire effectué\n"
     ]
    },
    {
     "name": "stderr",
     "output_type": "stream",
     "text": [
      " 29% (5900 of 20297) |#####              | Elapsed Time: 2:48:24 ETA:   6:39:06"
     ]
    },
    {
     "name": "stdout",
     "output_type": "stream",
     "text": [
      "\t Enregistrement intermédiaire effectué\n"
     ]
    },
    {
     "name": "stderr",
     "output_type": "stream",
     "text": [
      " 29% (6000 of 20297) |#####              | Elapsed Time: 2:51:28 ETA:   8:08:20"
     ]
    },
    {
     "name": "stdout",
     "output_type": "stream",
     "text": [
      "\t Enregistrement intermédiaire effectué\n"
     ]
    },
    {
     "name": "stderr",
     "output_type": "stream",
     "text": [
      " 30% (6100 of 20297) |#####              | Elapsed Time: 2:54:23 ETA:   8:16:21"
     ]
    },
    {
     "name": "stdout",
     "output_type": "stream",
     "text": [
      "\t Enregistrement intermédiaire effectué\n"
     ]
    },
    {
     "name": "stderr",
     "output_type": "stream",
     "text": [
      " 30% (6200 of 20297) |#####              | Elapsed Time: 2:57:18 ETA:   7:03:03"
     ]
    },
    {
     "name": "stdout",
     "output_type": "stream",
     "text": [
      "\t Enregistrement intermédiaire effectué\n"
     ]
    },
    {
     "name": "stderr",
     "output_type": "stream",
     "text": [
      " 31% (6300 of 20297) |#####              | Elapsed Time: 3:00:21 ETA:   5:36:49"
     ]
    },
    {
     "name": "stdout",
     "output_type": "stream",
     "text": [
      "\t Enregistrement intermédiaire effectué\n"
     ]
    },
    {
     "name": "stderr",
     "output_type": "stream",
     "text": [
      " 31% (6400 of 20297) |#####              | Elapsed Time: 3:03:17 ETA:   6:57:12"
     ]
    },
    {
     "name": "stdout",
     "output_type": "stream",
     "text": [
      "\t Enregistrement intermédiaire effectué\n"
     ]
    },
    {
     "name": "stderr",
     "output_type": "stream",
     "text": [
      " 32% (6500 of 20297) |######             | Elapsed Time: 3:06:13 ETA:   4:55:06"
     ]
    },
    {
     "name": "stdout",
     "output_type": "stream",
     "text": [
      "\t Enregistrement intermédiaire effectué\n"
     ]
    },
    {
     "name": "stderr",
     "output_type": "stream",
     "text": [
      " 32% (6600 of 20297) |######             | Elapsed Time: 3:09:23 ETA:   6:14:58"
     ]
    },
    {
     "name": "stdout",
     "output_type": "stream",
     "text": [
      "\t Enregistrement intermédiaire effectué\n"
     ]
    },
    {
     "name": "stderr",
     "output_type": "stream",
     "text": [
      " 33% (6700 of 20297) |######             | Elapsed Time: 3:12:36 ETA:   8:35:28"
     ]
    },
    {
     "name": "stdout",
     "output_type": "stream",
     "text": [
      "\t Enregistrement intermédiaire effectué\n"
     ]
    },
    {
     "name": "stderr",
     "output_type": "stream",
     "text": [
      " 33% (6800 of 20297) |######             | Elapsed Time: 3:15:45 ETA:  10:46:06"
     ]
    },
    {
     "name": "stdout",
     "output_type": "stream",
     "text": [
      "\t Enregistrement intermédiaire effectué\n"
     ]
    },
    {
     "name": "stderr",
     "output_type": "stream",
     "text": [
      " 33% (6900 of 20297) |######             | Elapsed Time: 3:19:02 ETA:   9:16:58"
     ]
    },
    {
     "name": "stdout",
     "output_type": "stream",
     "text": [
      "\t Enregistrement intermédiaire effectué\n"
     ]
    },
    {
     "name": "stderr",
     "output_type": "stream",
     "text": [
      " 34% (7000 of 20297) |######             | Elapsed Time: 3:22:11 ETA:   7:34:46"
     ]
    },
    {
     "name": "stdout",
     "output_type": "stream",
     "text": [
      "\t Enregistrement intermédiaire effectué\n"
     ]
    },
    {
     "name": "stderr",
     "output_type": "stream",
     "text": [
      " 34% (7100 of 20297) |######             | Elapsed Time: 3:25:26 ETA:   5:40:24"
     ]
    },
    {
     "name": "stdout",
     "output_type": "stream",
     "text": [
      "\t Enregistrement intermédiaire effectué\n"
     ]
    },
    {
     "name": "stderr",
     "output_type": "stream",
     "text": [
      " 35% (7200 of 20297) |######             | Elapsed Time: 3:28:22 ETA:   7:45:05"
     ]
    },
    {
     "name": "stdout",
     "output_type": "stream",
     "text": [
      "\t Enregistrement intermédiaire effectué\n"
     ]
    },
    {
     "name": "stderr",
     "output_type": "stream",
     "text": [
      " 35% (7300 of 20297) |######             | Elapsed Time: 3:31:39 ETA:   6:58:20"
     ]
    },
    {
     "name": "stdout",
     "output_type": "stream",
     "text": [
      "\t Enregistrement intermédiaire effectué\n"
     ]
    },
    {
     "name": "stderr",
     "output_type": "stream",
     "text": [
      " 36% (7400 of 20297) |######             | Elapsed Time: 3:34:33 ETA:   5:19:21"
     ]
    },
    {
     "name": "stdout",
     "output_type": "stream",
     "text": [
      "\t Enregistrement intermédiaire effectué\n"
     ]
    },
    {
     "name": "stderr",
     "output_type": "stream",
     "text": [
      " 36% (7500 of 20297) |#######            | Elapsed Time: 3:37:49 ETA:   4:52:51"
     ]
    },
    {
     "name": "stdout",
     "output_type": "stream",
     "text": [
      "\t Enregistrement intermédiaire effectué\n"
     ]
    },
    {
     "name": "stderr",
     "output_type": "stream",
     "text": [
      " 37% (7600 of 20297) |#######            | Elapsed Time: 3:40:52 ETA:  11:34:56"
     ]
    },
    {
     "name": "stdout",
     "output_type": "stream",
     "text": [
      "\t Enregistrement intermédiaire effectué\n"
     ]
    },
    {
     "name": "stderr",
     "output_type": "stream",
     "text": [
      " 37% (7700 of 20297) |#######            | Elapsed Time: 3:43:51 ETA:   5:46:53"
     ]
    },
    {
     "name": "stdout",
     "output_type": "stream",
     "text": [
      "\t Enregistrement intermédiaire effectué\n"
     ]
    },
    {
     "name": "stderr",
     "output_type": "stream",
     "text": [
      " 38% (7800 of 20297) |#######            | Elapsed Time: 3:47:08 ETA:   5:54:09"
     ]
    },
    {
     "name": "stdout",
     "output_type": "stream",
     "text": [
      "\t Enregistrement intermédiaire effectué\n"
     ]
    },
    {
     "name": "stderr",
     "output_type": "stream",
     "text": [
      " 38% (7900 of 20297) |#######            | Elapsed Time: 3:50:25 ETA:   5:33:56"
     ]
    },
    {
     "name": "stdout",
     "output_type": "stream",
     "text": [
      "\t Enregistrement intermédiaire effectué\n"
     ]
    },
    {
     "name": "stderr",
     "output_type": "stream",
     "text": [
      " 39% (8000 of 20297) |#######            | Elapsed Time: 3:53:23 ETA:   8:28:19"
     ]
    },
    {
     "name": "stdout",
     "output_type": "stream",
     "text": [
      "\t Enregistrement intermédiaire effectué\n"
     ]
    },
    {
     "name": "stderr",
     "output_type": "stream",
     "text": [
      " 39% (8100 of 20297) |#######            | Elapsed Time: 3:56:31 ETA:   7:05:39"
     ]
    },
    {
     "name": "stdout",
     "output_type": "stream",
     "text": [
      "\t Enregistrement intermédiaire effectué\n"
     ]
    },
    {
     "name": "stderr",
     "output_type": "stream",
     "text": [
      " 40% (8200 of 20297) |#######            | Elapsed Time: 3:59:35 ETA:   5:17:23"
     ]
    },
    {
     "name": "stdout",
     "output_type": "stream",
     "text": [
      "\t Enregistrement intermédiaire effectué\n"
     ]
    },
    {
     "name": "stderr",
     "output_type": "stream",
     "text": [
      " 40% (8300 of 20297) |#######            | Elapsed Time: 4:02:50 ETA:   5:06:02"
     ]
    },
    {
     "name": "stdout",
     "output_type": "stream",
     "text": [
      "\t Enregistrement intermédiaire effectué\n"
     ]
    },
    {
     "name": "stderr",
     "output_type": "stream",
     "text": [
      " 41% (8400 of 20297) |#######            | Elapsed Time: 4:05:54 ETA:   5:34:28"
     ]
    },
    {
     "name": "stdout",
     "output_type": "stream",
     "text": [
      "\t Enregistrement intermédiaire effectué\n"
     ]
    },
    {
     "name": "stderr",
     "output_type": "stream",
     "text": [
      " 41% (8500 of 20297) |#######            | Elapsed Time: 4:09:03 ETA:   6:39:59"
     ]
    },
    {
     "name": "stdout",
     "output_type": "stream",
     "text": [
      "\t Enregistrement intermédiaire effectué\n"
     ]
    },
    {
     "name": "stderr",
     "output_type": "stream",
     "text": [
      " 42% (8600 of 20297) |########           | Elapsed Time: 4:12:04 ETA:   5:41:37"
     ]
    },
    {
     "name": "stdout",
     "output_type": "stream",
     "text": [
      "\t Enregistrement intermédiaire effectué\n"
     ]
    },
    {
     "name": "stderr",
     "output_type": "stream",
     "text": [
      " 42% (8700 of 20297) |########           | Elapsed Time: 4:15:11 ETA:   5:34:20"
     ]
    },
    {
     "name": "stdout",
     "output_type": "stream",
     "text": [
      "\t Enregistrement intermédiaire effectué\n"
     ]
    },
    {
     "name": "stderr",
     "output_type": "stream",
     "text": [
      " 43% (8800 of 20297) |########           | Elapsed Time: 4:18:15 ETA:  11:27:55"
     ]
    },
    {
     "name": "stdout",
     "output_type": "stream",
     "text": [
      "\t Enregistrement intermédiaire effectué\n"
     ]
    },
    {
     "name": "stderr",
     "output_type": "stream",
     "text": [
      " 43% (8900 of 20297) |########           | Elapsed Time: 4:21:26 ETA:   7:51:00"
     ]
    },
    {
     "name": "stdout",
     "output_type": "stream",
     "text": [
      "\t Enregistrement intermédiaire effectué\n"
     ]
    },
    {
     "name": "stderr",
     "output_type": "stream",
     "text": [
      " 44% (9000 of 20297) |########           | Elapsed Time: 4:24:27 ETA:   4:46:40"
     ]
    },
    {
     "name": "stdout",
     "output_type": "stream",
     "text": [
      "\t Enregistrement intermédiaire effectué\n"
     ]
    },
    {
     "name": "stderr",
     "output_type": "stream",
     "text": [
      " 44% (9100 of 20297) |########           | Elapsed Time: 4:27:27 ETA:   5:00:29"
     ]
    },
    {
     "name": "stdout",
     "output_type": "stream",
     "text": [
      "\t Enregistrement intermédiaire effectué\n"
     ]
    },
    {
     "name": "stderr",
     "output_type": "stream",
     "text": [
      " 45% (9200 of 20297) |########           | Elapsed Time: 4:30:34 ETA:   7:07:41"
     ]
    },
    {
     "name": "stdout",
     "output_type": "stream",
     "text": [
      "\t Enregistrement intermédiaire effectué\n"
     ]
    },
    {
     "name": "stderr",
     "output_type": "stream",
     "text": [
      " 45% (9300 of 20297) |########           | Elapsed Time: 4:33:28 ETA:   6:20:14"
     ]
    },
    {
     "name": "stdout",
     "output_type": "stream",
     "text": [
      "\t Enregistrement intermédiaire effectué\n"
     ]
    },
    {
     "name": "stderr",
     "output_type": "stream",
     "text": [
      " 46% (9400 of 20297) |########           | Elapsed Time: 4:36:24 ETA:   4:40:54"
     ]
    },
    {
     "name": "stdout",
     "output_type": "stream",
     "text": [
      "\t Enregistrement intermédiaire effectué\n"
     ]
    },
    {
     "name": "stderr",
     "output_type": "stream",
     "text": [
      " 46% (9500 of 20297) |########           | Elapsed Time: 4:39:33 ETA:   5:10:58"
     ]
    },
    {
     "name": "stdout",
     "output_type": "stream",
     "text": [
      "\t Enregistrement intermédiaire effectué\n"
     ]
    },
    {
     "name": "stderr",
     "output_type": "stream",
     "text": [
      " 47% (9600 of 20297) |########           | Elapsed Time: 4:42:45 ETA:   6:34:02"
     ]
    },
    {
     "name": "stdout",
     "output_type": "stream",
     "text": [
      "\t Enregistrement intermédiaire effectué\n"
     ]
    },
    {
     "name": "stderr",
     "output_type": "stream",
     "text": [
      " 47% (9700 of 20297) |#########          | Elapsed Time: 4:45:47 ETA:   6:20:21"
     ]
    },
    {
     "name": "stdout",
     "output_type": "stream",
     "text": [
      "\t Enregistrement intermédiaire effectué\n"
     ]
    },
    {
     "name": "stderr",
     "output_type": "stream",
     "text": [
      " 48% (9800 of 20297) |#########          | Elapsed Time: 4:48:50 ETA:   5:53:00"
     ]
    },
    {
     "name": "stdout",
     "output_type": "stream",
     "text": [
      "\t Enregistrement intermédiaire effectué\n"
     ]
    },
    {
     "name": "stderr",
     "output_type": "stream",
     "text": [
      " 48% (9900 of 20297) |#########          | Elapsed Time: 4:51:45 ETA:   5:37:36"
     ]
    },
    {
     "name": "stdout",
     "output_type": "stream",
     "text": [
      "\t Enregistrement intermédiaire effectué\n"
     ]
    },
    {
     "name": "stderr",
     "output_type": "stream",
     "text": [
      " 49% (10000 of 20297) |########          | Elapsed Time: 4:54:49 ETA:   4:24:40"
     ]
    },
    {
     "name": "stdout",
     "output_type": "stream",
     "text": [
      "\t Enregistrement intermédiaire effectué\n"
     ]
    },
    {
     "name": "stderr",
     "output_type": "stream",
     "text": [
      " 49% (10100 of 20297) |########          | Elapsed Time: 4:57:43 ETA:   4:29:10"
     ]
    },
    {
     "name": "stdout",
     "output_type": "stream",
     "text": [
      "\t Enregistrement intermédiaire effectué\n"
     ]
    },
    {
     "name": "stderr",
     "output_type": "stream",
     "text": [
      " 50% (10200 of 20297) |#########         | Elapsed Time: 5:00:40 ETA:   5:22:39"
     ]
    },
    {
     "name": "stdout",
     "output_type": "stream",
     "text": [
      "\t Enregistrement intermédiaire effectué\n"
     ]
    },
    {
     "name": "stderr",
     "output_type": "stream",
     "text": [
      " 50% (10300 of 20297) |#########         | Elapsed Time: 5:03:37 ETA:   5:02:33"
     ]
    },
    {
     "name": "stdout",
     "output_type": "stream",
     "text": [
      "\t Enregistrement intermédiaire effectué\n"
     ]
    },
    {
     "name": "stderr",
     "output_type": "stream",
     "text": [
      " 51% (10400 of 20297) |#########         | Elapsed Time: 5:06:53 ETA:   6:04:36"
     ]
    },
    {
     "name": "stdout",
     "output_type": "stream",
     "text": [
      "\t Enregistrement intermédiaire effectué\n"
     ]
    },
    {
     "name": "stderr",
     "output_type": "stream",
     "text": [
      " 51% (10500 of 20297) |#########         | Elapsed Time: 5:09:52 ETA:   3:50:11"
     ]
    },
    {
     "name": "stdout",
     "output_type": "stream",
     "text": [
      "\t Enregistrement intermédiaire effectué\n"
     ]
    },
    {
     "name": "stderr",
     "output_type": "stream",
     "text": [
      " 52% (10600 of 20297) |#########         | Elapsed Time: 5:12:58 ETA:   8:30:25"
     ]
    },
    {
     "name": "stdout",
     "output_type": "stream",
     "text": [
      "\t Enregistrement intermédiaire effectué\n"
     ]
    },
    {
     "name": "stderr",
     "output_type": "stream",
     "text": [
      " 52% (10700 of 20297) |#########         | Elapsed Time: 5:16:11 ETA:   5:32:21"
     ]
    },
    {
     "name": "stdout",
     "output_type": "stream",
     "text": [
      "\t Enregistrement intermédiaire effectué\n"
     ]
    },
    {
     "name": "stderr",
     "output_type": "stream",
     "text": [
      " 53% (10800 of 20297) |#########         | Elapsed Time: 5:19:14 ETA:   3:16:02"
     ]
    },
    {
     "name": "stdout",
     "output_type": "stream",
     "text": [
      "\t Enregistrement intermédiaire effectué\n"
     ]
    },
    {
     "name": "stderr",
     "output_type": "stream",
     "text": [
      " 53% (10900 of 20297) |#########         | Elapsed Time: 5:22:16 ETA:   4:30:23"
     ]
    },
    {
     "name": "stdout",
     "output_type": "stream",
     "text": [
      "\t Enregistrement intermédiaire effectué\n"
     ]
    },
    {
     "name": "stderr",
     "output_type": "stream",
     "text": [
      " 54% (11000 of 20297) |#########         | Elapsed Time: 5:25:21 ETA:   5:12:27"
     ]
    },
    {
     "name": "stdout",
     "output_type": "stream",
     "text": [
      "\t Enregistrement intermédiaire effectué\n"
     ]
    },
    {
     "name": "stderr",
     "output_type": "stream",
     "text": [
      " 54% (11100 of 20297) |#########         | Elapsed Time: 5:28:18 ETA:   5:47:20"
     ]
    },
    {
     "name": "stdout",
     "output_type": "stream",
     "text": [
      "\t Enregistrement intermédiaire effectué\n"
     ]
    },
    {
     "name": "stderr",
     "output_type": "stream",
     "text": [
      " 55% (11200 of 20297) |#########         | Elapsed Time: 5:31:19 ETA:   4:23:29"
     ]
    },
    {
     "name": "stdout",
     "output_type": "stream",
     "text": [
      "\t Enregistrement intermédiaire effectué\n"
     ]
    },
    {
     "name": "stderr",
     "output_type": "stream",
     "text": [
      " 55% (11300 of 20297) |##########        | Elapsed Time: 5:34:15 ETA:   6:43:42"
     ]
    },
    {
     "name": "stdout",
     "output_type": "stream",
     "text": [
      "\t Enregistrement intermédiaire effectué\n"
     ]
    },
    {
     "name": "stderr",
     "output_type": "stream",
     "text": [
      " 56% (11400 of 20297) |##########        | Elapsed Time: 5:37:23 ETA:   5:25:33"
     ]
    },
    {
     "name": "stdout",
     "output_type": "stream",
     "text": [
      "\t Enregistrement intermédiaire effectué\n"
     ]
    },
    {
     "name": "stderr",
     "output_type": "stream",
     "text": [
      " 56% (11500 of 20297) |##########        | Elapsed Time: 5:40:28 ETA:   3:01:19"
     ]
    },
    {
     "name": "stdout",
     "output_type": "stream",
     "text": [
      "\t Enregistrement intermédiaire effectué\n"
     ]
    },
    {
     "name": "stderr",
     "output_type": "stream",
     "text": [
      " 57% (11600 of 20297) |##########        | Elapsed Time: 5:43:26 ETA:   3:57:51"
     ]
    },
    {
     "name": "stdout",
     "output_type": "stream",
     "text": [
      "\t Enregistrement intermédiaire effectué\n"
     ]
    },
    {
     "name": "stderr",
     "output_type": "stream",
     "text": [
      " 57% (11700 of 20297) |##########        | Elapsed Time: 5:46:20 ETA:   3:36:43"
     ]
    },
    {
     "name": "stdout",
     "output_type": "stream",
     "text": [
      "\t Enregistrement intermédiaire effectué\n"
     ]
    },
    {
     "name": "stderr",
     "output_type": "stream",
     "text": [
      " 58% (11800 of 20297) |##########        | Elapsed Time: 5:49:25 ETA:   5:15:37"
     ]
    },
    {
     "name": "stdout",
     "output_type": "stream",
     "text": [
      "\t Enregistrement intermédiaire effectué\n"
     ]
    },
    {
     "name": "stderr",
     "output_type": "stream",
     "text": [
      " 58% (11900 of 20297) |##########        | Elapsed Time: 5:52:26 ETA:   4:10:11"
     ]
    },
    {
     "name": "stdout",
     "output_type": "stream",
     "text": [
      "\t Enregistrement intermédiaire effectué\n"
     ]
    },
    {
     "name": "stderr",
     "output_type": "stream",
     "text": [
      " 59% (12000 of 20297) |##########        | Elapsed Time: 5:55:25 ETA:   6:04:06"
     ]
    },
    {
     "name": "stdout",
     "output_type": "stream",
     "text": [
      "\t Enregistrement intermédiaire effectué\n"
     ]
    },
    {
     "name": "stderr",
     "output_type": "stream",
     "text": [
      " 59% (12100 of 20297) |##########        | Elapsed Time: 5:58:26 ETA:   5:15:13"
     ]
    },
    {
     "name": "stdout",
     "output_type": "stream",
     "text": [
      "\t Enregistrement intermédiaire effectué\n"
     ]
    },
    {
     "name": "stderr",
     "output_type": "stream",
     "text": [
      " 60% (12200 of 20297) |##########        | Elapsed Time: 6:01:31 ETA:   4:25:01"
     ]
    },
    {
     "name": "stdout",
     "output_type": "stream",
     "text": [
      "\t Enregistrement intermédiaire effectué\n"
     ]
    },
    {
     "name": "stderr",
     "output_type": "stream",
     "text": [
      " 60% (12300 of 20297) |##########        | Elapsed Time: 6:04:40 ETA:   3:08:52"
     ]
    },
    {
     "name": "stdout",
     "output_type": "stream",
     "text": [
      "\t Enregistrement intermédiaire effectué\n"
     ]
    },
    {
     "name": "stderr",
     "output_type": "stream",
     "text": [
      " 61% (12400 of 20297) |##########        | Elapsed Time: 6:07:52 ETA:   3:51:08"
     ]
    },
    {
     "name": "stdout",
     "output_type": "stream",
     "text": [
      "\t Enregistrement intermédiaire effectué\n"
     ]
    },
    {
     "name": "stderr",
     "output_type": "stream",
     "text": [
      " 61% (12500 of 20297) |###########       | Elapsed Time: 6:10:44 ETA:   3:32:41"
     ]
    },
    {
     "name": "stdout",
     "output_type": "stream",
     "text": [
      "\t Enregistrement intermédiaire effectué\n"
     ]
    },
    {
     "name": "stderr",
     "output_type": "stream",
     "text": [
      " 62% (12600 of 20297) |###########       | Elapsed Time: 6:13:39 ETA:   3:24:18"
     ]
    },
    {
     "name": "stdout",
     "output_type": "stream",
     "text": [
      "\t Enregistrement intermédiaire effectué\n"
     ]
    },
    {
     "name": "stderr",
     "output_type": "stream",
     "text": [
      " 62% (12700 of 20297) |###########       | Elapsed Time: 6:16:35 ETA:   3:45:37"
     ]
    },
    {
     "name": "stdout",
     "output_type": "stream",
     "text": [
      "\t Enregistrement intermédiaire effectué\n"
     ]
    },
    {
     "name": "stderr",
     "output_type": "stream",
     "text": [
      " 63% (12800 of 20297) |###########       | Elapsed Time: 6:19:38 ETA:   3:14:16"
     ]
    },
    {
     "name": "stdout",
     "output_type": "stream",
     "text": [
      "\t Enregistrement intermédiaire effectué\n"
     ]
    },
    {
     "name": "stderr",
     "output_type": "stream",
     "text": [
      " 63% (12900 of 20297) |###########       | Elapsed Time: 6:22:28 ETA:   3:21:49"
     ]
    },
    {
     "name": "stdout",
     "output_type": "stream",
     "text": [
      "\t Enregistrement intermédiaire effectué\n"
     ]
    },
    {
     "name": "stderr",
     "output_type": "stream",
     "text": [
      " 64% (13000 of 20297) |###########       | Elapsed Time: 6:25:29 ETA:   5:04:49"
     ]
    },
    {
     "name": "stdout",
     "output_type": "stream",
     "text": [
      "\t Enregistrement intermédiaire effectué\n"
     ]
    },
    {
     "name": "stderr",
     "output_type": "stream",
     "text": [
      " 64% (13100 of 20297) |###########       | Elapsed Time: 6:28:26 ETA:   3:14:12"
     ]
    },
    {
     "name": "stdout",
     "output_type": "stream",
     "text": [
      "\t Enregistrement intermédiaire effectué\n"
     ]
    },
    {
     "name": "stderr",
     "output_type": "stream",
     "text": [
      " 65% (13200 of 20297) |###########       | Elapsed Time: 6:31:22 ETA:   3:00:26"
     ]
    },
    {
     "name": "stdout",
     "output_type": "stream",
     "text": [
      "\t Enregistrement intermédiaire effectué\n"
     ]
    },
    {
     "name": "stderr",
     "output_type": "stream",
     "text": [
      " 65% (13300 of 20297) |###########       | Elapsed Time: 6:34:18 ETA:   3:34:40"
     ]
    },
    {
     "name": "stdout",
     "output_type": "stream",
     "text": [
      "\t Enregistrement intermédiaire effectué\n"
     ]
    },
    {
     "name": "stderr",
     "output_type": "stream",
     "text": [
      " 66% (13400 of 20297) |###########       | Elapsed Time: 6:37:11 ETA:   2:31:56"
     ]
    },
    {
     "name": "stdout",
     "output_type": "stream",
     "text": [
      "\t Enregistrement intermédiaire effectué\n"
     ]
    },
    {
     "name": "stderr",
     "output_type": "stream",
     "text": [
      " 66% (13500 of 20297) |###########       | Elapsed Time: 6:40:14 ETA:   2:21:34"
     ]
    },
    {
     "name": "stdout",
     "output_type": "stream",
     "text": [
      "\t Enregistrement intermédiaire effectué\n"
     ]
    },
    {
     "name": "stderr",
     "output_type": "stream",
     "text": [
      " 67% (13600 of 20297) |############      | Elapsed Time: 6:43:05 ETA:   3:56:38"
     ]
    },
    {
     "name": "stdout",
     "output_type": "stream",
     "text": [
      "\t Enregistrement intermédiaire effectué\n"
     ]
    },
    {
     "name": "stderr",
     "output_type": "stream",
     "text": [
      " 67% (13700 of 20297) |############      | Elapsed Time: 6:46:11 ETA:   3:22:52"
     ]
    },
    {
     "name": "stdout",
     "output_type": "stream",
     "text": [
      "\t Enregistrement intermédiaire effectué\n"
     ]
    },
    {
     "name": "stderr",
     "output_type": "stream",
     "text": [
      " 67% (13800 of 20297) |############      | Elapsed Time: 6:49:02 ETA:   2:39:28"
     ]
    },
    {
     "name": "stdout",
     "output_type": "stream",
     "text": [
      "\t Enregistrement intermédiaire effectué\n"
     ]
    },
    {
     "name": "stderr",
     "output_type": "stream",
     "text": [
      " 68% (13900 of 20297) |############      | Elapsed Time: 6:51:50 ETA:   2:47:15"
     ]
    },
    {
     "name": "stdout",
     "output_type": "stream",
     "text": [
      "\t Enregistrement intermédiaire effectué\n"
     ]
    },
    {
     "name": "stderr",
     "output_type": "stream",
     "text": [
      " 68% (14000 of 20297) |############      | Elapsed Time: 6:55:04 ETA:   3:45:21"
     ]
    },
    {
     "name": "stdout",
     "output_type": "stream",
     "text": [
      "\t Enregistrement intermédiaire effectué\n"
     ]
    },
    {
     "name": "stderr",
     "output_type": "stream",
     "text": [
      " 69% (14100 of 20297) |############      | Elapsed Time: 6:58:02 ETA:   2:59:52"
     ]
    },
    {
     "name": "stdout",
     "output_type": "stream",
     "text": [
      "\t Enregistrement intermédiaire effectué\n"
     ]
    },
    {
     "name": "stderr",
     "output_type": "stream",
     "text": [
      " 69% (14200 of 20297) |############      | Elapsed Time: 7:01:07 ETA:   6:14:28"
     ]
    },
    {
     "name": "stdout",
     "output_type": "stream",
     "text": [
      "\t Enregistrement intermédiaire effectué\n"
     ]
    },
    {
     "name": "stderr",
     "output_type": "stream",
     "text": [
      " 70% (14300 of 20297) |############      | Elapsed Time: 7:04:00 ETA:   2:39:58"
     ]
    },
    {
     "name": "stdout",
     "output_type": "stream",
     "text": [
      "\t Enregistrement intermédiaire effectué\n"
     ]
    },
    {
     "name": "stderr",
     "output_type": "stream",
     "text": [
      " 70% (14400 of 20297) |############      | Elapsed Time: 7:07:01 ETA:   2:26:06"
     ]
    },
    {
     "name": "stdout",
     "output_type": "stream",
     "text": [
      "\t Enregistrement intermédiaire effectué\n"
     ]
    },
    {
     "name": "stderr",
     "output_type": "stream",
     "text": [
      " 71% (14500 of 20297) |############      | Elapsed Time: 7:09:56 ETA:   2:25:26"
     ]
    },
    {
     "name": "stdout",
     "output_type": "stream",
     "text": [
      "\t Enregistrement intermédiaire effectué\n"
     ]
    },
    {
     "name": "stderr",
     "output_type": "stream",
     "text": [
      " 71% (14600 of 20297) |############      | Elapsed Time: 7:12:52 ETA:   3:12:54"
     ]
    },
    {
     "name": "stdout",
     "output_type": "stream",
     "text": [
      "\t Enregistrement intermédiaire effectué\n"
     ]
    },
    {
     "name": "stderr",
     "output_type": "stream",
     "text": [
      " 72% (14700 of 20297) |#############     | Elapsed Time: 7:15:58 ETA:   2:04:52"
     ]
    },
    {
     "name": "stdout",
     "output_type": "stream",
     "text": [
      "\t Enregistrement intermédiaire effectué\n"
     ]
    },
    {
     "name": "stderr",
     "output_type": "stream",
     "text": [
      " 72% (14800 of 20297) |#############     | Elapsed Time: 7:19:02 ETA:   5:52:58"
     ]
    },
    {
     "name": "stdout",
     "output_type": "stream",
     "text": [
      "\t Enregistrement intermédiaire effectué\n"
     ]
    },
    {
     "name": "stderr",
     "output_type": "stream",
     "text": [
      " 73% (14900 of 20297) |#############     | Elapsed Time: 7:22:07 ETA:   2:44:46"
     ]
    },
    {
     "name": "stdout",
     "output_type": "stream",
     "text": [
      "\t Enregistrement intermédiaire effectué\n"
     ]
    },
    {
     "name": "stderr",
     "output_type": "stream",
     "text": [
      " 73% (15000 of 20297) |#############     | Elapsed Time: 7:25:22 ETA:   3:31:36"
     ]
    },
    {
     "name": "stdout",
     "output_type": "stream",
     "text": [
      "\t Enregistrement intermédiaire effectué\n"
     ]
    },
    {
     "name": "stderr",
     "output_type": "stream",
     "text": [
      " 74% (15100 of 20297) |#############     | Elapsed Time: 7:28:17 ETA:   2:19:35"
     ]
    },
    {
     "name": "stdout",
     "output_type": "stream",
     "text": [
      "\t Enregistrement intermédiaire effectué\n"
     ]
    },
    {
     "name": "stderr",
     "output_type": "stream",
     "text": [
      " 74% (15200 of 20297) |#############     | Elapsed Time: 7:31:13 ETA:   2:16:05"
     ]
    },
    {
     "name": "stdout",
     "output_type": "stream",
     "text": [
      "\t Enregistrement intermédiaire effectué\n"
     ]
    },
    {
     "name": "stderr",
     "output_type": "stream",
     "text": [
      " 75% (15300 of 20297) |#############     | Elapsed Time: 7:34:19 ETA:   1:46:37"
     ]
    },
    {
     "name": "stdout",
     "output_type": "stream",
     "text": [
      "\t Enregistrement intermédiaire effectué\n"
     ]
    },
    {
     "name": "stderr",
     "output_type": "stream",
     "text": [
      " 75% (15400 of 20297) |#############     | Elapsed Time: 7:37:26 ETA:   2:48:16"
     ]
    },
    {
     "name": "stdout",
     "output_type": "stream",
     "text": [
      "\t Enregistrement intermédiaire effectué\n"
     ]
    },
    {
     "name": "stderr",
     "output_type": "stream",
     "text": [
      " 76% (15500 of 20297) |#############     | Elapsed Time: 7:40:29 ETA:   2:02:30"
     ]
    },
    {
     "name": "stdout",
     "output_type": "stream",
     "text": [
      "\t Enregistrement intermédiaire effectué\n"
     ]
    },
    {
     "name": "stderr",
     "output_type": "stream",
     "text": [
      " 76% (15600 of 20297) |#############     | Elapsed Time: 7:43:33 ETA:   2:36:46"
     ]
    },
    {
     "name": "stdout",
     "output_type": "stream",
     "text": [
      "\t Enregistrement intermédiaire effectué\n"
     ]
    },
    {
     "name": "stderr",
     "output_type": "stream",
     "text": [
      " 77% (15700 of 20297) |#############     | Elapsed Time: 7:46:49 ETA:   2:24:10"
     ]
    },
    {
     "name": "stdout",
     "output_type": "stream",
     "text": [
      "\t Enregistrement intermédiaire effectué\n"
     ]
    },
    {
     "name": "stderr",
     "output_type": "stream",
     "text": [
      " 77% (15800 of 20297) |##############    | Elapsed Time: 7:49:56 ETA:   2:19:33"
     ]
    },
    {
     "name": "stdout",
     "output_type": "stream",
     "text": [
      "\t Enregistrement intermédiaire effectué\n"
     ]
    },
    {
     "name": "stderr",
     "output_type": "stream",
     "text": [
      " 78% (15900 of 20297) |##############    | Elapsed Time: 7:53:02 ETA:   2:44:47"
     ]
    },
    {
     "name": "stdout",
     "output_type": "stream",
     "text": [
      "\t Enregistrement intermédiaire effectué\n"
     ]
    },
    {
     "name": "stderr",
     "output_type": "stream",
     "text": [
      " 78% (16000 of 20297) |##############    | Elapsed Time: 7:55:56 ETA:   1:22:31"
     ]
    },
    {
     "name": "stdout",
     "output_type": "stream",
     "text": [
      "\t Enregistrement intermédiaire effectué\n"
     ]
    },
    {
     "name": "stderr",
     "output_type": "stream",
     "text": [
      " 79% (16100 of 20297) |##############    | Elapsed Time: 7:59:46 ETA:   2:48:00"
     ]
    },
    {
     "name": "stdout",
     "output_type": "stream",
     "text": [
      "\t Enregistrement intermédiaire effectué\n"
     ]
    },
    {
     "name": "stderr",
     "output_type": "stream",
     "text": [
      " 79% (16200 of 20297) |##############    | Elapsed Time: 8:02:34 ETA:   2:12:56"
     ]
    },
    {
     "name": "stdout",
     "output_type": "stream",
     "text": [
      "\t Enregistrement intermédiaire effectué\n"
     ]
    },
    {
     "name": "stderr",
     "output_type": "stream",
     "text": [
      " 80% (16300 of 20297) |##############    | Elapsed Time: 8:05:37 ETA:   1:44:45"
     ]
    },
    {
     "name": "stdout",
     "output_type": "stream",
     "text": [
      "\t Enregistrement intermédiaire effectué\n"
     ]
    },
    {
     "name": "stderr",
     "output_type": "stream",
     "text": [
      " 80% (16400 of 20297) |##############    | Elapsed Time: 8:09:02 ETA:   2:18:01"
     ]
    },
    {
     "name": "stdout",
     "output_type": "stream",
     "text": [
      "\t Enregistrement intermédiaire effectué\n"
     ]
    },
    {
     "name": "stderr",
     "output_type": "stream",
     "text": [
      " 81% (16500 of 20297) |##############    | Elapsed Time: 8:12:17 ETA:   1:46:16"
     ]
    },
    {
     "name": "stdout",
     "output_type": "stream",
     "text": [
      "\t Enregistrement intermédiaire effectué\n"
     ]
    },
    {
     "name": "stderr",
     "output_type": "stream",
     "text": [
      " 81% (16600 of 20297) |##############    | Elapsed Time: 8:15:22 ETA:   1:35:05"
     ]
    },
    {
     "name": "stdout",
     "output_type": "stream",
     "text": [
      "\t Enregistrement intermédiaire effectué\n"
     ]
    },
    {
     "name": "stderr",
     "output_type": "stream",
     "text": [
      " 82% (16700 of 20297) |##############    | Elapsed Time: 8:18:24 ETA:   2:34:51"
     ]
    },
    {
     "name": "stdout",
     "output_type": "stream",
     "text": [
      "\t Enregistrement intermédiaire effectué\n"
     ]
    },
    {
     "name": "stderr",
     "output_type": "stream",
     "text": [
      " 82% (16800 of 20297) |##############    | Elapsed Time: 8:21:22 ETA:   1:27:45"
     ]
    },
    {
     "name": "stdout",
     "output_type": "stream",
     "text": [
      "\t Enregistrement intermédiaire effectué\n"
     ]
    },
    {
     "name": "stderr",
     "output_type": "stream",
     "text": [
      " 83% (16900 of 20297) |##############    | Elapsed Time: 8:24:07 ETA:   1:24:04"
     ]
    },
    {
     "name": "stdout",
     "output_type": "stream",
     "text": [
      "\t Enregistrement intermédiaire effectué\n"
     ]
    },
    {
     "name": "stderr",
     "output_type": "stream",
     "text": [
      " 83% (17000 of 20297) |###############   | Elapsed Time: 8:27:08 ETA:   1:36:09"
     ]
    },
    {
     "name": "stdout",
     "output_type": "stream",
     "text": [
      "\t Enregistrement intermédiaire effectué\n"
     ]
    },
    {
     "name": "stderr",
     "output_type": "stream",
     "text": [
      " 84% (17100 of 20297) |###############   | Elapsed Time: 8:30:01 ETA:   1:17:06"
     ]
    },
    {
     "name": "stdout",
     "output_type": "stream",
     "text": [
      "\t Enregistrement intermédiaire effectué\n"
     ]
    },
    {
     "name": "stderr",
     "output_type": "stream",
     "text": [
      " 84% (17200 of 20297) |###############   | Elapsed Time: 8:33:02 ETA:   1:34:18"
     ]
    },
    {
     "name": "stdout",
     "output_type": "stream",
     "text": [
      "\t Enregistrement intermédiaire effectué\n"
     ]
    },
    {
     "name": "stderr",
     "output_type": "stream",
     "text": [
      " 85% (17300 of 20297) |###############   | Elapsed Time: 8:36:00 ETA:   1:43:14"
     ]
    },
    {
     "name": "stdout",
     "output_type": "stream",
     "text": [
      "\t Enregistrement intermédiaire effectué\n"
     ]
    },
    {
     "name": "stderr",
     "output_type": "stream",
     "text": [
      " 85% (17400 of 20297) |###############   | Elapsed Time: 8:38:58 ETA:   2:06:45"
     ]
    },
    {
     "name": "stdout",
     "output_type": "stream",
     "text": [
      "\t Enregistrement intermédiaire effectué\n"
     ]
    },
    {
     "name": "stderr",
     "output_type": "stream",
     "text": [
      " 86% (17500 of 20297) |###############   | Elapsed Time: 8:41:52 ETA:   1:07:35"
     ]
    },
    {
     "name": "stdout",
     "output_type": "stream",
     "text": [
      "\t Enregistrement intermédiaire effectué\n"
     ]
    },
    {
     "name": "stderr",
     "output_type": "stream",
     "text": [
      " 86% (17600 of 20297) |###############   | Elapsed Time: 8:44:57 ETA:   1:44:33"
     ]
    },
    {
     "name": "stdout",
     "output_type": "stream",
     "text": [
      "\t Enregistrement intermédiaire effectué\n"
     ]
    },
    {
     "name": "stderr",
     "output_type": "stream",
     "text": [
      " 87% (17700 of 20297) |###############   | Elapsed Time: 8:47:56 ETA:   1:11:03"
     ]
    },
    {
     "name": "stdout",
     "output_type": "stream",
     "text": [
      "\t Enregistrement intermédiaire effectué\n"
     ]
    },
    {
     "name": "stderr",
     "output_type": "stream",
     "text": [
      " 87% (17800 of 20297) |###############   | Elapsed Time: 8:50:53 ETA:   1:09:08"
     ]
    },
    {
     "name": "stdout",
     "output_type": "stream",
     "text": [
      "\t Enregistrement intermédiaire effectué\n"
     ]
    },
    {
     "name": "stderr",
     "output_type": "stream",
     "text": [
      " 88% (17900 of 20297) |###############   | Elapsed Time: 8:53:57 ETA:   1:17:36"
     ]
    },
    {
     "name": "stdout",
     "output_type": "stream",
     "text": [
      "\t Enregistrement intermédiaire effectué\n"
     ]
    },
    {
     "name": "stderr",
     "output_type": "stream",
     "text": [
      " 88% (18000 of 20297) |###############   | Elapsed Time: 8:57:06 ETA:   2:27:56"
     ]
    },
    {
     "name": "stdout",
     "output_type": "stream",
     "text": [
      "\t Enregistrement intermédiaire effectué\n"
     ]
    },
    {
     "name": "stderr",
     "output_type": "stream",
     "text": [
      " 89% (18100 of 20297) |################  | Elapsed Time: 9:00:08 ETA:   0:43:00"
     ]
    },
    {
     "name": "stdout",
     "output_type": "stream",
     "text": [
      "\t Enregistrement intermédiaire effectué\n"
     ]
    },
    {
     "name": "stderr",
     "output_type": "stream",
     "text": [
      " 89% (18200 of 20297) |################  | Elapsed Time: 9:03:03 ETA:   2:08:50"
     ]
    },
    {
     "name": "stdout",
     "output_type": "stream",
     "text": [
      "\t Enregistrement intermédiaire effectué\n"
     ]
    },
    {
     "name": "stderr",
     "output_type": "stream",
     "text": [
      " 90% (18300 of 20297) |################  | Elapsed Time: 9:06:01 ETA:   1:06:48"
     ]
    },
    {
     "name": "stdout",
     "output_type": "stream",
     "text": [
      "\t Enregistrement intermédiaire effectué\n"
     ]
    },
    {
     "name": "stderr",
     "output_type": "stream",
     "text": [
      " 90% (18400 of 20297) |################  | Elapsed Time: 9:09:02 ETA:   0:41:39"
     ]
    },
    {
     "name": "stdout",
     "output_type": "stream",
     "text": [
      "\t Enregistrement intermédiaire effectué\n"
     ]
    },
    {
     "name": "stderr",
     "output_type": "stream",
     "text": [
      " 91% (18500 of 20297) |################  | Elapsed Time: 9:12:10 ETA:   1:12:33"
     ]
    },
    {
     "name": "stdout",
     "output_type": "stream",
     "text": [
      "\t Enregistrement intermédiaire effectué\n"
     ]
    },
    {
     "name": "stderr",
     "output_type": "stream",
     "text": [
      " 91% (18600 of 20297) |################  | Elapsed Time: 9:15:23 ETA:   0:49:34"
     ]
    },
    {
     "name": "stdout",
     "output_type": "stream",
     "text": [
      "\t Enregistrement intermédiaire effectué\n"
     ]
    },
    {
     "name": "stderr",
     "output_type": "stream",
     "text": [
      " 92% (18700 of 20297) |################  | Elapsed Time: 9:18:21 ETA:   1:02:26"
     ]
    },
    {
     "name": "stdout",
     "output_type": "stream",
     "text": [
      "\t Enregistrement intermédiaire effectué\n"
     ]
    },
    {
     "name": "stderr",
     "output_type": "stream",
     "text": [
      " 92% (18800 of 20297) |################  | Elapsed Time: 9:21:39 ETA:   0:40:08"
     ]
    },
    {
     "name": "stdout",
     "output_type": "stream",
     "text": [
      "\t Enregistrement intermédiaire effectué\n"
     ]
    },
    {
     "name": "stderr",
     "output_type": "stream",
     "text": [
      " 93% (18900 of 20297) |################  | Elapsed Time: 9:24:36 ETA:   0:36:05"
     ]
    },
    {
     "name": "stdout",
     "output_type": "stream",
     "text": [
      "\t Enregistrement intermédiaire effectué\n"
     ]
    },
    {
     "name": "stderr",
     "output_type": "stream",
     "text": [
      " 93% (19000 of 20297) |################  | Elapsed Time: 9:27:25 ETA:   0:28:21"
     ]
    },
    {
     "name": "stdout",
     "output_type": "stream",
     "text": [
      "\t Enregistrement intermédiaire effectué\n"
     ]
    },
    {
     "name": "stderr",
     "output_type": "stream",
     "text": [
      " 94% (19100 of 20297) |################  | Elapsed Time: 9:30:28 ETA:   0:54:27"
     ]
    },
    {
     "name": "stdout",
     "output_type": "stream",
     "text": [
      "\t Enregistrement intermédiaire effectué\n"
     ]
    },
    {
     "name": "stderr",
     "output_type": "stream",
     "text": [
      " 94% (19200 of 20297) |################# | Elapsed Time: 9:33:25 ETA:   0:30:54"
     ]
    },
    {
     "name": "stdout",
     "output_type": "stream",
     "text": [
      "\t Enregistrement intermédiaire effectué\n"
     ]
    },
    {
     "name": "stderr",
     "output_type": "stream",
     "text": [
      " 95% (19300 of 20297) |################# | Elapsed Time: 9:36:17 ETA:   0:36:41"
     ]
    },
    {
     "name": "stdout",
     "output_type": "stream",
     "text": [
      "\t Enregistrement intermédiaire effectué\n"
     ]
    },
    {
     "name": "stderr",
     "output_type": "stream",
     "text": [
      " 95% (19400 of 20297) |################# | Elapsed Time: 9:39:21 ETA:   0:22:34"
     ]
    },
    {
     "name": "stdout",
     "output_type": "stream",
     "text": [
      "\t Enregistrement intermédiaire effectué\n"
     ]
    },
    {
     "name": "stderr",
     "output_type": "stream",
     "text": [
      " 96% (19500 of 20297) |################# | Elapsed Time: 9:42:29 ETA:   0:21:06"
     ]
    },
    {
     "name": "stdout",
     "output_type": "stream",
     "text": [
      "\t Enregistrement intermédiaire effectué\n"
     ]
    },
    {
     "name": "stderr",
     "output_type": "stream",
     "text": [
      " 96% (19600 of 20297) |################# | Elapsed Time: 9:45:06 ETA:   0:17:59"
     ]
    },
    {
     "name": "stdout",
     "output_type": "stream",
     "text": [
      "\t Enregistrement intermédiaire effectué\n"
     ]
    },
    {
     "name": "stderr",
     "output_type": "stream",
     "text": [
      " 97% (19700 of 20297) |################# | Elapsed Time: 9:47:55 ETA:   0:20:26"
     ]
    },
    {
     "name": "stdout",
     "output_type": "stream",
     "text": [
      "\t Enregistrement intermédiaire effectué\n"
     ]
    },
    {
     "name": "stderr",
     "output_type": "stream",
     "text": [
      " 97% (19800 of 20297) |################# | Elapsed Time: 9:50:53 ETA:   0:10:54"
     ]
    },
    {
     "name": "stdout",
     "output_type": "stream",
     "text": [
      "\t Enregistrement intermédiaire effectué\n"
     ]
    },
    {
     "name": "stderr",
     "output_type": "stream",
     "text": [
      " 98% (19900 of 20297) |################# | Elapsed Time: 9:53:47 ETA:   0:09:48"
     ]
    },
    {
     "name": "stdout",
     "output_type": "stream",
     "text": [
      "\t Enregistrement intermédiaire effectué\n"
     ]
    },
    {
     "name": "stderr",
     "output_type": "stream",
     "text": [
      " 98% (20000 of 20297) |################# | Elapsed Time: 9:56:39 ETA:   0:08:37"
     ]
    },
    {
     "name": "stdout",
     "output_type": "stream",
     "text": [
      "\t Enregistrement intermédiaire effectué\n"
     ]
    },
    {
     "name": "stderr",
     "output_type": "stream",
     "text": [
      " 99% (20100 of 20297) |################# | Elapsed Time: 9:59:34 ETA:   0:09:03"
     ]
    },
    {
     "name": "stdout",
     "output_type": "stream",
     "text": [
      "\t Enregistrement intermédiaire effectué\n"
     ]
    },
    {
     "name": "stderr",
     "output_type": "stream",
     "text": [
      " 99% (20200 of 20297) |################ | Elapsed Time: 10:02:21 ETA:   0:02:34"
     ]
    },
    {
     "name": "stdout",
     "output_type": "stream",
     "text": [
      "\t Enregistrement intermédiaire effectué\n"
     ]
    },
    {
     "name": "stderr",
     "output_type": "stream",
     "text": [
      "100% (20297 of 20297) |#################| Elapsed Time: 10:05:07 Time: 10:05:07\n",
      "C:\\Users\\kaoua\\kickstarter.py:549: SettingWithCopyWarning: \n",
      "A value is trying to be set on a copy of a slice from a DataFrame.\n",
      "Try using .loc[row_indexer,col_indexer] = value instead\n",
      "\n",
      "See the caveats in the documentation: https://pandas.pydata.org/pandas-docs/stable/user_guide/indexing.html#returning-a-view-versus-a-copy\n",
      "  df['coup_de_coeur'] = coeur\n"
     ]
    },
    {
     "name": "stdout",
     "output_type": "stream",
     "text": [
      "Scrapping de l'année 2019\n"
     ]
    },
    {
     "name": "stderr",
     "output_type": "stream",
     "text": [
      "  0% (100 of 21011) |                    | Elapsed Time: 0:02:49 ETA:  16:08:25C:\\Users\\kaoua\\kickstarter.py:545: SettingWithCopyWarning: \n",
      "A value is trying to be set on a copy of a slice from a DataFrame.\n",
      "Try using .loc[row_indexer,col_indexer] = value instead\n",
      "\n",
      "See the caveats in the documentation: https://pandas.pydata.org/pandas-docs/stable/user_guide/indexing.html#returning-a-view-versus-a-copy\n",
      "  dfi['coup_de_coeur'] = coeur\n"
     ]
    },
    {
     "name": "stdout",
     "output_type": "stream",
     "text": [
      "\t Enregistrement intermédiaire effectué\n"
     ]
    },
    {
     "name": "stderr",
     "output_type": "stream",
     "text": [
      "  0% (200 of 21011) |                    | Elapsed Time: 0:05:28 ETA:   9:36:43"
     ]
    },
    {
     "name": "stdout",
     "output_type": "stream",
     "text": [
      "\t Enregistrement intermédiaire effectué\n"
     ]
    },
    {
     "name": "stderr",
     "output_type": "stream",
     "text": [
      "  1% (300 of 21011) |                    | Elapsed Time: 0:08:14 ETA:  10:11:17"
     ]
    },
    {
     "name": "stdout",
     "output_type": "stream",
     "text": [
      "\t Enregistrement intermédiaire effectué\n"
     ]
    },
    {
     "name": "stderr",
     "output_type": "stream",
     "text": [
      "  1% (400 of 21011) |                    | Elapsed Time: 0:11:05 ETA:   8:40:18"
     ]
    },
    {
     "name": "stdout",
     "output_type": "stream",
     "text": [
      "\t Enregistrement intermédiaire effectué\n"
     ]
    },
    {
     "name": "stderr",
     "output_type": "stream",
     "text": [
      "  2% (500 of 21011) |                    | Elapsed Time: 0:13:54 ETA:  15:35:09"
     ]
    },
    {
     "name": "stdout",
     "output_type": "stream",
     "text": [
      "\t Enregistrement intermédiaire effectué\n"
     ]
    },
    {
     "name": "stderr",
     "output_type": "stream",
     "text": [
      "  2% (600 of 21011) |                    | Elapsed Time: 0:16:47 ETA:   8:11:03"
     ]
    },
    {
     "name": "stdout",
     "output_type": "stream",
     "text": [
      "\t Enregistrement intermédiaire effectué\n"
     ]
    },
    {
     "name": "stderr",
     "output_type": "stream",
     "text": [
      "  3% (700 of 21011) |                    | Elapsed Time: 0:19:45 ETA:   8:46:04"
     ]
    },
    {
     "name": "stdout",
     "output_type": "stream",
     "text": [
      "\t Enregistrement intermédiaire effectué\n"
     ]
    },
    {
     "name": "stderr",
     "output_type": "stream",
     "text": [
      "  3% (800 of 21011) |                    | Elapsed Time: 0:22:36 ETA:   9:50:46"
     ]
    },
    {
     "name": "stdout",
     "output_type": "stream",
     "text": [
      "\t Enregistrement intermédiaire effectué\n"
     ]
    },
    {
     "name": "stderr",
     "output_type": "stream",
     "text": [
      "  4% (900 of 21011) |                    | Elapsed Time: 0:25:26 ETA:   9:22:59"
     ]
    },
    {
     "name": "stdout",
     "output_type": "stream",
     "text": [
      "\t Enregistrement intermédiaire effectué\n"
     ]
    },
    {
     "name": "stderr",
     "output_type": "stream",
     "text": [
      "  4% (1000 of 21011) |                   | Elapsed Time: 0:28:47 ETA:   9:01:40"
     ]
    },
    {
     "name": "stdout",
     "output_type": "stream",
     "text": [
      "\t Enregistrement intermédiaire effectué\n"
     ]
    },
    {
     "name": "stderr",
     "output_type": "stream",
     "text": [
      "  5% (1100 of 21011) |                   | Elapsed Time: 0:31:48 ETA:  16:06:04"
     ]
    },
    {
     "name": "stdout",
     "output_type": "stream",
     "text": [
      "\t Enregistrement intermédiaire effectué\n"
     ]
    },
    {
     "name": "stderr",
     "output_type": "stream",
     "text": [
      "  5% (1200 of 21011) |#                  | Elapsed Time: 0:34:45 ETA:  11:03:01"
     ]
    },
    {
     "name": "stdout",
     "output_type": "stream",
     "text": [
      "\t Enregistrement intermédiaire effectué\n"
     ]
    },
    {
     "name": "stderr",
     "output_type": "stream",
     "text": [
      "  6% (1300 of 21011) |#                  | Elapsed Time: 0:37:39 ETA:   8:45:25"
     ]
    },
    {
     "name": "stdout",
     "output_type": "stream",
     "text": [
      "\t Enregistrement intermédiaire effectué\n"
     ]
    },
    {
     "name": "stderr",
     "output_type": "stream",
     "text": [
      "  6% (1400 of 21011) |#                  | Elapsed Time: 0:40:32 ETA:   8:28:49"
     ]
    },
    {
     "name": "stdout",
     "output_type": "stream",
     "text": [
      "\t Enregistrement intermédiaire effectué\n"
     ]
    },
    {
     "name": "stderr",
     "output_type": "stream",
     "text": [
      "  7% (1500 of 21011) |#                  | Elapsed Time: 0:43:21 ETA:  10:57:10"
     ]
    },
    {
     "name": "stdout",
     "output_type": "stream",
     "text": [
      "\t Enregistrement intermédiaire effectué\n"
     ]
    },
    {
     "name": "stderr",
     "output_type": "stream",
     "text": [
      "  7% (1600 of 21011) |#                  | Elapsed Time: 0:46:15 ETA:   8:37:19"
     ]
    },
    {
     "name": "stdout",
     "output_type": "stream",
     "text": [
      "\t Enregistrement intermédiaire effectué\n"
     ]
    },
    {
     "name": "stderr",
     "output_type": "stream",
     "text": [
      "  8% (1700 of 21011) |#                  | Elapsed Time: 0:49:16 ETA:   8:25:45"
     ]
    },
    {
     "name": "stdout",
     "output_type": "stream",
     "text": [
      "\t Enregistrement intermédiaire effectué\n"
     ]
    },
    {
     "name": "stderr",
     "output_type": "stream",
     "text": [
      "  8% (1800 of 21011) |#                  | Elapsed Time: 0:52:14 ETA:   8:49:11"
     ]
    },
    {
     "name": "stdout",
     "output_type": "stream",
     "text": [
      "\t Enregistrement intermédiaire effectué\n"
     ]
    },
    {
     "name": "stderr",
     "output_type": "stream",
     "text": [
      "  9% (1900 of 21011) |#                  | Elapsed Time: 0:55:23 ETA:   7:21:47"
     ]
    },
    {
     "name": "stdout",
     "output_type": "stream",
     "text": [
      "\t Enregistrement intermédiaire effectué\n"
     ]
    },
    {
     "name": "stderr",
     "output_type": "stream",
     "text": [
      "  9% (2000 of 21011) |#                  | Elapsed Time: 0:58:23 ETA:  10:50:41"
     ]
    },
    {
     "name": "stdout",
     "output_type": "stream",
     "text": [
      "\t Enregistrement intermédiaire effectué\n"
     ]
    },
    {
     "name": "stderr",
     "output_type": "stream",
     "text": [
      "  9% (2100 of 21011) |#                  | Elapsed Time: 1:01:23 ETA:  11:06:59"
     ]
    },
    {
     "name": "stdout",
     "output_type": "stream",
     "text": [
      "\t Enregistrement intermédiaire effectué\n"
     ]
    },
    {
     "name": "stderr",
     "output_type": "stream",
     "text": [
      " 10% (2200 of 21011) |#                  | Elapsed Time: 1:04:32 ETA:   9:07:31"
     ]
    },
    {
     "name": "stdout",
     "output_type": "stream",
     "text": [
      "\t Enregistrement intermédiaire effectué\n"
     ]
    },
    {
     "name": "stderr",
     "output_type": "stream",
     "text": [
      " 10% (2300 of 21011) |##                 | Elapsed Time: 1:07:31 ETA:  14:13:35"
     ]
    },
    {
     "name": "stdout",
     "output_type": "stream",
     "text": [
      "\t Enregistrement intermédiaire effectué\n"
     ]
    },
    {
     "name": "stderr",
     "output_type": "stream",
     "text": [
      " 11% (2400 of 21011) |##                 | Elapsed Time: 1:10:34 ETA:  10:33:33"
     ]
    },
    {
     "name": "stdout",
     "output_type": "stream",
     "text": [
      "\t Enregistrement intermédiaire effectué\n"
     ]
    },
    {
     "name": "stderr",
     "output_type": "stream",
     "text": [
      " 11% (2500 of 21011) |##                 | Elapsed Time: 1:13:31 ETA:  10:31:53"
     ]
    },
    {
     "name": "stdout",
     "output_type": "stream",
     "text": [
      "\t Enregistrement intermédiaire effectué\n"
     ]
    },
    {
     "name": "stderr",
     "output_type": "stream",
     "text": [
      " 12% (2600 of 21011) |##                 | Elapsed Time: 1:16:25 ETA:   7:23:35"
     ]
    },
    {
     "name": "stdout",
     "output_type": "stream",
     "text": [
      "\t Enregistrement intermédiaire effectué\n"
     ]
    },
    {
     "name": "stderr",
     "output_type": "stream",
     "text": [
      " 12% (2700 of 21011) |##                 | Elapsed Time: 1:19:15 ETA:  12:14:29"
     ]
    },
    {
     "name": "stdout",
     "output_type": "stream",
     "text": [
      "\t Enregistrement intermédiaire effectué\n"
     ]
    },
    {
     "name": "stderr",
     "output_type": "stream",
     "text": [
      " 13% (2800 of 21011) |##                 | Elapsed Time: 1:22:31 ETA:  10:36:20"
     ]
    },
    {
     "name": "stdout",
     "output_type": "stream",
     "text": [
      "\t Enregistrement intermédiaire effectué\n"
     ]
    },
    {
     "name": "stderr",
     "output_type": "stream",
     "text": [
      " 13% (2900 of 21011) |##                 | Elapsed Time: 1:25:32 ETA:  12:21:57"
     ]
    },
    {
     "name": "stdout",
     "output_type": "stream",
     "text": [
      "\t Enregistrement intermédiaire effectué\n"
     ]
    },
    {
     "name": "stderr",
     "output_type": "stream",
     "text": [
      " 14% (3000 of 21011) |##                 | Elapsed Time: 1:28:35 ETA:   8:13:08"
     ]
    },
    {
     "name": "stdout",
     "output_type": "stream",
     "text": [
      "\t Enregistrement intermédiaire effectué\n"
     ]
    },
    {
     "name": "stderr",
     "output_type": "stream",
     "text": [
      " 14% (3100 of 21011) |##                 | Elapsed Time: 1:31:34 ETA:   8:37:06"
     ]
    },
    {
     "name": "stdout",
     "output_type": "stream",
     "text": [
      "\t Enregistrement intermédiaire effectué\n"
     ]
    },
    {
     "name": "stderr",
     "output_type": "stream",
     "text": [
      " 15% (3200 of 21011) |##                 | Elapsed Time: 1:34:48 ETA:   9:56:36"
     ]
    },
    {
     "name": "stdout",
     "output_type": "stream",
     "text": [
      "\t Enregistrement intermédiaire effectué\n"
     ]
    },
    {
     "name": "stderr",
     "output_type": "stream",
     "text": [
      " 15% (3300 of 21011) |##                 | Elapsed Time: 1:37:49 ETA:   8:53:55"
     ]
    },
    {
     "name": "stdout",
     "output_type": "stream",
     "text": [
      "\t Enregistrement intermédiaire effectué\n"
     ]
    },
    {
     "name": "stderr",
     "output_type": "stream",
     "text": [
      " 16% (3400 of 21011) |###                | Elapsed Time: 1:40:46 ETA:   9:50:48"
     ]
    },
    {
     "name": "stdout",
     "output_type": "stream",
     "text": [
      "\t Enregistrement intermédiaire effectué\n"
     ]
    },
    {
     "name": "stderr",
     "output_type": "stream",
     "text": [
      " 16% (3500 of 21011) |###                | Elapsed Time: 1:43:55 ETA:   8:08:58"
     ]
    },
    {
     "name": "stdout",
     "output_type": "stream",
     "text": [
      "\t Enregistrement intermédiaire effectué\n"
     ]
    },
    {
     "name": "stderr",
     "output_type": "stream",
     "text": [
      " 17% (3600 of 21011) |###                | Elapsed Time: 1:46:54 ETA:   8:40:14"
     ]
    },
    {
     "name": "stdout",
     "output_type": "stream",
     "text": [
      "\t Enregistrement intermédiaire effectué\n"
     ]
    },
    {
     "name": "stderr",
     "output_type": "stream",
     "text": [
      " 17% (3700 of 21011) |###                | Elapsed Time: 1:49:49 ETA:   7:05:33"
     ]
    },
    {
     "name": "stdout",
     "output_type": "stream",
     "text": [
      "\t Enregistrement intermédiaire effectué\n"
     ]
    },
    {
     "name": "stderr",
     "output_type": "stream",
     "text": [
      " 18% (3800 of 21011) |###                | Elapsed Time: 1:52:41 ETA:   6:34:02"
     ]
    },
    {
     "name": "stdout",
     "output_type": "stream",
     "text": [
      "\t Enregistrement intermédiaire effectué\n"
     ]
    },
    {
     "name": "stderr",
     "output_type": "stream",
     "text": [
      " 18% (3900 of 21011) |###                | Elapsed Time: 1:55:46 ETA:   9:00:13"
     ]
    },
    {
     "name": "stdout",
     "output_type": "stream",
     "text": [
      "\t Enregistrement intermédiaire effectué\n"
     ]
    },
    {
     "name": "stderr",
     "output_type": "stream",
     "text": [
      " 19% (4000 of 21011) |###                | Elapsed Time: 1:58:35 ETA:   7:21:42"
     ]
    },
    {
     "name": "stdout",
     "output_type": "stream",
     "text": [
      "\t Enregistrement intermédiaire effectué\n"
     ]
    },
    {
     "name": "stderr",
     "output_type": "stream",
     "text": [
      " 19% (4100 of 21011) |###                | Elapsed Time: 2:01:35 ETA:   6:19:09"
     ]
    },
    {
     "name": "stdout",
     "output_type": "stream",
     "text": [
      "\t Enregistrement intermédiaire effectué\n"
     ]
    },
    {
     "name": "stderr",
     "output_type": "stream",
     "text": [
      " 19% (4200 of 21011) |###                | Elapsed Time: 2:04:20 ETA:  10:55:23"
     ]
    },
    {
     "name": "stdout",
     "output_type": "stream",
     "text": [
      "\t Enregistrement intermédiaire effectué\n"
     ]
    },
    {
     "name": "stderr",
     "output_type": "stream",
     "text": [
      " 20% (4300 of 21011) |###                | Elapsed Time: 2:07:33 ETA:   6:44:09"
     ]
    },
    {
     "name": "stdout",
     "output_type": "stream",
     "text": [
      "\t Enregistrement intermédiaire effectué\n"
     ]
    },
    {
     "name": "stderr",
     "output_type": "stream",
     "text": [
      " 20% (4400 of 21011) |###                | Elapsed Time: 2:10:21 ETA:   4:55:49"
     ]
    },
    {
     "name": "stdout",
     "output_type": "stream",
     "text": [
      "\t Enregistrement intermédiaire effectué\n"
     ]
    },
    {
     "name": "stderr",
     "output_type": "stream",
     "text": [
      " 21% (4500 of 21011) |####               | Elapsed Time: 2:13:19 ETA:   7:54:37"
     ]
    },
    {
     "name": "stdout",
     "output_type": "stream",
     "text": [
      "\t Enregistrement intermédiaire effectué\n"
     ]
    },
    {
     "name": "stderr",
     "output_type": "stream",
     "text": [
      " 21% (4600 of 21011) |####               | Elapsed Time: 2:16:10 ETA:   7:02:19"
     ]
    },
    {
     "name": "stdout",
     "output_type": "stream",
     "text": [
      "\t Enregistrement intermédiaire effectué\n"
     ]
    },
    {
     "name": "stderr",
     "output_type": "stream",
     "text": [
      " 22% (4700 of 21011) |####               | Elapsed Time: 2:19:19 ETA:  11:05:06"
     ]
    },
    {
     "name": "stdout",
     "output_type": "stream",
     "text": [
      "\t Enregistrement intermédiaire effectué\n"
     ]
    },
    {
     "name": "stderr",
     "output_type": "stream",
     "text": [
      " 22% (4800 of 21011) |####               | Elapsed Time: 2:22:22 ETA:  13:12:04"
     ]
    },
    {
     "name": "stdout",
     "output_type": "stream",
     "text": [
      "\t Enregistrement intermédiaire effectué\n"
     ]
    },
    {
     "name": "stderr",
     "output_type": "stream",
     "text": [
      " 23% (4900 of 21011) |####               | Elapsed Time: 2:25:23 ETA:   7:40:56"
     ]
    },
    {
     "name": "stdout",
     "output_type": "stream",
     "text": [
      "\t Enregistrement intermédiaire effectué\n"
     ]
    },
    {
     "name": "stderr",
     "output_type": "stream",
     "text": [
      " 23% (5000 of 21011) |####               | Elapsed Time: 2:28:23 ETA:   6:54:00"
     ]
    },
    {
     "name": "stdout",
     "output_type": "stream",
     "text": [
      "\t Enregistrement intermédiaire effectué\n"
     ]
    },
    {
     "name": "stderr",
     "output_type": "stream",
     "text": [
      " 24% (5100 of 21011) |####               | Elapsed Time: 2:31:24 ETA:  12:35:52"
     ]
    },
    {
     "name": "stdout",
     "output_type": "stream",
     "text": [
      "\t Enregistrement intermédiaire effectué\n"
     ]
    },
    {
     "name": "stderr",
     "output_type": "stream",
     "text": [
      " 24% (5200 of 21011) |####               | Elapsed Time: 2:34:25 ETA:   6:21:31"
     ]
    },
    {
     "name": "stdout",
     "output_type": "stream",
     "text": [
      "\t Enregistrement intermédiaire effectué\n"
     ]
    },
    {
     "name": "stderr",
     "output_type": "stream",
     "text": [
      " 25% (5300 of 21011) |####               | Elapsed Time: 2:37:25 ETA:   6:39:35"
     ]
    },
    {
     "name": "stdout",
     "output_type": "stream",
     "text": [
      "\t Enregistrement intermédiaire effectué\n"
     ]
    },
    {
     "name": "stderr",
     "output_type": "stream",
     "text": [
      " 25% (5400 of 21011) |####               | Elapsed Time: 2:40:23 ETA:   6:02:36"
     ]
    },
    {
     "name": "stdout",
     "output_type": "stream",
     "text": [
      "\t Enregistrement intermédiaire effectué\n"
     ]
    },
    {
     "name": "stderr",
     "output_type": "stream",
     "text": [
      " 26% (5500 of 21011) |####               | Elapsed Time: 2:43:18 ETA:   6:51:21"
     ]
    },
    {
     "name": "stdout",
     "output_type": "stream",
     "text": [
      "\t Enregistrement intermédiaire effectué\n"
     ]
    },
    {
     "name": "stderr",
     "output_type": "stream",
     "text": [
      " 26% (5600 of 21011) |#####              | Elapsed Time: 2:46:27 ETA:   8:40:13"
     ]
    },
    {
     "name": "stdout",
     "output_type": "stream",
     "text": [
      "\t Enregistrement intermédiaire effectué\n"
     ]
    },
    {
     "name": "stderr",
     "output_type": "stream",
     "text": [
      " 27% (5700 of 21011) |#####              | Elapsed Time: 2:49:24 ETA:   7:33:01"
     ]
    },
    {
     "name": "stdout",
     "output_type": "stream",
     "text": [
      "\t Enregistrement intermédiaire effectué\n"
     ]
    },
    {
     "name": "stderr",
     "output_type": "stream",
     "text": [
      " 27% (5800 of 21011) |#####              | Elapsed Time: 2:52:15 ETA:   6:37:14"
     ]
    },
    {
     "name": "stdout",
     "output_type": "stream",
     "text": [
      "\t Enregistrement intermédiaire effectué\n"
     ]
    },
    {
     "name": "stderr",
     "output_type": "stream",
     "text": [
      " 28% (5900 of 21011) |#####              | Elapsed Time: 2:55:25 ETA:   6:17:25"
     ]
    },
    {
     "name": "stdout",
     "output_type": "stream",
     "text": [
      "\t Enregistrement intermédiaire effectué\n"
     ]
    },
    {
     "name": "stderr",
     "output_type": "stream",
     "text": [
      " 28% (6000 of 21011) |#####              | Elapsed Time: 2:58:22 ETA:  11:58:40"
     ]
    },
    {
     "name": "stdout",
     "output_type": "stream",
     "text": [
      "\t Enregistrement intermédiaire effectué\n"
     ]
    },
    {
     "name": "stderr",
     "output_type": "stream",
     "text": [
      " 29% (6100 of 21011) |#####              | Elapsed Time: 3:01:08 ETA:   7:53:19"
     ]
    },
    {
     "name": "stdout",
     "output_type": "stream",
     "text": [
      "\t Enregistrement intermédiaire effectué\n"
     ]
    },
    {
     "name": "stderr",
     "output_type": "stream",
     "text": [
      " 29% (6200 of 21011) |#####              | Elapsed Time: 3:04:03 ETA:   4:56:45"
     ]
    },
    {
     "name": "stdout",
     "output_type": "stream",
     "text": [
      "\t Enregistrement intermédiaire effectué\n"
     ]
    },
    {
     "name": "stderr",
     "output_type": "stream",
     "text": [
      " 29% (6300 of 21011) |#####              | Elapsed Time: 3:07:00 ETA:   5:03:30"
     ]
    },
    {
     "name": "stdout",
     "output_type": "stream",
     "text": [
      "\t Enregistrement intermédiaire effectué\n"
     ]
    },
    {
     "name": "stderr",
     "output_type": "stream",
     "text": [
      " 30% (6400 of 21011) |#####              | Elapsed Time: 3:09:56 ETA:   5:54:49"
     ]
    },
    {
     "name": "stdout",
     "output_type": "stream",
     "text": [
      "\t Enregistrement intermédiaire effectué\n"
     ]
    },
    {
     "name": "stderr",
     "output_type": "stream",
     "text": [
      " 30% (6500 of 21011) |#####              | Elapsed Time: 3:12:43 ETA:   4:51:09"
     ]
    },
    {
     "name": "stdout",
     "output_type": "stream",
     "text": [
      "\t Enregistrement intermédiaire effectué\n"
     ]
    },
    {
     "name": "stderr",
     "output_type": "stream",
     "text": [
      " 31% (6600 of 21011) |#####              | Elapsed Time: 3:15:35 ETA:   5:13:23"
     ]
    },
    {
     "name": "stdout",
     "output_type": "stream",
     "text": [
      "\t Enregistrement intermédiaire effectué\n"
     ]
    },
    {
     "name": "stderr",
     "output_type": "stream",
     "text": [
      " 31% (6700 of 21011) |######             | Elapsed Time: 3:18:36 ETA:   9:19:45"
     ]
    },
    {
     "name": "stdout",
     "output_type": "stream",
     "text": [
      "\t Enregistrement intermédiaire effectué\n"
     ]
    },
    {
     "name": "stderr",
     "output_type": "stream",
     "text": [
      " 32% (6800 of 21011) |######             | Elapsed Time: 3:21:42 ETA:   4:59:09"
     ]
    },
    {
     "name": "stdout",
     "output_type": "stream",
     "text": [
      "\t Enregistrement intermédiaire effectué\n"
     ]
    },
    {
     "name": "stderr",
     "output_type": "stream",
     "text": [
      " 32% (6900 of 21011) |######             | Elapsed Time: 3:24:36 ETA:   5:41:19"
     ]
    },
    {
     "name": "stdout",
     "output_type": "stream",
     "text": [
      "\t Enregistrement intermédiaire effectué\n"
     ]
    },
    {
     "name": "stderr",
     "output_type": "stream",
     "text": [
      " 33% (7000 of 21011) |######             | Elapsed Time: 3:27:30 ETA:   7:54:01"
     ]
    },
    {
     "name": "stdout",
     "output_type": "stream",
     "text": [
      "\t Enregistrement intermédiaire effectué\n"
     ]
    },
    {
     "name": "stderr",
     "output_type": "stream",
     "text": [
      " 33% (7100 of 21011) |######             | Elapsed Time: 3:30:11 ETA:   6:31:42"
     ]
    },
    {
     "name": "stdout",
     "output_type": "stream",
     "text": [
      "\t Enregistrement intermédiaire effectué\n"
     ]
    },
    {
     "name": "stderr",
     "output_type": "stream",
     "text": [
      " 34% (7200 of 21011) |######             | Elapsed Time: 3:33:23 ETA:   6:23:48"
     ]
    },
    {
     "name": "stdout",
     "output_type": "stream",
     "text": [
      "\t Enregistrement intermédiaire effectué\n"
     ]
    },
    {
     "name": "stderr",
     "output_type": "stream",
     "text": [
      " 34% (7300 of 21011) |######             | Elapsed Time: 3:36:25 ETA:   4:45:14"
     ]
    },
    {
     "name": "stdout",
     "output_type": "stream",
     "text": [
      "\t Enregistrement intermédiaire effectué\n"
     ]
    },
    {
     "name": "stderr",
     "output_type": "stream",
     "text": [
      " 35% (7400 of 21011) |######             | Elapsed Time: 3:39:12 ETA:   5:03:33"
     ]
    },
    {
     "name": "stdout",
     "output_type": "stream",
     "text": [
      "\t Enregistrement intermédiaire effectué\n"
     ]
    },
    {
     "name": "stderr",
     "output_type": "stream",
     "text": [
      " 35% (7500 of 21011) |######             | Elapsed Time: 3:42:15 ETA:   5:12:19"
     ]
    },
    {
     "name": "stdout",
     "output_type": "stream",
     "text": [
      "\t Enregistrement intermédiaire effectué\n"
     ]
    },
    {
     "name": "stderr",
     "output_type": "stream",
     "text": [
      " 36% (7600 of 21011) |######             | Elapsed Time: 3:46:11 ETA:  11:45:36"
     ]
    },
    {
     "name": "stdout",
     "output_type": "stream",
     "text": [
      "\t Enregistrement intermédiaire effectué\n"
     ]
    },
    {
     "name": "stderr",
     "output_type": "stream",
     "text": [
      " 36% (7700 of 21011) |######             | Elapsed Time: 3:49:22 ETA:   6:48:29"
     ]
    },
    {
     "name": "stdout",
     "output_type": "stream",
     "text": [
      "\t Enregistrement intermédiaire effectué\n"
     ]
    },
    {
     "name": "stderr",
     "output_type": "stream",
     "text": [
      " 37% (7800 of 21011) |#######            | Elapsed Time: 3:52:34 ETA:  12:53:59"
     ]
    },
    {
     "name": "stdout",
     "output_type": "stream",
     "text": [
      "\t Enregistrement intermédiaire effectué\n"
     ]
    },
    {
     "name": "stderr",
     "output_type": "stream",
     "text": [
      " 37% (7900 of 21011) |#######            | Elapsed Time: 3:55:48 ETA:  13:34:56"
     ]
    },
    {
     "name": "stdout",
     "output_type": "stream",
     "text": [
      "\t Enregistrement intermédiaire effectué\n"
     ]
    },
    {
     "name": "stderr",
     "output_type": "stream",
     "text": [
      " 38% (8000 of 21011) |#######            | Elapsed Time: 3:58:51 ETA:   7:00:16"
     ]
    },
    {
     "name": "stdout",
     "output_type": "stream",
     "text": [
      "\t Enregistrement intermédiaire effectué\n"
     ]
    },
    {
     "name": "stderr",
     "output_type": "stream",
     "text": [
      " 38% (8100 of 21011) |#######            | Elapsed Time: 4:01:59 ETA:   4:43:29"
     ]
    },
    {
     "name": "stdout",
     "output_type": "stream",
     "text": [
      "\t Enregistrement intermédiaire effectué\n"
     ]
    },
    {
     "name": "stderr",
     "output_type": "stream",
     "text": [
      " 39% (8200 of 21011) |#######            | Elapsed Time: 4:05:02 ETA:   6:00:49"
     ]
    },
    {
     "name": "stdout",
     "output_type": "stream",
     "text": [
      "\t Enregistrement intermédiaire effectué\n"
     ]
    },
    {
     "name": "stderr",
     "output_type": "stream",
     "text": [
      " 39% (8300 of 21011) |#######            | Elapsed Time: 4:08:05 ETA:   8:38:11"
     ]
    },
    {
     "name": "stdout",
     "output_type": "stream",
     "text": [
      "\t Enregistrement intermédiaire effectué\n"
     ]
    },
    {
     "name": "stderr",
     "output_type": "stream",
     "text": [
      " 39% (8400 of 21011) |#######            | Elapsed Time: 4:11:08 ETA:   7:15:55"
     ]
    },
    {
     "name": "stdout",
     "output_type": "stream",
     "text": [
      "\t Enregistrement intermédiaire effectué\n"
     ]
    },
    {
     "name": "stderr",
     "output_type": "stream",
     "text": [
      " 40% (8500 of 21011) |#######            | Elapsed Time: 4:14:05 ETA:   6:07:14"
     ]
    },
    {
     "name": "stdout",
     "output_type": "stream",
     "text": [
      "\t Enregistrement intermédiaire effectué\n"
     ]
    },
    {
     "name": "stderr",
     "output_type": "stream",
     "text": [
      " 40% (8600 of 21011) |#######            | Elapsed Time: 4:17:01 ETA:   9:25:04"
     ]
    },
    {
     "name": "stdout",
     "output_type": "stream",
     "text": [
      "\t Enregistrement intermédiaire effectué\n"
     ]
    },
    {
     "name": "stderr",
     "output_type": "stream",
     "text": [
      " 41% (8700 of 21011) |#######            | Elapsed Time: 4:21:14 ETA:  11:06:14"
     ]
    },
    {
     "name": "stdout",
     "output_type": "stream",
     "text": [
      "\t Enregistrement intermédiaire effectué\n"
     ]
    },
    {
     "name": "stderr",
     "output_type": "stream",
     "text": [
      " 41% (8800 of 21011) |#######            | Elapsed Time: 4:25:46 ETA:  23:10:16"
     ]
    },
    {
     "name": "stdout",
     "output_type": "stream",
     "text": [
      "\t Enregistrement intermédiaire effectué\n"
     ]
    },
    {
     "name": "stderr",
     "output_type": "stream",
     "text": [
      " 42% (8900 of 21011) |########           | Elapsed Time: 4:30:31 ETA:   6:54:10"
     ]
    },
    {
     "name": "stdout",
     "output_type": "stream",
     "text": [
      "\t Enregistrement intermédiaire effectué\n"
     ]
    },
    {
     "name": "stderr",
     "output_type": "stream",
     "text": [
      " 42% (9000 of 21011) |########           | Elapsed Time: 4:34:41 ETA:   7:08:25"
     ]
    },
    {
     "name": "stdout",
     "output_type": "stream",
     "text": [
      "\t Enregistrement intermédiaire effectué\n"
     ]
    },
    {
     "name": "stderr",
     "output_type": "stream",
     "text": [
      " 43% (9100 of 21011) |########           | Elapsed Time: 4:39:03 ETA:   5:46:02"
     ]
    },
    {
     "name": "stdout",
     "output_type": "stream",
     "text": [
      "\t Enregistrement intermédiaire effectué\n"
     ]
    },
    {
     "name": "stderr",
     "output_type": "stream",
     "text": [
      " 43% (9200 of 21011) |########           | Elapsed Time: 4:43:50 ETA:   4:45:27"
     ]
    },
    {
     "name": "stdout",
     "output_type": "stream",
     "text": [
      "\t Enregistrement intermédiaire effectué\n"
     ]
    },
    {
     "name": "stderr",
     "output_type": "stream",
     "text": [
      " 44% (9300 of 21011) |########           | Elapsed Time: 4:47:47 ETA:  10:09:15"
     ]
    },
    {
     "name": "stdout",
     "output_type": "stream",
     "text": [
      "\t Enregistrement intermédiaire effectué\n"
     ]
    },
    {
     "name": "stderr",
     "output_type": "stream",
     "text": [
      " 44% (9400 of 21011) |########           | Elapsed Time: 4:51:55 ETA:   5:39:02"
     ]
    },
    {
     "name": "stdout",
     "output_type": "stream",
     "text": [
      "\t Enregistrement intermédiaire effectué\n"
     ]
    },
    {
     "name": "stderr",
     "output_type": "stream",
     "text": [
      " 45% (9500 of 21011) |########           | Elapsed Time: 4:56:22 ETA:  10:02:36"
     ]
    },
    {
     "name": "stdout",
     "output_type": "stream",
     "text": [
      "\t Enregistrement intermédiaire effectué\n"
     ]
    },
    {
     "name": "stderr",
     "output_type": "stream",
     "text": [
      " 45% (9600 of 21011) |########           | Elapsed Time: 5:00:47 ETA:   8:54:49"
     ]
    },
    {
     "name": "stdout",
     "output_type": "stream",
     "text": [
      "\t Enregistrement intermédiaire effectué\n"
     ]
    },
    {
     "name": "stderr",
     "output_type": "stream",
     "text": [
      " 46% (9700 of 21011) |########           | Elapsed Time: 5:05:01 ETA:   7:08:53"
     ]
    },
    {
     "name": "stdout",
     "output_type": "stream",
     "text": [
      "\t Enregistrement intermédiaire effectué\n"
     ]
    },
    {
     "name": "stderr",
     "output_type": "stream",
     "text": [
      " 46% (9800 of 21011) |########           | Elapsed Time: 5:08:41 ETA:   6:14:03"
     ]
    },
    {
     "name": "stdout",
     "output_type": "stream",
     "text": [
      "\t Enregistrement intermédiaire effectué\n"
     ]
    },
    {
     "name": "stderr",
     "output_type": "stream",
     "text": [
      " 47% (9900 of 21011) |########           | Elapsed Time: 5:12:00 ETA:   7:35:20"
     ]
    },
    {
     "name": "stdout",
     "output_type": "stream",
     "text": [
      "\t Enregistrement intermédiaire effectué\n"
     ]
    },
    {
     "name": "stderr",
     "output_type": "stream",
     "text": [
      " 47% (10000 of 21011) |########          | Elapsed Time: 5:15:07 ETA:   5:15:16"
     ]
    },
    {
     "name": "stdout",
     "output_type": "stream",
     "text": [
      "\t Enregistrement intermédiaire effectué\n"
     ]
    },
    {
     "name": "stderr",
     "output_type": "stream",
     "text": [
      " 48% (10100 of 21011) |########          | Elapsed Time: 5:18:15 ETA:   8:35:09"
     ]
    },
    {
     "name": "stdout",
     "output_type": "stream",
     "text": [
      "\t Enregistrement intermédiaire effectué\n"
     ]
    },
    {
     "name": "stderr",
     "output_type": "stream",
     "text": [
      " 48% (10200 of 21011) |########          | Elapsed Time: 5:21:29 ETA:   6:50:43"
     ]
    },
    {
     "name": "stdout",
     "output_type": "stream",
     "text": [
      "\t Enregistrement intermédiaire effectué\n"
     ]
    },
    {
     "name": "stderr",
     "output_type": "stream",
     "text": [
      " 49% (10300 of 21011) |########          | Elapsed Time: 5:24:41 ETA:   5:27:16"
     ]
    },
    {
     "name": "stdout",
     "output_type": "stream",
     "text": [
      "\t Enregistrement intermédiaire effectué\n"
     ]
    },
    {
     "name": "stderr",
     "output_type": "stream",
     "text": [
      " 49% (10400 of 21011) |########          | Elapsed Time: 5:28:02 ETA:   6:24:07"
     ]
    },
    {
     "name": "stdout",
     "output_type": "stream",
     "text": [
      "\t Enregistrement intermédiaire effectué\n"
     ]
    },
    {
     "name": "stderr",
     "output_type": "stream",
     "text": [
      " 49% (10500 of 21011) |########          | Elapsed Time: 5:31:20 ETA:  10:21:58"
     ]
    },
    {
     "name": "stdout",
     "output_type": "stream",
     "text": [
      "\t Enregistrement intermédiaire effectué\n"
     ]
    },
    {
     "name": "stderr",
     "output_type": "stream",
     "text": [
      " 50% (10600 of 21011) |#########         | Elapsed Time: 5:34:24 ETA:   5:47:41"
     ]
    },
    {
     "name": "stdout",
     "output_type": "stream",
     "text": [
      "\t Enregistrement intermédiaire effectué\n"
     ]
    },
    {
     "name": "stderr",
     "output_type": "stream",
     "text": [
      " 50% (10700 of 21011) |#########         | Elapsed Time: 5:37:31 ETA:   4:43:54"
     ]
    },
    {
     "name": "stdout",
     "output_type": "stream",
     "text": [
      "\t Enregistrement intermédiaire effectué\n"
     ]
    },
    {
     "name": "stderr",
     "output_type": "stream",
     "text": [
      " 51% (10800 of 21011) |#########         | Elapsed Time: 5:40:28 ETA:   4:17:19"
     ]
    },
    {
     "name": "stdout",
     "output_type": "stream",
     "text": [
      "\t Enregistrement intermédiaire effectué\n"
     ]
    },
    {
     "name": "stderr",
     "output_type": "stream",
     "text": [
      " 51% (10900 of 21011) |#########         | Elapsed Time: 5:44:18 ETA:   4:59:53"
     ]
    },
    {
     "name": "stdout",
     "output_type": "stream",
     "text": [
      "\t Enregistrement intermédiaire effectué\n"
     ]
    },
    {
     "name": "stderr",
     "output_type": "stream",
     "text": [
      " 52% (11000 of 21011) |#########         | Elapsed Time: 5:47:47 ETA:   5:21:37"
     ]
    },
    {
     "name": "stdout",
     "output_type": "stream",
     "text": [
      "\t Enregistrement intermédiaire effectué\n"
     ]
    },
    {
     "name": "stderr",
     "output_type": "stream",
     "text": [
      " 52% (11100 of 21011) |#########         | Elapsed Time: 5:50:58 ETA:   5:49:02"
     ]
    },
    {
     "name": "stdout",
     "output_type": "stream",
     "text": [
      "\t Enregistrement intermédiaire effectué\n"
     ]
    },
    {
     "name": "stderr",
     "output_type": "stream",
     "text": [
      " 53% (11200 of 21011) |#########         | Elapsed Time: 5:54:22 ETA:   6:42:04"
     ]
    },
    {
     "name": "stdout",
     "output_type": "stream",
     "text": [
      "\t Enregistrement intermédiaire effectué\n"
     ]
    },
    {
     "name": "stderr",
     "output_type": "stream",
     "text": [
      " 53% (11300 of 21011) |#########         | Elapsed Time: 5:57:40 ETA:   4:12:00"
     ]
    },
    {
     "name": "stdout",
     "output_type": "stream",
     "text": [
      "\t Enregistrement intermédiaire effectué\n"
     ]
    },
    {
     "name": "stderr",
     "output_type": "stream",
     "text": [
      " 54% (11400 of 21011) |#########         | Elapsed Time: 6:01:00 ETA:   6:29:30"
     ]
    },
    {
     "name": "stdout",
     "output_type": "stream",
     "text": [
      "\t Enregistrement intermédiaire effectué\n"
     ]
    },
    {
     "name": "stderr",
     "output_type": "stream",
     "text": [
      " 54% (11500 of 21011) |#########         | Elapsed Time: 6:04:10 ETA:   5:23:50"
     ]
    },
    {
     "name": "stdout",
     "output_type": "stream",
     "text": [
      "\t Enregistrement intermédiaire effectué\n"
     ]
    },
    {
     "name": "stderr",
     "output_type": "stream",
     "text": [
      " 55% (11600 of 21011) |#########         | Elapsed Time: 6:07:21 ETA:   4:09:31"
     ]
    },
    {
     "name": "stdout",
     "output_type": "stream",
     "text": [
      "\t Enregistrement intermédiaire effectué\n"
     ]
    },
    {
     "name": "stderr",
     "output_type": "stream",
     "text": [
      " 55% (11700 of 21011) |##########        | Elapsed Time: 6:10:50 ETA:  10:11:47"
     ]
    },
    {
     "name": "stdout",
     "output_type": "stream",
     "text": [
      "\t Enregistrement intermédiaire effectué\n"
     ]
    },
    {
     "name": "stderr",
     "output_type": "stream",
     "text": [
      " 56% (11800 of 21011) |##########        | Elapsed Time: 6:14:10 ETA:   5:35:49"
     ]
    },
    {
     "name": "stdout",
     "output_type": "stream",
     "text": [
      "\t Enregistrement intermédiaire effectué\n"
     ]
    },
    {
     "name": "stderr",
     "output_type": "stream",
     "text": [
      " 56% (11900 of 21011) |##########        | Elapsed Time: 6:17:25 ETA:   5:03:54"
     ]
    },
    {
     "name": "stdout",
     "output_type": "stream",
     "text": [
      "\t Enregistrement intermédiaire effectué\n"
     ]
    },
    {
     "name": "stderr",
     "output_type": "stream",
     "text": [
      " 57% (12000 of 21011) |##########        | Elapsed Time: 6:20:28 ETA:   5:12:53"
     ]
    },
    {
     "name": "stdout",
     "output_type": "stream",
     "text": [
      "\t Enregistrement intermédiaire effectué\n"
     ]
    },
    {
     "name": "stderr",
     "output_type": "stream",
     "text": [
      " 57% (12100 of 21011) |##########        | Elapsed Time: 6:23:43 ETA:   3:27:08"
     ]
    },
    {
     "name": "stdout",
     "output_type": "stream",
     "text": [
      "\t Enregistrement intermédiaire effectué\n"
     ]
    },
    {
     "name": "stderr",
     "output_type": "stream",
     "text": [
      " 58% (12200 of 21011) |##########        | Elapsed Time: 6:27:26 ETA:  10:19:43"
     ]
    },
    {
     "name": "stdout",
     "output_type": "stream",
     "text": [
      "\t Enregistrement intermédiaire effectué\n"
     ]
    },
    {
     "name": "stderr",
     "output_type": "stream",
     "text": [
      " 58% (12300 of 21011) |##########        | Elapsed Time: 6:30:36 ETA:   5:16:41"
     ]
    },
    {
     "name": "stdout",
     "output_type": "stream",
     "text": [
      "\t Enregistrement intermédiaire effectué\n"
     ]
    },
    {
     "name": "stderr",
     "output_type": "stream",
     "text": [
      " 59% (12400 of 21011) |##########        | Elapsed Time: 6:34:05 ETA:   4:25:03"
     ]
    },
    {
     "name": "stdout",
     "output_type": "stream",
     "text": [
      "\t Enregistrement intermédiaire effectué\n"
     ]
    },
    {
     "name": "stderr",
     "output_type": "stream",
     "text": [
      " 59% (12500 of 21011) |##########        | Elapsed Time: 6:37:29 ETA:   3:29:16"
     ]
    },
    {
     "name": "stdout",
     "output_type": "stream",
     "text": [
      "\t Enregistrement intermédiaire effectué\n"
     ]
    },
    {
     "name": "stderr",
     "output_type": "stream",
     "text": [
      " 59% (12600 of 21011) |##########        | Elapsed Time: 6:41:04 ETA:   4:08:42"
     ]
    },
    {
     "name": "stdout",
     "output_type": "stream",
     "text": [
      "\t Enregistrement intermédiaire effectué\n"
     ]
    },
    {
     "name": "stderr",
     "output_type": "stream",
     "text": [
      " 60% (12700 of 21011) |##########        | Elapsed Time: 6:45:43 ETA:   5:42:01"
     ]
    },
    {
     "name": "stdout",
     "output_type": "stream",
     "text": [
      "\t Enregistrement intermédiaire effectué\n"
     ]
    },
    {
     "name": "stderr",
     "output_type": "stream",
     "text": [
      " 60% (12800 of 21011) |##########        | Elapsed Time: 6:49:07 ETA:   4:25:32"
     ]
    },
    {
     "name": "stdout",
     "output_type": "stream",
     "text": [
      "\t Enregistrement intermédiaire effectué\n"
     ]
    },
    {
     "name": "stderr",
     "output_type": "stream",
     "text": [
      " 61% (12900 of 21011) |###########       | Elapsed Time: 6:52:37 ETA:   4:20:19"
     ]
    },
    {
     "name": "stdout",
     "output_type": "stream",
     "text": [
      "\t Enregistrement intermédiaire effectué\n"
     ]
    },
    {
     "name": "stderr",
     "output_type": "stream",
     "text": [
      " 61% (13000 of 21011) |###########       | Elapsed Time: 6:56:07 ETA:   6:30:06"
     ]
    },
    {
     "name": "stdout",
     "output_type": "stream",
     "text": [
      "\t Enregistrement intermédiaire effectué\n"
     ]
    },
    {
     "name": "stderr",
     "output_type": "stream",
     "text": [
      " 62% (13100 of 21011) |###########       | Elapsed Time: 6:59:26 ETA:   4:24:02"
     ]
    },
    {
     "name": "stdout",
     "output_type": "stream",
     "text": [
      "\t Enregistrement intermédiaire effectué\n"
     ]
    },
    {
     "name": "stderr",
     "output_type": "stream",
     "text": [
      " 62% (13200 of 21011) |###########       | Elapsed Time: 7:02:49 ETA:   5:54:13"
     ]
    },
    {
     "name": "stdout",
     "output_type": "stream",
     "text": [
      "\t Enregistrement intermédiaire effectué\n"
     ]
    },
    {
     "name": "stderr",
     "output_type": "stream",
     "text": [
      " 63% (13300 of 21011) |###########       | Elapsed Time: 7:06:21 ETA:   4:50:22"
     ]
    },
    {
     "name": "stdout",
     "output_type": "stream",
     "text": [
      "\t Enregistrement intermédiaire effectué\n"
     ]
    },
    {
     "name": "stderr",
     "output_type": "stream",
     "text": [
      " 63% (13400 of 21011) |###########       | Elapsed Time: 7:09:41 ETA:   3:46:31"
     ]
    },
    {
     "name": "stdout",
     "output_type": "stream",
     "text": [
      "\t Enregistrement intermédiaire effectué\n"
     ]
    },
    {
     "name": "stderr",
     "output_type": "stream",
     "text": [
      " 64% (13500 of 21011) |###########       | Elapsed Time: 7:12:55 ETA:   2:43:00"
     ]
    },
    {
     "name": "stdout",
     "output_type": "stream",
     "text": [
      "\t Enregistrement intermédiaire effectué\n"
     ]
    },
    {
     "name": "stderr",
     "output_type": "stream",
     "text": [
      " 64% (13600 of 21011) |###########       | Elapsed Time: 7:15:57 ETA:   3:24:08"
     ]
    },
    {
     "name": "stdout",
     "output_type": "stream",
     "text": [
      "\t Enregistrement intermédiaire effectué\n"
     ]
    },
    {
     "name": "stderr",
     "output_type": "stream",
     "text": [
      " 65% (13700 of 21011) |###########       | Elapsed Time: 7:19:20 ETA:   2:26:50"
     ]
    },
    {
     "name": "stdout",
     "output_type": "stream",
     "text": [
      "\t Enregistrement intermédiaire effectué\n"
     ]
    },
    {
     "name": "stderr",
     "output_type": "stream",
     "text": [
      " 65% (13800 of 21011) |###########       | Elapsed Time: 7:22:31 ETA:   2:59:29"
     ]
    },
    {
     "name": "stdout",
     "output_type": "stream",
     "text": [
      "\t Enregistrement intermédiaire effectué\n"
     ]
    },
    {
     "name": "stderr",
     "output_type": "stream",
     "text": [
      " 66% (13900 of 21011) |###########       | Elapsed Time: 7:26:07 ETA:   5:38:15"
     ]
    },
    {
     "name": "stdout",
     "output_type": "stream",
     "text": [
      "\t Enregistrement intermédiaire effectué\n"
     ]
    },
    {
     "name": "stderr",
     "output_type": "stream",
     "text": [
      " 66% (14000 of 21011) |###########       | Elapsed Time: 7:29:30 ETA:   4:45:19"
     ]
    },
    {
     "name": "stdout",
     "output_type": "stream",
     "text": [
      "\t Enregistrement intermédiaire effectué\n"
     ]
    },
    {
     "name": "stderr",
     "output_type": "stream",
     "text": [
      " 67% (14100 of 21011) |############      | Elapsed Time: 7:32:57 ETA:   4:52:33"
     ]
    },
    {
     "name": "stdout",
     "output_type": "stream",
     "text": [
      "\t Enregistrement intermédiaire effectué\n"
     ]
    },
    {
     "name": "stderr",
     "output_type": "stream",
     "text": [
      " 67% (14200 of 21011) |############      | Elapsed Time: 7:36:16 ETA:   4:02:51"
     ]
    },
    {
     "name": "stdout",
     "output_type": "stream",
     "text": [
      "\t Enregistrement intermédiaire effectué\n"
     ]
    },
    {
     "name": "stderr",
     "output_type": "stream",
     "text": [
      " 68% (14300 of 21011) |############      | Elapsed Time: 7:39:30 ETA:   7:59:19"
     ]
    },
    {
     "name": "stdout",
     "output_type": "stream",
     "text": [
      "\t Enregistrement intermédiaire effectué\n"
     ]
    },
    {
     "name": "stderr",
     "output_type": "stream",
     "text": [
      " 68% (14400 of 21011) |############      | Elapsed Time: 7:42:56 ETA:   6:23:42"
     ]
    },
    {
     "name": "stdout",
     "output_type": "stream",
     "text": [
      "\t Enregistrement intermédiaire effectué\n"
     ]
    },
    {
     "name": "stderr",
     "output_type": "stream",
     "text": [
      " 69% (14500 of 21011) |############      | Elapsed Time: 7:46:20 ETA:   4:10:21"
     ]
    },
    {
     "name": "stdout",
     "output_type": "stream",
     "text": [
      "\t Enregistrement intermédiaire effectué\n"
     ]
    },
    {
     "name": "stderr",
     "output_type": "stream",
     "text": [
      " 69% (14600 of 21011) |############      | Elapsed Time: 7:49:23 ETA:   3:20:00"
     ]
    },
    {
     "name": "stdout",
     "output_type": "stream",
     "text": [
      "\t Enregistrement intermédiaire effectué\n"
     ]
    },
    {
     "name": "stderr",
     "output_type": "stream",
     "text": [
      " 69% (14700 of 21011) |############      | Elapsed Time: 7:52:39 ETA:   3:23:19"
     ]
    },
    {
     "name": "stdout",
     "output_type": "stream",
     "text": [
      "\t Enregistrement intermédiaire effectué\n"
     ]
    },
    {
     "name": "stderr",
     "output_type": "stream",
     "text": [
      " 70% (14800 of 21011) |############      | Elapsed Time: 7:56:15 ETA:   5:09:42"
     ]
    },
    {
     "name": "stdout",
     "output_type": "stream",
     "text": [
      "\t Enregistrement intermédiaire effectué\n"
     ]
    },
    {
     "name": "stderr",
     "output_type": "stream",
     "text": [
      " 70% (14900 of 21011) |############      | Elapsed Time: 7:59:58 ETA:   2:45:22"
     ]
    },
    {
     "name": "stdout",
     "output_type": "stream",
     "text": [
      "\t Enregistrement intermédiaire effectué\n"
     ]
    },
    {
     "name": "stderr",
     "output_type": "stream",
     "text": [
      " 71% (15000 of 21011) |############      | Elapsed Time: 8:03:12 ETA:   5:45:43"
     ]
    },
    {
     "name": "stdout",
     "output_type": "stream",
     "text": [
      "\t Enregistrement intermédiaire effectué\n"
     ]
    },
    {
     "name": "stderr",
     "output_type": "stream",
     "text": [
      " 71% (15100 of 21011) |############      | Elapsed Time: 8:06:31 ETA:   3:16:43"
     ]
    },
    {
     "name": "stdout",
     "output_type": "stream",
     "text": [
      "\t Enregistrement intermédiaire effectué\n"
     ]
    },
    {
     "name": "stderr",
     "output_type": "stream",
     "text": [
      " 72% (15200 of 21011) |#############     | Elapsed Time: 8:10:00 ETA:   4:43:50"
     ]
    },
    {
     "name": "stdout",
     "output_type": "stream",
     "text": [
      "\t Enregistrement intermédiaire effectué\n"
     ]
    },
    {
     "name": "stderr",
     "output_type": "stream",
     "text": [
      " 72% (15300 of 21011) |#############     | Elapsed Time: 8:13:19 ETA:   2:14:46"
     ]
    },
    {
     "name": "stdout",
     "output_type": "stream",
     "text": [
      "\t Enregistrement intermédiaire effectué\n"
     ]
    },
    {
     "name": "stderr",
     "output_type": "stream",
     "text": [
      " 73% (15400 of 21011) |#############     | Elapsed Time: 8:16:35 ETA:   3:37:27"
     ]
    },
    {
     "name": "stdout",
     "output_type": "stream",
     "text": [
      "\t Enregistrement intermédiaire effectué\n"
     ]
    },
    {
     "name": "stderr",
     "output_type": "stream",
     "text": [
      " 73% (15500 of 21011) |#############     | Elapsed Time: 8:19:48 ETA:   3:10:59"
     ]
    },
    {
     "name": "stdout",
     "output_type": "stream",
     "text": [
      "\t Enregistrement intermédiaire effectué\n"
     ]
    },
    {
     "name": "stderr",
     "output_type": "stream",
     "text": [
      " 74% (15600 of 21011) |#############     | Elapsed Time: 8:23:02 ETA:   3:28:35"
     ]
    },
    {
     "name": "stdout",
     "output_type": "stream",
     "text": [
      "\t Enregistrement intermédiaire effectué\n"
     ]
    },
    {
     "name": "stderr",
     "output_type": "stream",
     "text": [
      " 74% (15700 of 21011) |#############     | Elapsed Time: 8:26:25 ETA:   2:20:34"
     ]
    },
    {
     "name": "stdout",
     "output_type": "stream",
     "text": [
      "\t Enregistrement intermédiaire effectué\n"
     ]
    },
    {
     "name": "stderr",
     "output_type": "stream",
     "text": [
      " 75% (15800 of 21011) |#############     | Elapsed Time: 8:29:45 ETA:   1:38:37"
     ]
    },
    {
     "name": "stdout",
     "output_type": "stream",
     "text": [
      "\t Enregistrement intermédiaire effectué\n"
     ]
    },
    {
     "name": "stderr",
     "output_type": "stream",
     "text": [
      " 75% (15900 of 21011) |#############     | Elapsed Time: 8:32:59 ETA:   3:27:30"
     ]
    },
    {
     "name": "stdout",
     "output_type": "stream",
     "text": [
      "\t Enregistrement intermédiaire effectué\n"
     ]
    },
    {
     "name": "stderr",
     "output_type": "stream",
     "text": [
      " 76% (16000 of 21011) |#############     | Elapsed Time: 8:36:17 ETA:   2:24:13"
     ]
    },
    {
     "name": "stdout",
     "output_type": "stream",
     "text": [
      "\t Enregistrement intermédiaire effectué\n"
     ]
    },
    {
     "name": "stderr",
     "output_type": "stream",
     "text": [
      " 76% (16100 of 21011) |#############     | Elapsed Time: 8:39:41 ETA:   2:40:17"
     ]
    },
    {
     "name": "stdout",
     "output_type": "stream",
     "text": [
      "\t Enregistrement intermédiaire effectué\n"
     ]
    },
    {
     "name": "stderr",
     "output_type": "stream",
     "text": [
      " 77% (16200 of 21011) |#############     | Elapsed Time: 8:42:52 ETA:   2:17:42"
     ]
    },
    {
     "name": "stdout",
     "output_type": "stream",
     "text": [
      "\t Enregistrement intermédiaire effectué\n"
     ]
    },
    {
     "name": "stderr",
     "output_type": "stream",
     "text": [
      " 77% (16300 of 21011) |#############     | Elapsed Time: 8:46:19 ETA:   1:55:32"
     ]
    },
    {
     "name": "stdout",
     "output_type": "stream",
     "text": [
      "\t Enregistrement intermédiaire effectué\n"
     ]
    },
    {
     "name": "stderr",
     "output_type": "stream",
     "text": [
      " 78% (16400 of 21011) |##############    | Elapsed Time: 8:49:33 ETA:   2:19:37"
     ]
    },
    {
     "name": "stdout",
     "output_type": "stream",
     "text": [
      "\t Enregistrement intermédiaire effectué\n"
     ]
    },
    {
     "name": "stderr",
     "output_type": "stream",
     "text": [
      " 78% (16500 of 21011) |##############    | Elapsed Time: 8:52:59 ETA:   1:46:15"
     ]
    },
    {
     "name": "stdout",
     "output_type": "stream",
     "text": [
      "\t Enregistrement intermédiaire effectué\n"
     ]
    },
    {
     "name": "stderr",
     "output_type": "stream",
     "text": [
      " 79% (16600 of 21011) |##############    | Elapsed Time: 8:56:12 ETA:   1:51:14"
     ]
    },
    {
     "name": "stdout",
     "output_type": "stream",
     "text": [
      "\t Enregistrement intermédiaire effectué\n"
     ]
    },
    {
     "name": "stderr",
     "output_type": "stream",
     "text": [
      " 79% (16700 of 21011) |##############    | Elapsed Time: 8:59:32 ETA:   2:02:42"
     ]
    },
    {
     "name": "stdout",
     "output_type": "stream",
     "text": [
      "\t Enregistrement intermédiaire effectué\n"
     ]
    },
    {
     "name": "stderr",
     "output_type": "stream",
     "text": [
      " 79% (16800 of 21011) |##############    | Elapsed Time: 9:02:49 ETA:   2:26:45"
     ]
    },
    {
     "name": "stdout",
     "output_type": "stream",
     "text": [
      "\t Enregistrement intermédiaire effectué\n"
     ]
    },
    {
     "name": "stderr",
     "output_type": "stream",
     "text": [
      " 80% (16900 of 21011) |##############    | Elapsed Time: 9:05:54 ETA:   2:35:51"
     ]
    },
    {
     "name": "stdout",
     "output_type": "stream",
     "text": [
      "\t Enregistrement intermédiaire effectué\n"
     ]
    },
    {
     "name": "stderr",
     "output_type": "stream",
     "text": [
      " 80% (17000 of 21011) |##############    | Elapsed Time: 9:09:08 ETA:   1:35:28"
     ]
    },
    {
     "name": "stdout",
     "output_type": "stream",
     "text": [
      "\t Enregistrement intermédiaire effectué\n"
     ]
    },
    {
     "name": "stderr",
     "output_type": "stream",
     "text": [
      " 81% (17100 of 21011) |##############    | Elapsed Time: 9:12:28 ETA:   1:35:47"
     ]
    },
    {
     "name": "stdout",
     "output_type": "stream",
     "text": [
      "\t Enregistrement intermédiaire effectué\n"
     ]
    },
    {
     "name": "stderr",
     "output_type": "stream",
     "text": [
      " 81% (17200 of 21011) |##############    | Elapsed Time: 9:15:51 ETA:   3:06:54"
     ]
    },
    {
     "name": "stdout",
     "output_type": "stream",
     "text": [
      "\t Enregistrement intermédiaire effectué\n"
     ]
    },
    {
     "name": "stderr",
     "output_type": "stream",
     "text": [
      " 82% (17300 of 21011) |##############    | Elapsed Time: 9:19:07 ETA:   1:51:08"
     ]
    },
    {
     "name": "stdout",
     "output_type": "stream",
     "text": [
      "\t Enregistrement intermédiaire effectué\n"
     ]
    },
    {
     "name": "stderr",
     "output_type": "stream",
     "text": [
      " 82% (17400 of 21011) |##############    | Elapsed Time: 9:22:23 ETA:   1:58:05"
     ]
    },
    {
     "name": "stdout",
     "output_type": "stream",
     "text": [
      "\t Enregistrement intermédiaire effectué\n"
     ]
    },
    {
     "name": "stderr",
     "output_type": "stream",
     "text": [
      " 83% (17500 of 21011) |##############    | Elapsed Time: 9:25:34 ETA:   1:04:20"
     ]
    },
    {
     "name": "stdout",
     "output_type": "stream",
     "text": [
      "\t Enregistrement intermédiaire effectué\n"
     ]
    },
    {
     "name": "stderr",
     "output_type": "stream",
     "text": [
      " 83% (17600 of 21011) |###############   | Elapsed Time: 9:28:58 ETA:   1:39:21"
     ]
    },
    {
     "name": "stdout",
     "output_type": "stream",
     "text": [
      "\t Enregistrement intermédiaire effectué\n"
     ]
    },
    {
     "name": "stderr",
     "output_type": "stream",
     "text": [
      " 84% (17700 of 21011) |###############   | Elapsed Time: 9:32:16 ETA:   1:52:22"
     ]
    },
    {
     "name": "stdout",
     "output_type": "stream",
     "text": [
      "\t Enregistrement intermédiaire effectué\n"
     ]
    },
    {
     "name": "stderr",
     "output_type": "stream",
     "text": [
      " 84% (17800 of 21011) |###############   | Elapsed Time: 9:35:32 ETA:   1:21:40"
     ]
    },
    {
     "name": "stdout",
     "output_type": "stream",
     "text": [
      "\t Enregistrement intermédiaire effectué\n"
     ]
    },
    {
     "name": "stderr",
     "output_type": "stream",
     "text": [
      " 85% (17900 of 21011) |###############   | Elapsed Time: 9:38:52 ETA:   1:27:55"
     ]
    },
    {
     "name": "stdout",
     "output_type": "stream",
     "text": [
      "\t Enregistrement intermédiaire effectué\n"
     ]
    },
    {
     "name": "stderr",
     "output_type": "stream",
     "text": [
      " 85% (18000 of 21011) |###############   | Elapsed Time: 9:42:17 ETA:   1:38:45"
     ]
    },
    {
     "name": "stdout",
     "output_type": "stream",
     "text": [
      "\t Enregistrement intermédiaire effectué\n"
     ]
    },
    {
     "name": "stderr",
     "output_type": "stream",
     "text": [
      " 86% (18100 of 21011) |###############   | Elapsed Time: 9:45:28 ETA:   1:26:35"
     ]
    },
    {
     "name": "stdout",
     "output_type": "stream",
     "text": [
      "\t Enregistrement intermédiaire effectué\n"
     ]
    },
    {
     "name": "stderr",
     "output_type": "stream",
     "text": [
      " 86% (18200 of 21011) |###############   | Elapsed Time: 9:48:39 ETA:   1:35:48"
     ]
    },
    {
     "name": "stdout",
     "output_type": "stream",
     "text": [
      "\t Enregistrement intermédiaire effectué\n"
     ]
    },
    {
     "name": "stderr",
     "output_type": "stream",
     "text": [
      " 87% (18300 of 21011) |###############   | Elapsed Time: 9:51:50 ETA:   1:25:28"
     ]
    },
    {
     "name": "stdout",
     "output_type": "stream",
     "text": [
      "\t Enregistrement intermédiaire effectué\n"
     ]
    },
    {
     "name": "stderr",
     "output_type": "stream",
     "text": [
      " 87% (18400 of 21011) |###############   | Elapsed Time: 9:54:59 ETA:   2:09:56"
     ]
    },
    {
     "name": "stdout",
     "output_type": "stream",
     "text": [
      "\t Enregistrement intermédiaire effectué\n"
     ]
    },
    {
     "name": "stderr",
     "output_type": "stream",
     "text": [
      " 88% (18500 of 21011) |###############   | Elapsed Time: 9:58:09 ETA:   1:03:43"
     ]
    },
    {
     "name": "stdout",
     "output_type": "stream",
     "text": [
      "\t Enregistrement intermédiaire effectué\n"
     ]
    },
    {
     "name": "stderr",
     "output_type": "stream",
     "text": [
      " 88% (18600 of 21011) |###############  | Elapsed Time: 10:01:24 ETA:   1:06:09"
     ]
    },
    {
     "name": "stdout",
     "output_type": "stream",
     "text": [
      "\t Enregistrement intermédiaire effectué\n"
     ]
    },
    {
     "name": "stderr",
     "output_type": "stream",
     "text": [
      " 89% (18700 of 21011) |###############  | Elapsed Time: 10:04:41 ETA:   1:04:10"
     ]
    },
    {
     "name": "stdout",
     "output_type": "stream",
     "text": [
      "\t Enregistrement intermédiaire effectué\n"
     ]
    },
    {
     "name": "stderr",
     "output_type": "stream",
     "text": [
      " 89% (18800 of 21011) |###############  | Elapsed Time: 10:07:49 ETA:   1:08:03"
     ]
    },
    {
     "name": "stdout",
     "output_type": "stream",
     "text": [
      "\t Enregistrement intermédiaire effectué\n"
     ]
    },
    {
     "name": "stderr",
     "output_type": "stream",
     "text": [
      " 89% (18900 of 21011) |###############  | Elapsed Time: 10:11:10 ETA:   1:02:54"
     ]
    },
    {
     "name": "stdout",
     "output_type": "stream",
     "text": [
      "\t Enregistrement intermédiaire effectué\n"
     ]
    },
    {
     "name": "stderr",
     "output_type": "stream",
     "text": [
      " 90% (19000 of 21011) |###############  | Elapsed Time: 10:14:24 ETA:   1:04:34"
     ]
    },
    {
     "name": "stdout",
     "output_type": "stream",
     "text": [
      "\t Enregistrement intermédiaire effectué\n"
     ]
    },
    {
     "name": "stderr",
     "output_type": "stream",
     "text": [
      " 90% (19100 of 21011) |###############  | Elapsed Time: 10:17:43 ETA:   1:27:22"
     ]
    },
    {
     "name": "stdout",
     "output_type": "stream",
     "text": [
      "\t Enregistrement intermédiaire effectué\n"
     ]
    },
    {
     "name": "stderr",
     "output_type": "stream",
     "text": [
      " 91% (19200 of 21011) |###############  | Elapsed Time: 10:21:07 ETA:   1:44:02"
     ]
    },
    {
     "name": "stdout",
     "output_type": "stream",
     "text": [
      "\t Enregistrement intermédiaire effectué\n"
     ]
    },
    {
     "name": "stderr",
     "output_type": "stream",
     "text": [
      " 91% (19300 of 21011) |###############  | Elapsed Time: 10:24:19 ETA:   0:44:28"
     ]
    },
    {
     "name": "stdout",
     "output_type": "stream",
     "text": [
      "\t Enregistrement intermédiaire effectué\n"
     ]
    },
    {
     "name": "stderr",
     "output_type": "stream",
     "text": [
      " 92% (19400 of 21011) |###############  | Elapsed Time: 10:27:38 ETA:   0:59:51"
     ]
    },
    {
     "name": "stdout",
     "output_type": "stream",
     "text": [
      "\t Enregistrement intermédiaire effectué\n"
     ]
    },
    {
     "name": "stderr",
     "output_type": "stream",
     "text": [
      " 92% (19500 of 21011) |###############  | Elapsed Time: 10:30:40 ETA:   0:33:18"
     ]
    },
    {
     "name": "stdout",
     "output_type": "stream",
     "text": [
      "\t Enregistrement intermédiaire effectué\n"
     ]
    },
    {
     "name": "stderr",
     "output_type": "stream",
     "text": [
      " 93% (19600 of 21011) |###############  | Elapsed Time: 10:33:50 ETA:   0:39:26"
     ]
    },
    {
     "name": "stdout",
     "output_type": "stream",
     "text": [
      "\t Enregistrement intermédiaire effectué\n"
     ]
    },
    {
     "name": "stderr",
     "output_type": "stream",
     "text": [
      " 93% (19700 of 21011) |###############  | Elapsed Time: 10:37:01 ETA:   0:41:12"
     ]
    },
    {
     "name": "stdout",
     "output_type": "stream",
     "text": [
      "\t Enregistrement intermédiaire effectué\n"
     ]
    },
    {
     "name": "stderr",
     "output_type": "stream",
     "text": [
      " 94% (19800 of 21011) |################ | Elapsed Time: 10:40:12 ETA:   0:37:50"
     ]
    },
    {
     "name": "stdout",
     "output_type": "stream",
     "text": [
      "\t Enregistrement intermédiaire effectué\n"
     ]
    },
    {
     "name": "stderr",
     "output_type": "stream",
     "text": [
      " 94% (19900 of 21011) |################ | Elapsed Time: 10:43:26 ETA:   0:55:49"
     ]
    },
    {
     "name": "stdout",
     "output_type": "stream",
     "text": [
      "\t Enregistrement intermédiaire effectué\n"
     ]
    },
    {
     "name": "stderr",
     "output_type": "stream",
     "text": [
      " 95% (20000 of 21011) |################ | Elapsed Time: 10:46:22 ETA:   0:34:52"
     ]
    },
    {
     "name": "stdout",
     "output_type": "stream",
     "text": [
      "\t Enregistrement intermédiaire effectué\n"
     ]
    },
    {
     "name": "stderr",
     "output_type": "stream",
     "text": [
      " 95% (20100 of 21011) |################ | Elapsed Time: 10:49:31 ETA:   0:16:33"
     ]
    },
    {
     "name": "stdout",
     "output_type": "stream",
     "text": [
      "\t Enregistrement intermédiaire effectué\n"
     ]
    },
    {
     "name": "stderr",
     "output_type": "stream",
     "text": [
      " 96% (20200 of 21011) |################ | Elapsed Time: 10:52:41 ETA:   0:39:43"
     ]
    },
    {
     "name": "stdout",
     "output_type": "stream",
     "text": [
      "\t Enregistrement intermédiaire effectué\n"
     ]
    },
    {
     "name": "stderr",
     "output_type": "stream",
     "text": [
      " 96% (20300 of 21011) |################ | Elapsed Time: 10:56:14 ETA:   0:27:00"
     ]
    },
    {
     "name": "stdout",
     "output_type": "stream",
     "text": [
      "\t Enregistrement intermédiaire effectué\n"
     ]
    },
    {
     "name": "stderr",
     "output_type": "stream",
     "text": [
      " 97% (20400 of 21011) |################ | Elapsed Time: 10:59:43 ETA:   0:23:05"
     ]
    },
    {
     "name": "stdout",
     "output_type": "stream",
     "text": [
      "\t Enregistrement intermédiaire effectué\n"
     ]
    },
    {
     "name": "stderr",
     "output_type": "stream",
     "text": [
      " 97% (20500 of 21011) |################ | Elapsed Time: 11:03:33 ETA:   0:19:35"
     ]
    },
    {
     "name": "stdout",
     "output_type": "stream",
     "text": [
      "\t Enregistrement intermédiaire effectué\n"
     ]
    },
    {
     "name": "stderr",
     "output_type": "stream",
     "text": [
      " 98% (20600 of 21011) |################ | Elapsed Time: 11:07:20 ETA:   0:11:11"
     ]
    },
    {
     "name": "stdout",
     "output_type": "stream",
     "text": [
      "\t Enregistrement intermédiaire effectué\n"
     ]
    },
    {
     "name": "stderr",
     "output_type": "stream",
     "text": [
      " 98% (20700 of 21011) |################ | Elapsed Time: 11:10:49 ETA:   0:13:01"
     ]
    },
    {
     "name": "stdout",
     "output_type": "stream",
     "text": [
      "\t Enregistrement intermédiaire effectué\n"
     ]
    },
    {
     "name": "stderr",
     "output_type": "stream",
     "text": [
      " 98% (20800 of 21011) |################ | Elapsed Time: 11:14:07 ETA:   0:05:50"
     ]
    },
    {
     "name": "stdout",
     "output_type": "stream",
     "text": [
      "\t Enregistrement intermédiaire effectué\n"
     ]
    },
    {
     "name": "stderr",
     "output_type": "stream",
     "text": [
      " 99% (20900 of 21011) |################ | Elapsed Time: 11:17:21 ETA:   0:03:24"
     ]
    },
    {
     "name": "stdout",
     "output_type": "stream",
     "text": [
      "\t Enregistrement intermédiaire effectué\n"
     ]
    },
    {
     "name": "stderr",
     "output_type": "stream",
     "text": [
      " 99% (21000 of 21011) |################ | Elapsed Time: 11:20:31 ETA:   0:00:16"
     ]
    },
    {
     "name": "stdout",
     "output_type": "stream",
     "text": [
      "\t Enregistrement intermédiaire effectué\n"
     ]
    },
    {
     "name": "stderr",
     "output_type": "stream",
     "text": [
      "100% (21011 of 21011) |#################| Elapsed Time: 11:20:57 Time: 11:20:57\n",
      "C:\\Users\\kaoua\\kickstarter.py:549: SettingWithCopyWarning: \n",
      "A value is trying to be set on a copy of a slice from a DataFrame.\n",
      "Try using .loc[row_indexer,col_indexer] = value instead\n",
      "\n",
      "See the caveats in the documentation: https://pandas.pydata.org/pandas-docs/stable/user_guide/indexing.html#returning-a-view-versus-a-copy\n",
      "  df['coup_de_coeur'] = coeur\n"
     ]
    },
    {
     "name": "stdout",
     "output_type": "stream",
     "text": [
      "Scrapping de l'année 2020\n"
     ]
    },
    {
     "name": "stderr",
     "output_type": "stream",
     "text": [
      "  0% (100 of 23829) |                    | Elapsed Time: 0:03:22 ETA:  11:04:09C:\\Users\\kaoua\\kickstarter.py:545: SettingWithCopyWarning: \n",
      "A value is trying to be set on a copy of a slice from a DataFrame.\n",
      "Try using .loc[row_indexer,col_indexer] = value instead\n",
      "\n",
      "See the caveats in the documentation: https://pandas.pydata.org/pandas-docs/stable/user_guide/indexing.html#returning-a-view-versus-a-copy\n",
      "  dfi['coup_de_coeur'] = coeur\n"
     ]
    },
    {
     "name": "stdout",
     "output_type": "stream",
     "text": [
      "\t Enregistrement intermédiaire effectué\n"
     ]
    },
    {
     "name": "stderr",
     "output_type": "stream",
     "text": [
      "  0% (200 of 23829) |                    | Elapsed Time: 0:06:46 ETA:  19:41:09"
     ]
    },
    {
     "name": "stdout",
     "output_type": "stream",
     "text": [
      "\t Enregistrement intermédiaire effectué\n"
     ]
    },
    {
     "name": "stderr",
     "output_type": "stream",
     "text": [
      "  1% (300 of 23829) |                    | Elapsed Time: 0:09:43 ETA:   7:30:33"
     ]
    },
    {
     "name": "stdout",
     "output_type": "stream",
     "text": [
      "\t Enregistrement intermédiaire effectué\n"
     ]
    },
    {
     "name": "stderr",
     "output_type": "stream",
     "text": [
      "  1% (400 of 23829) |                    | Elapsed Time: 0:12:46 ETA:  10:30:41"
     ]
    },
    {
     "name": "stdout",
     "output_type": "stream",
     "text": [
      "\t Enregistrement intermédiaire effectué\n"
     ]
    },
    {
     "name": "stderr",
     "output_type": "stream",
     "text": [
      "  2% (500 of 23829) |                    | Elapsed Time: 0:15:44 ETA:  10:16:49"
     ]
    },
    {
     "name": "stdout",
     "output_type": "stream",
     "text": [
      "\t Enregistrement intermédiaire effectué\n"
     ]
    },
    {
     "name": "stderr",
     "output_type": "stream",
     "text": [
      "  2% (600 of 23829) |              | Elapsed Time: 0:18:54 ETA:  1 day, 8:36:22"
     ]
    },
    {
     "name": "stdout",
     "output_type": "stream",
     "text": [
      "\t Enregistrement intermédiaire effectué\n"
     ]
    },
    {
     "name": "stderr",
     "output_type": "stream",
     "text": [
      "  2% (700 of 23829) |                    | Elapsed Time: 0:21:46 ETA:  12:18:54"
     ]
    },
    {
     "name": "stdout",
     "output_type": "stream",
     "text": [
      "\t Enregistrement intermédiaire effectué\n"
     ]
    },
    {
     "name": "stderr",
     "output_type": "stream",
     "text": [
      "  3% (800 of 23829) |                    | Elapsed Time: 0:24:51 ETA:   9:02:44"
     ]
    },
    {
     "name": "stdout",
     "output_type": "stream",
     "text": [
      "\t Enregistrement intermédiaire effectué\n"
     ]
    },
    {
     "name": "stderr",
     "output_type": "stream",
     "text": [
      "  3% (900 of 23829) |                    | Elapsed Time: 0:27:56 ETA:  10:20:03"
     ]
    },
    {
     "name": "stdout",
     "output_type": "stream",
     "text": [
      "\t Enregistrement intermédiaire effectué\n"
     ]
    },
    {
     "name": "stderr",
     "output_type": "stream",
     "text": [
      "  4% (1000 of 23829) |                   | Elapsed Time: 0:30:56 ETA:  13:30:15"
     ]
    },
    {
     "name": "stdout",
     "output_type": "stream",
     "text": [
      "\t Enregistrement intermédiaire effectué\n"
     ]
    },
    {
     "name": "stderr",
     "output_type": "stream",
     "text": [
      "  4% (1100 of 23829) |                   | Elapsed Time: 0:34:15 ETA:   9:25:03"
     ]
    },
    {
     "name": "stdout",
     "output_type": "stream",
     "text": [
      "\t Enregistrement intermédiaire effectué\n"
     ]
    },
    {
     "name": "stderr",
     "output_type": "stream",
     "text": [
      "  5% (1200 of 23829) |                   | Elapsed Time: 0:37:40 ETA:   9:37:56"
     ]
    },
    {
     "name": "stdout",
     "output_type": "stream",
     "text": [
      "\t Enregistrement intermédiaire effectué\n"
     ]
    },
    {
     "name": "stderr",
     "output_type": "stream",
     "text": [
      "  5% (1300 of 23829) |#                  | Elapsed Time: 0:40:54 ETA:   9:16:21"
     ]
    },
    {
     "name": "stdout",
     "output_type": "stream",
     "text": [
      "\t Enregistrement intermédiaire effectué\n"
     ]
    },
    {
     "name": "stderr",
     "output_type": "stream",
     "text": [
      "  5% (1400 of 23829) |#                  | Elapsed Time: 0:44:00 ETA:   9:22:30"
     ]
    },
    {
     "name": "stdout",
     "output_type": "stream",
     "text": [
      "\t Enregistrement intermédiaire effectué\n"
     ]
    },
    {
     "name": "stderr",
     "output_type": "stream",
     "text": [
      "  6% (1500 of 23829) |#                  | Elapsed Time: 0:47:17 ETA:  12:05:51"
     ]
    },
    {
     "name": "stdout",
     "output_type": "stream",
     "text": [
      "\t Enregistrement intermédiaire effectué\n"
     ]
    },
    {
     "name": "stderr",
     "output_type": "stream",
     "text": [
      "  6% (1600 of 23829) |#                  | Elapsed Time: 0:50:17 ETA:  11:12:26"
     ]
    },
    {
     "name": "stdout",
     "output_type": "stream",
     "text": [
      "\t Enregistrement intermédiaire effectué\n"
     ]
    },
    {
     "name": "stderr",
     "output_type": "stream",
     "text": [
      "  7% (1700 of 23829) |#                  | Elapsed Time: 0:53:35 ETA:   7:11:24"
     ]
    },
    {
     "name": "stdout",
     "output_type": "stream",
     "text": [
      "\t Enregistrement intermédiaire effectué\n"
     ]
    },
    {
     "name": "stderr",
     "output_type": "stream",
     "text": [
      "  7% (1800 of 23829) |#                  | Elapsed Time: 0:57:57 ETA:  16:13:54"
     ]
    },
    {
     "name": "stdout",
     "output_type": "stream",
     "text": [
      "\t Enregistrement intermédiaire effectué\n"
     ]
    },
    {
     "name": "stderr",
     "output_type": "stream",
     "text": [
      "  7% (1900 of 23829) |#                  | Elapsed Time: 1:01:21 ETA:   7:22:36"
     ]
    },
    {
     "name": "stdout",
     "output_type": "stream",
     "text": [
      "\t Enregistrement intermédiaire effectué\n"
     ]
    },
    {
     "name": "stderr",
     "output_type": "stream",
     "text": [
      "  8% (2000 of 23829) |#                  | Elapsed Time: 1:04:40 ETA:  13:26:24"
     ]
    },
    {
     "name": "stdout",
     "output_type": "stream",
     "text": [
      "\t Enregistrement intermédiaire effectué\n"
     ]
    },
    {
     "name": "stderr",
     "output_type": "stream",
     "text": [
      "  8% (2100 of 23829) |#                  | Elapsed Time: 1:07:53 ETA:  12:58:48"
     ]
    },
    {
     "name": "stdout",
     "output_type": "stream",
     "text": [
      "\t Enregistrement intermédiaire effectué\n"
     ]
    },
    {
     "name": "stderr",
     "output_type": "stream",
     "text": [
      "  9% (2200 of 23829) |#                  | Elapsed Time: 1:11:14 ETA:  14:34:56"
     ]
    },
    {
     "name": "stdout",
     "output_type": "stream",
     "text": [
      "\t Enregistrement intermédiaire effectué\n"
     ]
    },
    {
     "name": "stderr",
     "output_type": "stream",
     "text": [
      "  9% (2300 of 23829) |#                  | Elapsed Time: 1:14:55 ETA:  12:29:46"
     ]
    },
    {
     "name": "stdout",
     "output_type": "stream",
     "text": [
      "\t Enregistrement intermédiaire effectué\n"
     ]
    },
    {
     "name": "stderr",
     "output_type": "stream",
     "text": [
      " 10% (2400 of 23829) |#                  | Elapsed Time: 1:18:36 ETA:  10:44:12"
     ]
    },
    {
     "name": "stdout",
     "output_type": "stream",
     "text": [
      "\t Enregistrement intermédiaire effectué\n"
     ]
    },
    {
     "name": "stderr",
     "output_type": "stream",
     "text": [
      " 10% (2500 of 23829) |#                  | Elapsed Time: 1:22:43 ETA:  11:42:21"
     ]
    },
    {
     "name": "stdout",
     "output_type": "stream",
     "text": [
      "\t Enregistrement intermédiaire effectué\n"
     ]
    },
    {
     "name": "stderr",
     "output_type": "stream",
     "text": [
      " 10% (2600 of 23829) |##                 | Elapsed Time: 1:26:42 ETA:  11:57:59"
     ]
    },
    {
     "name": "stdout",
     "output_type": "stream",
     "text": [
      "\t Enregistrement intermédiaire effectué\n"
     ]
    },
    {
     "name": "stderr",
     "output_type": "stream",
     "text": [
      " 11% (2700 of 23829) |##                 | Elapsed Time: 1:30:24 ETA:  12:19:09"
     ]
    },
    {
     "name": "stdout",
     "output_type": "stream",
     "text": [
      "\t Enregistrement intermédiaire effectué\n"
     ]
    },
    {
     "name": "stderr",
     "output_type": "stream",
     "text": [
      " 11% (2800 of 23829) |##                 | Elapsed Time: 1:33:42 ETA:   7:42:57"
     ]
    },
    {
     "name": "stdout",
     "output_type": "stream",
     "text": [
      "\t Enregistrement intermédiaire effectué\n"
     ]
    },
    {
     "name": "stderr",
     "output_type": "stream",
     "text": [
      " 12% (2900 of 23829) |##                 | Elapsed Time: 1:37:01 ETA:   9:18:37"
     ]
    },
    {
     "name": "stdout",
     "output_type": "stream",
     "text": [
      "\t Enregistrement intermédiaire effectué\n"
     ]
    },
    {
     "name": "stderr",
     "output_type": "stream",
     "text": [
      " 12% (3000 of 23829) |##                 | Elapsed Time: 1:40:12 ETA:  13:19:11"
     ]
    },
    {
     "name": "stdout",
     "output_type": "stream",
     "text": [
      "\t Enregistrement intermédiaire effectué\n"
     ]
    },
    {
     "name": "stderr",
     "output_type": "stream",
     "text": [
      " 13% (3100 of 23829) |##                 | Elapsed Time: 1:43:46 ETA:  12:34:16"
     ]
    },
    {
     "name": "stdout",
     "output_type": "stream",
     "text": [
      "\t Enregistrement intermédiaire effectué\n"
     ]
    },
    {
     "name": "stderr",
     "output_type": "stream",
     "text": [
      " 13% (3200 of 23829) |##                 | Elapsed Time: 1:47:11 ETA:  14:13:55"
     ]
    },
    {
     "name": "stdout",
     "output_type": "stream",
     "text": [
      "\t Enregistrement intermédiaire effectué\n"
     ]
    },
    {
     "name": "stderr",
     "output_type": "stream",
     "text": [
      " 13% (3300 of 23829) |##                 | Elapsed Time: 1:50:37 ETA:  14:05:59"
     ]
    },
    {
     "name": "stdout",
     "output_type": "stream",
     "text": [
      "\t Enregistrement intermédiaire effectué\n"
     ]
    },
    {
     "name": "stderr",
     "output_type": "stream",
     "text": [
      " 14% (3400 of 23829) |##                 | Elapsed Time: 1:55:11 ETA:   8:40:05"
     ]
    },
    {
     "name": "stdout",
     "output_type": "stream",
     "text": [
      "\t Enregistrement intermédiaire effectué\n"
     ]
    },
    {
     "name": "stderr",
     "output_type": "stream",
     "text": [
      " 14% (3500 of 23829) |#            | Elapsed Time: 1:58:24 ETA:  1 day, 0:22:31"
     ]
    },
    {
     "name": "stdout",
     "output_type": "stream",
     "text": [
      "\t Enregistrement intermédiaire effectué\n"
     ]
    },
    {
     "name": "stderr",
     "output_type": "stream",
     "text": [
      " 15% (3600 of 23829) |##                 | Elapsed Time: 2:01:43 ETA:   7:38:14"
     ]
    },
    {
     "name": "stdout",
     "output_type": "stream",
     "text": [
      "\t Enregistrement intermédiaire effectué\n"
     ]
    },
    {
     "name": "stderr",
     "output_type": "stream",
     "text": [
      " 15% (3700 of 23829) |##                 | Elapsed Time: 2:05:01 ETA:  12:20:33"
     ]
    },
    {
     "name": "stdout",
     "output_type": "stream",
     "text": [
      "\t Enregistrement intermédiaire effectué\n"
     ]
    },
    {
     "name": "stderr",
     "output_type": "stream",
     "text": [
      " 15% (3800 of 23829) |##           | Elapsed Time: 2:08:28 ETA:  1 day, 0:10:39"
     ]
    },
    {
     "name": "stdout",
     "output_type": "stream",
     "text": [
      "\t Enregistrement intermédiaire effectué\n"
     ]
    },
    {
     "name": "stderr",
     "output_type": "stream",
     "text": [
      " 16% (3900 of 23829) |###                | Elapsed Time: 2:11:43 ETA:   8:52:10"
     ]
    },
    {
     "name": "stdout",
     "output_type": "stream",
     "text": [
      "\t Enregistrement intermédiaire effectué\n"
     ]
    },
    {
     "name": "stderr",
     "output_type": "stream",
     "text": [
      " 16% (4000 of 23829) |###                | Elapsed Time: 2:14:59 ETA:   9:41:17"
     ]
    },
    {
     "name": "stdout",
     "output_type": "stream",
     "text": [
      "\t Enregistrement intermédiaire effectué\n"
     ]
    },
    {
     "name": "stderr",
     "output_type": "stream",
     "text": [
      " 17% (4100 of 23829) |###                | Elapsed Time: 2:18:33 ETA:  10:13:55"
     ]
    },
    {
     "name": "stdout",
     "output_type": "stream",
     "text": [
      "\t Enregistrement intermédiaire effectué\n"
     ]
    },
    {
     "name": "stderr",
     "output_type": "stream",
     "text": [
      " 17% (4200 of 23829) |###                | Elapsed Time: 2:21:49 ETA:   9:38:07"
     ]
    },
    {
     "name": "stdout",
     "output_type": "stream",
     "text": [
      "\t Enregistrement intermédiaire effectué\n"
     ]
    },
    {
     "name": "stderr",
     "output_type": "stream",
     "text": [
      " 18% (4300 of 23829) |###                | Elapsed Time: 2:25:02 ETA:  15:42:05"
     ]
    },
    {
     "name": "stdout",
     "output_type": "stream",
     "text": [
      "\t Enregistrement intermédiaire effectué\n"
     ]
    },
    {
     "name": "stderr",
     "output_type": "stream",
     "text": [
      " 18% (4400 of 23829) |###                | Elapsed Time: 2:28:15 ETA:   8:59:32"
     ]
    },
    {
     "name": "stdout",
     "output_type": "stream",
     "text": [
      "\t Enregistrement intermédiaire effectué\n"
     ]
    },
    {
     "name": "stderr",
     "output_type": "stream",
     "text": [
      " 18% (4500 of 23829) |###                | Elapsed Time: 2:31:44 ETA:   8:40:29"
     ]
    },
    {
     "name": "stdout",
     "output_type": "stream",
     "text": [
      "\t Enregistrement intermédiaire effectué\n"
     ]
    },
    {
     "name": "stderr",
     "output_type": "stream",
     "text": [
      " 19% (4600 of 23829) |###                | Elapsed Time: 2:34:57 ETA:   6:29:14"
     ]
    },
    {
     "name": "stdout",
     "output_type": "stream",
     "text": [
      "\t Enregistrement intermédiaire effectué\n"
     ]
    },
    {
     "name": "stderr",
     "output_type": "stream",
     "text": [
      " 19% (4700 of 23829) |###                | Elapsed Time: 2:38:56 ETA:  10:48:36"
     ]
    },
    {
     "name": "stdout",
     "output_type": "stream",
     "text": [
      "\t Enregistrement intermédiaire effectué\n"
     ]
    },
    {
     "name": "stderr",
     "output_type": "stream",
     "text": [
      " 20% (4800 of 23829) |###                | Elapsed Time: 2:42:29 ETA:   7:57:45"
     ]
    },
    {
     "name": "stdout",
     "output_type": "stream",
     "text": [
      "\t Enregistrement intermédiaire effectué\n"
     ]
    },
    {
     "name": "stderr",
     "output_type": "stream",
     "text": [
      " 20% (4900 of 23829) |###                | Elapsed Time: 2:45:56 ETA:   9:19:05"
     ]
    },
    {
     "name": "stdout",
     "output_type": "stream",
     "text": [
      "\t Enregistrement intermédiaire effectué\n"
     ]
    },
    {
     "name": "stderr",
     "output_type": "stream",
     "text": [
      " 20% (5000 of 23829) |###                | Elapsed Time: 2:49:12 ETA:  11:58:09"
     ]
    },
    {
     "name": "stdout",
     "output_type": "stream",
     "text": [
      "\t Enregistrement intermédiaire effectué\n"
     ]
    },
    {
     "name": "stderr",
     "output_type": "stream",
     "text": [
      " 21% (5100 of 23829) |####               | Elapsed Time: 2:52:23 ETA:   8:32:16"
     ]
    },
    {
     "name": "stdout",
     "output_type": "stream",
     "text": [
      "\t Enregistrement intermédiaire effectué\n"
     ]
    },
    {
     "name": "stderr",
     "output_type": "stream",
     "text": [
      " 21% (5200 of 23829) |####               | Elapsed Time: 2:55:38 ETA:   8:15:44"
     ]
    },
    {
     "name": "stdout",
     "output_type": "stream",
     "text": [
      "\t Enregistrement intermédiaire effectué\n"
     ]
    },
    {
     "name": "stderr",
     "output_type": "stream",
     "text": [
      " 22% (5300 of 23829) |####               | Elapsed Time: 2:58:41 ETA:   9:16:11"
     ]
    },
    {
     "name": "stdout",
     "output_type": "stream",
     "text": [
      "\t Enregistrement intermédiaire effectué\n"
     ]
    },
    {
     "name": "stderr",
     "output_type": "stream",
     "text": [
      " 22% (5400 of 23829) |####               | Elapsed Time: 3:02:52 ETA:   9:26:11"
     ]
    },
    {
     "name": "stdout",
     "output_type": "stream",
     "text": [
      "\t Enregistrement intermédiaire effectué\n"
     ]
    },
    {
     "name": "stderr",
     "output_type": "stream",
     "text": [
      " 23% (5500 of 23829) |####               | Elapsed Time: 3:06:18 ETA:   7:21:46"
     ]
    },
    {
     "name": "stdout",
     "output_type": "stream",
     "text": [
      "\t Enregistrement intermédiaire effectué\n"
     ]
    },
    {
     "name": "stderr",
     "output_type": "stream",
     "text": [
      " 23% (5600 of 23829) |####               | Elapsed Time: 3:09:35 ETA:  12:19:04"
     ]
    },
    {
     "name": "stdout",
     "output_type": "stream",
     "text": [
      "\t Enregistrement intermédiaire effectué\n"
     ]
    },
    {
     "name": "stderr",
     "output_type": "stream",
     "text": [
      " 23% (5700 of 23829) |####               | Elapsed Time: 3:13:13 ETA:  15:15:33"
     ]
    },
    {
     "name": "stdout",
     "output_type": "stream",
     "text": [
      "\t Enregistrement intermédiaire effectué\n"
     ]
    },
    {
     "name": "stderr",
     "output_type": "stream",
     "text": [
      " 24% (5800 of 23829) |####               | Elapsed Time: 3:16:32 ETA:   9:32:28"
     ]
    },
    {
     "name": "stdout",
     "output_type": "stream",
     "text": [
      "\t Enregistrement intermédiaire effectué\n"
     ]
    },
    {
     "name": "stderr",
     "output_type": "stream",
     "text": [
      " 24% (5900 of 23829) |####               | Elapsed Time: 3:20:00 ETA:  15:54:28"
     ]
    },
    {
     "name": "stdout",
     "output_type": "stream",
     "text": [
      "\t Enregistrement intermédiaire effectué\n"
     ]
    },
    {
     "name": "stderr",
     "output_type": "stream",
     "text": [
      " 25% (6000 of 23829) |####               | Elapsed Time: 3:23:41 ETA:   6:59:07"
     ]
    },
    {
     "name": "stdout",
     "output_type": "stream",
     "text": [
      "\t Enregistrement intermédiaire effectué\n"
     ]
    },
    {
     "name": "stderr",
     "output_type": "stream",
     "text": [
      " 25% (6100 of 23829) |####               | Elapsed Time: 3:27:52 ETA:  13:38:51"
     ]
    },
    {
     "name": "stdout",
     "output_type": "stream",
     "text": [
      "\t Enregistrement intermédiaire effectué\n"
     ]
    },
    {
     "name": "stderr",
     "output_type": "stream",
     "text": [
      " 26% (6200 of 23829) |####               | Elapsed Time: 3:31:21 ETA:  12:08:28"
     ]
    },
    {
     "name": "stdout",
     "output_type": "stream",
     "text": [
      "\t Enregistrement intermédiaire effectué\n"
     ]
    },
    {
     "name": "stderr",
     "output_type": "stream",
     "text": [
      " 26% (6300 of 23829) |#####              | Elapsed Time: 3:34:30 ETA:   8:56:14"
     ]
    },
    {
     "name": "stdout",
     "output_type": "stream",
     "text": [
      "\t Enregistrement intermédiaire effectué\n"
     ]
    },
    {
     "name": "stderr",
     "output_type": "stream",
     "text": [
      " 26% (6400 of 23829) |#####              | Elapsed Time: 3:37:49 ETA:  11:14:18"
     ]
    },
    {
     "name": "stdout",
     "output_type": "stream",
     "text": [
      "\t Enregistrement intermédiaire effectué\n"
     ]
    },
    {
     "name": "stderr",
     "output_type": "stream",
     "text": [
      " 27% (6500 of 23829) |#####              | Elapsed Time: 3:41:01 ETA:   7:44:20"
     ]
    },
    {
     "name": "stdout",
     "output_type": "stream",
     "text": [
      "\t Enregistrement intermédiaire effectué\n"
     ]
    },
    {
     "name": "stderr",
     "output_type": "stream",
     "text": [
      " 27% (6600 of 23829) |#####              | Elapsed Time: 3:44:16 ETA:  13:38:25"
     ]
    },
    {
     "name": "stdout",
     "output_type": "stream",
     "text": [
      "\t Enregistrement intermédiaire effectué\n"
     ]
    },
    {
     "name": "stderr",
     "output_type": "stream",
     "text": [
      " 28% (6700 of 23829) |#####              | Elapsed Time: 3:47:42 ETA:  13:58:07"
     ]
    },
    {
     "name": "stdout",
     "output_type": "stream",
     "text": [
      "\t Enregistrement intermédiaire effectué\n"
     ]
    },
    {
     "name": "stderr",
     "output_type": "stream",
     "text": [
      " 28% (6800 of 23829) |#####              | Elapsed Time: 3:51:07 ETA:   7:57:47"
     ]
    },
    {
     "name": "stdout",
     "output_type": "stream",
     "text": [
      "\t Enregistrement intermédiaire effectué\n"
     ]
    },
    {
     "name": "stderr",
     "output_type": "stream",
     "text": [
      " 28% (6900 of 23829) |#####              | Elapsed Time: 3:54:27 ETA:  17:48:33"
     ]
    },
    {
     "name": "stdout",
     "output_type": "stream",
     "text": [
      "\t Enregistrement intermédiaire effectué\n"
     ]
    },
    {
     "name": "stderr",
     "output_type": "stream",
     "text": [
      " 29% (7000 of 23829) |#####              | Elapsed Time: 3:57:54 ETA:  13:20:55"
     ]
    },
    {
     "name": "stdout",
     "output_type": "stream",
     "text": [
      "\t Enregistrement intermédiaire effectué\n"
     ]
    },
    {
     "name": "stderr",
     "output_type": "stream",
     "text": [
      " 29% (7100 of 23829) |#####              | Elapsed Time: 4:01:17 ETA:   7:17:49"
     ]
    },
    {
     "name": "stdout",
     "output_type": "stream",
     "text": [
      "\t Enregistrement intermédiaire effectué\n"
     ]
    },
    {
     "name": "stderr",
     "output_type": "stream",
     "text": [
      " 30% (7200 of 23829) |#####              | Elapsed Time: 4:04:50 ETA:   8:48:13"
     ]
    },
    {
     "name": "stdout",
     "output_type": "stream",
     "text": [
      "\t Enregistrement intermédiaire effectué\n"
     ]
    },
    {
     "name": "stderr",
     "output_type": "stream",
     "text": [
      " 30% (7300 of 23829) |#####              | Elapsed Time: 4:08:06 ETA:   8:39:37"
     ]
    },
    {
     "name": "stdout",
     "output_type": "stream",
     "text": [
      "\t Enregistrement intermédiaire effectué\n"
     ]
    },
    {
     "name": "stderr",
     "output_type": "stream",
     "text": [
      " 31% (7400 of 23829) |#####              | Elapsed Time: 4:11:28 ETA:   8:33:16"
     ]
    },
    {
     "name": "stdout",
     "output_type": "stream",
     "text": [
      "\t Enregistrement intermédiaire effectué\n"
     ]
    },
    {
     "name": "stderr",
     "output_type": "stream",
     "text": [
      " 31% (7500 of 23829) |#####              | Elapsed Time: 4:14:37 ETA:   5:52:29"
     ]
    },
    {
     "name": "stdout",
     "output_type": "stream",
     "text": [
      "\t Enregistrement intermédiaire effectué\n"
     ]
    },
    {
     "name": "stderr",
     "output_type": "stream",
     "text": [
      " 31% (7600 of 23829) |######             | Elapsed Time: 4:17:53 ETA:   7:01:07"
     ]
    },
    {
     "name": "stdout",
     "output_type": "stream",
     "text": [
      "\t Enregistrement intermédiaire effectué\n"
     ]
    },
    {
     "name": "stderr",
     "output_type": "stream",
     "text": [
      " 32% (7700 of 23829) |######             | Elapsed Time: 4:21:01 ETA:   8:39:07"
     ]
    },
    {
     "name": "stdout",
     "output_type": "stream",
     "text": [
      "\t Enregistrement intermédiaire effectué\n"
     ]
    },
    {
     "name": "stderr",
     "output_type": "stream",
     "text": [
      " 32% (7800 of 23829) |######             | Elapsed Time: 4:24:28 ETA:  17:50:16"
     ]
    },
    {
     "name": "stdout",
     "output_type": "stream",
     "text": [
      "\t Enregistrement intermédiaire effectué\n"
     ]
    },
    {
     "name": "stderr",
     "output_type": "stream",
     "text": [
      " 33% (7900 of 23829) |######             | Elapsed Time: 4:27:33 ETA:  10:32:46"
     ]
    },
    {
     "name": "stdout",
     "output_type": "stream",
     "text": [
      "\t Enregistrement intermédiaire effectué\n"
     ]
    },
    {
     "name": "stderr",
     "output_type": "stream",
     "text": [
      " 33% (8000 of 23829) |######             | Elapsed Time: 4:30:41 ETA:   7:08:22"
     ]
    },
    {
     "name": "stdout",
     "output_type": "stream",
     "text": [
      "\t Enregistrement intermédiaire effectué\n"
     ]
    },
    {
     "name": "stderr",
     "output_type": "stream",
     "text": [
      " 33% (8100 of 23829) |######             | Elapsed Time: 4:33:49 ETA:   7:55:03"
     ]
    },
    {
     "name": "stdout",
     "output_type": "stream",
     "text": [
      "\t Enregistrement intermédiaire effectué\n"
     ]
    },
    {
     "name": "stderr",
     "output_type": "stream",
     "text": [
      " 34% (8200 of 23829) |######             | Elapsed Time: 4:36:56 ETA:   8:41:24"
     ]
    },
    {
     "name": "stdout",
     "output_type": "stream",
     "text": [
      "\t Enregistrement intermédiaire effectué\n"
     ]
    },
    {
     "name": "stderr",
     "output_type": "stream",
     "text": [
      " 34% (8300 of 23829) |######             | Elapsed Time: 4:40:03 ETA:  10:02:09"
     ]
    },
    {
     "name": "stdout",
     "output_type": "stream",
     "text": [
      "\t Enregistrement intermédiaire effectué\n"
     ]
    },
    {
     "name": "stderr",
     "output_type": "stream",
     "text": [
      " 35% (8400 of 23829) |######             | Elapsed Time: 4:43:16 ETA:   5:15:22"
     ]
    },
    {
     "name": "stdout",
     "output_type": "stream",
     "text": [
      "\t Enregistrement intermédiaire effectué\n"
     ]
    },
    {
     "name": "stderr",
     "output_type": "stream",
     "text": [
      " 35% (8500 of 23829) |######             | Elapsed Time: 4:46:27 ETA:   7:06:02"
     ]
    },
    {
     "name": "stdout",
     "output_type": "stream",
     "text": [
      "\t Enregistrement intermédiaire effectué\n"
     ]
    },
    {
     "name": "stderr",
     "output_type": "stream",
     "text": [
      " 36% (8600 of 23829) |######             | Elapsed Time: 4:49:33 ETA:   8:33:13"
     ]
    },
    {
     "name": "stdout",
     "output_type": "stream",
     "text": [
      "\t Enregistrement intermédiaire effectué\n"
     ]
    },
    {
     "name": "stderr",
     "output_type": "stream",
     "text": [
      " 36% (8700 of 23829) |######             | Elapsed Time: 4:52:34 ETA:   5:53:29"
     ]
    },
    {
     "name": "stdout",
     "output_type": "stream",
     "text": [
      "\t Enregistrement intermédiaire effectué\n"
     ]
    },
    {
     "name": "stderr",
     "output_type": "stream",
     "text": [
      " 36% (8800 of 23829) |#######            | Elapsed Time: 4:55:46 ETA:  10:10:05"
     ]
    },
    {
     "name": "stdout",
     "output_type": "stream",
     "text": [
      "\t Enregistrement intermédiaire effectué\n"
     ]
    },
    {
     "name": "stderr",
     "output_type": "stream",
     "text": [
      " 37% (8900 of 23829) |#######            | Elapsed Time: 4:59:08 ETA:   9:17:44"
     ]
    },
    {
     "name": "stdout",
     "output_type": "stream",
     "text": [
      "\t Enregistrement intermédiaire effectué\n"
     ]
    },
    {
     "name": "stderr",
     "output_type": "stream",
     "text": [
      " 37% (9000 of 23829) |#######            | Elapsed Time: 5:02:09 ETA:   8:52:59"
     ]
    },
    {
     "name": "stdout",
     "output_type": "stream",
     "text": [
      "\t Enregistrement intermédiaire effectué\n"
     ]
    },
    {
     "name": "stderr",
     "output_type": "stream",
     "text": [
      " 38% (9100 of 23829) |#######            | Elapsed Time: 5:05:13 ETA:   8:07:19"
     ]
    },
    {
     "name": "stdout",
     "output_type": "stream",
     "text": [
      "\t Enregistrement intermédiaire effectué\n"
     ]
    },
    {
     "name": "stderr",
     "output_type": "stream",
     "text": [
      " 38% (9200 of 23829) |#######            | Elapsed Time: 5:08:10 ETA:  11:54:53"
     ]
    },
    {
     "name": "stdout",
     "output_type": "stream",
     "text": [
      "\t Enregistrement intermédiaire effectué\n"
     ]
    },
    {
     "name": "stderr",
     "output_type": "stream",
     "text": [
      " 39% (9300 of 23829) |#######            | Elapsed Time: 5:11:16 ETA:   5:43:17"
     ]
    },
    {
     "name": "stdout",
     "output_type": "stream",
     "text": [
      "\t Enregistrement intermédiaire effectué\n"
     ]
    },
    {
     "name": "stderr",
     "output_type": "stream",
     "text": [
      " 39% (9400 of 23829) |#######            | Elapsed Time: 5:14:33 ETA:  10:07:07"
     ]
    },
    {
     "name": "stdout",
     "output_type": "stream",
     "text": [
      "\t Enregistrement intermédiaire effectué\n"
     ]
    },
    {
     "name": "stderr",
     "output_type": "stream",
     "text": [
      " 39% (9500 of 23829) |#######            | Elapsed Time: 5:17:51 ETA:  12:09:32"
     ]
    },
    {
     "name": "stdout",
     "output_type": "stream",
     "text": [
      "\t Enregistrement intermédiaire effectué\n"
     ]
    },
    {
     "name": "stderr",
     "output_type": "stream",
     "text": [
      " 40% (9600 of 23829) |#######            | Elapsed Time: 5:20:47 ETA:  10:26:34"
     ]
    },
    {
     "name": "stdout",
     "output_type": "stream",
     "text": [
      "\t Enregistrement intermédiaire effectué\n"
     ]
    },
    {
     "name": "stderr",
     "output_type": "stream",
     "text": [
      " 40% (9700 of 23829) |#######            | Elapsed Time: 5:23:49 ETA:  10:58:43"
     ]
    },
    {
     "name": "stdout",
     "output_type": "stream",
     "text": [
      "\t Enregistrement intermédiaire effectué\n"
     ]
    },
    {
     "name": "stderr",
     "output_type": "stream",
     "text": [
      " 41% (9800 of 23829) |#######            | Elapsed Time: 5:27:04 ETA:   7:48:20"
     ]
    },
    {
     "name": "stdout",
     "output_type": "stream",
     "text": [
      "\t Enregistrement intermédiaire effectué\n"
     ]
    },
    {
     "name": "stderr",
     "output_type": "stream",
     "text": [
      " 41% (9900 of 23829) |#######            | Elapsed Time: 5:30:02 ETA:   5:02:36"
     ]
    },
    {
     "name": "stdout",
     "output_type": "stream",
     "text": [
      "\t Enregistrement intermédiaire effectué\n"
     ]
    },
    {
     "name": "stderr",
     "output_type": "stream",
     "text": [
      " 41% (10000 of 23829) |#######           | Elapsed Time: 5:33:13 ETA:   8:33:07"
     ]
    },
    {
     "name": "stdout",
     "output_type": "stream",
     "text": [
      "\t Enregistrement intermédiaire effectué\n"
     ]
    },
    {
     "name": "stderr",
     "output_type": "stream",
     "text": [
      " 42% (10100 of 23829) |#######           | Elapsed Time: 5:36:26 ETA:   9:48:49"
     ]
    },
    {
     "name": "stdout",
     "output_type": "stream",
     "text": [
      "\t Enregistrement intermédiaire effectué\n"
     ]
    },
    {
     "name": "stderr",
     "output_type": "stream",
     "text": [
      " 42% (10200 of 23829) |#######           | Elapsed Time: 5:39:14 ETA:   6:04:57"
     ]
    },
    {
     "name": "stdout",
     "output_type": "stream",
     "text": [
      "\t Enregistrement intermédiaire effectué\n"
     ]
    },
    {
     "name": "stderr",
     "output_type": "stream",
     "text": [
      " 43% (10300 of 23829) |#######           | Elapsed Time: 5:42:13 ETA:   6:49:59"
     ]
    },
    {
     "name": "stdout",
     "output_type": "stream",
     "text": [
      "\t Enregistrement intermédiaire effectué\n"
     ]
    },
    {
     "name": "stderr",
     "output_type": "stream",
     "text": [
      " 43% (10400 of 23829) |#######           | Elapsed Time: 5:45:16 ETA:   5:44:48"
     ]
    },
    {
     "name": "stdout",
     "output_type": "stream",
     "text": [
      "\t Enregistrement intermédiaire effectué\n"
     ]
    },
    {
     "name": "stderr",
     "output_type": "stream",
     "text": [
      " 44% (10500 of 23829) |#######           | Elapsed Time: 5:48:27 ETA:  10:03:40"
     ]
    },
    {
     "name": "stdout",
     "output_type": "stream",
     "text": [
      "\t Enregistrement intermédiaire effectué\n"
     ]
    },
    {
     "name": "stderr",
     "output_type": "stream",
     "text": [
      " 44% (10600 of 23829) |########          | Elapsed Time: 5:51:43 ETA:  12:24:13"
     ]
    },
    {
     "name": "stdout",
     "output_type": "stream",
     "text": [
      "\t Enregistrement intermédiaire effectué\n"
     ]
    },
    {
     "name": "stderr",
     "output_type": "stream",
     "text": [
      " 44% (10700 of 23829) |########          | Elapsed Time: 5:54:42 ETA:   5:37:44"
     ]
    },
    {
     "name": "stdout",
     "output_type": "stream",
     "text": [
      "\t Enregistrement intermédiaire effectué\n"
     ]
    },
    {
     "name": "stderr",
     "output_type": "stream",
     "text": [
      " 45% (10800 of 23829) |########          | Elapsed Time: 5:57:44 ETA:   5:07:15"
     ]
    },
    {
     "name": "stdout",
     "output_type": "stream",
     "text": [
      "\t Enregistrement intermédiaire effectué\n"
     ]
    },
    {
     "name": "stderr",
     "output_type": "stream",
     "text": [
      " 45% (10900 of 23829) |########          | Elapsed Time: 6:00:57 ETA:   7:36:52"
     ]
    },
    {
     "name": "stdout",
     "output_type": "stream",
     "text": [
      "\t Enregistrement intermédiaire effectué\n"
     ]
    },
    {
     "name": "stderr",
     "output_type": "stream",
     "text": [
      " 46% (11000 of 23829) |########          | Elapsed Time: 6:04:06 ETA:   5:38:31"
     ]
    },
    {
     "name": "stdout",
     "output_type": "stream",
     "text": [
      "\t Enregistrement intermédiaire effectué\n"
     ]
    },
    {
     "name": "stderr",
     "output_type": "stream",
     "text": [
      " 46% (11100 of 23829) |########          | Elapsed Time: 6:07:05 ETA:   5:34:12"
     ]
    },
    {
     "name": "stdout",
     "output_type": "stream",
     "text": [
      "\t Enregistrement intermédiaire effectué\n"
     ]
    },
    {
     "name": "stderr",
     "output_type": "stream",
     "text": [
      " 47% (11200 of 23829) |########          | Elapsed Time: 6:10:00 ETA:   5:37:08"
     ]
    },
    {
     "name": "stdout",
     "output_type": "stream",
     "text": [
      "\t Enregistrement intermédiaire effectué\n"
     ]
    },
    {
     "name": "stderr",
     "output_type": "stream",
     "text": [
      " 47% (11300 of 23829) |########          | Elapsed Time: 6:12:54 ETA:   5:05:05"
     ]
    },
    {
     "name": "stdout",
     "output_type": "stream",
     "text": [
      "\t Enregistrement intermédiaire effectué\n"
     ]
    },
    {
     "name": "stderr",
     "output_type": "stream",
     "text": [
      " 47% (11400 of 23829) |########          | Elapsed Time: 6:15:52 ETA:   5:28:34"
     ]
    },
    {
     "name": "stdout",
     "output_type": "stream",
     "text": [
      "\t Enregistrement intermédiaire effectué\n"
     ]
    },
    {
     "name": "stderr",
     "output_type": "stream",
     "text": [
      " 48% (11500 of 23829) |########          | Elapsed Time: 6:19:11 ETA:   6:09:48"
     ]
    },
    {
     "name": "stdout",
     "output_type": "stream",
     "text": [
      "\t Enregistrement intermédiaire effectué\n"
     ]
    },
    {
     "name": "stderr",
     "output_type": "stream",
     "text": [
      " 48% (11600 of 23829) |########          | Elapsed Time: 6:22:14 ETA:   6:18:34"
     ]
    },
    {
     "name": "stdout",
     "output_type": "stream",
     "text": [
      "\t Enregistrement intermédiaire effectué\n"
     ]
    },
    {
     "name": "stderr",
     "output_type": "stream",
     "text": [
      " 49% (11700 of 23829) |########          | Elapsed Time: 6:25:18 ETA:   4:41:45"
     ]
    },
    {
     "name": "stdout",
     "output_type": "stream",
     "text": [
      "\t Enregistrement intermédiaire effectué\n"
     ]
    },
    {
     "name": "stderr",
     "output_type": "stream",
     "text": [
      " 49% (11800 of 23829) |########          | Elapsed Time: 6:28:32 ETA:  12:39:05"
     ]
    },
    {
     "name": "stdout",
     "output_type": "stream",
     "text": [
      "\t Enregistrement intermédiaire effectué\n"
     ]
    },
    {
     "name": "stderr",
     "output_type": "stream",
     "text": [
      " 49% (11900 of 23829) |########          | Elapsed Time: 6:31:44 ETA:   9:32:31"
     ]
    },
    {
     "name": "stdout",
     "output_type": "stream",
     "text": [
      "\t Enregistrement intermédiaire effectué\n"
     ]
    },
    {
     "name": "stderr",
     "output_type": "stream",
     "text": [
      " 50% (12000 of 23829) |#########         | Elapsed Time: 6:34:45 ETA:   5:21:15"
     ]
    },
    {
     "name": "stdout",
     "output_type": "stream",
     "text": [
      "\t Enregistrement intermédiaire effectué\n"
     ]
    },
    {
     "name": "stderr",
     "output_type": "stream",
     "text": [
      " 50% (12100 of 23829) |#########         | Elapsed Time: 6:38:04 ETA:   6:52:07"
     ]
    },
    {
     "name": "stdout",
     "output_type": "stream",
     "text": [
      "\t Enregistrement intermédiaire effectué\n"
     ]
    },
    {
     "name": "stderr",
     "output_type": "stream",
     "text": [
      " 51% (12200 of 23829) |#########         | Elapsed Time: 6:41:14 ETA:   7:53:53"
     ]
    },
    {
     "name": "stdout",
     "output_type": "stream",
     "text": [
      "\t Enregistrement intermédiaire effectué\n"
     ]
    },
    {
     "name": "stderr",
     "output_type": "stream",
     "text": [
      " 51% (12300 of 23829) |#########         | Elapsed Time: 6:44:29 ETA:   4:51:30"
     ]
    },
    {
     "name": "stdout",
     "output_type": "stream",
     "text": [
      "\t Enregistrement intermédiaire effectué\n"
     ]
    },
    {
     "name": "stderr",
     "output_type": "stream",
     "text": [
      " 52% (12400 of 23829) |#########         | Elapsed Time: 6:47:33 ETA:   4:25:28"
     ]
    },
    {
     "name": "stdout",
     "output_type": "stream",
     "text": [
      "\t Enregistrement intermédiaire effectué\n"
     ]
    },
    {
     "name": "stderr",
     "output_type": "stream",
     "text": [
      " 52% (12500 of 23829) |#########         | Elapsed Time: 6:50:33 ETA:   4:29:41"
     ]
    },
    {
     "name": "stdout",
     "output_type": "stream",
     "text": [
      "\t Enregistrement intermédiaire effectué\n"
     ]
    },
    {
     "name": "stderr",
     "output_type": "stream",
     "text": [
      " 52% (12600 of 23829) |#########         | Elapsed Time: 6:53:46 ETA:   4:46:22"
     ]
    },
    {
     "name": "stdout",
     "output_type": "stream",
     "text": [
      "\t Enregistrement intermédiaire effectué\n"
     ]
    },
    {
     "name": "stderr",
     "output_type": "stream",
     "text": [
      " 53% (12700 of 23829) |#########         | Elapsed Time: 6:56:52 ETA:   7:08:38"
     ]
    },
    {
     "name": "stdout",
     "output_type": "stream",
     "text": [
      "\t Enregistrement intermédiaire effectué\n"
     ]
    },
    {
     "name": "stderr",
     "output_type": "stream",
     "text": [
      " 53% (12800 of 23829) |#########         | Elapsed Time: 7:00:13 ETA:   5:19:49"
     ]
    },
    {
     "name": "stdout",
     "output_type": "stream",
     "text": [
      "\t Enregistrement intermédiaire effectué\n"
     ]
    },
    {
     "name": "stderr",
     "output_type": "stream",
     "text": [
      " 54% (12900 of 23829) |#########         | Elapsed Time: 7:03:20 ETA:   4:37:05"
     ]
    },
    {
     "name": "stdout",
     "output_type": "stream",
     "text": [
      "\t Enregistrement intermédiaire effectué\n"
     ]
    },
    {
     "name": "stderr",
     "output_type": "stream",
     "text": [
      " 54% (13000 of 23829) |#########         | Elapsed Time: 7:06:29 ETA:   3:52:08"
     ]
    },
    {
     "name": "stdout",
     "output_type": "stream",
     "text": [
      "\t Enregistrement intermédiaire effectué\n"
     ]
    },
    {
     "name": "stderr",
     "output_type": "stream",
     "text": [
      " 54% (13100 of 23829) |#########         | Elapsed Time: 7:09:37 ETA:   7:01:22"
     ]
    },
    {
     "name": "stdout",
     "output_type": "stream",
     "text": [
      "\t Enregistrement intermédiaire effectué\n"
     ]
    },
    {
     "name": "stderr",
     "output_type": "stream",
     "text": [
      " 55% (13200 of 23829) |#########         | Elapsed Time: 7:12:40 ETA:   7:02:29"
     ]
    },
    {
     "name": "stdout",
     "output_type": "stream",
     "text": [
      "\t Enregistrement intermédiaire effectué\n"
     ]
    },
    {
     "name": "stderr",
     "output_type": "stream",
     "text": [
      " 55% (13300 of 23829) |##########        | Elapsed Time: 7:15:51 ETA:   7:40:29"
     ]
    },
    {
     "name": "stdout",
     "output_type": "stream",
     "text": [
      "\t Enregistrement intermédiaire effectué\n"
     ]
    },
    {
     "name": "stderr",
     "output_type": "stream",
     "text": [
      " 56% (13400 of 23829) |##########        | Elapsed Time: 7:18:52 ETA:   4:31:29"
     ]
    },
    {
     "name": "stdout",
     "output_type": "stream",
     "text": [
      "\t Enregistrement intermédiaire effectué\n"
     ]
    },
    {
     "name": "stderr",
     "output_type": "stream",
     "text": [
      " 56% (13500 of 23829) |##########        | Elapsed Time: 7:21:51 ETA:   6:07:48"
     ]
    },
    {
     "name": "stdout",
     "output_type": "stream",
     "text": [
      "\t Enregistrement intermédiaire effectué\n"
     ]
    },
    {
     "name": "stderr",
     "output_type": "stream",
     "text": [
      " 57% (13600 of 23829) |##########        | Elapsed Time: 7:24:46 ETA:   6:58:16"
     ]
    },
    {
     "name": "stdout",
     "output_type": "stream",
     "text": [
      "\t Enregistrement intermédiaire effectué\n"
     ]
    },
    {
     "name": "stderr",
     "output_type": "stream",
     "text": [
      " 57% (13700 of 23829) |##########        | Elapsed Time: 7:27:53 ETA:   7:06:06"
     ]
    },
    {
     "name": "stdout",
     "output_type": "stream",
     "text": [
      "\t Enregistrement intermédiaire effectué\n"
     ]
    },
    {
     "name": "stderr",
     "output_type": "stream",
     "text": [
      " 57% (13800 of 23829) |##########        | Elapsed Time: 7:30:56 ETA:   6:10:46"
     ]
    },
    {
     "name": "stdout",
     "output_type": "stream",
     "text": [
      "\t Enregistrement intermédiaire effectué\n"
     ]
    },
    {
     "name": "stderr",
     "output_type": "stream",
     "text": [
      " 58% (13900 of 23829) |##########        | Elapsed Time: 7:34:03 ETA:   3:50:04"
     ]
    },
    {
     "name": "stdout",
     "output_type": "stream",
     "text": [
      "\t Enregistrement intermédiaire effectué\n"
     ]
    },
    {
     "name": "stderr",
     "output_type": "stream",
     "text": [
      " 58% (14000 of 23829) |##########        | Elapsed Time: 7:37:14 ETA:   6:18:37"
     ]
    },
    {
     "name": "stdout",
     "output_type": "stream",
     "text": [
      "\t Enregistrement intermédiaire effectué\n"
     ]
    },
    {
     "name": "stderr",
     "output_type": "stream",
     "text": [
      " 59% (14100 of 23829) |##########        | Elapsed Time: 7:40:27 ETA:   4:21:37"
     ]
    },
    {
     "name": "stdout",
     "output_type": "stream",
     "text": [
      "\t Enregistrement intermédiaire effectué\n"
     ]
    },
    {
     "name": "stderr",
     "output_type": "stream",
     "text": [
      " 59% (14200 of 23829) |##########        | Elapsed Time: 7:43:32 ETA:   7:02:21"
     ]
    },
    {
     "name": "stdout",
     "output_type": "stream",
     "text": [
      "\t Enregistrement intermédiaire effectué\n"
     ]
    },
    {
     "name": "stderr",
     "output_type": "stream",
     "text": [
      " 60% (14300 of 23829) |##########        | Elapsed Time: 7:46:30 ETA:   3:37:42"
     ]
    },
    {
     "name": "stdout",
     "output_type": "stream",
     "text": [
      "\t Enregistrement intermédiaire effectué\n"
     ]
    },
    {
     "name": "stderr",
     "output_type": "stream",
     "text": [
      " 60% (14400 of 23829) |##########        | Elapsed Time: 7:49:42 ETA:   7:08:31"
     ]
    },
    {
     "name": "stdout",
     "output_type": "stream",
     "text": [
      "\t Enregistrement intermédiaire effectué\n"
     ]
    },
    {
     "name": "stderr",
     "output_type": "stream",
     "text": [
      " 60% (14500 of 23829) |##########        | Elapsed Time: 7:52:56 ETA:   5:25:52"
     ]
    },
    {
     "name": "stdout",
     "output_type": "stream",
     "text": [
      "\t Enregistrement intermédiaire effectué\n"
     ]
    },
    {
     "name": "stderr",
     "output_type": "stream",
     "text": [
      " 61% (14600 of 23829) |###########       | Elapsed Time: 7:56:05 ETA:   4:59:45"
     ]
    },
    {
     "name": "stdout",
     "output_type": "stream",
     "text": [
      "\t Enregistrement intermédiaire effectué\n"
     ]
    },
    {
     "name": "stderr",
     "output_type": "stream",
     "text": [
      " 61% (14700 of 23829) |###########       | Elapsed Time: 7:59:23 ETA:   6:19:29"
     ]
    },
    {
     "name": "stdout",
     "output_type": "stream",
     "text": [
      "\t Enregistrement intermédiaire effectué\n"
     ]
    },
    {
     "name": "stderr",
     "output_type": "stream",
     "text": [
      " 62% (14800 of 23829) |###########       | Elapsed Time: 8:02:23 ETA:  11:54:35"
     ]
    },
    {
     "name": "stdout",
     "output_type": "stream",
     "text": [
      "\t Enregistrement intermédiaire effectué\n"
     ]
    },
    {
     "name": "stderr",
     "output_type": "stream",
     "text": [
      " 62% (14900 of 23829) |###########       | Elapsed Time: 8:05:27 ETA:   6:37:42"
     ]
    },
    {
     "name": "stdout",
     "output_type": "stream",
     "text": [
      "\t Enregistrement intermédiaire effectué\n"
     ]
    },
    {
     "name": "stderr",
     "output_type": "stream",
     "text": [
      " 62% (15000 of 23829) |###########       | Elapsed Time: 8:08:42 ETA:   7:34:01"
     ]
    },
    {
     "name": "stdout",
     "output_type": "stream",
     "text": [
      "\t Enregistrement intermédiaire effectué\n"
     ]
    },
    {
     "name": "stderr",
     "output_type": "stream",
     "text": [
      " 63% (15100 of 23829) |###########       | Elapsed Time: 8:12:00 ETA:   9:51:58"
     ]
    },
    {
     "name": "stdout",
     "output_type": "stream",
     "text": [
      "\t Enregistrement intermédiaire effectué\n"
     ]
    },
    {
     "name": "stderr",
     "output_type": "stream",
     "text": [
      " 63% (15200 of 23829) |###########       | Elapsed Time: 8:15:05 ETA:   3:58:54"
     ]
    },
    {
     "name": "stdout",
     "output_type": "stream",
     "text": [
      "\t Enregistrement intermédiaire effectué\n"
     ]
    },
    {
     "name": "stderr",
     "output_type": "stream",
     "text": [
      " 64% (15300 of 23829) |###########       | Elapsed Time: 8:18:04 ETA:   5:23:03"
     ]
    },
    {
     "name": "stdout",
     "output_type": "stream",
     "text": [
      "\t Enregistrement intermédiaire effectué\n"
     ]
    },
    {
     "name": "stderr",
     "output_type": "stream",
     "text": [
      " 64% (15400 of 23829) |###########       | Elapsed Time: 8:21:09 ETA:   5:29:45"
     ]
    },
    {
     "name": "stdout",
     "output_type": "stream",
     "text": [
      "\t Enregistrement intermédiaire effectué\n"
     ]
    },
    {
     "name": "stderr",
     "output_type": "stream",
     "text": [
      " 65% (15500 of 23829) |###########       | Elapsed Time: 8:24:11 ETA:   4:54:21"
     ]
    },
    {
     "name": "stdout",
     "output_type": "stream",
     "text": [
      "\t Enregistrement intermédiaire effectué\n"
     ]
    },
    {
     "name": "stderr",
     "output_type": "stream",
     "text": [
      " 65% (15600 of 23829) |###########       | Elapsed Time: 8:27:13 ETA:   7:10:28"
     ]
    },
    {
     "name": "stdout",
     "output_type": "stream",
     "text": [
      "\t Enregistrement intermédiaire effectué\n"
     ]
    },
    {
     "name": "stderr",
     "output_type": "stream",
     "text": [
      " 65% (15700 of 23829) |###########       | Elapsed Time: 8:30:14 ETA:   4:00:04"
     ]
    },
    {
     "name": "stdout",
     "output_type": "stream",
     "text": [
      "\t Enregistrement intermédiaire effectué\n"
     ]
    },
    {
     "name": "stderr",
     "output_type": "stream",
     "text": [
      " 66% (15800 of 23829) |###########       | Elapsed Time: 8:33:09 ETA:   3:18:12"
     ]
    },
    {
     "name": "stdout",
     "output_type": "stream",
     "text": [
      "\t Enregistrement intermédiaire effectué\n"
     ]
    },
    {
     "name": "stderr",
     "output_type": "stream",
     "text": [
      " 66% (15900 of 23829) |############      | Elapsed Time: 8:36:00 ETA:   2:59:52"
     ]
    },
    {
     "name": "stdout",
     "output_type": "stream",
     "text": [
      "\t Enregistrement intermédiaire effectué\n"
     ]
    },
    {
     "name": "stderr",
     "output_type": "stream",
     "text": [
      " 67% (16000 of 23829) |############      | Elapsed Time: 8:39:03 ETA:   4:00:24"
     ]
    },
    {
     "name": "stdout",
     "output_type": "stream",
     "text": [
      "\t Enregistrement intermédiaire effectué\n"
     ]
    },
    {
     "name": "stderr",
     "output_type": "stream",
     "text": [
      " 67% (16100 of 23829) |############      | Elapsed Time: 8:42:16 ETA:   3:18:35"
     ]
    },
    {
     "name": "stdout",
     "output_type": "stream",
     "text": [
      "\t Enregistrement intermédiaire effectué\n"
     ]
    },
    {
     "name": "stderr",
     "output_type": "stream",
     "text": [
      " 67% (16200 of 23829) |############      | Elapsed Time: 8:45:19 ETA:   3:12:01"
     ]
    },
    {
     "name": "stdout",
     "output_type": "stream",
     "text": [
      "\t Enregistrement intermédiaire effectué\n"
     ]
    },
    {
     "name": "stderr",
     "output_type": "stream",
     "text": [
      " 68% (16300 of 23829) |############      | Elapsed Time: 8:47:59 ETA:   2:59:05"
     ]
    },
    {
     "name": "stdout",
     "output_type": "stream",
     "text": [
      "\t Enregistrement intermédiaire effectué\n"
     ]
    },
    {
     "name": "stderr",
     "output_type": "stream",
     "text": [
      " 68% (16400 of 23829) |############      | Elapsed Time: 8:50:35 ETA:   3:37:48"
     ]
    },
    {
     "name": "stdout",
     "output_type": "stream",
     "text": [
      "\t Enregistrement intermédiaire effectué\n"
     ]
    },
    {
     "name": "stderr",
     "output_type": "stream",
     "text": [
      " 69% (16500 of 23829) |############      | Elapsed Time: 8:53:13 ETA:   3:20:24"
     ]
    },
    {
     "name": "stdout",
     "output_type": "stream",
     "text": [
      "\t Enregistrement intermédiaire effectué\n"
     ]
    },
    {
     "name": "stderr",
     "output_type": "stream",
     "text": [
      " 69% (16600 of 23829) |############      | Elapsed Time: 8:55:53 ETA:   3:03:51"
     ]
    },
    {
     "name": "stdout",
     "output_type": "stream",
     "text": [
      "\t Enregistrement intermédiaire effectué\n"
     ]
    },
    {
     "name": "stderr",
     "output_type": "stream",
     "text": [
      " 70% (16700 of 23829) |############      | Elapsed Time: 8:58:29 ETA:   3:47:08"
     ]
    },
    {
     "name": "stdout",
     "output_type": "stream",
     "text": [
      "\t Enregistrement intermédiaire effectué\n"
     ]
    },
    {
     "name": "stderr",
     "output_type": "stream",
     "text": [
      " 70% (16800 of 23829) |############      | Elapsed Time: 9:00:57 ETA:   2:23:16"
     ]
    },
    {
     "name": "stdout",
     "output_type": "stream",
     "text": [
      "\t Enregistrement intermédiaire effectué\n"
     ]
    },
    {
     "name": "stderr",
     "output_type": "stream",
     "text": [
      " 70% (16900 of 23829) |############      | Elapsed Time: 9:03:35 ETA:   3:05:43"
     ]
    },
    {
     "name": "stdout",
     "output_type": "stream",
     "text": [
      "\t Enregistrement intermédiaire effectué\n"
     ]
    },
    {
     "name": "stderr",
     "output_type": "stream",
     "text": [
      " 71% (17000 of 23829) |############      | Elapsed Time: 9:06:09 ETA:   3:00:55"
     ]
    },
    {
     "name": "stdout",
     "output_type": "stream",
     "text": [
      "\t Enregistrement intermédiaire effectué\n"
     ]
    },
    {
     "name": "stderr",
     "output_type": "stream",
     "text": [
      " 71% (17100 of 23829) |############      | Elapsed Time: 9:08:47 ETA:   2:40:24"
     ]
    },
    {
     "name": "stdout",
     "output_type": "stream",
     "text": [
      "\t Enregistrement intermédiaire effectué\n"
     ]
    },
    {
     "name": "stderr",
     "output_type": "stream",
     "text": [
      " 72% (17200 of 23829) |############      | Elapsed Time: 9:11:29 ETA:   2:13:24"
     ]
    },
    {
     "name": "stdout",
     "output_type": "stream",
     "text": [
      "\t Enregistrement intermédiaire effectué\n"
     ]
    },
    {
     "name": "stderr",
     "output_type": "stream",
     "text": [
      " 72% (17300 of 23829) |#############     | Elapsed Time: 9:14:11 ETA:   3:02:01"
     ]
    },
    {
     "name": "stdout",
     "output_type": "stream",
     "text": [
      "\t Enregistrement intermédiaire effectué\n"
     ]
    },
    {
     "name": "stderr",
     "output_type": "stream",
     "text": [
      " 73% (17400 of 23829) |#############     | Elapsed Time: 9:16:48 ETA:   2:55:08"
     ]
    },
    {
     "name": "stdout",
     "output_type": "stream",
     "text": [
      "\t Enregistrement intermédiaire effectué\n"
     ]
    },
    {
     "name": "stderr",
     "output_type": "stream",
     "text": [
      " 73% (17500 of 23829) |#############     | Elapsed Time: 9:19:38 ETA:   3:17:43"
     ]
    },
    {
     "name": "stdout",
     "output_type": "stream",
     "text": [
      "\t Enregistrement intermédiaire effectué\n"
     ]
    },
    {
     "name": "stderr",
     "output_type": "stream",
     "text": [
      " 73% (17600 of 23829) |#############     | Elapsed Time: 9:22:26 ETA:   3:16:17"
     ]
    },
    {
     "name": "stdout",
     "output_type": "stream",
     "text": [
      "\t Enregistrement intermédiaire effectué\n"
     ]
    },
    {
     "name": "stderr",
     "output_type": "stream",
     "text": [
      " 74% (17700 of 23829) |#############     | Elapsed Time: 9:24:55 ETA:   2:23:13"
     ]
    },
    {
     "name": "stdout",
     "output_type": "stream",
     "text": [
      "\t Enregistrement intermédiaire effectué\n"
     ]
    },
    {
     "name": "stderr",
     "output_type": "stream",
     "text": [
      " 74% (17800 of 23829) |#############     | Elapsed Time: 9:27:32 ETA:   2:35:03"
     ]
    },
    {
     "name": "stdout",
     "output_type": "stream",
     "text": [
      "\t Enregistrement intermédiaire effectué\n"
     ]
    },
    {
     "name": "stderr",
     "output_type": "stream",
     "text": [
      " 75% (17900 of 23829) |#############     | Elapsed Time: 9:30:03 ETA:   2:20:19"
     ]
    },
    {
     "name": "stdout",
     "output_type": "stream",
     "text": [
      "\t Enregistrement intermédiaire effectué\n"
     ]
    },
    {
     "name": "stderr",
     "output_type": "stream",
     "text": [
      " 75% (18000 of 23829) |#############     | Elapsed Time: 9:32:39 ETA:   4:24:54"
     ]
    },
    {
     "name": "stdout",
     "output_type": "stream",
     "text": [
      "\t Enregistrement intermédiaire effectué\n"
     ]
    },
    {
     "name": "stderr",
     "output_type": "stream",
     "text": [
      " 75% (18100 of 23829) |#############     | Elapsed Time: 9:35:12 ETA:   2:09:45"
     ]
    },
    {
     "name": "stdout",
     "output_type": "stream",
     "text": [
      "\t Enregistrement intermédiaire effectué\n"
     ]
    },
    {
     "name": "stderr",
     "output_type": "stream",
     "text": [
      " 76% (18200 of 23829) |#############     | Elapsed Time: 9:37:49 ETA:   2:29:58"
     ]
    },
    {
     "name": "stdout",
     "output_type": "stream",
     "text": [
      "\t Enregistrement intermédiaire effectué\n"
     ]
    },
    {
     "name": "stderr",
     "output_type": "stream",
     "text": [
      " 76% (18300 of 23829) |#############     | Elapsed Time: 9:40:25 ETA:   2:26:52"
     ]
    },
    {
     "name": "stdout",
     "output_type": "stream",
     "text": [
      "\t Enregistrement intermédiaire effectué\n"
     ]
    },
    {
     "name": "stderr",
     "output_type": "stream",
     "text": [
      " 77% (18400 of 23829) |#############     | Elapsed Time: 9:42:59 ETA:   3:00:27"
     ]
    },
    {
     "name": "stdout",
     "output_type": "stream",
     "text": [
      "\t Enregistrement intermédiaire effectué\n"
     ]
    },
    {
     "name": "stderr",
     "output_type": "stream",
     "text": [
      " 77% (18500 of 23829) |#############     | Elapsed Time: 9:45:36 ETA:   3:14:38"
     ]
    },
    {
     "name": "stdout",
     "output_type": "stream",
     "text": [
      "\t Enregistrement intermédiaire effectué\n"
     ]
    },
    {
     "name": "stderr",
     "output_type": "stream",
     "text": [
      " 78% (18600 of 23829) |##############    | Elapsed Time: 9:48:14 ETA:   3:03:50"
     ]
    },
    {
     "name": "stdout",
     "output_type": "stream",
     "text": [
      "\t Enregistrement intermédiaire effectué\n"
     ]
    },
    {
     "name": "stderr",
     "output_type": "stream",
     "text": [
      " 78% (18700 of 23829) |##############    | Elapsed Time: 9:50:49 ETA:   2:16:00"
     ]
    },
    {
     "name": "stdout",
     "output_type": "stream",
     "text": [
      "\t Enregistrement intermédiaire effectué\n"
     ]
    },
    {
     "name": "stderr",
     "output_type": "stream",
     "text": [
      " 78% (18800 of 23829) |##############    | Elapsed Time: 9:53:43 ETA:   2:27:03"
     ]
    },
    {
     "name": "stdout",
     "output_type": "stream",
     "text": [
      "\t Enregistrement intermédiaire effectué\n"
     ]
    },
    {
     "name": "stderr",
     "output_type": "stream",
     "text": [
      " 79% (18900 of 23829) |##############    | Elapsed Time: 9:56:18 ETA:   1:44:51"
     ]
    },
    {
     "name": "stdout",
     "output_type": "stream",
     "text": [
      "\t Enregistrement intermédiaire effectué\n"
     ]
    },
    {
     "name": "stderr",
     "output_type": "stream",
     "text": [
      " 79% (19000 of 23829) |##############    | Elapsed Time: 9:58:58 ETA:   1:53:05"
     ]
    },
    {
     "name": "stdout",
     "output_type": "stream",
     "text": [
      "\t Enregistrement intermédiaire effectué\n"
     ]
    },
    {
     "name": "stderr",
     "output_type": "stream",
     "text": [
      " 80% (19100 of 23829) |#############    | Elapsed Time: 10:01:36 ETA:   2:32:16"
     ]
    },
    {
     "name": "stdout",
     "output_type": "stream",
     "text": [
      "\t Enregistrement intermédiaire effectué\n"
     ]
    },
    {
     "name": "stderr",
     "output_type": "stream",
     "text": [
      " 80% (19200 of 23829) |#############    | Elapsed Time: 10:04:14 ETA:   2:01:59"
     ]
    },
    {
     "name": "stdout",
     "output_type": "stream",
     "text": [
      "\t Enregistrement intermédiaire effectué\n"
     ]
    },
    {
     "name": "stderr",
     "output_type": "stream",
     "text": [
      " 80% (19300 of 23829) |#############    | Elapsed Time: 10:07:05 ETA:   2:32:31"
     ]
    },
    {
     "name": "stdout",
     "output_type": "stream",
     "text": [
      "\t Enregistrement intermédiaire effectué\n"
     ]
    },
    {
     "name": "stderr",
     "output_type": "stream",
     "text": [
      " 81% (19400 of 23829) |#############    | Elapsed Time: 10:09:46 ETA:   2:04:40"
     ]
    },
    {
     "name": "stdout",
     "output_type": "stream",
     "text": [
      "\t Enregistrement intermédiaire effectué\n"
     ]
    },
    {
     "name": "stderr",
     "output_type": "stream",
     "text": [
      " 81% (19500 of 23829) |#############    | Elapsed Time: 10:12:16 ETA:   1:54:20"
     ]
    },
    {
     "name": "stdout",
     "output_type": "stream",
     "text": [
      "\t Enregistrement intermédiaire effectué\n"
     ]
    },
    {
     "name": "stderr",
     "output_type": "stream",
     "text": [
      " 82% (19600 of 23829) |#############    | Elapsed Time: 10:14:46 ETA:   1:29:59"
     ]
    },
    {
     "name": "stdout",
     "output_type": "stream",
     "text": [
      "\t Enregistrement intermédiaire effectué\n"
     ]
    },
    {
     "name": "stderr",
     "output_type": "stream",
     "text": [
      " 82% (19700 of 23829) |##############   | Elapsed Time: 10:17:13 ETA:   1:25:35"
     ]
    },
    {
     "name": "stdout",
     "output_type": "stream",
     "text": [
      "\t Enregistrement intermédiaire effectué\n"
     ]
    },
    {
     "name": "stderr",
     "output_type": "stream",
     "text": [
      " 83% (19800 of 23829) |##############   | Elapsed Time: 10:19:49 ETA:   2:43:12"
     ]
    },
    {
     "name": "stdout",
     "output_type": "stream",
     "text": [
      "\t Enregistrement intermédiaire effectué\n"
     ]
    },
    {
     "name": "stderr",
     "output_type": "stream",
     "text": [
      " 83% (19900 of 23829) |##############   | Elapsed Time: 10:22:31 ETA:   1:35:33"
     ]
    },
    {
     "name": "stdout",
     "output_type": "stream",
     "text": [
      "\t Enregistrement intermédiaire effectué\n"
     ]
    },
    {
     "name": "stderr",
     "output_type": "stream",
     "text": [
      " 83% (20000 of 23829) |##############   | Elapsed Time: 10:25:16 ETA:   1:46:04"
     ]
    },
    {
     "name": "stdout",
     "output_type": "stream",
     "text": [
      "\t Enregistrement intermédiaire effectué\n"
     ]
    },
    {
     "name": "stderr",
     "output_type": "stream",
     "text": [
      " 84% (20100 of 23829) |##############   | Elapsed Time: 10:27:54 ETA:   1:45:04"
     ]
    },
    {
     "name": "stdout",
     "output_type": "stream",
     "text": [
      "\t Enregistrement intermédiaire effectué\n"
     ]
    },
    {
     "name": "stderr",
     "output_type": "stream",
     "text": [
      " 84% (20200 of 23829) |##############   | Elapsed Time: 10:30:39 ETA:   1:17:26"
     ]
    },
    {
     "name": "stdout",
     "output_type": "stream",
     "text": [
      "\t Enregistrement intermédiaire effectué\n"
     ]
    },
    {
     "name": "stderr",
     "output_type": "stream",
     "text": [
      " 85% (20300 of 23829) |##############   | Elapsed Time: 10:33:19 ETA:   1:29:24"
     ]
    },
    {
     "name": "stdout",
     "output_type": "stream",
     "text": [
      "\t Enregistrement intermédiaire effectué\n"
     ]
    },
    {
     "name": "stderr",
     "output_type": "stream",
     "text": [
      " 85% (20400 of 23829) |##############   | Elapsed Time: 10:35:57 ETA:   2:15:06"
     ]
    },
    {
     "name": "stdout",
     "output_type": "stream",
     "text": [
      "\t Enregistrement intermédiaire effectué\n"
     ]
    },
    {
     "name": "stderr",
     "output_type": "stream",
     "text": [
      " 86% (20500 of 23829) |##############   | Elapsed Time: 10:38:33 ETA:   1:24:55"
     ]
    },
    {
     "name": "stdout",
     "output_type": "stream",
     "text": [
      "\t Enregistrement intermédiaire effectué\n"
     ]
    },
    {
     "name": "stderr",
     "output_type": "stream",
     "text": [
      " 86% (20600 of 23829) |##############   | Elapsed Time: 10:41:03 ETA:   1:26:07"
     ]
    },
    {
     "name": "stdout",
     "output_type": "stream",
     "text": [
      "\t Enregistrement intermédiaire effectué\n"
     ]
    },
    {
     "name": "stderr",
     "output_type": "stream",
     "text": [
      " 86% (20700 of 23829) |##############   | Elapsed Time: 10:43:35 ETA:   1:09:31"
     ]
    },
    {
     "name": "stdout",
     "output_type": "stream",
     "text": [
      "\t Enregistrement intermédiaire effectué\n"
     ]
    },
    {
     "name": "stderr",
     "output_type": "stream",
     "text": [
      " 87% (20800 of 23829) |##############   | Elapsed Time: 10:46:14 ETA:   1:13:41"
     ]
    },
    {
     "name": "stdout",
     "output_type": "stream",
     "text": [
      "\t Enregistrement intermédiaire effectué\n"
     ]
    },
    {
     "name": "stderr",
     "output_type": "stream",
     "text": [
      " 87% (20900 of 23829) |##############   | Elapsed Time: 10:48:48 ETA:   1:10:06"
     ]
    },
    {
     "name": "stdout",
     "output_type": "stream",
     "text": [
      "\t Enregistrement intermédiaire effectué\n"
     ]
    },
    {
     "name": "stderr",
     "output_type": "stream",
     "text": [
      " 88% (21000 of 23829) |##############   | Elapsed Time: 10:51:22 ETA:   1:03:00"
     ]
    },
    {
     "name": "stdout",
     "output_type": "stream",
     "text": [
      "\t Enregistrement intermédiaire effectué\n"
     ]
    },
    {
     "name": "stderr",
     "output_type": "stream",
     "text": [
      " 88% (21100 of 23829) |###############  | Elapsed Time: 10:54:04 ETA:   1:19:59"
     ]
    },
    {
     "name": "stdout",
     "output_type": "stream",
     "text": [
      "\t Enregistrement intermédiaire effectué\n"
     ]
    },
    {
     "name": "stderr",
     "output_type": "stream",
     "text": [
      " 88% (21200 of 23829) |###############  | Elapsed Time: 10:56:38 ETA:   1:12:23"
     ]
    },
    {
     "name": "stdout",
     "output_type": "stream",
     "text": [
      "\t Enregistrement intermédiaire effectué\n"
     ]
    },
    {
     "name": "stderr",
     "output_type": "stream",
     "text": [
      " 89% (21300 of 23829) |###############  | Elapsed Time: 10:59:07 ETA:   0:48:22"
     ]
    },
    {
     "name": "stdout",
     "output_type": "stream",
     "text": [
      "\t Enregistrement intermédiaire effectué\n"
     ]
    },
    {
     "name": "stderr",
     "output_type": "stream",
     "text": [
      " 89% (21400 of 23829) |###############  | Elapsed Time: 11:01:45 ETA:   0:58:00"
     ]
    },
    {
     "name": "stdout",
     "output_type": "stream",
     "text": [
      "\t Enregistrement intermédiaire effectué\n"
     ]
    },
    {
     "name": "stderr",
     "output_type": "stream",
     "text": [
      " 90% (21500 of 23829) |###############  | Elapsed Time: 11:04:24 ETA:   0:49:25"
     ]
    },
    {
     "name": "stdout",
     "output_type": "stream",
     "text": [
      "\t Enregistrement intermédiaire effectué\n"
     ]
    },
    {
     "name": "stderr",
     "output_type": "stream",
     "text": [
      " 90% (21600 of 23829) |###############  | Elapsed Time: 11:06:55 ETA:   1:28:50"
     ]
    },
    {
     "name": "stdout",
     "output_type": "stream",
     "text": [
      "\t Enregistrement intermédiaire effectué\n"
     ]
    },
    {
     "name": "stderr",
     "output_type": "stream",
     "text": [
      " 91% (21700 of 23829) |###############  | Elapsed Time: 11:09:31 ETA:   1:18:41"
     ]
    },
    {
     "name": "stdout",
     "output_type": "stream",
     "text": [
      "\t Enregistrement intermédiaire effectué\n"
     ]
    },
    {
     "name": "stderr",
     "output_type": "stream",
     "text": [
      " 91% (21800 of 23829) |###############  | Elapsed Time: 11:12:30 ETA:   0:57:48"
     ]
    },
    {
     "name": "stdout",
     "output_type": "stream",
     "text": [
      "\t Enregistrement intermédiaire effectué\n"
     ]
    },
    {
     "name": "stderr",
     "output_type": "stream",
     "text": [
      " 91% (21900 of 23829) |###############  | Elapsed Time: 11:15:12 ETA:   1:00:47"
     ]
    },
    {
     "name": "stdout",
     "output_type": "stream",
     "text": [
      "\t Enregistrement intermédiaire effectué\n"
     ]
    },
    {
     "name": "stderr",
     "output_type": "stream",
     "text": [
      " 92% (22000 of 23829) |###############  | Elapsed Time: 11:17:59 ETA:   0:45:21"
     ]
    },
    {
     "name": "stdout",
     "output_type": "stream",
     "text": [
      "\t Enregistrement intermédiaire effectué\n"
     ]
    },
    {
     "name": "stderr",
     "output_type": "stream",
     "text": [
      " 92% (22100 of 23829) |###############  | Elapsed Time: 11:20:35 ETA:   0:42:05"
     ]
    },
    {
     "name": "stdout",
     "output_type": "stream",
     "text": [
      "\t Enregistrement intermédiaire effectué\n"
     ]
    },
    {
     "name": "stderr",
     "output_type": "stream",
     "text": [
      " 93% (22200 of 23829) |###############  | Elapsed Time: 11:23:07 ETA:   0:38:34"
     ]
    },
    {
     "name": "stdout",
     "output_type": "stream",
     "text": [
      "\t Enregistrement intermédiaire effectué\n"
     ]
    },
    {
     "name": "stderr",
     "output_type": "stream",
     "text": [
      " 93% (22300 of 23829) |###############  | Elapsed Time: 11:25:44 ETA:   0:39:52"
     ]
    },
    {
     "name": "stdout",
     "output_type": "stream",
     "text": [
      "\t Enregistrement intermédiaire effectué\n"
     ]
    },
    {
     "name": "stderr",
     "output_type": "stream",
     "text": [
      " 94% (22400 of 23829) |###############  | Elapsed Time: 11:28:13 ETA:   0:43:16"
     ]
    },
    {
     "name": "stdout",
     "output_type": "stream",
     "text": [
      "\t Enregistrement intermédiaire effectué\n"
     ]
    },
    {
     "name": "stderr",
     "output_type": "stream",
     "text": [
      " 94% (22500 of 23829) |################ | Elapsed Time: 11:30:42 ETA:   0:36:56"
     ]
    },
    {
     "name": "stdout",
     "output_type": "stream",
     "text": [
      "\t Enregistrement intermédiaire effectué\n"
     ]
    },
    {
     "name": "stderr",
     "output_type": "stream",
     "text": [
      " 94% (22600 of 23829) |################ | Elapsed Time: 11:33:16 ETA:   0:30:11"
     ]
    },
    {
     "name": "stdout",
     "output_type": "stream",
     "text": [
      "\t Enregistrement intermédiaire effectué\n"
     ]
    },
    {
     "name": "stderr",
     "output_type": "stream",
     "text": [
      " 95% (22700 of 23829) |################ | Elapsed Time: 11:35:47 ETA:   0:27:00"
     ]
    },
    {
     "name": "stdout",
     "output_type": "stream",
     "text": [
      "\t Enregistrement intermédiaire effectué\n"
     ]
    },
    {
     "name": "stderr",
     "output_type": "stream",
     "text": [
      " 95% (22800 of 23829) |################ | Elapsed Time: 11:38:16 ETA:   0:23:09"
     ]
    },
    {
     "name": "stdout",
     "output_type": "stream",
     "text": [
      "\t Enregistrement intermédiaire effectué\n"
     ]
    },
    {
     "name": "stderr",
     "output_type": "stream",
     "text": [
      " 96% (22900 of 23829) |################ | Elapsed Time: 11:40:53 ETA:   0:33:12"
     ]
    },
    {
     "name": "stdout",
     "output_type": "stream",
     "text": [
      "\t Enregistrement intermédiaire effectué\n"
     ]
    },
    {
     "name": "stderr",
     "output_type": "stream",
     "text": [
      " 96% (23000 of 23829) |################ | Elapsed Time: 11:43:41 ETA:   0:19:53"
     ]
    },
    {
     "name": "stdout",
     "output_type": "stream",
     "text": [
      "\t Enregistrement intermédiaire effectué\n"
     ]
    },
    {
     "name": "stderr",
     "output_type": "stream",
     "text": [
      " 96% (23100 of 23829) |################ | Elapsed Time: 11:46:13 ETA:   0:21:36"
     ]
    },
    {
     "name": "stdout",
     "output_type": "stream",
     "text": [
      "\t Enregistrement intermédiaire effectué\n"
     ]
    },
    {
     "name": "stderr",
     "output_type": "stream",
     "text": [
      " 97% (23200 of 23829) |################ | Elapsed Time: 11:48:46 ETA:   0:14:47"
     ]
    },
    {
     "name": "stdout",
     "output_type": "stream",
     "text": [
      "\t Enregistrement intermédiaire effectué\n"
     ]
    },
    {
     "name": "stderr",
     "output_type": "stream",
     "text": [
      " 97% (23300 of 23829) |################ | Elapsed Time: 11:51:27 ETA:   0:10:52"
     ]
    },
    {
     "name": "stdout",
     "output_type": "stream",
     "text": [
      "\t Enregistrement intermédiaire effectué\n"
     ]
    },
    {
     "name": "stderr",
     "output_type": "stream",
     "text": [
      " 98% (23400 of 23829) |################ | Elapsed Time: 11:53:55 ETA:   0:10:01"
     ]
    },
    {
     "name": "stdout",
     "output_type": "stream",
     "text": [
      "\t Enregistrement intermédiaire effectué\n"
     ]
    },
    {
     "name": "stderr",
     "output_type": "stream",
     "text": [
      " 98% (23500 of 23829) |################ | Elapsed Time: 11:56:28 ETA:   0:09:15"
     ]
    },
    {
     "name": "stdout",
     "output_type": "stream",
     "text": [
      "\t Enregistrement intermédiaire effectué\n"
     ]
    },
    {
     "name": "stderr",
     "output_type": "stream",
     "text": [
      " 99% (23600 of 23829) |################ | Elapsed Time: 11:58:59 ETA:   0:09:22"
     ]
    },
    {
     "name": "stdout",
     "output_type": "stream",
     "text": [
      "\t Enregistrement intermédiaire effectué\n"
     ]
    },
    {
     "name": "stderr",
     "output_type": "stream",
     "text": [
      " 99% (23700 of 23829) |################ | Elapsed Time: 12:01:29 ETA:   0:03:46"
     ]
    },
    {
     "name": "stdout",
     "output_type": "stream",
     "text": [
      "\t Enregistrement intermédiaire effectué\n"
     ]
    },
    {
     "name": "stderr",
     "output_type": "stream",
     "text": [
      " 99% (23800 of 23829) |################ | Elapsed Time: 12:04:01 ETA:   0:00:46"
     ]
    },
    {
     "name": "stdout",
     "output_type": "stream",
     "text": [
      "\t Enregistrement intermédiaire effectué\n"
     ]
    },
    {
     "name": "stderr",
     "output_type": "stream",
     "text": [
      "100% (23829 of 23829) |#################| Elapsed Time: 12:04:47 Time: 12:04:47\n",
      "C:\\Users\\kaoua\\kickstarter.py:549: SettingWithCopyWarning: \n",
      "A value is trying to be set on a copy of a slice from a DataFrame.\n",
      "Try using .loc[row_indexer,col_indexer] = value instead\n",
      "\n",
      "See the caveats in the documentation: https://pandas.pydata.org/pandas-docs/stable/user_guide/indexing.html#returning-a-view-versus-a-copy\n",
      "  df['coup_de_coeur'] = coeur\n"
     ]
    },
    {
     "name": "stdout",
     "output_type": "stream",
     "text": [
      "Scrapping de l'année 2021\n"
     ]
    },
    {
     "name": "stderr",
     "output_type": "stream",
     "text": [
      "  2% (100 of 3953) |                     | Elapsed Time: 0:02:34 ETA:   6:55:26C:\\Users\\kaoua\\kickstarter.py:545: SettingWithCopyWarning: \n",
      "A value is trying to be set on a copy of a slice from a DataFrame.\n",
      "Try using .loc[row_indexer,col_indexer] = value instead\n",
      "\n",
      "See the caveats in the documentation: https://pandas.pydata.org/pandas-docs/stable/user_guide/indexing.html#returning-a-view-versus-a-copy\n",
      "  dfi['coup_de_coeur'] = coeur\n"
     ]
    },
    {
     "name": "stdout",
     "output_type": "stream",
     "text": [
      "\t Enregistrement intermédiaire effectué\n"
     ]
    },
    {
     "name": "stderr",
     "output_type": "stream",
     "text": [
      "  5% (200 of 3953) |#                    | Elapsed Time: 0:05:01 ETA:   1:29:06"
     ]
    },
    {
     "name": "stdout",
     "output_type": "stream",
     "text": [
      "\t Enregistrement intermédiaire effectué\n"
     ]
    },
    {
     "name": "stderr",
     "output_type": "stream",
     "text": [
      "  7% (300 of 3953) |#                    | Elapsed Time: 0:07:33 ETA:   2:02:27"
     ]
    },
    {
     "name": "stdout",
     "output_type": "stream",
     "text": [
      "\t Enregistrement intermédiaire effectué\n"
     ]
    },
    {
     "name": "stderr",
     "output_type": "stream",
     "text": [
      " 10% (400 of 3953) |##                   | Elapsed Time: 0:10:05 ETA:   1:36:04"
     ]
    },
    {
     "name": "stdout",
     "output_type": "stream",
     "text": [
      "\t Enregistrement intermédiaire effectué\n"
     ]
    },
    {
     "name": "stderr",
     "output_type": "stream",
     "text": [
      " 12% (500 of 3953) |##                   | Elapsed Time: 0:12:29 ETA:   1:21:37"
     ]
    },
    {
     "name": "stdout",
     "output_type": "stream",
     "text": [
      "\t Enregistrement intermédiaire effectué\n"
     ]
    },
    {
     "name": "stderr",
     "output_type": "stream",
     "text": [
      " 15% (600 of 3953) |###                  | Elapsed Time: 0:14:58 ETA:   1:37:26"
     ]
    },
    {
     "name": "stdout",
     "output_type": "stream",
     "text": [
      "\t Enregistrement intermédiaire effectué\n"
     ]
    },
    {
     "name": "stderr",
     "output_type": "stream",
     "text": [
      " 17% (700 of 3953) |###                  | Elapsed Time: 0:17:36 ETA:   1:25:40"
     ]
    },
    {
     "name": "stdout",
     "output_type": "stream",
     "text": [
      "\t Enregistrement intermédiaire effectué\n"
     ]
    },
    {
     "name": "stderr",
     "output_type": "stream",
     "text": [
      " 20% (800 of 3953) |####                 | Elapsed Time: 0:20:07 ETA:   1:08:18"
     ]
    },
    {
     "name": "stdout",
     "output_type": "stream",
     "text": [
      "\t Enregistrement intermédiaire effectué\n"
     ]
    },
    {
     "name": "stderr",
     "output_type": "stream",
     "text": [
      " 22% (900 of 3953) |####                 | Elapsed Time: 0:22:45 ETA:   1:09:30"
     ]
    },
    {
     "name": "stdout",
     "output_type": "stream",
     "text": [
      "\t Enregistrement intermédiaire effectué\n"
     ]
    },
    {
     "name": "stderr",
     "output_type": "stream",
     "text": [
      " 25% (1000 of 3953) |#####               | Elapsed Time: 0:25:15 ETA:   0:51:02"
     ]
    },
    {
     "name": "stdout",
     "output_type": "stream",
     "text": [
      "\t Enregistrement intermédiaire effectué\n"
     ]
    },
    {
     "name": "stderr",
     "output_type": "stream",
     "text": [
      " 27% (1100 of 3953) |#####               | Elapsed Time: 0:27:52 ETA:   0:49:03"
     ]
    },
    {
     "name": "stdout",
     "output_type": "stream",
     "text": [
      "\t Enregistrement intermédiaire effectué\n"
     ]
    },
    {
     "name": "stderr",
     "output_type": "stream",
     "text": [
      " 30% (1200 of 3953) |######              | Elapsed Time: 0:30:17 ETA:   0:52:55"
     ]
    },
    {
     "name": "stdout",
     "output_type": "stream",
     "text": [
      "\t Enregistrement intermédiaire effectué\n"
     ]
    },
    {
     "name": "stderr",
     "output_type": "stream",
     "text": [
      " 32% (1300 of 3953) |######              | Elapsed Time: 0:32:43 ETA:   1:01:28"
     ]
    },
    {
     "name": "stdout",
     "output_type": "stream",
     "text": [
      "\t Enregistrement intermédiaire effectué\n"
     ]
    },
    {
     "name": "stderr",
     "output_type": "stream",
     "text": [
      " 35% (1400 of 3953) |#######             | Elapsed Time: 0:35:12 ETA:   1:39:48"
     ]
    },
    {
     "name": "stdout",
     "output_type": "stream",
     "text": [
      "\t Enregistrement intermédiaire effectué\n"
     ]
    },
    {
     "name": "stderr",
     "output_type": "stream",
     "text": [
      " 37% (1500 of 3953) |#######             | Elapsed Time: 0:37:42 ETA:   0:45:09"
     ]
    },
    {
     "name": "stdout",
     "output_type": "stream",
     "text": [
      "\t Enregistrement intermédiaire effectué\n"
     ]
    },
    {
     "name": "stderr",
     "output_type": "stream",
     "text": [
      " 40% (1600 of 3953) |########            | Elapsed Time: 0:40:06 ETA:   0:50:06"
     ]
    },
    {
     "name": "stdout",
     "output_type": "stream",
     "text": [
      "\t Enregistrement intermédiaire effectué\n"
     ]
    },
    {
     "name": "stderr",
     "output_type": "stream",
     "text": [
      " 43% (1700 of 3953) |########            | Elapsed Time: 0:42:44 ETA:   1:08:10"
     ]
    },
    {
     "name": "stdout",
     "output_type": "stream",
     "text": [
      "\t Enregistrement intermédiaire effectué\n"
     ]
    },
    {
     "name": "stderr",
     "output_type": "stream",
     "text": [
      " 45% (1800 of 3953) |#########           | Elapsed Time: 0:45:15 ETA:   0:48:36"
     ]
    },
    {
     "name": "stdout",
     "output_type": "stream",
     "text": [
      "\t Enregistrement intermédiaire effectué\n"
     ]
    },
    {
     "name": "stderr",
     "output_type": "stream",
     "text": [
      " 48% (1900 of 3953) |#########           | Elapsed Time: 0:47:49 ETA:   1:02:43"
     ]
    },
    {
     "name": "stdout",
     "output_type": "stream",
     "text": [
      "\t Enregistrement intermédiaire effectué\n"
     ]
    },
    {
     "name": "stderr",
     "output_type": "stream",
     "text": [
      " 50% (2000 of 3953) |##########          | Elapsed Time: 0:50:21 ETA:   0:40:05"
     ]
    },
    {
     "name": "stdout",
     "output_type": "stream",
     "text": [
      "\t Enregistrement intermédiaire effectué\n"
     ]
    },
    {
     "name": "stderr",
     "output_type": "stream",
     "text": [
      " 53% (2100 of 3953) |##########          | Elapsed Time: 0:52:54 ETA:   1:12:47"
     ]
    },
    {
     "name": "stdout",
     "output_type": "stream",
     "text": [
      "\t Enregistrement intermédiaire effectué\n"
     ]
    },
    {
     "name": "stderr",
     "output_type": "stream",
     "text": [
      " 55% (2200 of 3953) |###########         | Elapsed Time: 0:55:33 ETA:   0:41:23"
     ]
    },
    {
     "name": "stdout",
     "output_type": "stream",
     "text": [
      "\t Enregistrement intermédiaire effectué\n"
     ]
    },
    {
     "name": "stderr",
     "output_type": "stream",
     "text": [
      " 58% (2300 of 3953) |###########         | Elapsed Time: 0:58:06 ETA:   0:48:38"
     ]
    },
    {
     "name": "stdout",
     "output_type": "stream",
     "text": [
      "\t Enregistrement intermédiaire effectué\n"
     ]
    },
    {
     "name": "stderr",
     "output_type": "stream",
     "text": [
      " 60% (2400 of 3953) |############        | Elapsed Time: 1:00:37 ETA:   0:36:22"
     ]
    },
    {
     "name": "stdout",
     "output_type": "stream",
     "text": [
      "\t Enregistrement intermédiaire effectué\n"
     ]
    },
    {
     "name": "stderr",
     "output_type": "stream",
     "text": [
      " 63% (2500 of 3953) |############        | Elapsed Time: 1:03:16 ETA:   0:39:16"
     ]
    },
    {
     "name": "stdout",
     "output_type": "stream",
     "text": [
      "\t Enregistrement intermédiaire effectué\n"
     ]
    },
    {
     "name": "stderr",
     "output_type": "stream",
     "text": [
      " 65% (2600 of 3953) |#############       | Elapsed Time: 1:05:45 ETA:   0:31:16"
     ]
    },
    {
     "name": "stdout",
     "output_type": "stream",
     "text": [
      "\t Enregistrement intermédiaire effectué\n"
     ]
    },
    {
     "name": "stderr",
     "output_type": "stream",
     "text": [
      " 68% (2700 of 3953) |#############       | Elapsed Time: 1:08:30 ETA:   0:42:39"
     ]
    },
    {
     "name": "stdout",
     "output_type": "stream",
     "text": [
      "\t Enregistrement intermédiaire effectué\n"
     ]
    },
    {
     "name": "stderr",
     "output_type": "stream",
     "text": [
      " 70% (2800 of 3953) |##############      | Elapsed Time: 1:11:00 ETA:   0:25:12"
     ]
    },
    {
     "name": "stdout",
     "output_type": "stream",
     "text": [
      "\t Enregistrement intermédiaire effectué\n"
     ]
    },
    {
     "name": "stderr",
     "output_type": "stream",
     "text": [
      " 73% (2900 of 3953) |##############      | Elapsed Time: 1:13:36 ETA:   0:26:02"
     ]
    },
    {
     "name": "stdout",
     "output_type": "stream",
     "text": [
      "\t Enregistrement intermédiaire effectué\n"
     ]
    },
    {
     "name": "stderr",
     "output_type": "stream",
     "text": [
      " 75% (3000 of 3953) |###############     | Elapsed Time: 1:16:16 ETA:   0:27:57"
     ]
    },
    {
     "name": "stdout",
     "output_type": "stream",
     "text": [
      "\t Enregistrement intermédiaire effectué\n"
     ]
    },
    {
     "name": "stderr",
     "output_type": "stream",
     "text": [
      " 78% (3100 of 3953) |###############     | Elapsed Time: 1:18:45 ETA:   0:29:16"
     ]
    },
    {
     "name": "stdout",
     "output_type": "stream",
     "text": [
      "\t Enregistrement intermédiaire effectué\n"
     ]
    },
    {
     "name": "stderr",
     "output_type": "stream",
     "text": [
      " 80% (3200 of 3953) |################    | Elapsed Time: 1:21:18 ETA:   0:29:11"
     ]
    },
    {
     "name": "stdout",
     "output_type": "stream",
     "text": [
      "\t Enregistrement intermédiaire effectué\n"
     ]
    },
    {
     "name": "stderr",
     "output_type": "stream",
     "text": [
      " 83% (3300 of 3953) |################    | Elapsed Time: 1:23:41 ETA:   0:22:37"
     ]
    },
    {
     "name": "stdout",
     "output_type": "stream",
     "text": [
      "\t Enregistrement intermédiaire effectué\n"
     ]
    },
    {
     "name": "stderr",
     "output_type": "stream",
     "text": [
      " 86% (3400 of 3953) |#################   | Elapsed Time: 1:26:08 ETA:   0:20:19"
     ]
    },
    {
     "name": "stdout",
     "output_type": "stream",
     "text": [
      "\t Enregistrement intermédiaire effectué\n"
     ]
    },
    {
     "name": "stderr",
     "output_type": "stream",
     "text": [
      " 88% (3500 of 3953) |#################   | Elapsed Time: 1:28:34 ETA:   0:10:33"
     ]
    },
    {
     "name": "stdout",
     "output_type": "stream",
     "text": [
      "\t Enregistrement intermédiaire effectué\n"
     ]
    },
    {
     "name": "stderr",
     "output_type": "stream",
     "text": [
      " 93% (3700 of 3953) |##################  | Elapsed Time: 1:32:03 ETA:   0:07:10"
     ]
    },
    {
     "name": "stdout",
     "output_type": "stream",
     "text": [
      "\t Enregistrement intermédiaire effectué\n"
     ]
    },
    {
     "name": "stderr",
     "output_type": "stream",
     "text": [
      " 96% (3800 of 3953) |################### | Elapsed Time: 1:34:10 ETA:   0:03:39"
     ]
    },
    {
     "name": "stdout",
     "output_type": "stream",
     "text": [
      "\t Enregistrement intermédiaire effectué\n"
     ]
    },
    {
     "name": "stderr",
     "output_type": "stream",
     "text": [
      " 98% (3900 of 3953) |################### | Elapsed Time: 1:36:17 ETA:   0:00:37"
     ]
    },
    {
     "name": "stdout",
     "output_type": "stream",
     "text": [
      "\t Enregistrement intermédiaire effectué\n"
     ]
    },
    {
     "name": "stderr",
     "output_type": "stream",
     "text": [
      "100% (3953 of 3953) |####################| Elapsed Time: 1:37:22 Time:  1:37:22\n",
      "C:\\Users\\kaoua\\kickstarter.py:549: SettingWithCopyWarning: \n",
      "A value is trying to be set on a copy of a slice from a DataFrame.\n",
      "Try using .loc[row_indexer,col_indexer] = value instead\n",
      "\n",
      "See the caveats in the documentation: https://pandas.pydata.org/pandas-docs/stable/user_guide/indexing.html#returning-a-view-versus-a-copy\n",
      "  df['coup_de_coeur'] = coeur\n"
     ]
    }
   ],
   "source": [
    "annee=[2014, 2015, 2016, 2017, 2018, 2019,2020, 2021]\n",
    "for an in annee:\n",
    "    dfi = proj[proj['annee']==an]\n",
    "    # début du scrapping pour l'année désignée\n",
    "    print(\"Scrapping de l'année\", an)\n",
    "    dfs = kickstarter.coup_de_coeur_4(dfi, an)\n",
    "    \n",
    "    # enregistrement de dfs \n",
    "    nom_fichier = 'coup_de_coeur_'+str(an)+'.csv'\n",
    "    dfs.to_csv(nom_fichier, index=True)"
   ]
  },
  {
   "cell_type": "code",
   "execution_count": null,
   "metadata": {},
   "outputs": [],
   "source": []
  }
 ],
 "metadata": {
  "kernelspec": {
   "display_name": "Python 3",
   "language": "python",
   "name": "python3"
  },
  "language_info": {
   "codemirror_mode": {
    "name": "ipython",
    "version": 3
   },
   "file_extension": ".py",
   "mimetype": "text/x-python",
   "name": "python",
   "nbconvert_exporter": "python",
   "pygments_lexer": "ipython3",
   "version": "3.8.5"
  }
 },
 "nbformat": 4,
 "nbformat_minor": 4
}
